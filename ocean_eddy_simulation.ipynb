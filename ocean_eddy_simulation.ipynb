{
 "cells": [
  {
   "cell_type": "markdown",
   "metadata": {},
   "source": [
    "### Data ###"
   ]
  },
  {
   "cell_type": "code",
   "execution_count": 1,
   "metadata": {
    "collapsed": true
   },
   "outputs": [],
   "source": [
    "import xray"
   ]
  },
  {
   "cell_type": "code",
   "execution_count": 2,
   "metadata": {
    "collapsed": true
   },
   "outputs": [],
   "source": [
    "ds = xray.open_dataset('/Users/eapsclimate/Desktop/research/website/tracks.20130125.nc', decode_cf=False)\n",
    "ds = ds.to_dataframe()"
   ]
  },
  {
   "cell_type": "markdown",
   "metadata": {},
   "source": [
    "### Python ###"
   ]
  },
  {
   "cell_type": "code",
   "execution_count": 3,
   "metadata": {
    "collapsed": false
   },
   "outputs": [],
   "source": [
    "import datetime\n",
    "import jdcal\n",
    "import numpy as np\n",
    "import pandas as pd"
   ]
  },
  {
   "cell_type": "code",
   "execution_count": 4,
   "metadata": {
    "collapsed": false,
    "scrolled": true
   },
   "outputs": [
    {
     "data": {
      "text/html": [
       "<div>\n",
       "<table border=\"1\" class=\"dataframe\">\n",
       "  <thead>\n",
       "    <tr style=\"text-align: right;\">\n",
       "      <th></th>\n",
       "      <th>track</th>\n",
       "      <th>n</th>\n",
       "      <th>j1</th>\n",
       "      <th>cyc</th>\n",
       "      <th>lon</th>\n",
       "      <th>lat</th>\n",
       "      <th>A</th>\n",
       "      <th>L</th>\n",
       "      <th>U</th>\n",
       "    </tr>\n",
       "    <tr>\n",
       "      <th>Nobs</th>\n",
       "      <th></th>\n",
       "      <th></th>\n",
       "      <th></th>\n",
       "      <th></th>\n",
       "      <th></th>\n",
       "      <th></th>\n",
       "      <th></th>\n",
       "      <th></th>\n",
       "      <th></th>\n",
       "    </tr>\n",
       "  </thead>\n",
       "  <tbody>\n",
       "    <tr>\n",
       "      <th>0</th>\n",
       "      <td>1</td>\n",
       "      <td>1</td>\n",
       "      <td>2448910</td>\n",
       "      <td>-1</td>\n",
       "      <td>636.739990</td>\n",
       "      <td>-65.001099</td>\n",
       "      <td>1.24564</td>\n",
       "      <td>44.464001</td>\n",
       "      <td>5.97993</td>\n",
       "    </tr>\n",
       "    <tr>\n",
       "      <th>1</th>\n",
       "      <td>1</td>\n",
       "      <td>2</td>\n",
       "      <td>2448917</td>\n",
       "      <td>-1</td>\n",
       "      <td>635.989990</td>\n",
       "      <td>-65.137604</td>\n",
       "      <td>2.64604</td>\n",
       "      <td>36.702400</td>\n",
       "      <td>8.17373</td>\n",
       "    </tr>\n",
       "    <tr>\n",
       "      <th>2</th>\n",
       "      <td>1</td>\n",
       "      <td>3</td>\n",
       "      <td>2448924</td>\n",
       "      <td>-1</td>\n",
       "      <td>635.820007</td>\n",
       "      <td>-65.245697</td>\n",
       "      <td>3.40119</td>\n",
       "      <td>45.422100</td>\n",
       "      <td>8.28628</td>\n",
       "    </tr>\n",
       "    <tr>\n",
       "      <th>3</th>\n",
       "      <td>1</td>\n",
       "      <td>4</td>\n",
       "      <td>2448931</td>\n",
       "      <td>-1</td>\n",
       "      <td>635.844971</td>\n",
       "      <td>-65.293297</td>\n",
       "      <td>1.45836</td>\n",
       "      <td>43.021999</td>\n",
       "      <td>5.20364</td>\n",
       "    </tr>\n",
       "  </tbody>\n",
       "</table>\n",
       "</div>"
      ],
      "text/plain": [
       "      track  n       j1  cyc         lon        lat        A          L  \\\n",
       "Nobs                                                                      \n",
       "0         1  1  2448910   -1  636.739990 -65.001099  1.24564  44.464001   \n",
       "1         1  2  2448917   -1  635.989990 -65.137604  2.64604  36.702400   \n",
       "2         1  3  2448924   -1  635.820007 -65.245697  3.40119  45.422100   \n",
       "3         1  4  2448931   -1  635.844971 -65.293297  1.45836  43.021999   \n",
       "\n",
       "            U  \n",
       "Nobs           \n",
       "0     5.97993  \n",
       "1     8.17373  \n",
       "2     8.28628  \n",
       "3     5.20364  "
      ]
     },
     "execution_count": 4,
     "metadata": {},
     "output_type": "execute_result"
    }
   ],
   "source": [
    "ds.head(4)"
   ]
  },
  {
   "cell_type": "code",
   "execution_count": 5,
   "metadata": {
    "collapsed": false
   },
   "outputs": [],
   "source": [
    "N = max(ds.track)"
   ]
  },
  {
   "cell_type": "code",
   "execution_count": 6,
   "metadata": {
    "collapsed": true
   },
   "outputs": [],
   "source": [
    "track = np.asarray(ds.track)\n",
    "n = np.asarray(ds.n)\n",
    "\n",
    "arrays = [track, n]\n",
    "tuples = list(zip(*arrays))\n",
    "multi_index = pd.MultiIndex.from_tuples(tuples, names=['track', 'n'])"
   ]
  },
  {
   "cell_type": "code",
   "execution_count": 7,
   "metadata": {
    "collapsed": true
   },
   "outputs": [],
   "source": [
    "j1 = np.asarray(ds.j1)\n",
    "cyc = np.asarray(ds.cyc)\n",
    "lon = np.asarray(ds.lon)\n",
    "lat = np.asarray(ds.lat)\n",
    "A = np.asarray(ds.A)\n",
    "L = np.asarray(ds.L)\n",
    "U = np.asarray(ds.U)\n",
    "\n",
    "info = np.zeros((len(n), 7))\n",
    "for i in range(0, len(n)):\n",
    "    info[i][0] = j1[i]\n",
    "    info[i][1] = cyc[i]\n",
    "    info[i][2] = lon[i]\n",
    "    info[i][3] = lat[i]\n",
    "    info[i][4] = A[i]\n",
    "    info[i][5] = L[i]\n",
    "    info[i][6] = U[i]"
   ]
  },
  {
   "cell_type": "code",
   "execution_count": 8,
   "metadata": {
    "collapsed": true
   },
   "outputs": [],
   "source": [
    "df = pd.DataFrame(info, index=multi_index)\n",
    "df.columns = ['j1', 'cyc', 'lon','lat', 'A', 'L', 'U']"
   ]
  },
  {
   "cell_type": "code",
   "execution_count": 9,
   "metadata": {
    "collapsed": false
   },
   "outputs": [
    {
     "data": {
      "text/html": [
       "<div>\n",
       "<table border=\"1\" class=\"dataframe\">\n",
       "  <thead>\n",
       "    <tr style=\"text-align: right;\">\n",
       "      <th></th>\n",
       "      <th></th>\n",
       "      <th>j1</th>\n",
       "      <th>cyc</th>\n",
       "      <th>lon</th>\n",
       "      <th>lat</th>\n",
       "      <th>A</th>\n",
       "      <th>L</th>\n",
       "      <th>U</th>\n",
       "    </tr>\n",
       "    <tr>\n",
       "      <th>track</th>\n",
       "      <th>n</th>\n",
       "      <th></th>\n",
       "      <th></th>\n",
       "      <th></th>\n",
       "      <th></th>\n",
       "      <th></th>\n",
       "      <th></th>\n",
       "      <th></th>\n",
       "    </tr>\n",
       "  </thead>\n",
       "  <tbody>\n",
       "    <tr>\n",
       "      <th rowspan=\"4\" valign=\"top\">1</th>\n",
       "      <th>1</th>\n",
       "      <td>2448910</td>\n",
       "      <td>-1</td>\n",
       "      <td>636.739990</td>\n",
       "      <td>-65.001099</td>\n",
       "      <td>1.24564</td>\n",
       "      <td>44.464001</td>\n",
       "      <td>5.97993</td>\n",
       "    </tr>\n",
       "    <tr>\n",
       "      <th>2</th>\n",
       "      <td>2448917</td>\n",
       "      <td>-1</td>\n",
       "      <td>635.989990</td>\n",
       "      <td>-65.137604</td>\n",
       "      <td>2.64604</td>\n",
       "      <td>36.702400</td>\n",
       "      <td>8.17373</td>\n",
       "    </tr>\n",
       "    <tr>\n",
       "      <th>3</th>\n",
       "      <td>2448924</td>\n",
       "      <td>-1</td>\n",
       "      <td>635.820007</td>\n",
       "      <td>-65.245697</td>\n",
       "      <td>3.40119</td>\n",
       "      <td>45.422100</td>\n",
       "      <td>8.28628</td>\n",
       "    </tr>\n",
       "    <tr>\n",
       "      <th>4</th>\n",
       "      <td>2448931</td>\n",
       "      <td>-1</td>\n",
       "      <td>635.844971</td>\n",
       "      <td>-65.293297</td>\n",
       "      <td>1.45836</td>\n",
       "      <td>43.021999</td>\n",
       "      <td>5.20364</td>\n",
       "    </tr>\n",
       "  </tbody>\n",
       "</table>\n",
       "</div>"
      ],
      "text/plain": [
       "              j1  cyc         lon        lat        A          L        U\n",
       "track n                                                                  \n",
       "1     1  2448910   -1  636.739990 -65.001099  1.24564  44.464001  5.97993\n",
       "      2  2448917   -1  635.989990 -65.137604  2.64604  36.702400  8.17373\n",
       "      3  2448924   -1  635.820007 -65.245697  3.40119  45.422100  8.28628\n",
       "      4  2448931   -1  635.844971 -65.293297  1.45836  43.021999  5.20364"
      ]
     },
     "execution_count": 9,
     "metadata": {},
     "output_type": "execute_result"
    }
   ],
   "source": [
    "df.head(4)"
   ]
  },
  {
   "cell_type": "code",
   "execution_count": 10,
   "metadata": {
    "collapsed": true
   },
   "outputs": [],
   "source": [
    "def jday_to_datetime(jday, refday=0):\n",
    "    y, m, d, f = jdcal.jd2gcal(jday, refday)\n",
    "    h = int(f*24)\n",
    "    return pd.to_datetime(datetime.datetime(y, m, d, h))"
   ]
  },
  {
   "cell_type": "code",
   "execution_count": 11,
   "metadata": {
    "collapsed": false
   },
   "outputs": [],
   "source": [
    "pd_date = df.j1.apply(jday_to_datetime)"
   ]
  },
  {
   "cell_type": "code",
   "execution_count": 12,
   "metadata": {
    "collapsed": true
   },
   "outputs": [],
   "source": [
    "df.j1 = pd_date\n",
    "df = df.rename(columns = {'j1':'date'})"
   ]
  },
  {
   "cell_type": "code",
   "execution_count": 13,
   "metadata": {
    "collapsed": false
   },
   "outputs": [
    {
     "data": {
      "text/html": [
       "<div>\n",
       "<table border=\"1\" class=\"dataframe\">\n",
       "  <thead>\n",
       "    <tr style=\"text-align: right;\">\n",
       "      <th></th>\n",
       "      <th></th>\n",
       "      <th>date</th>\n",
       "      <th>cyc</th>\n",
       "      <th>lon</th>\n",
       "      <th>lat</th>\n",
       "      <th>A</th>\n",
       "      <th>L</th>\n",
       "      <th>U</th>\n",
       "    </tr>\n",
       "    <tr>\n",
       "      <th>track</th>\n",
       "      <th>n</th>\n",
       "      <th></th>\n",
       "      <th></th>\n",
       "      <th></th>\n",
       "      <th></th>\n",
       "      <th></th>\n",
       "      <th></th>\n",
       "      <th></th>\n",
       "    </tr>\n",
       "  </thead>\n",
       "  <tbody>\n",
       "    <tr>\n",
       "      <th rowspan=\"4\" valign=\"top\">1</th>\n",
       "      <th>1</th>\n",
       "      <td>1992-10-14 12:00:00</td>\n",
       "      <td>-1</td>\n",
       "      <td>636.739990</td>\n",
       "      <td>-65.001099</td>\n",
       "      <td>1.24564</td>\n",
       "      <td>44.464001</td>\n",
       "      <td>5.97993</td>\n",
       "    </tr>\n",
       "    <tr>\n",
       "      <th>2</th>\n",
       "      <td>1992-10-21 12:00:00</td>\n",
       "      <td>-1</td>\n",
       "      <td>635.989990</td>\n",
       "      <td>-65.137604</td>\n",
       "      <td>2.64604</td>\n",
       "      <td>36.702400</td>\n",
       "      <td>8.17373</td>\n",
       "    </tr>\n",
       "    <tr>\n",
       "      <th>3</th>\n",
       "      <td>1992-10-28 12:00:00</td>\n",
       "      <td>-1</td>\n",
       "      <td>635.820007</td>\n",
       "      <td>-65.245697</td>\n",
       "      <td>3.40119</td>\n",
       "      <td>45.422100</td>\n",
       "      <td>8.28628</td>\n",
       "    </tr>\n",
       "    <tr>\n",
       "      <th>4</th>\n",
       "      <td>1992-11-04 12:00:00</td>\n",
       "      <td>-1</td>\n",
       "      <td>635.844971</td>\n",
       "      <td>-65.293297</td>\n",
       "      <td>1.45836</td>\n",
       "      <td>43.021999</td>\n",
       "      <td>5.20364</td>\n",
       "    </tr>\n",
       "  </tbody>\n",
       "</table>\n",
       "</div>"
      ],
      "text/plain": [
       "                       date  cyc         lon        lat        A          L  \\\n",
       "track n                                                                       \n",
       "1     1 1992-10-14 12:00:00   -1  636.739990 -65.001099  1.24564  44.464001   \n",
       "      2 1992-10-21 12:00:00   -1  635.989990 -65.137604  2.64604  36.702400   \n",
       "      3 1992-10-28 12:00:00   -1  635.820007 -65.245697  3.40119  45.422100   \n",
       "      4 1992-11-04 12:00:00   -1  635.844971 -65.293297  1.45836  43.021999   \n",
       "\n",
       "               U  \n",
       "track n           \n",
       "1     1  5.97993  \n",
       "      2  8.17373  \n",
       "      3  8.28628  \n",
       "      4  5.20364  "
      ]
     },
     "execution_count": 13,
     "metadata": {},
     "output_type": "execute_result"
    }
   ],
   "source": [
    "df.head(4)"
   ]
  },
  {
   "cell_type": "code",
   "execution_count": 14,
   "metadata": {
    "collapsed": false
   },
   "outputs": [],
   "source": [
    "lon_fix_01 = df.where(df.lon <= 540).lon - 360\n",
    "lon_fix_02 = df.where(df.lon > 540).lon - 720\n",
    "\n",
    "lon_fix = lon_fix_01\n",
    "lon_fix = lon_fix.fillna(lon_fix_02)\n",
    "df.lon = lon_fix"
   ]
  },
  {
   "cell_type": "code",
   "execution_count": 15,
   "metadata": {
    "collapsed": false
   },
   "outputs": [
    {
     "data": {
      "text/html": [
       "<div>\n",
       "<table border=\"1\" class=\"dataframe\">\n",
       "  <thead>\n",
       "    <tr style=\"text-align: right;\">\n",
       "      <th></th>\n",
       "      <th></th>\n",
       "      <th>date</th>\n",
       "      <th>cyc</th>\n",
       "      <th>lon</th>\n",
       "      <th>lat</th>\n",
       "      <th>A</th>\n",
       "      <th>L</th>\n",
       "      <th>U</th>\n",
       "    </tr>\n",
       "    <tr>\n",
       "      <th>track</th>\n",
       "      <th>n</th>\n",
       "      <th></th>\n",
       "      <th></th>\n",
       "      <th></th>\n",
       "      <th></th>\n",
       "      <th></th>\n",
       "      <th></th>\n",
       "      <th></th>\n",
       "    </tr>\n",
       "  </thead>\n",
       "  <tbody>\n",
       "    <tr>\n",
       "      <th rowspan=\"4\" valign=\"top\">1</th>\n",
       "      <th>1</th>\n",
       "      <td>1992-10-14 12:00:00</td>\n",
       "      <td>-1</td>\n",
       "      <td>-83.260010</td>\n",
       "      <td>-65.001099</td>\n",
       "      <td>1.24564</td>\n",
       "      <td>44.464001</td>\n",
       "      <td>5.97993</td>\n",
       "    </tr>\n",
       "    <tr>\n",
       "      <th>2</th>\n",
       "      <td>1992-10-21 12:00:00</td>\n",
       "      <td>-1</td>\n",
       "      <td>-84.010010</td>\n",
       "      <td>-65.137604</td>\n",
       "      <td>2.64604</td>\n",
       "      <td>36.702400</td>\n",
       "      <td>8.17373</td>\n",
       "    </tr>\n",
       "    <tr>\n",
       "      <th>3</th>\n",
       "      <td>1992-10-28 12:00:00</td>\n",
       "      <td>-1</td>\n",
       "      <td>-84.179993</td>\n",
       "      <td>-65.245697</td>\n",
       "      <td>3.40119</td>\n",
       "      <td>45.422100</td>\n",
       "      <td>8.28628</td>\n",
       "    </tr>\n",
       "    <tr>\n",
       "      <th>4</th>\n",
       "      <td>1992-11-04 12:00:00</td>\n",
       "      <td>-1</td>\n",
       "      <td>-84.155029</td>\n",
       "      <td>-65.293297</td>\n",
       "      <td>1.45836</td>\n",
       "      <td>43.021999</td>\n",
       "      <td>5.20364</td>\n",
       "    </tr>\n",
       "  </tbody>\n",
       "</table>\n",
       "</div>"
      ],
      "text/plain": [
       "                       date  cyc        lon        lat        A          L  \\\n",
       "track n                                                                      \n",
       "1     1 1992-10-14 12:00:00   -1 -83.260010 -65.001099  1.24564  44.464001   \n",
       "      2 1992-10-21 12:00:00   -1 -84.010010 -65.137604  2.64604  36.702400   \n",
       "      3 1992-10-28 12:00:00   -1 -84.179993 -65.245697  3.40119  45.422100   \n",
       "      4 1992-11-04 12:00:00   -1 -84.155029 -65.293297  1.45836  43.021999   \n",
       "\n",
       "               U  \n",
       "track n           \n",
       "1     1  5.97993  \n",
       "      2  8.17373  \n",
       "      3  8.28628  \n",
       "      4  5.20364  "
      ]
     },
     "execution_count": 15,
     "metadata": {},
     "output_type": "execute_result"
    }
   ],
   "source": [
    "df.head(4)"
   ]
  },
  {
   "cell_type": "markdown",
   "metadata": {},
   "source": [
    "__Lines__"
   ]
  },
  {
   "cell_type": "code",
   "execution_count": 16,
   "metadata": {
    "collapsed": true
   },
   "outputs": [],
   "source": [
    "track = np.asarray(ds.track)\n",
    "n = np.asarray(ds.n)\n",
    "\n",
    "arrays = [track, n]\n",
    "tuples = list(zip(*arrays))\n",
    "multi_index = pd.MultiIndex.from_tuples(tuples, names=['track', 'n'])"
   ]
  },
  {
   "cell_type": "code",
   "execution_count": 17,
   "metadata": {
    "collapsed": false
   },
   "outputs": [],
   "source": [
    "lon = np.asarray(df.lon)\n",
    "lat = np.asarray(df.lat)\n",
    "coordinate = np.zeros((len(n), 2))\n",
    "\n",
    "for i in range(0, len(n)):\n",
    "    coordinate[i][0] = lon[i]\n",
    "    coordinate[i][1] = lat[i]"
   ]
  },
  {
   "cell_type": "code",
   "execution_count": 18,
   "metadata": {
    "collapsed": false
   },
   "outputs": [],
   "source": [
    "line = pd.DataFrame(coordinate, index=multi_index, columns=['lon', 'lat'])"
   ]
  },
  {
   "cell_type": "code",
   "execution_count": 19,
   "metadata": {
    "collapsed": false,
    "scrolled": true
   },
   "outputs": [
    {
     "data": {
      "text/html": [
       "<div>\n",
       "<table border=\"1\" class=\"dataframe\">\n",
       "  <thead>\n",
       "    <tr style=\"text-align: right;\">\n",
       "      <th></th>\n",
       "      <th></th>\n",
       "      <th>lon</th>\n",
       "      <th>lat</th>\n",
       "    </tr>\n",
       "    <tr>\n",
       "      <th>track</th>\n",
       "      <th>n</th>\n",
       "      <th></th>\n",
       "      <th></th>\n",
       "    </tr>\n",
       "  </thead>\n",
       "  <tbody>\n",
       "    <tr>\n",
       "      <th rowspan=\"4\" valign=\"top\">1</th>\n",
       "      <th>1</th>\n",
       "      <td>-83.260010</td>\n",
       "      <td>-65.001099</td>\n",
       "    </tr>\n",
       "    <tr>\n",
       "      <th>2</th>\n",
       "      <td>-84.010010</td>\n",
       "      <td>-65.137604</td>\n",
       "    </tr>\n",
       "    <tr>\n",
       "      <th>3</th>\n",
       "      <td>-84.179993</td>\n",
       "      <td>-65.245697</td>\n",
       "    </tr>\n",
       "    <tr>\n",
       "      <th>4</th>\n",
       "      <td>-84.155029</td>\n",
       "      <td>-65.293297</td>\n",
       "    </tr>\n",
       "  </tbody>\n",
       "</table>\n",
       "</div>"
      ],
      "text/plain": [
       "               lon        lat\n",
       "track n                      \n",
       "1     1 -83.260010 -65.001099\n",
       "      2 -84.010010 -65.137604\n",
       "      3 -84.179993 -65.245697\n",
       "      4 -84.155029 -65.293297"
      ]
     },
     "execution_count": 19,
     "metadata": {},
     "output_type": "execute_result"
    }
   ],
   "source": [
    "line.head(4)"
   ]
  },
  {
   "cell_type": "markdown",
   "metadata": {},
   "source": [
    "__Polygons__"
   ]
  },
  {
   "cell_type": "code",
   "execution_count": 20,
   "metadata": {
    "collapsed": false,
    "scrolled": true
   },
   "outputs": [
    {
     "data": {
      "text/html": [
       "<div>\n",
       "<table border=\"1\" class=\"dataframe\">\n",
       "  <thead>\n",
       "    <tr style=\"text-align: right;\">\n",
       "      <th></th>\n",
       "      <th>track</th>\n",
       "      <th>n</th>\n",
       "      <th>j1</th>\n",
       "      <th>cyc</th>\n",
       "      <th>lon</th>\n",
       "      <th>lat</th>\n",
       "      <th>A</th>\n",
       "      <th>L</th>\n",
       "      <th>U</th>\n",
       "    </tr>\n",
       "    <tr>\n",
       "      <th>Nobs</th>\n",
       "      <th></th>\n",
       "      <th></th>\n",
       "      <th></th>\n",
       "      <th></th>\n",
       "      <th></th>\n",
       "      <th></th>\n",
       "      <th></th>\n",
       "      <th></th>\n",
       "      <th></th>\n",
       "    </tr>\n",
       "  </thead>\n",
       "  <tbody>\n",
       "    <tr>\n",
       "      <th>0</th>\n",
       "      <td>1</td>\n",
       "      <td>1</td>\n",
       "      <td>2448910</td>\n",
       "      <td>-1</td>\n",
       "      <td>636.739990</td>\n",
       "      <td>-65.001099</td>\n",
       "      <td>1.24564</td>\n",
       "      <td>44.464001</td>\n",
       "      <td>5.97993</td>\n",
       "    </tr>\n",
       "    <tr>\n",
       "      <th>1</th>\n",
       "      <td>1</td>\n",
       "      <td>2</td>\n",
       "      <td>2448917</td>\n",
       "      <td>-1</td>\n",
       "      <td>635.989990</td>\n",
       "      <td>-65.137604</td>\n",
       "      <td>2.64604</td>\n",
       "      <td>36.702400</td>\n",
       "      <td>8.17373</td>\n",
       "    </tr>\n",
       "    <tr>\n",
       "      <th>2</th>\n",
       "      <td>1</td>\n",
       "      <td>3</td>\n",
       "      <td>2448924</td>\n",
       "      <td>-1</td>\n",
       "      <td>635.820007</td>\n",
       "      <td>-65.245697</td>\n",
       "      <td>3.40119</td>\n",
       "      <td>45.422100</td>\n",
       "      <td>8.28628</td>\n",
       "    </tr>\n",
       "    <tr>\n",
       "      <th>3</th>\n",
       "      <td>1</td>\n",
       "      <td>4</td>\n",
       "      <td>2448931</td>\n",
       "      <td>-1</td>\n",
       "      <td>635.844971</td>\n",
       "      <td>-65.293297</td>\n",
       "      <td>1.45836</td>\n",
       "      <td>43.021999</td>\n",
       "      <td>5.20364</td>\n",
       "    </tr>\n",
       "  </tbody>\n",
       "</table>\n",
       "</div>"
      ],
      "text/plain": [
       "      track  n       j1  cyc         lon        lat        A          L  \\\n",
       "Nobs                                                                      \n",
       "0         1  1  2448910   -1  636.739990 -65.001099  1.24564  44.464001   \n",
       "1         1  2  2448917   -1  635.989990 -65.137604  2.64604  36.702400   \n",
       "2         1  3  2448924   -1  635.820007 -65.245697  3.40119  45.422100   \n",
       "3         1  4  2448931   -1  635.844971 -65.293297  1.45836  43.021999   \n",
       "\n",
       "            U  \n",
       "Nobs           \n",
       "0     5.97993  \n",
       "1     8.17373  \n",
       "2     8.28628  \n",
       "3     5.20364  "
      ]
     },
     "execution_count": 20,
     "metadata": {},
     "output_type": "execute_result"
    }
   ],
   "source": [
    "ds.head(4)"
   ]
  },
  {
   "cell_type": "code",
   "execution_count": 21,
   "metadata": {
    "collapsed": true
   },
   "outputs": [],
   "source": [
    "count = ds.track\n",
    "count = count.value_counts(normalize=False, sort=True, ascending=True, bins=None, dropna=False).reindex(range(1, N+1))\n",
    "count = pd.DataFrame(count)\n",
    "count.columns = ['point']"
   ]
  },
  {
   "cell_type": "code",
   "execution_count": 22,
   "metadata": {
    "collapsed": false
   },
   "outputs": [
    {
     "data": {
      "text/html": [
       "<div>\n",
       "<table border=\"1\" class=\"dataframe\">\n",
       "  <thead>\n",
       "    <tr style=\"text-align: right;\">\n",
       "      <th></th>\n",
       "      <th>point</th>\n",
       "    </tr>\n",
       "  </thead>\n",
       "  <tbody>\n",
       "    <tr>\n",
       "      <th>1</th>\n",
       "      <td>4</td>\n",
       "    </tr>\n",
       "    <tr>\n",
       "      <th>2</th>\n",
       "      <td>4</td>\n",
       "    </tr>\n",
       "    <tr>\n",
       "      <th>3</th>\n",
       "      <td>4</td>\n",
       "    </tr>\n",
       "    <tr>\n",
       "      <th>4</th>\n",
       "      <td>4</td>\n",
       "    </tr>\n",
       "  </tbody>\n",
       "</table>\n",
       "</div>"
      ],
      "text/plain": [
       "   point\n",
       "1      4\n",
       "2      4\n",
       "3      4\n",
       "4      4"
      ]
     },
     "execution_count": 22,
     "metadata": {},
     "output_type": "execute_result"
    }
   ],
   "source": [
    "count.head(4)"
   ]
  },
  {
   "cell_type": "code",
   "execution_count": 23,
   "metadata": {
    "collapsed": true
   },
   "outputs": [],
   "source": [
    "lon = np.asarray(df.lon)\n",
    "lat = np.asarray(df.lat)\n",
    "radius = np.asarray(df.L)\n",
    "point = np.asarray(count.point)"
   ]
  },
  {
   "cell_type": "code",
   "execution_count": 24,
   "metadata": {
    "collapsed": true
   },
   "outputs": [],
   "source": [
    "lon_o = np.zeros((N, 1))\n",
    "lat_o = np.zeros((N, 1))\n",
    "L_o = np.zeros((N, 1))\n",
    "\n",
    "lon_t = np.zeros((N, 1))\n",
    "lat_t = np.zeros((N, 1))\n",
    "L_t = np.zeros((N, 1))"
   ]
  },
  {
   "cell_type": "code",
   "execution_count": 25,
   "metadata": {
    "collapsed": true
   },
   "outputs": [],
   "source": [
    "i = 0\n",
    "c = 0\n",
    "\n",
    "while i < len(n):\n",
    "    c = int(c) + 1\n",
    "    lon_o[c-1] = lon[i]\n",
    "    lat_o[c-1] = lat[i]\n",
    "    L_o[c-1] = radius[i]\n",
    "    i = i + int(point[c-1])\n",
    "    lon_t[c-1] = lon[i-1]\n",
    "    lat_t[c-1] = lat[i-1]\n",
    "    L_t[c-1] = radius[i-1]"
   ]
  },
  {
   "cell_type": "code",
   "execution_count": 26,
   "metadata": {
    "collapsed": false
   },
   "outputs": [],
   "source": [
    "lon_o = pd.DataFrame(lon_o)\n",
    "lat_o = pd.DataFrame(lat_o)\n",
    "L_o = pd.DataFrame(L_o)\n",
    "\n",
    "lon_t = pd.DataFrame(lon_t)\n",
    "lat_t = pd.DataFrame(lat_t)\n",
    "L_t = pd.DataFrame(L_t)"
   ]
  },
  {
   "cell_type": "code",
   "execution_count": 27,
   "metadata": {
    "collapsed": false
   },
   "outputs": [],
   "source": [
    "co = pd.concat([lon_o, lat_o, L_o], axis=1)\n",
    "co.columns = ['lon', 'lat', 'L']\n",
    "\n",
    "ct = pd.concat([lon_t, lat_t, L_t], axis=1)\n",
    "ct.columns = ['lon', 'lat', 'L']"
   ]
  },
  {
   "cell_type": "code",
   "execution_count": 28,
   "metadata": {
    "collapsed": false
   },
   "outputs": [
    {
     "data": {
      "text/html": [
       "<div>\n",
       "<table border=\"1\" class=\"dataframe\">\n",
       "  <thead>\n",
       "    <tr style=\"text-align: right;\">\n",
       "      <th></th>\n",
       "      <th>lon</th>\n",
       "      <th>lat</th>\n",
       "      <th>L</th>\n",
       "    </tr>\n",
       "  </thead>\n",
       "  <tbody>\n",
       "    <tr>\n",
       "      <th>0</th>\n",
       "      <td>-83.260010</td>\n",
       "      <td>-65.001099</td>\n",
       "      <td>44.464001</td>\n",
       "    </tr>\n",
       "    <tr>\n",
       "      <th>1</th>\n",
       "      <td>-159.357971</td>\n",
       "      <td>-62.542400</td>\n",
       "      <td>63.069698</td>\n",
       "    </tr>\n",
       "    <tr>\n",
       "      <th>2</th>\n",
       "      <td>164.956970</td>\n",
       "      <td>-60.751999</td>\n",
       "      <td>66.748398</td>\n",
       "    </tr>\n",
       "    <tr>\n",
       "      <th>3</th>\n",
       "      <td>129.165985</td>\n",
       "      <td>-61.428299</td>\n",
       "      <td>76.040703</td>\n",
       "    </tr>\n",
       "  </tbody>\n",
       "</table>\n",
       "</div>"
      ],
      "text/plain": [
       "          lon        lat          L\n",
       "0  -83.260010 -65.001099  44.464001\n",
       "1 -159.357971 -62.542400  63.069698\n",
       "2  164.956970 -60.751999  66.748398\n",
       "3  129.165985 -61.428299  76.040703"
      ]
     },
     "execution_count": 28,
     "metadata": {},
     "output_type": "execute_result"
    }
   ],
   "source": [
    "co.head(4)"
   ]
  },
  {
   "cell_type": "code",
   "execution_count": 29,
   "metadata": {
    "collapsed": false
   },
   "outputs": [
    {
     "data": {
      "text/html": [
       "<div>\n",
       "<table border=\"1\" class=\"dataframe\">\n",
       "  <thead>\n",
       "    <tr style=\"text-align: right;\">\n",
       "      <th></th>\n",
       "      <th>lon</th>\n",
       "      <th>lat</th>\n",
       "      <th>L</th>\n",
       "    </tr>\n",
       "  </thead>\n",
       "  <tbody>\n",
       "    <tr>\n",
       "      <th>0</th>\n",
       "      <td>-84.155029</td>\n",
       "      <td>-65.293297</td>\n",
       "      <td>43.021999</td>\n",
       "    </tr>\n",
       "    <tr>\n",
       "      <th>1</th>\n",
       "      <td>-159.156006</td>\n",
       "      <td>-62.726101</td>\n",
       "      <td>55.183399</td>\n",
       "    </tr>\n",
       "    <tr>\n",
       "      <th>2</th>\n",
       "      <td>166.448975</td>\n",
       "      <td>-61.454601</td>\n",
       "      <td>94.783096</td>\n",
       "    </tr>\n",
       "    <tr>\n",
       "      <th>3</th>\n",
       "      <td>128.390015</td>\n",
       "      <td>-61.127899</td>\n",
       "      <td>59.744499</td>\n",
       "    </tr>\n",
       "  </tbody>\n",
       "</table>\n",
       "</div>"
      ],
      "text/plain": [
       "          lon        lat          L\n",
       "0  -84.155029 -65.293297  43.021999\n",
       "1 -159.156006 -62.726101  55.183399\n",
       "2  166.448975 -61.454601  94.783096\n",
       "3  128.390015 -61.127899  59.744499"
      ]
     },
     "execution_count": 29,
     "metadata": {},
     "output_type": "execute_result"
    }
   ],
   "source": [
    "ct.head(4)"
   ]
  },
  {
   "cell_type": "code",
   "execution_count": 30,
   "metadata": {
    "collapsed": false
   },
   "outputs": [],
   "source": [
    "N = max(ds.track)\n",
    "M = N*17"
   ]
  },
  {
   "cell_type": "code",
   "execution_count": 31,
   "metadata": {
    "collapsed": true
   },
   "outputs": [],
   "source": [
    "circle = np.zeros(M)\n",
    "arc = np.zeros(M)"
   ]
  },
  {
   "cell_type": "code",
   "execution_count": 32,
   "metadata": {
    "collapsed": false
   },
   "outputs": [],
   "source": [
    "i = 0\n",
    "j = 1\n",
    "c = 1\n",
    "\n",
    "while i < M:\n",
    "    while c <= 17:\n",
    "        circle[i] = j\n",
    "        i = i+1\n",
    "        c = c+1\n",
    "    j = j+1\n",
    "    c = 1"
   ]
  },
  {
   "cell_type": "code",
   "execution_count": 33,
   "metadata": {
    "collapsed": false
   },
   "outputs": [],
   "source": [
    "circle = circle.astype(int)"
   ]
  },
  {
   "cell_type": "code",
   "execution_count": 34,
   "metadata": {
    "collapsed": true
   },
   "outputs": [],
   "source": [
    "i = 0\n",
    "j = 1\n",
    "c = 1\n",
    "\n",
    "while i < M:\n",
    "    while c <= 17:\n",
    "        arc[i] = j\n",
    "        i = i+1\n",
    "        j = j+1\n",
    "        c = c+1\n",
    "    j = 1\n",
    "    c = 1"
   ]
  },
  {
   "cell_type": "code",
   "execution_count": 35,
   "metadata": {
    "collapsed": false
   },
   "outputs": [],
   "source": [
    "arc = arc.astype(int)"
   ]
  },
  {
   "cell_type": "code",
   "execution_count": 36,
   "metadata": {
    "collapsed": false
   },
   "outputs": [],
   "source": [
    "arrays = [circle, arc]\n",
    "tuples = list(zip(*arrays))\n",
    "multi_index = pd.MultiIndex.from_tuples(tuples, names=['circle', 'arc'])"
   ]
  },
  {
   "cell_type": "code",
   "execution_count": 37,
   "metadata": {
    "collapsed": false
   },
   "outputs": [],
   "source": [
    "from numpy import pi\n",
    "from numpy import sin\n",
    "from numpy import cos"
   ]
  },
  {
   "cell_type": "code",
   "execution_count": 38,
   "metadata": {
    "collapsed": true
   },
   "outputs": [],
   "source": [
    "R = 6371\n",
    "N = max(ds.track)\n",
    "M = N*17"
   ]
  },
  {
   "cell_type": "markdown",
   "metadata": {},
   "source": [
    "__(1) Origins__"
   ]
  },
  {
   "cell_type": "code",
   "execution_count": 39,
   "metadata": {
    "collapsed": true
   },
   "outputs": [],
   "source": [
    "lon = np.asarray(co.lon)\n",
    "lat = np.asarray(co.lat)\n",
    "L = np.asarray(co.L)"
   ]
  },
  {
   "cell_type": "code",
   "execution_count": 40,
   "metadata": {
    "collapsed": true
   },
   "outputs": [],
   "source": [
    "theta = np.zeros(N)\n",
    "r = np.zeros(N)\n",
    "x = np.zeros(N)\n",
    "y = np.zeros(N)"
   ]
  },
  {
   "cell_type": "code",
   "execution_count": 41,
   "metadata": {
    "collapsed": true
   },
   "outputs": [],
   "source": [
    "for i in range(0, N):\n",
    "    theta[i] = lat[i]*(pi/180)\n",
    "    r[i] = R*cos(theta[i])\n",
    "    x[i] = (L[i]/r[i])*(180/pi)\n",
    "    y[i] = (L[i]/R)*(180/pi)"
   ]
  },
  {
   "cell_type": "code",
   "execution_count": 42,
   "metadata": {
    "collapsed": false
   },
   "outputs": [],
   "source": [
    "cpo_lon = np.zeros(M)\n",
    "cpo_lat = np.zeros(M)\n",
    "cpo_x = np.zeros(M)\n",
    "cpo_y = np.zeros(M)"
   ]
  },
  {
   "cell_type": "code",
   "execution_count": 43,
   "metadata": {
    "collapsed": false
   },
   "outputs": [],
   "source": [
    "i = 0\n",
    "j = 1\n",
    "c = 0\n",
    "\n",
    "while i < M:\n",
    "    while j <= 17:\n",
    "        cpo_lon[i] = lon[c]\n",
    "        i = i+1\n",
    "        j = j+1\n",
    "    j = 1\n",
    "    c = c+1"
   ]
  },
  {
   "cell_type": "code",
   "execution_count": 44,
   "metadata": {
    "collapsed": false
   },
   "outputs": [],
   "source": [
    "i = 0\n",
    "j = 1\n",
    "c = 0\n",
    "\n",
    "while i < M:\n",
    "    while j <= 17:\n",
    "        cpo_lat[i] = lat[c]\n",
    "        i = i+1\n",
    "        j = j+1\n",
    "    j = 1\n",
    "    c = c+1"
   ]
  },
  {
   "cell_type": "code",
   "execution_count": 45,
   "metadata": {
    "collapsed": true
   },
   "outputs": [],
   "source": [
    "i = 0\n",
    "j = 1\n",
    "c = 0\n",
    "\n",
    "while i < M:\n",
    "    while j <= 17:\n",
    "        cpo_x[i] = x[c]*cos((j-1)*(pi/8))\n",
    "        i = i+1\n",
    "        j = j+1\n",
    "    j = 1\n",
    "    c = c+1"
   ]
  },
  {
   "cell_type": "code",
   "execution_count": 46,
   "metadata": {
    "collapsed": false
   },
   "outputs": [],
   "source": [
    "i = 0\n",
    "j = 1\n",
    "c = 0\n",
    "\n",
    "while i < M:\n",
    "    while j <= 17:\n",
    "        cpo_y[i] = y[c]*sin((j-1)*(pi/8))\n",
    "        i = i+1\n",
    "        j = j+1\n",
    "    j = 1\n",
    "    c = c+1"
   ]
  },
  {
   "cell_type": "code",
   "execution_count": 47,
   "metadata": {
    "collapsed": true
   },
   "outputs": [],
   "source": [
    "cpo = np.zeros((M, 2))"
   ]
  },
  {
   "cell_type": "code",
   "execution_count": 48,
   "metadata": {
    "collapsed": false
   },
   "outputs": [],
   "source": [
    "for i in range(0, M):\n",
    "    cpo[i][0] = cpo_lon[i]+cpo_x[i]\n",
    "    cpo[i][1] = cpo_lat[i]+cpo_y[i]"
   ]
  },
  {
   "cell_type": "code",
   "execution_count": 49,
   "metadata": {
    "collapsed": true
   },
   "outputs": [],
   "source": [
    "cpo = pd.DataFrame(cpo, index=multi_index)\n",
    "cpo.columns = ['lon','lat']"
   ]
  },
  {
   "cell_type": "code",
   "execution_count": 50,
   "metadata": {
    "collapsed": false
   },
   "outputs": [
    {
     "data": {
      "text/html": [
       "<div>\n",
       "<table border=\"1\" class=\"dataframe\">\n",
       "  <thead>\n",
       "    <tr style=\"text-align: right;\">\n",
       "      <th></th>\n",
       "      <th></th>\n",
       "      <th>lon</th>\n",
       "      <th>lat</th>\n",
       "    </tr>\n",
       "    <tr>\n",
       "      <th>circle</th>\n",
       "      <th>arc</th>\n",
       "      <th></th>\n",
       "      <th></th>\n",
       "    </tr>\n",
       "  </thead>\n",
       "  <tbody>\n",
       "    <tr>\n",
       "      <th rowspan=\"17\" valign=\"top\">1</th>\n",
       "      <th>1</th>\n",
       "      <td>-82.313788</td>\n",
       "      <td>-65.001099</td>\n",
       "    </tr>\n",
       "    <tr>\n",
       "      <th>2</th>\n",
       "      <td>-82.385814</td>\n",
       "      <td>-64.848073</td>\n",
       "    </tr>\n",
       "    <tr>\n",
       "      <th>3</th>\n",
       "      <td>-82.590930</td>\n",
       "      <td>-64.718345</td>\n",
       "    </tr>\n",
       "    <tr>\n",
       "      <th>4</th>\n",
       "      <td>-82.897906</td>\n",
       "      <td>-64.631663</td>\n",
       "    </tr>\n",
       "    <tr>\n",
       "      <th>5</th>\n",
       "      <td>-83.260010</td>\n",
       "      <td>-64.601224</td>\n",
       "    </tr>\n",
       "    <tr>\n",
       "      <th>6</th>\n",
       "      <td>-83.622113</td>\n",
       "      <td>-64.631663</td>\n",
       "    </tr>\n",
       "    <tr>\n",
       "      <th>7</th>\n",
       "      <td>-83.929090</td>\n",
       "      <td>-64.718345</td>\n",
       "    </tr>\n",
       "    <tr>\n",
       "      <th>8</th>\n",
       "      <td>-84.134205</td>\n",
       "      <td>-64.848073</td>\n",
       "    </tr>\n",
       "    <tr>\n",
       "      <th>9</th>\n",
       "      <td>-84.206232</td>\n",
       "      <td>-65.001099</td>\n",
       "    </tr>\n",
       "    <tr>\n",
       "      <th>10</th>\n",
       "      <td>-84.134205</td>\n",
       "      <td>-65.154124</td>\n",
       "    </tr>\n",
       "    <tr>\n",
       "      <th>11</th>\n",
       "      <td>-83.929090</td>\n",
       "      <td>-65.283853</td>\n",
       "    </tr>\n",
       "    <tr>\n",
       "      <th>12</th>\n",
       "      <td>-83.622113</td>\n",
       "      <td>-65.370534</td>\n",
       "    </tr>\n",
       "    <tr>\n",
       "      <th>13</th>\n",
       "      <td>-83.260010</td>\n",
       "      <td>-65.400973</td>\n",
       "    </tr>\n",
       "    <tr>\n",
       "      <th>14</th>\n",
       "      <td>-82.897906</td>\n",
       "      <td>-65.370534</td>\n",
       "    </tr>\n",
       "    <tr>\n",
       "      <th>15</th>\n",
       "      <td>-82.590930</td>\n",
       "      <td>-65.283853</td>\n",
       "    </tr>\n",
       "    <tr>\n",
       "      <th>16</th>\n",
       "      <td>-82.385814</td>\n",
       "      <td>-65.154124</td>\n",
       "    </tr>\n",
       "    <tr>\n",
       "      <th>17</th>\n",
       "      <td>-82.313788</td>\n",
       "      <td>-65.001099</td>\n",
       "    </tr>\n",
       "  </tbody>\n",
       "</table>\n",
       "</div>"
      ],
      "text/plain": [
       "                  lon        lat\n",
       "circle arc                      \n",
       "1      1   -82.313788 -65.001099\n",
       "       2   -82.385814 -64.848073\n",
       "       3   -82.590930 -64.718345\n",
       "       4   -82.897906 -64.631663\n",
       "       5   -83.260010 -64.601224\n",
       "       6   -83.622113 -64.631663\n",
       "       7   -83.929090 -64.718345\n",
       "       8   -84.134205 -64.848073\n",
       "       9   -84.206232 -65.001099\n",
       "       10  -84.134205 -65.154124\n",
       "       11  -83.929090 -65.283853\n",
       "       12  -83.622113 -65.370534\n",
       "       13  -83.260010 -65.400973\n",
       "       14  -82.897906 -65.370534\n",
       "       15  -82.590930 -65.283853\n",
       "       16  -82.385814 -65.154124\n",
       "       17  -82.313788 -65.001099"
      ]
     },
     "execution_count": 50,
     "metadata": {},
     "output_type": "execute_result"
    }
   ],
   "source": [
    "cpo.head(17)"
   ]
  },
  {
   "cell_type": "markdown",
   "metadata": {},
   "source": [
    "__(2) Terminations__"
   ]
  },
  {
   "cell_type": "code",
   "execution_count": 51,
   "metadata": {
    "collapsed": true
   },
   "outputs": [],
   "source": [
    "lon = np.asarray(ct.lon)\n",
    "lat = np.asarray(ct.lat)\n",
    "L = np.asarray(ct.L)"
   ]
  },
  {
   "cell_type": "code",
   "execution_count": 52,
   "metadata": {
    "collapsed": true
   },
   "outputs": [],
   "source": [
    "theta = np.zeros(N)\n",
    "r = np.zeros(N)\n",
    "x = np.zeros(N)\n",
    "y = np.zeros(N)"
   ]
  },
  {
   "cell_type": "code",
   "execution_count": 53,
   "metadata": {
    "collapsed": true
   },
   "outputs": [],
   "source": [
    "for i in range(0, N):\n",
    "    theta[i] = lat[i]*(pi/180)\n",
    "    r[i] = R*cos(theta[i])\n",
    "    x[i] = (L[i]/r[i])*(180/pi)\n",
    "    y[i] = (L[i]/R)*(180/pi)"
   ]
  },
  {
   "cell_type": "code",
   "execution_count": 54,
   "metadata": {
    "collapsed": true
   },
   "outputs": [],
   "source": [
    "cpt_lon = np.zeros(M)\n",
    "cpt_lat = np.zeros(M)\n",
    "cpt_x = np.zeros(M)\n",
    "cpt_y = np.zeros(M)"
   ]
  },
  {
   "cell_type": "code",
   "execution_count": 55,
   "metadata": {
    "collapsed": false
   },
   "outputs": [],
   "source": [
    "i = 0\n",
    "j = 1\n",
    "c = 0\n",
    "\n",
    "while i < M:\n",
    "    while j <= 17:\n",
    "        cpt_lon[i] = lon[c]\n",
    "        i = i+1\n",
    "        j = j+1\n",
    "    j = 1\n",
    "    c = c+1"
   ]
  },
  {
   "cell_type": "code",
   "execution_count": 56,
   "metadata": {
    "collapsed": true
   },
   "outputs": [],
   "source": [
    "i = 0\n",
    "j = 1\n",
    "c = 0\n",
    "\n",
    "while i < M:\n",
    "    while j <= 17:\n",
    "        cpt_lat[i] = lat[c]\n",
    "        i = i+1\n",
    "        j = j+1\n",
    "    j = 1\n",
    "    c = c+1"
   ]
  },
  {
   "cell_type": "code",
   "execution_count": 57,
   "metadata": {
    "collapsed": false
   },
   "outputs": [],
   "source": [
    "i = 0\n",
    "j = 1\n",
    "c = 0\n",
    "\n",
    "while i < M:\n",
    "    while j <= 17:\n",
    "        cpt_x[i] = x[c]*cos((j-1)*(pi/8))\n",
    "        i = i+1\n",
    "        j = j+1\n",
    "    j = 1\n",
    "    c = c+1"
   ]
  },
  {
   "cell_type": "code",
   "execution_count": 58,
   "metadata": {
    "collapsed": true
   },
   "outputs": [],
   "source": [
    "i = 0\n",
    "j = 1\n",
    "c = 0\n",
    "\n",
    "while i < M:\n",
    "    while j <= 17:\n",
    "        cpt_y[i] = y[c]*sin((j-1)*(pi/8))\n",
    "        i = i+1\n",
    "        j = j+1\n",
    "    j = 1\n",
    "    c = c+1"
   ]
  },
  {
   "cell_type": "code",
   "execution_count": 59,
   "metadata": {
    "collapsed": true
   },
   "outputs": [],
   "source": [
    "cpt = np.zeros((M, 2))"
   ]
  },
  {
   "cell_type": "code",
   "execution_count": 60,
   "metadata": {
    "collapsed": true
   },
   "outputs": [],
   "source": [
    "for i in range(0, M):\n",
    "    cpt[i][0] = cpt_lon[i]+cpt_x[i]\n",
    "    cpt[i][1] = cpt_lat[i]+cpt_y[i]"
   ]
  },
  {
   "cell_type": "code",
   "execution_count": 61,
   "metadata": {
    "collapsed": true
   },
   "outputs": [],
   "source": [
    "cpt = pd.DataFrame(cpt, index=multi_index)\n",
    "cpt.columns = ['lon','lat']"
   ]
  },
  {
   "cell_type": "code",
   "execution_count": 62,
   "metadata": {
    "collapsed": false
   },
   "outputs": [
    {
     "data": {
      "text/html": [
       "<div>\n",
       "<table border=\"1\" class=\"dataframe\">\n",
       "  <thead>\n",
       "    <tr style=\"text-align: right;\">\n",
       "      <th></th>\n",
       "      <th></th>\n",
       "      <th>lon</th>\n",
       "      <th>lat</th>\n",
       "    </tr>\n",
       "    <tr>\n",
       "      <th>circle</th>\n",
       "      <th>arc</th>\n",
       "      <th></th>\n",
       "      <th></th>\n",
       "    </tr>\n",
       "  </thead>\n",
       "  <tbody>\n",
       "    <tr>\n",
       "      <th rowspan=\"17\" valign=\"top\">1</th>\n",
       "      <th>1</th>\n",
       "      <td>-83.229358</td>\n",
       "      <td>-65.293297</td>\n",
       "    </tr>\n",
       "    <tr>\n",
       "      <th>2</th>\n",
       "      <td>-83.299820</td>\n",
       "      <td>-65.145234</td>\n",
       "    </tr>\n",
       "    <tr>\n",
       "      <th>3</th>\n",
       "      <td>-83.500481</td>\n",
       "      <td>-65.019713</td>\n",
       "    </tr>\n",
       "    <tr>\n",
       "      <th>4</th>\n",
       "      <td>-83.800790</td>\n",
       "      <td>-64.935842</td>\n",
       "    </tr>\n",
       "    <tr>\n",
       "      <th>5</th>\n",
       "      <td>-84.155029</td>\n",
       "      <td>-64.906391</td>\n",
       "    </tr>\n",
       "    <tr>\n",
       "      <th>6</th>\n",
       "      <td>-84.509269</td>\n",
       "      <td>-64.935842</td>\n",
       "    </tr>\n",
       "    <tr>\n",
       "      <th>7</th>\n",
       "      <td>-84.809578</td>\n",
       "      <td>-65.019713</td>\n",
       "    </tr>\n",
       "    <tr>\n",
       "      <th>8</th>\n",
       "      <td>-85.010238</td>\n",
       "      <td>-65.145234</td>\n",
       "    </tr>\n",
       "    <tr>\n",
       "      <th>9</th>\n",
       "      <td>-85.080701</td>\n",
       "      <td>-65.293297</td>\n",
       "    </tr>\n",
       "    <tr>\n",
       "      <th>10</th>\n",
       "      <td>-85.010238</td>\n",
       "      <td>-65.441359</td>\n",
       "    </tr>\n",
       "    <tr>\n",
       "      <th>11</th>\n",
       "      <td>-84.809578</td>\n",
       "      <td>-65.566881</td>\n",
       "    </tr>\n",
       "    <tr>\n",
       "      <th>12</th>\n",
       "      <td>-84.509269</td>\n",
       "      <td>-65.650751</td>\n",
       "    </tr>\n",
       "    <tr>\n",
       "      <th>13</th>\n",
       "      <td>-84.155029</td>\n",
       "      <td>-65.680203</td>\n",
       "    </tr>\n",
       "    <tr>\n",
       "      <th>14</th>\n",
       "      <td>-83.800790</td>\n",
       "      <td>-65.650751</td>\n",
       "    </tr>\n",
       "    <tr>\n",
       "      <th>15</th>\n",
       "      <td>-83.500481</td>\n",
       "      <td>-65.566881</td>\n",
       "    </tr>\n",
       "    <tr>\n",
       "      <th>16</th>\n",
       "      <td>-83.299820</td>\n",
       "      <td>-65.441359</td>\n",
       "    </tr>\n",
       "    <tr>\n",
       "      <th>17</th>\n",
       "      <td>-83.229358</td>\n",
       "      <td>-65.293297</td>\n",
       "    </tr>\n",
       "  </tbody>\n",
       "</table>\n",
       "</div>"
      ],
      "text/plain": [
       "                  lon        lat\n",
       "circle arc                      \n",
       "1      1   -83.229358 -65.293297\n",
       "       2   -83.299820 -65.145234\n",
       "       3   -83.500481 -65.019713\n",
       "       4   -83.800790 -64.935842\n",
       "       5   -84.155029 -64.906391\n",
       "       6   -84.509269 -64.935842\n",
       "       7   -84.809578 -65.019713\n",
       "       8   -85.010238 -65.145234\n",
       "       9   -85.080701 -65.293297\n",
       "       10  -85.010238 -65.441359\n",
       "       11  -84.809578 -65.566881\n",
       "       12  -84.509269 -65.650751\n",
       "       13  -84.155029 -65.680203\n",
       "       14  -83.800790 -65.650751\n",
       "       15  -83.500481 -65.566881\n",
       "       16  -83.299820 -65.441359\n",
       "       17  -83.229358 -65.293297"
      ]
     },
     "execution_count": 62,
     "metadata": {},
     "output_type": "execute_result"
    }
   ],
   "source": [
    "cpt.head(17)"
   ]
  },
  {
   "cell_type": "markdown",
   "metadata": {
    "collapsed": false
   },
   "source": [
    "### MongoDB ###"
   ]
  },
  {
   "cell_type": "code",
   "execution_count": 63,
   "metadata": {
    "collapsed": true
   },
   "outputs": [],
   "source": [
    "from pymongo import MongoClient\n",
    "from tqdm import tqdm"
   ]
  },
  {
   "cell_type": "code",
   "execution_count": 64,
   "metadata": {
    "collapsed": true
   },
   "outputs": [],
   "source": [
    "client = MongoClient()\n",
    "db = client.ocean"
   ]
  },
  {
   "cell_type": "code",
   "execution_count": 65,
   "metadata": {
    "collapsed": false
   },
   "outputs": [
    {
     "name": "stderr",
     "output_type": "stream",
     "text": [
      "100%|██████████| 215184/215184 [06:47<00:00, 528.02it/s]\n"
     ]
    }
   ],
   "source": [
    "for _, group in tqdm(line.groupby(level=0)):\n",
    "    feature = {\"type\": \"Feature\", \"geometry\": {\"type\": \"Linestring\", \"coordinates\": None}}\n",
    "    feature[\"geometry\"][\"coordinates\"] = group.to_json(orient='values')\n",
    "    result = db.ocean.insert_one(feature)"
   ]
  },
  {
   "cell_type": "code",
   "execution_count": 66,
   "metadata": {
    "collapsed": false
   },
   "outputs": [
    {
     "name": "stderr",
     "output_type": "stream",
     "text": [
      "100%|██████████| 215184/215184 [06:41<00:00, 535.53it/s]\n"
     ]
    }
   ],
   "source": [
    "for _, group in tqdm(cpo.groupby(level=0)):\n",
    "    feature = {\"type\": \"Feature\", \"geometry\": {\"type\": \"Polygon\", \"coordinates\": None}}\n",
    "    feature[\"geometry\"][\"coordinates\"] = group.to_json(orient='values')\n",
    "    result = db.ocean.insert_one(feature)"
   ]
  },
  {
   "cell_type": "code",
   "execution_count": 67,
   "metadata": {
    "collapsed": false
   },
   "outputs": [
    {
     "name": "stderr",
     "output_type": "stream",
     "text": [
      "100%|██████████| 215184/215184 [05:38<00:00, 635.23it/s]\n"
     ]
    }
   ],
   "source": [
    "for _, group in tqdm(cpt.groupby(level=0)):\n",
    "    feature = {\"type\": \"Feature\", \"geometry\": {\"type\": \"Polygon\", \"coordinates\": None}}\n",
    "    feature[\"geometry\"][\"coordinates\"] = group.to_json(orient='values')\n",
    "    result = db.ocean.insert_one(feature)"
   ]
  }
 ],
 "metadata": {
  "kernelspec": {
   "display_name": "Python 2",
   "language": "python",
   "name": "python2"
  },
  "language_info": {
   "codemirror_mode": {
    "name": "ipython",
    "version": 2
   },
   "file_extension": ".py",
   "mimetype": "text/x-python",
   "name": "python",
   "nbconvert_exporter": "python",
   "pygments_lexer": "ipython2",
   "version": "2.7.9"
  }
 },
 "nbformat": 4,
 "nbformat_minor": 0
}
