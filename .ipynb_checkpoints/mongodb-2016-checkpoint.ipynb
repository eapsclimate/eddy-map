{
 "cells": [
  {
   "cell_type": "markdown",
   "metadata": {},
   "source": [
    "### data ###"
   ]
  },
  {
   "cell_type": "code",
   "execution_count": null,
   "metadata": {
    "collapsed": false
   },
   "outputs": [],
   "source": [
    "import xarray as xr"
   ]
  },
  {
   "cell_type": "code",
   "execution_count": null,
   "metadata": {
    "collapsed": false
   },
   "outputs": [],
   "source": [
    "# xarray dataset\n",
    "ds = xr.open_dataset('/home/cz2397/data/ssh-eddies/tracks_AVISO_DT2014_daily_web.nc', decode_cf=False)\n",
    "ds"
   ]
  },
  {
   "cell_type": "code",
   "execution_count": null,
   "metadata": {
    "collapsed": false
   },
   "outputs": [],
   "source": [
    "# track number\n",
    "ds.track"
   ]
  },
  {
   "cell_type": "code",
   "execution_count": null,
   "metadata": {
    "collapsed": false
   },
   "outputs": [],
   "source": [
    "# observation number\n",
    "ds.n"
   ]
  },
  {
   "cell_type": "code",
   "execution_count": null,
   "metadata": {
    "collapsed": false
   },
   "outputs": [],
   "source": [
    "# julian date\n",
    "ds.j1"
   ]
  },
  {
   "cell_type": "code",
   "execution_count": null,
   "metadata": {
    "collapsed": false
   },
   "outputs": [],
   "source": [
    "# cyclonic\n",
    "ds.cyc"
   ]
  },
  {
   "cell_type": "code",
   "execution_count": null,
   "metadata": {
    "collapsed": false
   },
   "outputs": [],
   "source": [
    "# longitude\n",
    "ds.lon"
   ]
  },
  {
   "cell_type": "code",
   "execution_count": null,
   "metadata": {
    "collapsed": false
   },
   "outputs": [],
   "source": [
    "# latitude\n",
    "ds.lat"
   ]
  },
  {
   "cell_type": "code",
   "execution_count": null,
   "metadata": {
    "collapsed": false
   },
   "outputs": [],
   "source": [
    "# amplitude\n",
    "ds.A"
   ]
  },
  {
   "cell_type": "code",
   "execution_count": null,
   "metadata": {
    "collapsed": false
   },
   "outputs": [],
   "source": [
    "# radius scale\n",
    "ds.L"
   ]
  },
  {
   "cell_type": "code",
   "execution_count": null,
   "metadata": {
    "collapsed": false
   },
   "outputs": [],
   "source": [
    "# maximum circum-averaged speed\n",
    "ds.U"
   ]
  },
  {
   "cell_type": "markdown",
   "metadata": {},
   "source": [
    "### multi-index ###"
   ]
  },
  {
   "cell_type": "code",
   "execution_count": null,
   "metadata": {
    "collapsed": false
   },
   "outputs": [],
   "source": [
    "from tqdm import tqdm\n",
    "import numpy as np\n",
    "import pandas as pd"
   ]
  },
  {
   "cell_type": "code",
   "execution_count": null,
   "metadata": {
    "collapsed": false
   },
   "outputs": [],
   "source": [
    "df = ds.to_dataframe()"
   ]
  },
  {
   "cell_type": "code",
   "execution_count": null,
   "metadata": {
    "collapsed": false,
    "scrolled": true
   },
   "outputs": [],
   "source": [
    "df.head()"
   ]
  },
  {
   "cell_type": "code",
   "execution_count": null,
   "metadata": {
    "collapsed": false
   },
   "outputs": [],
   "source": [
    "# track number\n",
    "tra_num = max(df.track)\n",
    "tra_num"
   ]
  },
  {
   "cell_type": "code",
   "execution_count": null,
   "metadata": {
    "collapsed": false
   },
   "outputs": [],
   "source": [
    "# observation number\n",
    "obs_num = len(df.n)\n",
    "obs_num"
   ]
  },
  {
   "cell_type": "code",
   "execution_count": null,
   "metadata": {
    "collapsed": false
   },
   "outputs": [],
   "source": [
    "track = np.asarray(df.track)\n",
    "n = np.asarray(df.n)"
   ]
  },
  {
   "cell_type": "code",
   "execution_count": null,
   "metadata": {
    "collapsed": true
   },
   "outputs": [],
   "source": [
    "# multi-index construction\n",
    "arrays = [track, n]\n",
    "tuples = list(zip(*arrays))\n",
    "multi_index = pd.MultiIndex.from_tuples(tuples, names=['track-id', 'point-id'])"
   ]
  },
  {
   "cell_type": "code",
   "execution_count": null,
   "metadata": {
    "collapsed": true
   },
   "outputs": [],
   "source": [
    "j1 = np.asarray(df.j1)\n",
    "cyc = np.asarray(df.cyc)\n",
    "lon = np.asarray(df.lon)\n",
    "lat = np.asarray(df.lat)\n",
    "A = np.asarray(df.A)\n",
    "L = np.asarray(df.L)\n",
    "U = np.asarray(df.U)"
   ]
  },
  {
   "cell_type": "code",
   "execution_count": null,
   "metadata": {
    "collapsed": false
   },
   "outputs": [],
   "source": [
    "matrix = np.zeros((obs_num, 7))"
   ]
  },
  {
   "cell_type": "code",
   "execution_count": null,
   "metadata": {
    "collapsed": false
   },
   "outputs": [],
   "source": [
    "for i in tqdm(range(obs_num)):\n",
    "    matrix[i][0] = j1[i]\n",
    "    matrix[i][1] = cyc[i]\n",
    "    matrix[i][2] = lon[i]\n",
    "    matrix[i][3] = lat[i]\n",
    "    matrix[i][4] = A[i]\n",
    "    matrix[i][5] = L[i]\n",
    "    matrix[i][6] = U[i]"
   ]
  },
  {
   "cell_type": "code",
   "execution_count": null,
   "metadata": {
    "collapsed": true
   },
   "outputs": [],
   "source": [
    "DF = pd.DataFrame(matrix, index=multi_index)\n",
    "DF.columns = ['j1', 'cyc', 'lon', 'lat', 'A', 'L', 'U']"
   ]
  },
  {
   "cell_type": "code",
   "execution_count": null,
   "metadata": {
    "collapsed": false
   },
   "outputs": [],
   "source": [
    "DF.head()"
   ]
  },
  {
   "cell_type": "markdown",
   "metadata": {},
   "source": [
    "### time ###"
   ]
  },
  {
   "cell_type": "code",
   "execution_count": null,
   "metadata": {
    "collapsed": true
   },
   "outputs": [],
   "source": [
    "import datetime, jdcal"
   ]
  },
  {
   "cell_type": "code",
   "execution_count": null,
   "metadata": {
    "collapsed": true
   },
   "outputs": [],
   "source": [
    "def jday_to_datetime(jday, refday=0):\n",
    "    y, m, d, f = jdcal.jd2gcal(jday, refday)\n",
    "    h = int(f*24)\n",
    "    return pd.to_datetime(datetime.datetime(y, m, d, h))"
   ]
  },
  {
   "cell_type": "code",
   "execution_count": null,
   "metadata": {
    "collapsed": false
   },
   "outputs": [],
   "source": [
    "date_fix = DF.j1.apply(jday_to_datetime)"
   ]
  },
  {
   "cell_type": "code",
   "execution_count": null,
   "metadata": {
    "collapsed": true
   },
   "outputs": [],
   "source": [
    "DF.j1 = date_fix\n",
    "DF = DF.rename(columns = {'j1': 'date'})"
   ]
  },
  {
   "cell_type": "code",
   "execution_count": null,
   "metadata": {
    "collapsed": false
   },
   "outputs": [],
   "source": [
    "DF.head()"
   ]
  },
  {
   "cell_type": "markdown",
   "metadata": {},
   "source": [
    "### longitude ###"
   ]
  },
  {
   "cell_type": "code",
   "execution_count": null,
   "metadata": {
    "collapsed": false
   },
   "outputs": [],
   "source": [
    "# longitude range setting\n",
    "# from -180 to 180\n",
    "lon_fix_a1 = DF.where(DF.lon < 540).lon - 360\n",
    "lon_fix_a2 = DF.where(DF.lon >= 540).lon - 720\n",
    "lon_fix_a = lon_fix_a1\n",
    "lon_fix_a = lon_fix_a.fillna(lon_fix_a2)\n",
    "DF.lon = lon_fix_a"
   ]
  },
  {
   "cell_type": "code",
   "execution_count": null,
   "metadata": {
    "collapsed": false
   },
   "outputs": [],
   "source": [
    "DF.head()"
   ]
  },
  {
   "cell_type": "code",
   "execution_count": null,
   "metadata": {
    "collapsed": true
   },
   "outputs": [],
   "source": [
    "# longitude range setting\n",
    "# from 0 to 360\n",
    "lon_fix_b1 = DF.where(DF.lon < 0).lon + 360\n",
    "lon_fix_b2 = DF.where(DF.lon >= 0).lon\n",
    "lon_fix_b = lon_fix_b1\n",
    "lon_fix_b = lon_fix_b.fillna(lon_fix_b2)\n",
    "DF.lon = lon_fix_b"
   ]
  },
  {
   "cell_type": "code",
   "execution_count": null,
   "metadata": {
    "collapsed": false
   },
   "outputs": [],
   "source": [
    "DF.head()"
   ]
  },
  {
   "cell_type": "markdown",
   "metadata": {},
   "source": [
    "### radius ###"
   ]
  },
  {
   "cell_type": "code",
   "execution_count": null,
   "metadata": {
    "collapsed": true
   },
   "outputs": [],
   "source": [
    "radius_fix = DF.L*1000\n",
    "DF.L = radius_fix\n",
    "DF = DF.rename(columns = {'L': 'radius'})"
   ]
  },
  {
   "cell_type": "code",
   "execution_count": null,
   "metadata": {
    "collapsed": false
   },
   "outputs": [],
   "source": [
    "DF.head()"
   ]
  },
  {
   "cell_type": "markdown",
   "metadata": {},
   "source": [
    "### geojson-point ###"
   ]
  },
  {
   "cell_type": "code",
   "execution_count": null,
   "metadata": {
    "collapsed": false
   },
   "outputs": [],
   "source": [
    "df.head()"
   ]
  },
  {
   "cell_type": "code",
   "execution_count": null,
   "metadata": {
    "collapsed": false
   },
   "outputs": [],
   "source": [
    "count = df.track\n",
    "count = count.value_counts(normalize=False, sort=True, ascending=True, bins=None, dropna=False).reindex(range(1, tra_num+1))\n",
    "count = pd.DataFrame(count)\n",
    "count.index.name = 'track-id'\n",
    "count.columns = ['obs-num']"
   ]
  },
  {
   "cell_type": "code",
   "execution_count": null,
   "metadata": {
    "collapsed": false
   },
   "outputs": [],
   "source": [
    "count.head()"
   ]
  },
  {
   "cell_type": "code",
   "execution_count": null,
   "metadata": {
    "collapsed": true
   },
   "outputs": [],
   "source": [
    "lon = np.asarray(DF.lon)\n",
    "lat = np.asarray(DF.lat)\n",
    "point = np.asarray(count['obs-num'])"
   ]
  },
  {
   "cell_type": "code",
   "execution_count": null,
   "metadata": {
    "collapsed": true
   },
   "outputs": [],
   "source": [
    "# origin coordinates\n",
    "lon_ori = np.zeros(tra_num)\n",
    "lat_ori = np.zeros(tra_num)"
   ]
  },
  {
   "cell_type": "code",
   "execution_count": null,
   "metadata": {
    "collapsed": true
   },
   "outputs": [],
   "source": [
    "# termination coordinates\n",
    "lon_ter = np.zeros(tra_num)\n",
    "lat_ter = np.zeros(tra_num)"
   ]
  },
  {
   "cell_type": "code",
   "execution_count": null,
   "metadata": {
    "collapsed": false
   },
   "outputs": [],
   "source": [
    "c = 0\n",
    "i = 0\n",
    "\n",
    "while i < obs_num:\n",
    "    c = int(c) + 1\n",
    "    lon_ori[c-1] = lon[i]\n",
    "    lat_ori[c-1] = lat[i]\n",
    "    i = i + int(point[c-1])\n",
    "    lon_ter[c-1] = lon[i-1]\n",
    "    lat_ter[c-1] = lat[i-1]"
   ]
  },
  {
   "cell_type": "code",
   "execution_count": null,
   "metadata": {
    "collapsed": true
   },
   "outputs": [],
   "source": [
    "lon_ori = pd.DataFrame(lon_ori)\n",
    "lat_ori = pd.DataFrame(lat_ori)\n",
    "lon_ter = pd.DataFrame(lon_ter)\n",
    "lat_ter = pd.DataFrame(lat_ter)"
   ]
  },
  {
   "cell_type": "code",
   "execution_count": null,
   "metadata": {
    "collapsed": false
   },
   "outputs": [],
   "source": [
    "# index construction\n",
    "index = np.zeros(tra_num)\n",
    "for i in range(tra_num):\n",
    "    index[i] = i+1\n",
    "index = pd.DataFrame(index)\n",
    "index = index.astype(int)"
   ]
  },
  {
   "cell_type": "code",
   "execution_count": null,
   "metadata": {
    "collapsed": true
   },
   "outputs": [],
   "source": [
    "# start center\n",
    "sta_cen = pd.concat([index, lon_ori, lat_ori], axis=1)\n",
    "sta_cen.columns = ['track-id', 'lon', 'lat']\n",
    "sta_cen = sta_cen.set_index('track-id')"
   ]
  },
  {
   "cell_type": "code",
   "execution_count": null,
   "metadata": {
    "collapsed": false
   },
   "outputs": [],
   "source": [
    "sta_cen.head()"
   ]
  },
  {
   "cell_type": "code",
   "execution_count": null,
   "metadata": {
    "collapsed": false
   },
   "outputs": [],
   "source": [
    "# end center\n",
    "end_cen = pd.concat([index, lon_ter, lat_ter], axis=1)\n",
    "end_cen.columns = ['track-id', 'lon', 'lat']\n",
    "end_cen = end_cen.set_index('track-id')"
   ]
  },
  {
   "cell_type": "code",
   "execution_count": null,
   "metadata": {
    "collapsed": false
   },
   "outputs": [],
   "source": [
    "end_cen.head()"
   ]
  },
  {
   "cell_type": "markdown",
   "metadata": {},
   "source": [
    "### geojson-linestring ###"
   ]
  },
  {
   "cell_type": "code",
   "execution_count": null,
   "metadata": {
    "collapsed": true
   },
   "outputs": [],
   "source": [
    "lin_str = np.zeros((obs_num, 2))"
   ]
  },
  {
   "cell_type": "code",
   "execution_count": null,
   "metadata": {
    "collapsed": true
   },
   "outputs": [],
   "source": [
    "lon = np.asarray(DF.lon)\n",
    "lat = np.asarray(DF.lat)"
   ]
  },
  {
   "cell_type": "code",
   "execution_count": null,
   "metadata": {
    "collapsed": false
   },
   "outputs": [],
   "source": [
    "for i in range(obs_num):\n",
    "    lin_str[i][0] = lon[i]\n",
    "    lin_str[i][1] = lat[i]"
   ]
  },
  {
   "cell_type": "code",
   "execution_count": null,
   "metadata": {
    "collapsed": false
   },
   "outputs": [],
   "source": [
    "lin_str = pd.DataFrame(lin_str, index=multi_index, columns=['lon', 'lat'])"
   ]
  },
  {
   "cell_type": "code",
   "execution_count": null,
   "metadata": {
    "collapsed": false,
    "scrolled": true
   },
   "outputs": [],
   "source": [
    "lin_str.head()"
   ]
  },
  {
   "cell_type": "markdown",
   "metadata": {},
   "source": [
    "### geojson-polygon ###"
   ]
  },
  {
   "cell_type": "code",
   "execution_count": null,
   "metadata": {
    "collapsed": true
   },
   "outputs": [],
   "source": [
    "from numpy import cos, pi, sin"
   ]
  },
  {
   "cell_type": "code",
   "execution_count": null,
   "metadata": {
    "collapsed": false
   },
   "outputs": [],
   "source": [
    "radius = np.asarray(DF.radius)\n",
    "point = np.asarray(count['obs-num'])"
   ]
  },
  {
   "cell_type": "code",
   "execution_count": null,
   "metadata": {
    "collapsed": true
   },
   "outputs": [],
   "source": [
    "rad_ori = np.zeros(tra_num)\n",
    "rad_ter = np.zeros(tra_num)"
   ]
  },
  {
   "cell_type": "code",
   "execution_count": null,
   "metadata": {
    "collapsed": false
   },
   "outputs": [],
   "source": [
    "c = 0\n",
    "i = 0\n",
    "\n",
    "while i < obs_num:\n",
    "    c = int(c) + 1\n",
    "    rad_ori[c-1] = radius[i]\n",
    "    i = i + int(point[c-1])\n",
    "    rad_ter[c-1] = radius[i-1]"
   ]
  },
  {
   "cell_type": "code",
   "execution_count": null,
   "metadata": {
    "collapsed": true
   },
   "outputs": [],
   "source": [
    "rad_ori = pd.DataFrame(rad_ori)\n",
    "rad_ter = pd.DataFrame(rad_ter)"
   ]
  },
  {
   "cell_type": "code",
   "execution_count": null,
   "metadata": {
    "collapsed": true
   },
   "outputs": [],
   "source": [
    "# start circle\n",
    "sta_cir = pd.concat([index, lon_ori, lat_ori, rad_ori], axis=1)\n",
    "sta_cir.columns = ['track-id', 'lon', 'lat', 'radius']\n",
    "sta_cir = sta_cir.set_index('track-id')"
   ]
  },
  {
   "cell_type": "code",
   "execution_count": null,
   "metadata": {
    "collapsed": false
   },
   "outputs": [],
   "source": [
    "sta_cir.head()"
   ]
  },
  {
   "cell_type": "code",
   "execution_count": null,
   "metadata": {
    "collapsed": false
   },
   "outputs": [],
   "source": [
    "# end circle\n",
    "end_cir = pd.concat([index, lon_ter, lat_ter, rad_ter], axis=1)\n",
    "end_cir.columns = ['track-id', 'lon', 'lat', 'radius']\n",
    "end_cir = end_cir.set_index('track-id')"
   ]
  },
  {
   "cell_type": "code",
   "execution_count": null,
   "metadata": {
    "collapsed": false
   },
   "outputs": [],
   "source": [
    "end_cir.head()"
   ]
  },
  {
   "cell_type": "code",
   "execution_count": null,
   "metadata": {
    "collapsed": true
   },
   "outputs": [],
   "source": [
    "# circle center number\n",
    "cen_num = tra_num"
   ]
  },
  {
   "cell_type": "code",
   "execution_count": null,
   "metadata": {
    "collapsed": false
   },
   "outputs": [],
   "source": [
    "# circle arc number\n",
    "arc_num = tra_num*33"
   ]
  },
  {
   "cell_type": "code",
   "execution_count": null,
   "metadata": {
    "collapsed": true
   },
   "outputs": [],
   "source": [
    "center = np.zeros(arc_num)\n",
    "arc = np.zeros(arc_num)"
   ]
  },
  {
   "cell_type": "code",
   "execution_count": null,
   "metadata": {
    "collapsed": false
   },
   "outputs": [],
   "source": [
    "c = 1\n",
    "i = 0\n",
    "j = 1\n",
    "\n",
    "while i < arc_num:\n",
    "    while c <= 33:\n",
    "        center[i] = j\n",
    "        i = i+1\n",
    "        c = c+1\n",
    "    j = j+1\n",
    "    c = 1"
   ]
  },
  {
   "cell_type": "code",
   "execution_count": null,
   "metadata": {
    "collapsed": false
   },
   "outputs": [],
   "source": [
    "center = center.astype(int)"
   ]
  },
  {
   "cell_type": "code",
   "execution_count": null,
   "metadata": {
    "collapsed": false
   },
   "outputs": [],
   "source": [
    "c = 1\n",
    "i = 0\n",
    "j = 1\n",
    "\n",
    "while i < arc_num:\n",
    "    while c <= 33:\n",
    "        arc[i] = j\n",
    "        i = i+1\n",
    "        j = j+1\n",
    "        c = c+1\n",
    "    j = 1\n",
    "    c = 1"
   ]
  },
  {
   "cell_type": "code",
   "execution_count": null,
   "metadata": {
    "collapsed": true
   },
   "outputs": [],
   "source": [
    "arc = arc.astype(int)"
   ]
  },
  {
   "cell_type": "code",
   "execution_count": null,
   "metadata": {
    "collapsed": false
   },
   "outputs": [],
   "source": [
    "# multi-index construction\n",
    "arrays = [center, arc]\n",
    "tuples = list(zip(*arrays))\n",
    "multi_index = pd.MultiIndex.from_tuples(tuples, names=['center', 'arc'])"
   ]
  },
  {
   "cell_type": "code",
   "execution_count": null,
   "metadata": {
    "collapsed": true
   },
   "outputs": [],
   "source": [
    "# earth radius in meters\n",
    "R = 6371*1000"
   ]
  },
  {
   "cell_type": "markdown",
   "metadata": {},
   "source": [
    "__start polygon__"
   ]
  },
  {
   "cell_type": "code",
   "execution_count": null,
   "metadata": {
    "collapsed": false
   },
   "outputs": [],
   "source": [
    "lon = np.asarray(sta_cir.lon)\n",
    "lat = np.asarray(sta_cir.lat)\n",
    "radius = np.asarray(sta_cir.radius)"
   ]
  },
  {
   "cell_type": "code",
   "execution_count": null,
   "metadata": {
    "collapsed": false
   },
   "outputs": [],
   "source": [
    "theta = np.zeros(cen_num)\n",
    "x = np.zeros(cen_num)\n",
    "y = np.zeros(cen_num)\n",
    "r = np.zeros(cen_num)"
   ]
  },
  {
   "cell_type": "code",
   "execution_count": null,
   "metadata": {
    "collapsed": false
   },
   "outputs": [],
   "source": [
    "for i in range(cen_num):\n",
    "    theta[i] = lat[i]*(pi/180)\n",
    "    r[i] = R*cos(theta[i])\n",
    "    x[i] = (radius[i]/r[i])*(180/pi)\n",
    "    y[i] = (radius[i]/R)*(180/pi)"
   ]
  },
  {
   "cell_type": "code",
   "execution_count": null,
   "metadata": {
    "collapsed": false
   },
   "outputs": [],
   "source": [
    "lon_sta_pol = np.zeros(arc_num)\n",
    "lat_sta_pol = np.zeros(arc_num)\n",
    "x_sta_pol = np.zeros(arc_num)\n",
    "y_sta_pol = np.zeros(arc_num)"
   ]
  },
  {
   "cell_type": "code",
   "execution_count": null,
   "metadata": {
    "collapsed": false
   },
   "outputs": [],
   "source": [
    "c = 0\n",
    "i = 0\n",
    "j = 1\n",
    "\n",
    "while i < arc_num:\n",
    "    while j <= 33:\n",
    "        lon_sta_pol[i] = lon[c]\n",
    "        i = i+1\n",
    "        j = j+1\n",
    "    j = 1\n",
    "    c = c+1"
   ]
  },
  {
   "cell_type": "code",
   "execution_count": null,
   "metadata": {
    "collapsed": false
   },
   "outputs": [],
   "source": [
    "c = 0\n",
    "i = 0\n",
    "j = 1\n",
    "\n",
    "while i < arc_num:\n",
    "    while j <= 33:\n",
    "        lat_sta_pol[i] = lat[c]\n",
    "        i = i+1\n",
    "        j = j+1\n",
    "    j = 1\n",
    "    c = c+1"
   ]
  },
  {
   "cell_type": "code",
   "execution_count": null,
   "metadata": {
    "collapsed": true
   },
   "outputs": [],
   "source": [
    "c = 0\n",
    "i = 0\n",
    "j = 1\n",
    "\n",
    "while i < arc_num:\n",
    "    while j <= 33:\n",
    "        x_sta_pol[i] = x[c]*cos((j-1)*(pi/16))\n",
    "        i = i+1\n",
    "        j = j+1\n",
    "    j = 1\n",
    "    c = c+1"
   ]
  },
  {
   "cell_type": "code",
   "execution_count": null,
   "metadata": {
    "collapsed": false
   },
   "outputs": [],
   "source": [
    "c = 0\n",
    "i = 0\n",
    "j = 1\n",
    "\n",
    "while i < arc_num:\n",
    "    while j <= 33:\n",
    "        y_sta_pol[i] = y[c]*sin((j-1)*(pi/16))\n",
    "        i = i+1\n",
    "        j = j+1\n",
    "    j = 1\n",
    "    c = c+1"
   ]
  },
  {
   "cell_type": "code",
   "execution_count": null,
   "metadata": {
    "collapsed": true
   },
   "outputs": [],
   "source": [
    "sta_pol = np.zeros((arc_num, 2))"
   ]
  },
  {
   "cell_type": "code",
   "execution_count": null,
   "metadata": {
    "collapsed": false
   },
   "outputs": [],
   "source": [
    "for i in range(arc_num):\n",
    "    sta_pol[i][0] = lon_sta_pol[i]+x_sta_pol[i]\n",
    "    sta_pol[i][1] = lat_sta_pol[i]+y_sta_pol[i]"
   ]
  },
  {
   "cell_type": "code",
   "execution_count": null,
   "metadata": {
    "collapsed": false
   },
   "outputs": [],
   "source": [
    "# start polygon\n",
    "sta_pol = pd.DataFrame(sta_pol, index=multi_index)\n",
    "sta_pol.columns = ['lon', 'lat']"
   ]
  },
  {
   "cell_type": "code",
   "execution_count": null,
   "metadata": {
    "collapsed": false
   },
   "outputs": [],
   "source": [
    "sta_pol.head()"
   ]
  },
  {
   "cell_type": "markdown",
   "metadata": {},
   "source": [
    "__end polygon__"
   ]
  },
  {
   "cell_type": "code",
   "execution_count": null,
   "metadata": {
    "collapsed": true
   },
   "outputs": [],
   "source": [
    "lon = np.asarray(end_cir.lon)\n",
    "lat = np.asarray(end_cir.lat)\n",
    "radius = np.asarray(end_cir.radius)"
   ]
  },
  {
   "cell_type": "code",
   "execution_count": null,
   "metadata": {
    "collapsed": true
   },
   "outputs": [],
   "source": [
    "theta = np.zeros(cen_num)\n",
    "r = np.zeros(cen_num)\n",
    "x = np.zeros(cen_num)\n",
    "y = np.zeros(cen_num)"
   ]
  },
  {
   "cell_type": "code",
   "execution_count": null,
   "metadata": {
    "collapsed": false
   },
   "outputs": [],
   "source": [
    "for i in range(cen_num):\n",
    "    theta[i] = lat[i]*(pi/180)\n",
    "    r[i] = R*cos(theta[i])\n",
    "    x[i] = (radius[i]/r[i])*(180/pi)\n",
    "    y[i] = (radius[i]/R)*(180/pi)"
   ]
  },
  {
   "cell_type": "code",
   "execution_count": null,
   "metadata": {
    "collapsed": true
   },
   "outputs": [],
   "source": [
    "lon_end_pol = np.zeros(arc_num)\n",
    "lat_end_pol = np.zeros(arc_num)\n",
    "x_end_pol = np.zeros(arc_num)\n",
    "y_end_pol = np.zeros(arc_num)"
   ]
  },
  {
   "cell_type": "code",
   "execution_count": null,
   "metadata": {
    "collapsed": false
   },
   "outputs": [],
   "source": [
    "c = 0\n",
    "i = 0\n",
    "j = 1\n",
    "\n",
    "while i < arc_num:\n",
    "    while j <= 33:\n",
    "        lon_end_pol[i] = lon[c]\n",
    "        i = i+1\n",
    "        j = j+1\n",
    "    j = 1\n",
    "    c = c+1"
   ]
  },
  {
   "cell_type": "code",
   "execution_count": null,
   "metadata": {
    "collapsed": true
   },
   "outputs": [],
   "source": [
    "c = 0\n",
    "i = 0\n",
    "j = 1\n",
    "\n",
    "while i < arc_num:\n",
    "    while j <= 33:\n",
    "        lat_end_pol[i] = lat[c]\n",
    "        i = i+1\n",
    "        j = j+1\n",
    "    j = 1\n",
    "    c = c+1"
   ]
  },
  {
   "cell_type": "code",
   "execution_count": null,
   "metadata": {
    "collapsed": false
   },
   "outputs": [],
   "source": [
    "c = 0\n",
    "i = 0\n",
    "j = 1\n",
    "\n",
    "while i < arc_num:\n",
    "    while j <= 33:\n",
    "        x_end_pol[i] = x[c]*cos((j-1)*(pi/16))\n",
    "        i = i+1\n",
    "        j = j+1\n",
    "    j = 1\n",
    "    c = c+1"
   ]
  },
  {
   "cell_type": "code",
   "execution_count": null,
   "metadata": {
    "collapsed": true
   },
   "outputs": [],
   "source": [
    "c = 0\n",
    "i = 0\n",
    "j = 1\n",
    "\n",
    "while i < arc_num:\n",
    "    while j <= 33:\n",
    "        y_end_pol[i] = y[c]*sin((j-1)*(pi/16))\n",
    "        i = i+1\n",
    "        j = j+1\n",
    "    j = 1\n",
    "    c = c+1"
   ]
  },
  {
   "cell_type": "code",
   "execution_count": null,
   "metadata": {
    "collapsed": false
   },
   "outputs": [],
   "source": [
    "end_pol = np.zeros((arc_num, 2))"
   ]
  },
  {
   "cell_type": "code",
   "execution_count": null,
   "metadata": {
    "collapsed": false
   },
   "outputs": [],
   "source": [
    "for i in range(arc_num):\n",
    "    end_pol[i][0] = lon_end_pol[i]+x_end_pol[i]\n",
    "    end_pol[i][1] = lat_end_pol[i]+y_end_pol[i]"
   ]
  },
  {
   "cell_type": "code",
   "execution_count": null,
   "metadata": {
    "collapsed": false
   },
   "outputs": [],
   "source": [
    "# end polygon\n",
    "end_pol = pd.DataFrame(end_pol, index=multi_index)\n",
    "end_pol.columns = ['lon', 'lat']"
   ]
  },
  {
   "cell_type": "code",
   "execution_count": null,
   "metadata": {
    "collapsed": false
   },
   "outputs": [],
   "source": [
    "end_pol.head()"
   ]
  },
  {
   "cell_type": "markdown",
   "metadata": {},
   "source": [
    "### id ###"
   ]
  },
  {
   "cell_type": "code",
   "execution_count": null,
   "metadata": {
    "collapsed": false
   },
   "outputs": [],
   "source": [
    "_id = pd.DataFrame(index)\n",
    "_id = pd.concat([index, index], axis=1)\n",
    "_id.columns = ['track-id', 'id']\n",
    "_id = _id.set_index('track-id')"
   ]
  },
  {
   "cell_type": "code",
   "execution_count": null,
   "metadata": {
    "collapsed": false
   },
   "outputs": [],
   "source": [
    "_id.head()"
   ]
  },
  {
   "cell_type": "markdown",
   "metadata": {},
   "source": [
    "### date ###"
   ]
  },
  {
   "cell_type": "code",
   "execution_count": null,
   "metadata": {
    "collapsed": false
   },
   "outputs": [],
   "source": [
    "df.head()"
   ]
  },
  {
   "cell_type": "code",
   "execution_count": null,
   "metadata": {
    "collapsed": false
   },
   "outputs": [],
   "source": [
    "j1 = np.asarray(df.j1)"
   ]
  },
  {
   "cell_type": "code",
   "execution_count": null,
   "metadata": {
    "collapsed": true
   },
   "outputs": [],
   "source": [
    "j1_ori = np.zeros(tra_num)\n",
    "j1_ter = np.zeros(tra_num)"
   ]
  },
  {
   "cell_type": "code",
   "execution_count": null,
   "metadata": {
    "collapsed": false
   },
   "outputs": [],
   "source": [
    "c = 0\n",
    "i = 0\n",
    "\n",
    "while i < obs_num:\n",
    "    c = int(c) + 1\n",
    "    j1_ori[c-1] = j1[i]\n",
    "    i = i + int(point[c-1])\n",
    "    j1_ter[c-1] = j1[i-1]"
   ]
  },
  {
   "cell_type": "code",
   "execution_count": null,
   "metadata": {
    "collapsed": true
   },
   "outputs": [],
   "source": [
    "j1_ori = pd.DataFrame(j1_ori)\n",
    "j1_ter = pd.DataFrame(j1_ter)"
   ]
  },
  {
   "cell_type": "code",
   "execution_count": null,
   "metadata": {
    "collapsed": false
   },
   "outputs": [],
   "source": [
    "# start julian date\n",
    "sta_jul = pd.concat([index, j1_ori], axis=1)\n",
    "sta_jul.columns = ['track-id', 'j1']\n",
    "sta_jul = sta_jul.set_index('track-id')"
   ]
  },
  {
   "cell_type": "code",
   "execution_count": null,
   "metadata": {
    "collapsed": false
   },
   "outputs": [],
   "source": [
    "sta_jul.head()"
   ]
  },
  {
   "cell_type": "code",
   "execution_count": null,
   "metadata": {
    "collapsed": false
   },
   "outputs": [],
   "source": [
    "# end julian date\n",
    "end_jul = pd.concat([index, j1_ter], axis=1)\n",
    "end_jul.columns = ['track-id', 'j1']\n",
    "end_jul = end_jul.set_index('track-id')"
   ]
  },
  {
   "cell_type": "code",
   "execution_count": null,
   "metadata": {
    "collapsed": false
   },
   "outputs": [],
   "source": [
    "end_jul.head()"
   ]
  },
  {
   "cell_type": "code",
   "execution_count": null,
   "metadata": {
    "collapsed": true
   },
   "outputs": [],
   "source": [
    "# start date\n",
    "sta_dat = sta_jul.j1.apply(jday_to_datetime)\n",
    "sta_dat = pd.DataFrame(sta_dat)\n",
    "sta_dat = sta_dat.rename(columns = {'j1': 'date'})"
   ]
  },
  {
   "cell_type": "code",
   "execution_count": null,
   "metadata": {
    "collapsed": false
   },
   "outputs": [],
   "source": [
    "sta_dat.head()"
   ]
  },
  {
   "cell_type": "code",
   "execution_count": null,
   "metadata": {
    "collapsed": true
   },
   "outputs": [],
   "source": [
    "# end date\n",
    "end_dat = end_jul.j1.apply(jday_to_datetime)\n",
    "end_dat = pd.DataFrame(end_dat)\n",
    "end_dat = end_dat.rename(columns = {'j1': 'date'})"
   ]
  },
  {
   "cell_type": "code",
   "execution_count": null,
   "metadata": {
    "collapsed": false
   },
   "outputs": [],
   "source": [
    "end_dat.head()"
   ]
  },
  {
   "cell_type": "markdown",
   "metadata": {},
   "source": [
    "### duration ###"
   ]
  },
  {
   "cell_type": "code",
   "execution_count": null,
   "metadata": {
    "collapsed": false
   },
   "outputs": [],
   "source": [
    "# duration in days\n",
    "dur_day = end_dat - sta_dat\n",
    "dur_day = dur_day.rename(columns = {'date': 'duration'})"
   ]
  },
  {
   "cell_type": "code",
   "execution_count": null,
   "metadata": {
    "collapsed": false
   },
   "outputs": [],
   "source": [
    "dur_day.head()"
   ]
  },
  {
   "cell_type": "code",
   "execution_count": null,
   "metadata": {
    "collapsed": true
   },
   "outputs": [],
   "source": [
    "# duration in integers\n",
    "dur_int = np.zeros(tra_num)"
   ]
  },
  {
   "cell_type": "code",
   "execution_count": null,
   "metadata": {
    "collapsed": false
   },
   "outputs": [],
   "source": [
    "for i in range(tra_num):\n",
    "    dur_int[i] = np.timedelta64(dur_day.duration[i+1], 'D')/np.timedelta64(1, 'D')"
   ]
  },
  {
   "cell_type": "code",
   "execution_count": null,
   "metadata": {
    "collapsed": true
   },
   "outputs": [],
   "source": [
    "dur_int = pd.DataFrame(dur_int)"
   ]
  },
  {
   "cell_type": "code",
   "execution_count": null,
   "metadata": {
    "collapsed": false
   },
   "outputs": [],
   "source": [
    "dur_int = pd.concat([index, dur_int], axis=1)\n",
    "dur_int.columns = ['track-id', 'duration-in-days']\n",
    "dur_int = dur_int.set_index('track-id')\n",
    "dur_int['duration-in-days'] = dur_int['duration-in-days'].astype(int)"
   ]
  },
  {
   "cell_type": "code",
   "execution_count": null,
   "metadata": {
    "collapsed": false
   },
   "outputs": [],
   "source": [
    "dur_int.head()"
   ]
  },
  {
   "cell_type": "markdown",
   "metadata": {},
   "source": [
    "### area ###"
   ]
  },
  {
   "cell_type": "code",
   "execution_count": null,
   "metadata": {
    "collapsed": false
   },
   "outputs": [],
   "source": [
    "df.head()"
   ]
  },
  {
   "cell_type": "code",
   "execution_count": null,
   "metadata": {
    "collapsed": true
   },
   "outputs": [],
   "source": [
    "L = np.asarray(ds.L)\n",
    "radius = L*1000"
   ]
  },
  {
   "cell_type": "code",
   "execution_count": null,
   "metadata": {
    "collapsed": false
   },
   "outputs": [],
   "source": [
    "# circle area calculation\n",
    "area = pi*(radius**2)"
   ]
  },
  {
   "cell_type": "code",
   "execution_count": null,
   "metadata": {
    "collapsed": false
   },
   "outputs": [],
   "source": [
    "sta_area = np.zeros(tra_num)"
   ]
  },
  {
   "cell_type": "code",
   "execution_count": null,
   "metadata": {
    "collapsed": false
   },
   "outputs": [],
   "source": [
    "i = 0\n",
    "c = 0\n",
    "\n",
    "while i < obs_num:\n",
    "    c = int(c) + 1\n",
    "    sta_area[c-1] = area[i]\n",
    "    i = i + int(point[c-1])"
   ]
  },
  {
   "cell_type": "code",
   "execution_count": null,
   "metadata": {
    "collapsed": false
   },
   "outputs": [],
   "source": [
    "sta_area = pd.DataFrame(sta_area)"
   ]
  },
  {
   "cell_type": "code",
   "execution_count": null,
   "metadata": {
    "collapsed": true
   },
   "outputs": [],
   "source": [
    "# area in square meters\n",
    "sta_area = pd.concat([index, sta_area], axis=1)\n",
    "sta_area.columns = ['track-id', 'start-area']\n",
    "sta_area = sta_area.set_index('track-id')"
   ]
  },
  {
   "cell_type": "code",
   "execution_count": null,
   "metadata": {
    "collapsed": false
   },
   "outputs": [],
   "source": [
    "sta_area.head()"
   ]
  },
  {
   "cell_type": "markdown",
   "metadata": {},
   "source": [
    "### vorticity ###"
   ]
  },
  {
   "cell_type": "code",
   "execution_count": null,
   "metadata": {
    "collapsed": false
   },
   "outputs": [],
   "source": [
    "# relative vorticity\n",
    "zeta = np.asarray((df.U*0.01)/(df.L*1000))"
   ]
  },
  {
   "cell_type": "code",
   "execution_count": null,
   "metadata": {
    "collapsed": false
   },
   "outputs": [],
   "source": [
    "# multi-index construction\n",
    "arrays = [track, n]\n",
    "tuples = list(zip(*arrays))\n",
    "multi_index = pd.MultiIndex.from_tuples(tuples, names=['track-id', 'point-id'])"
   ]
  },
  {
   "cell_type": "code",
   "execution_count": null,
   "metadata": {
    "collapsed": true
   },
   "outputs": [],
   "source": [
    "zeta = pd.DataFrame(zeta, index=multi_index)\n",
    "zeta.columns = ['relative-vorticity']"
   ]
  },
  {
   "cell_type": "code",
   "execution_count": null,
   "metadata": {
    "collapsed": false
   },
   "outputs": [],
   "source": [
    "zeta.head()"
   ]
  },
  {
   "cell_type": "code",
   "execution_count": null,
   "metadata": {
    "collapsed": true
   },
   "outputs": [],
   "source": [
    "lav = np.zeros(tra_num)"
   ]
  },
  {
   "cell_type": "code",
   "execution_count": null,
   "metadata": {
    "collapsed": false
   },
   "outputs": [],
   "source": [
    "for i in tqdm(range(tra_num)):\n",
    "    lav[i] = zeta.loc[i+1].mean()"
   ]
  },
  {
   "cell_type": "code",
   "execution_count": null,
   "metadata": {
    "collapsed": false
   },
   "outputs": [],
   "source": [
    "lav = pd.DataFrame(lav)"
   ]
  },
  {
   "cell_type": "code",
   "execution_count": null,
   "metadata": {
    "collapsed": false
   },
   "outputs": [],
   "source": [
    "lav = pd.concat([index, lav], axis=1)\n",
    "lav.columns = ['track-id', 'relative-vorticity']\n",
    "lav = lav.set_index('track-id')"
   ]
  },
  {
   "cell_type": "code",
   "execution_count": null,
   "metadata": {
    "collapsed": false
   },
   "outputs": [],
   "source": [
    "lav.head()"
   ]
  },
  {
   "cell_type": "markdown",
   "metadata": {},
   "source": [
    "### GeoJSON ###"
   ]
  },
  {
   "cell_type": "code",
   "execution_count": null,
   "metadata": {
    "collapsed": false
   },
   "outputs": [],
   "source": [
    "from geojson import LineString, Point, Polygon\n",
    "from pymongo import MongoClient"
   ]
  },
  {
   "cell_type": "code",
   "execution_count": null,
   "metadata": {
    "collapsed": false
   },
   "outputs": [],
   "source": [
    "# collection\n",
    "ssh_eddies_2016 = MongoClient().eddies.ssh_eddies_2016"
   ]
  },
  {
   "cell_type": "code",
   "execution_count": null,
   "metadata": {
    "collapsed": false
   },
   "outputs": [],
   "source": [
    "# remove documents from the collection\n",
    "ssh_eddies_2016.remove()"
   ]
  },
  {
   "cell_type": "code",
   "execution_count": null,
   "metadata": {
    "collapsed": false
   },
   "outputs": [],
   "source": [
    "# insert documents into the collection\n",
    "for i in tqdm(range(1, tra_num+1)):\n",
    "\n",
    "    # geojson\n",
    "    eddy = {\n",
    "        '_id': int(_id.loc[i]),\n",
    "        'date_start': sta_dat.loc[i]['date'],\n",
    "        'date_end': end_dat.loc[i]['date'],\n",
    "        'duration': dur_int.loc[i]['duration-in-days'],\n",
    "        'loc_start': [sta_cen.loc[i]['lon'], sta_cen.loc[i]['lat']],\n",
    "        'loc_end': [end_cen.loc[i]['lon'], end_cen.loc[i]['lat']],\n",
    "        'area': sta_area.loc[i]['start-area'],\n",
    "        'lav': lav.loc[i]['relative-vorticity'],\n",
    "        'type': 'FeatureSet',\n",
    "        'features': [\n",
    "            {\n",
    "                'type': 'Feature',\n",
    "                'properties': {'name': 'start_center'},\n",
    "                'geometry': Point(tuple(sta_cen.loc[i][['lon', 'lat']].values))\n",
    "            },\n",
    "            {\n",
    "                'type': 'Feature',\n",
    "                'properties': {'name': 'end_center'},\n",
    "                'geometry': Point(tuple(end_cen.loc[i][['lon', 'lat']].values))\n",
    "            },\n",
    "            {\n",
    "                'type': 'Feature',\n",
    "                'properties': {'name': 'trajectory'},\n",
    "                'geometry': LineString([tuple(x) for x in lin_str.loc[i][['lon', 'lat']].values])\n",
    "            },\n",
    "            {\n",
    "                'type': 'Feature',\n",
    "                'properties': {'name': 'start_polygon'},\n",
    "                'geometry': Polygon([[tuple(x) for x in sta_pol.loc[i][['lon', 'lat']].values]])\n",
    "            },\n",
    "            {\n",
    "                'type': 'Feature',\n",
    "                'properties': {'name': 'end_polygon'},\n",
    "                'geometry': Polygon([[tuple(x) for x in end_pol.loc[i][['lon', 'lat']].values]])\n",
    "            }\n",
    "        ]    \n",
    "    }\n",
    "    \n",
    "    # mongodb\n",
    "    ssh_eddies_2016.insert_one(dict(eddy))"
   ]
  }
 ],
 "metadata": {
  "anaconda-cloud": {},
  "kernelspec": {
   "display_name": "Python 2.7",
   "language": "python",
   "name": "python2"
  },
  "language_info": {
   "codemirror_mode": {
    "name": "ipython",
    "version": 2
   },
   "file_extension": ".py",
   "mimetype": "text/x-python",
   "name": "python",
   "nbconvert_exporter": "python",
   "pygments_lexer": "ipython2",
   "version": "2.7.11"
  }
 },
 "nbformat": 4,
 "nbformat_minor": 0
}
