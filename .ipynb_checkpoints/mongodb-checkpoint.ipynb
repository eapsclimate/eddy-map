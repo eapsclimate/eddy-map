{
 "cells": [
  {
   "cell_type": "markdown",
   "metadata": {},
   "source": [
    "### Data ###"
   ]
  },
  {
   "cell_type": "code",
   "execution_count": 1,
   "metadata": {
    "collapsed": false
   },
   "outputs": [],
   "source": [
    "import xray"
   ]
  },
  {
   "cell_type": "code",
   "execution_count": 2,
   "metadata": {
    "collapsed": false
   },
   "outputs": [],
   "source": [
    "data = xray.open_dataset('tracks.20130125.nc', decode_cf=False)"
   ]
  },
  {
   "cell_type": "code",
   "execution_count": 3,
   "metadata": {
    "collapsed": false
   },
   "outputs": [
    {
     "name": "stdout",
     "output_type": "stream",
     "text": [
      "<xarray.Dataset>\n",
      "Dimensions:  (Nobs: 2590938)\n",
      "Coordinates:\n",
      "  * Nobs     (Nobs) int64 0 1 2 3 4 5 6 7 8 9 10 11 12 13 14 15 16 17 18 19 ...\n",
      "Data variables:\n",
      "    A        (Nobs) float32 1.24564 2.64604 3.40119 1.45836 2.16156 4.87579 ...\n",
      "    track    (Nobs) int32 1 1 1 1 2 2 2 2 3 3 3 3 4 4 4 4 5 5 5 5 6 6 6 6 7 ...\n",
      "    lon      (Nobs) float32 636.74 635.99 635.82 635.845 560.642 561.447 ...\n",
      "    j1       (Nobs) int32 2448910 2448917 2448924 2448931 2448910 2448917 ...\n",
      "    n        (Nobs) int32 1 2 3 4 1 2 3 4 1 2 3 4 1 2 3 4 1 2 3 4 1 2 3 4 1 ...\n",
      "    cyc      (Nobs) int32 -1 -1 -1 -1 -1 -1 -1 -1 -1 -1 -1 -1 -1 -1 -1 -1 -1 ...\n",
      "    U        (Nobs) float32 5.97993 8.17373 8.28628 5.20364 4.81408 6.59872 ...\n",
      "    lat      (Nobs) float32 -65.0011 -65.1376 -65.2457 -65.2933 -62.5424 ...\n",
      "    L        (Nobs) float32 44.464 36.7024 45.4221 43.022 63.0697 51.1345 ...\n",
      "Attributes:\n",
      "    data_start_date: Oct 14, 1992\n",
      "    data_end_date: Apr  4, 2012\n",
      "    title: Mesoscale Eddies in Altimeter Observations of SSH\n",
      "    data_process_date: 20130125\n",
      "    file_name: tracks.20130125.nc\n",
      "    inquiries_to: Eric Beals (beals@coas.oregonstate.edu)\n",
      "    authors: Dudley Chelton and Michael Schlax\n",
      "    file_creation_time: 2013May06 15:53:30\n",
      "    institution: Oregon State University/CEOAS\n"
     ]
    }
   ],
   "source": [
    "# Dataset Information\n",
    "print data"
   ]
  },
  {
   "cell_type": "markdown",
   "metadata": {},
   "source": [
    "### Multi-Index ###"
   ]
  },
  {
   "cell_type": "code",
   "execution_count": 4,
   "metadata": {
    "collapsed": false
   },
   "outputs": [],
   "source": [
    "import numpy as np\n",
    "import pandas as pd"
   ]
  },
  {
   "cell_type": "code",
   "execution_count": 5,
   "metadata": {
    "collapsed": true
   },
   "outputs": [],
   "source": [
    "ds = data.to_dataframe()"
   ]
  },
  {
   "cell_type": "code",
   "execution_count": 6,
   "metadata": {
    "collapsed": false,
    "scrolled": true
   },
   "outputs": [
    {
     "data": {
      "text/html": [
       "<div>\n",
       "<table border=\"1\" class=\"dataframe\">\n",
       "  <thead>\n",
       "    <tr style=\"text-align: right;\">\n",
       "      <th></th>\n",
       "      <th>A</th>\n",
       "      <th>track</th>\n",
       "      <th>lon</th>\n",
       "      <th>j1</th>\n",
       "      <th>n</th>\n",
       "      <th>cyc</th>\n",
       "      <th>U</th>\n",
       "      <th>lat</th>\n",
       "      <th>L</th>\n",
       "    </tr>\n",
       "    <tr>\n",
       "      <th>Nobs</th>\n",
       "      <th></th>\n",
       "      <th></th>\n",
       "      <th></th>\n",
       "      <th></th>\n",
       "      <th></th>\n",
       "      <th></th>\n",
       "      <th></th>\n",
       "      <th></th>\n",
       "      <th></th>\n",
       "    </tr>\n",
       "  </thead>\n",
       "  <tbody>\n",
       "    <tr>\n",
       "      <th>2590934</th>\n",
       "      <td>3.06445</td>\n",
       "      <td>215184</td>\n",
       "      <td>336.242004</td>\n",
       "      <td>2456001</td>\n",
       "      <td>1</td>\n",
       "      <td>1</td>\n",
       "      <td>7.21748</td>\n",
       "      <td>62.275398</td>\n",
       "      <td>54.620499</td>\n",
       "    </tr>\n",
       "    <tr>\n",
       "      <th>2590935</th>\n",
       "      <td>2.03734</td>\n",
       "      <td>215184</td>\n",
       "      <td>336.033997</td>\n",
       "      <td>2456008</td>\n",
       "      <td>2</td>\n",
       "      <td>1</td>\n",
       "      <td>5.87109</td>\n",
       "      <td>62.011700</td>\n",
       "      <td>53.794102</td>\n",
       "    </tr>\n",
       "    <tr>\n",
       "      <th>2590936</th>\n",
       "      <td>1.75523</td>\n",
       "      <td>215184</td>\n",
       "      <td>335.938995</td>\n",
       "      <td>2456015</td>\n",
       "      <td>3</td>\n",
       "      <td>1</td>\n",
       "      <td>6.72342</td>\n",
       "      <td>62.359200</td>\n",
       "      <td>30.240000</td>\n",
       "    </tr>\n",
       "    <tr>\n",
       "      <th>2590937</th>\n",
       "      <td>1.23239</td>\n",
       "      <td>215184</td>\n",
       "      <td>335.752991</td>\n",
       "      <td>2456022</td>\n",
       "      <td>4</td>\n",
       "      <td>1</td>\n",
       "      <td>6.36023</td>\n",
       "      <td>62.145901</td>\n",
       "      <td>37.190102</td>\n",
       "    </tr>\n",
       "  </tbody>\n",
       "</table>\n",
       "</div>"
      ],
      "text/plain": [
       "               A   track         lon       j1  n  cyc        U        lat  \\\n",
       "Nobs                                                                        \n",
       "2590934  3.06445  215184  336.242004  2456001  1    1  7.21748  62.275398   \n",
       "2590935  2.03734  215184  336.033997  2456008  2    1  5.87109  62.011700   \n",
       "2590936  1.75523  215184  335.938995  2456015  3    1  6.72342  62.359200   \n",
       "2590937  1.23239  215184  335.752991  2456022  4    1  6.36023  62.145901   \n",
       "\n",
       "                 L  \n",
       "Nobs                \n",
       "2590934  54.620499  \n",
       "2590935  53.794102  \n",
       "2590936  30.240000  \n",
       "2590937  37.190102  "
      ]
     },
     "execution_count": 6,
     "metadata": {},
     "output_type": "execute_result"
    }
   ],
   "source": [
    "ds.tail(4)"
   ]
  },
  {
   "cell_type": "code",
   "execution_count": 7,
   "metadata": {
    "collapsed": false
   },
   "outputs": [],
   "source": [
    "# Dimension Setting\n",
    "# All\n",
    "# M = max(ds.track)\n",
    "# N = len(ds.n)"
   ]
  },
  {
   "cell_type": "code",
   "execution_count": 8,
   "metadata": {
    "collapsed": true
   },
   "outputs": [],
   "source": [
    "# Dimension Setting\n",
    "# Test\n",
    "M = 3000\n",
    "N = 41320"
   ]
  },
  {
   "cell_type": "code",
   "execution_count": 9,
   "metadata": {
    "collapsed": false
   },
   "outputs": [],
   "source": [
    "ds = ds.head(N)"
   ]
  },
  {
   "cell_type": "code",
   "execution_count": 10,
   "metadata": {
    "collapsed": false
   },
   "outputs": [
    {
     "data": {
      "text/html": [
       "<div>\n",
       "<table border=\"1\" class=\"dataframe\">\n",
       "  <thead>\n",
       "    <tr style=\"text-align: right;\">\n",
       "      <th></th>\n",
       "      <th>A</th>\n",
       "      <th>track</th>\n",
       "      <th>lon</th>\n",
       "      <th>j1</th>\n",
       "      <th>n</th>\n",
       "      <th>cyc</th>\n",
       "      <th>U</th>\n",
       "      <th>lat</th>\n",
       "      <th>L</th>\n",
       "    </tr>\n",
       "    <tr>\n",
       "      <th>Nobs</th>\n",
       "      <th></th>\n",
       "      <th></th>\n",
       "      <th></th>\n",
       "      <th></th>\n",
       "      <th></th>\n",
       "      <th></th>\n",
       "      <th></th>\n",
       "      <th></th>\n",
       "      <th></th>\n",
       "    </tr>\n",
       "  </thead>\n",
       "  <tbody>\n",
       "    <tr>\n",
       "      <th>41316</th>\n",
       "      <td>4.50767</td>\n",
       "      <td>3000</td>\n",
       "      <td>585.187988</td>\n",
       "      <td>2449043</td>\n",
       "      <td>1</td>\n",
       "      <td>-1</td>\n",
       "      <td>43.786400</td>\n",
       "      <td>-1.012250</td>\n",
       "      <td>129.462006</td>\n",
       "    </tr>\n",
       "    <tr>\n",
       "      <th>41317</th>\n",
       "      <td>5.60816</td>\n",
       "      <td>3000</td>\n",
       "      <td>577.690979</td>\n",
       "      <td>2449050</td>\n",
       "      <td>2</td>\n",
       "      <td>-1</td>\n",
       "      <td>91.454697</td>\n",
       "      <td>-0.200525</td>\n",
       "      <td>107.625999</td>\n",
       "    </tr>\n",
       "    <tr>\n",
       "      <th>41318</th>\n",
       "      <td>3.18113</td>\n",
       "      <td>3000</td>\n",
       "      <td>577.781982</td>\n",
       "      <td>2449057</td>\n",
       "      <td>3</td>\n",
       "      <td>-1</td>\n",
       "      <td>42.783001</td>\n",
       "      <td>-0.156585</td>\n",
       "      <td>190.341003</td>\n",
       "    </tr>\n",
       "    <tr>\n",
       "      <th>41319</th>\n",
       "      <td>2.38252</td>\n",
       "      <td>3000</td>\n",
       "      <td>574.455994</td>\n",
       "      <td>2449064</td>\n",
       "      <td>4</td>\n",
       "      <td>-1</td>\n",
       "      <td>23.117800</td>\n",
       "      <td>-0.401030</td>\n",
       "      <td>156.994995</td>\n",
       "    </tr>\n",
       "  </tbody>\n",
       "</table>\n",
       "</div>"
      ],
      "text/plain": [
       "             A  track         lon       j1  n  cyc          U       lat  \\\n",
       "Nobs                                                                      \n",
       "41316  4.50767   3000  585.187988  2449043  1   -1  43.786400 -1.012250   \n",
       "41317  5.60816   3000  577.690979  2449050  2   -1  91.454697 -0.200525   \n",
       "41318  3.18113   3000  577.781982  2449057  3   -1  42.783001 -0.156585   \n",
       "41319  2.38252   3000  574.455994  2449064  4   -1  23.117800 -0.401030   \n",
       "\n",
       "                L  \n",
       "Nobs               \n",
       "41316  129.462006  \n",
       "41317  107.625999  \n",
       "41318  190.341003  \n",
       "41319  156.994995  "
      ]
     },
     "execution_count": 10,
     "metadata": {},
     "output_type": "execute_result"
    }
   ],
   "source": [
    "ds.tail(4)"
   ]
  },
  {
   "cell_type": "code",
   "execution_count": 11,
   "metadata": {
    "collapsed": true
   },
   "outputs": [],
   "source": [
    "track = np.asarray(ds.track)\n",
    "n = np.asarray(ds.n)"
   ]
  },
  {
   "cell_type": "code",
   "execution_count": 12,
   "metadata": {
    "collapsed": true
   },
   "outputs": [],
   "source": [
    "# Multi-Index Construction\n",
    "arrays = [track, n]\n",
    "tuples = list(zip(*arrays))\n",
    "multi_index = pd.MultiIndex.from_tuples(tuples, names=['Eddy ID', 'Point ID'])"
   ]
  },
  {
   "cell_type": "code",
   "execution_count": 13,
   "metadata": {
    "collapsed": true
   },
   "outputs": [],
   "source": [
    "j1 = np.asarray(ds.j1)\n",
    "cyc = np.asarray(ds.cyc)\n",
    "lon = np.asarray(ds.lon)\n",
    "lat = np.asarray(ds.lat)\n",
    "A = np.asarray(ds.A)\n",
    "L = np.asarray(ds.L)\n",
    "U = np.asarray(ds.U)"
   ]
  },
  {
   "cell_type": "code",
   "execution_count": 14,
   "metadata": {
    "collapsed": true
   },
   "outputs": [],
   "source": [
    "var = np.zeros((N, 7))"
   ]
  },
  {
   "cell_type": "code",
   "execution_count": 15,
   "metadata": {
    "collapsed": true
   },
   "outputs": [],
   "source": [
    "for i in range(N):\n",
    "    var[i][0] = j1[i]\n",
    "    var[i][1] = cyc[i]\n",
    "    var[i][2] = lon[i]\n",
    "    var[i][3] = lat[i]\n",
    "    var[i][4] = A[i]\n",
    "    var[i][5] = L[i]\n",
    "    var[i][6] = U[i]"
   ]
  },
  {
   "cell_type": "code",
   "execution_count": 16,
   "metadata": {
    "collapsed": true
   },
   "outputs": [],
   "source": [
    "df = pd.DataFrame(var, index=multi_index)\n",
    "df.columns = ['j1', 'cyc', 'lon', 'lat', 'A', 'L', 'U']"
   ]
  },
  {
   "cell_type": "code",
   "execution_count": 17,
   "metadata": {
    "collapsed": false
   },
   "outputs": [
    {
     "data": {
      "text/html": [
       "<div>\n",
       "<table border=\"1\" class=\"dataframe\">\n",
       "  <thead>\n",
       "    <tr style=\"text-align: right;\">\n",
       "      <th></th>\n",
       "      <th></th>\n",
       "      <th>j1</th>\n",
       "      <th>cyc</th>\n",
       "      <th>lon</th>\n",
       "      <th>lat</th>\n",
       "      <th>A</th>\n",
       "      <th>L</th>\n",
       "      <th>U</th>\n",
       "    </tr>\n",
       "    <tr>\n",
       "      <th>Eddy ID</th>\n",
       "      <th>Point ID</th>\n",
       "      <th></th>\n",
       "      <th></th>\n",
       "      <th></th>\n",
       "      <th></th>\n",
       "      <th></th>\n",
       "      <th></th>\n",
       "      <th></th>\n",
       "    </tr>\n",
       "  </thead>\n",
       "  <tbody>\n",
       "    <tr>\n",
       "      <th rowspan=\"4\" valign=\"top\">3000</th>\n",
       "      <th>1</th>\n",
       "      <td>2449043.0</td>\n",
       "      <td>-1.0</td>\n",
       "      <td>585.187988</td>\n",
       "      <td>-1.012250</td>\n",
       "      <td>4.50767</td>\n",
       "      <td>129.462006</td>\n",
       "      <td>43.786400</td>\n",
       "    </tr>\n",
       "    <tr>\n",
       "      <th>2</th>\n",
       "      <td>2449050.0</td>\n",
       "      <td>-1.0</td>\n",
       "      <td>577.690979</td>\n",
       "      <td>-0.200525</td>\n",
       "      <td>5.60816</td>\n",
       "      <td>107.625999</td>\n",
       "      <td>91.454697</td>\n",
       "    </tr>\n",
       "    <tr>\n",
       "      <th>3</th>\n",
       "      <td>2449057.0</td>\n",
       "      <td>-1.0</td>\n",
       "      <td>577.781982</td>\n",
       "      <td>-0.156585</td>\n",
       "      <td>3.18113</td>\n",
       "      <td>190.341003</td>\n",
       "      <td>42.783001</td>\n",
       "    </tr>\n",
       "    <tr>\n",
       "      <th>4</th>\n",
       "      <td>2449064.0</td>\n",
       "      <td>-1.0</td>\n",
       "      <td>574.455994</td>\n",
       "      <td>-0.401030</td>\n",
       "      <td>2.38252</td>\n",
       "      <td>156.994995</td>\n",
       "      <td>23.117800</td>\n",
       "    </tr>\n",
       "  </tbody>\n",
       "</table>\n",
       "</div>"
      ],
      "text/plain": [
       "                         j1  cyc         lon       lat        A           L  \\\n",
       "Eddy ID Point ID                                                              \n",
       "3000    1         2449043.0 -1.0  585.187988 -1.012250  4.50767  129.462006   \n",
       "        2         2449050.0 -1.0  577.690979 -0.200525  5.60816  107.625999   \n",
       "        3         2449057.0 -1.0  577.781982 -0.156585  3.18113  190.341003   \n",
       "        4         2449064.0 -1.0  574.455994 -0.401030  2.38252  156.994995   \n",
       "\n",
       "                          U  \n",
       "Eddy ID Point ID             \n",
       "3000    1         43.786400  \n",
       "        2         91.454697  \n",
       "        3         42.783001  \n",
       "        4         23.117800  "
      ]
     },
     "execution_count": 17,
     "metadata": {},
     "output_type": "execute_result"
    }
   ],
   "source": [
    "df.tail(4)"
   ]
  },
  {
   "cell_type": "markdown",
   "metadata": {},
   "source": [
    "### Time ###"
   ]
  },
  {
   "cell_type": "code",
   "execution_count": 18,
   "metadata": {
    "collapsed": true
   },
   "outputs": [],
   "source": [
    "import datetime, jdcal"
   ]
  },
  {
   "cell_type": "code",
   "execution_count": 19,
   "metadata": {
    "collapsed": true
   },
   "outputs": [],
   "source": [
    "def jday_to_datetime(jday, refday=0):\n",
    "    y, m, d, f = jdcal.jd2gcal(jday, refday)\n",
    "    h = int(f*24)\n",
    "    return pd.to_datetime(datetime.datetime(y, m, d, h))"
   ]
  },
  {
   "cell_type": "code",
   "execution_count": 20,
   "metadata": {
    "collapsed": false
   },
   "outputs": [],
   "source": [
    "pd_date = df.j1.apply(jday_to_datetime)"
   ]
  },
  {
   "cell_type": "code",
   "execution_count": 21,
   "metadata": {
    "collapsed": true
   },
   "outputs": [],
   "source": [
    "df.j1 = pd_date\n",
    "df = df.rename(columns = {'j1': 'date'})"
   ]
  },
  {
   "cell_type": "code",
   "execution_count": 22,
   "metadata": {
    "collapsed": false
   },
   "outputs": [
    {
     "data": {
      "text/html": [
       "<div>\n",
       "<table border=\"1\" class=\"dataframe\">\n",
       "  <thead>\n",
       "    <tr style=\"text-align: right;\">\n",
       "      <th></th>\n",
       "      <th></th>\n",
       "      <th>date</th>\n",
       "      <th>cyc</th>\n",
       "      <th>lon</th>\n",
       "      <th>lat</th>\n",
       "      <th>A</th>\n",
       "      <th>L</th>\n",
       "      <th>U</th>\n",
       "    </tr>\n",
       "    <tr>\n",
       "      <th>Eddy ID</th>\n",
       "      <th>Point ID</th>\n",
       "      <th></th>\n",
       "      <th></th>\n",
       "      <th></th>\n",
       "      <th></th>\n",
       "      <th></th>\n",
       "      <th></th>\n",
       "      <th></th>\n",
       "    </tr>\n",
       "  </thead>\n",
       "  <tbody>\n",
       "    <tr>\n",
       "      <th rowspan=\"4\" valign=\"top\">3000</th>\n",
       "      <th>1</th>\n",
       "      <td>1993-02-24 12:00:00</td>\n",
       "      <td>-1.0</td>\n",
       "      <td>585.187988</td>\n",
       "      <td>-1.012250</td>\n",
       "      <td>4.50767</td>\n",
       "      <td>129.462006</td>\n",
       "      <td>43.786400</td>\n",
       "    </tr>\n",
       "    <tr>\n",
       "      <th>2</th>\n",
       "      <td>1993-03-03 12:00:00</td>\n",
       "      <td>-1.0</td>\n",
       "      <td>577.690979</td>\n",
       "      <td>-0.200525</td>\n",
       "      <td>5.60816</td>\n",
       "      <td>107.625999</td>\n",
       "      <td>91.454697</td>\n",
       "    </tr>\n",
       "    <tr>\n",
       "      <th>3</th>\n",
       "      <td>1993-03-10 12:00:00</td>\n",
       "      <td>-1.0</td>\n",
       "      <td>577.781982</td>\n",
       "      <td>-0.156585</td>\n",
       "      <td>3.18113</td>\n",
       "      <td>190.341003</td>\n",
       "      <td>42.783001</td>\n",
       "    </tr>\n",
       "    <tr>\n",
       "      <th>4</th>\n",
       "      <td>1993-03-17 12:00:00</td>\n",
       "      <td>-1.0</td>\n",
       "      <td>574.455994</td>\n",
       "      <td>-0.401030</td>\n",
       "      <td>2.38252</td>\n",
       "      <td>156.994995</td>\n",
       "      <td>23.117800</td>\n",
       "    </tr>\n",
       "  </tbody>\n",
       "</table>\n",
       "</div>"
      ],
      "text/plain": [
       "                                date  cyc         lon       lat        A  \\\n",
       "Eddy ID Point ID                                                           \n",
       "3000    1        1993-02-24 12:00:00 -1.0  585.187988 -1.012250  4.50767   \n",
       "        2        1993-03-03 12:00:00 -1.0  577.690979 -0.200525  5.60816   \n",
       "        3        1993-03-10 12:00:00 -1.0  577.781982 -0.156585  3.18113   \n",
       "        4        1993-03-17 12:00:00 -1.0  574.455994 -0.401030  2.38252   \n",
       "\n",
       "                           L          U  \n",
       "Eddy ID Point ID                         \n",
       "3000    1         129.462006  43.786400  \n",
       "        2         107.625999  91.454697  \n",
       "        3         190.341003  42.783001  \n",
       "        4         156.994995  23.117800  "
      ]
     },
     "execution_count": 22,
     "metadata": {},
     "output_type": "execute_result"
    }
   ],
   "source": [
    "df.tail(4)"
   ]
  },
  {
   "cell_type": "markdown",
   "metadata": {},
   "source": [
    "### Longitude ###"
   ]
  },
  {
   "cell_type": "code",
   "execution_count": 23,
   "metadata": {
    "collapsed": false
   },
   "outputs": [],
   "source": [
    "# Longitude Range Setting\n",
    "# From -180 to 180\n",
    "lon_fix_01 = df.where(df.lon <= 540).lon - 360\n",
    "lon_fix_02 = df.where(df.lon > 540).lon - 720\n",
    "lon_fix_A = lon_fix_01\n",
    "lon_fix_A = lon_fix_A.fillna(lon_fix_02)\n",
    "df.lon = lon_fix_A"
   ]
  },
  {
   "cell_type": "code",
   "execution_count": 24,
   "metadata": {
    "collapsed": true
   },
   "outputs": [],
   "source": [
    "# Longitude Range Setting\n",
    "# From 0 to 360\n",
    "lon_fix_03 = df.where(df.lon < 0).lon + 360\n",
    "lon_fix_04 = df.where(df.lon >= 0).lon\n",
    "lon_fix_B = lon_fix_03\n",
    "lon_fix_B = lon_fix_B.fillna(lon_fix_04)\n",
    "df.lon = lon_fix_B"
   ]
  },
  {
   "cell_type": "code",
   "execution_count": 25,
   "metadata": {
    "collapsed": false
   },
   "outputs": [
    {
     "data": {
      "text/html": [
       "<div>\n",
       "<table border=\"1\" class=\"dataframe\">\n",
       "  <thead>\n",
       "    <tr style=\"text-align: right;\">\n",
       "      <th></th>\n",
       "      <th></th>\n",
       "      <th>date</th>\n",
       "      <th>cyc</th>\n",
       "      <th>lon</th>\n",
       "      <th>lat</th>\n",
       "      <th>A</th>\n",
       "      <th>L</th>\n",
       "      <th>U</th>\n",
       "    </tr>\n",
       "    <tr>\n",
       "      <th>Eddy ID</th>\n",
       "      <th>Point ID</th>\n",
       "      <th></th>\n",
       "      <th></th>\n",
       "      <th></th>\n",
       "      <th></th>\n",
       "      <th></th>\n",
       "      <th></th>\n",
       "      <th></th>\n",
       "    </tr>\n",
       "  </thead>\n",
       "  <tbody>\n",
       "    <tr>\n",
       "      <th rowspan=\"4\" valign=\"top\">3000</th>\n",
       "      <th>1</th>\n",
       "      <td>1993-02-24 12:00:00</td>\n",
       "      <td>-1.0</td>\n",
       "      <td>225.187988</td>\n",
       "      <td>-1.012250</td>\n",
       "      <td>4.50767</td>\n",
       "      <td>129.462006</td>\n",
       "      <td>43.786400</td>\n",
       "    </tr>\n",
       "    <tr>\n",
       "      <th>2</th>\n",
       "      <td>1993-03-03 12:00:00</td>\n",
       "      <td>-1.0</td>\n",
       "      <td>217.690979</td>\n",
       "      <td>-0.200525</td>\n",
       "      <td>5.60816</td>\n",
       "      <td>107.625999</td>\n",
       "      <td>91.454697</td>\n",
       "    </tr>\n",
       "    <tr>\n",
       "      <th>3</th>\n",
       "      <td>1993-03-10 12:00:00</td>\n",
       "      <td>-1.0</td>\n",
       "      <td>217.781982</td>\n",
       "      <td>-0.156585</td>\n",
       "      <td>3.18113</td>\n",
       "      <td>190.341003</td>\n",
       "      <td>42.783001</td>\n",
       "    </tr>\n",
       "    <tr>\n",
       "      <th>4</th>\n",
       "      <td>1993-03-17 12:00:00</td>\n",
       "      <td>-1.0</td>\n",
       "      <td>214.455994</td>\n",
       "      <td>-0.401030</td>\n",
       "      <td>2.38252</td>\n",
       "      <td>156.994995</td>\n",
       "      <td>23.117800</td>\n",
       "    </tr>\n",
       "  </tbody>\n",
       "</table>\n",
       "</div>"
      ],
      "text/plain": [
       "                                date  cyc         lon       lat        A  \\\n",
       "Eddy ID Point ID                                                           \n",
       "3000    1        1993-02-24 12:00:00 -1.0  225.187988 -1.012250  4.50767   \n",
       "        2        1993-03-03 12:00:00 -1.0  217.690979 -0.200525  5.60816   \n",
       "        3        1993-03-10 12:00:00 -1.0  217.781982 -0.156585  3.18113   \n",
       "        4        1993-03-17 12:00:00 -1.0  214.455994 -0.401030  2.38252   \n",
       "\n",
       "                           L          U  \n",
       "Eddy ID Point ID                         \n",
       "3000    1         129.462006  43.786400  \n",
       "        2         107.625999  91.454697  \n",
       "        3         190.341003  42.783001  \n",
       "        4         156.994995  23.117800  "
      ]
     },
     "execution_count": 25,
     "metadata": {},
     "output_type": "execute_result"
    }
   ],
   "source": [
    "df.tail(4)"
   ]
  },
  {
   "cell_type": "markdown",
   "metadata": {},
   "source": [
    "### Point ###"
   ]
  },
  {
   "cell_type": "code",
   "execution_count": 26,
   "metadata": {
    "collapsed": false
   },
   "outputs": [],
   "source": [
    "count = ds.track\n",
    "count = count.value_counts(normalize=False, sort=True, ascending=True, bins=None, dropna=False).reindex(range(1, M+1))\n",
    "count = pd.DataFrame(count)\n",
    "count.columns = ['point']"
   ]
  },
  {
   "cell_type": "code",
   "execution_count": 27,
   "metadata": {
    "collapsed": false
   },
   "outputs": [
    {
     "data": {
      "text/html": [
       "<div>\n",
       "<table border=\"1\" class=\"dataframe\">\n",
       "  <thead>\n",
       "    <tr style=\"text-align: right;\">\n",
       "      <th></th>\n",
       "      <th>point</th>\n",
       "    </tr>\n",
       "  </thead>\n",
       "  <tbody>\n",
       "    <tr>\n",
       "      <th>2997</th>\n",
       "      <td>4</td>\n",
       "    </tr>\n",
       "    <tr>\n",
       "      <th>2998</th>\n",
       "      <td>4</td>\n",
       "    </tr>\n",
       "    <tr>\n",
       "      <th>2999</th>\n",
       "      <td>4</td>\n",
       "    </tr>\n",
       "    <tr>\n",
       "      <th>3000</th>\n",
       "      <td>4</td>\n",
       "    </tr>\n",
       "  </tbody>\n",
       "</table>\n",
       "</div>"
      ],
      "text/plain": [
       "      point\n",
       "2997      4\n",
       "2998      4\n",
       "2999      4\n",
       "3000      4"
      ]
     },
     "execution_count": 27,
     "metadata": {},
     "output_type": "execute_result"
    }
   ],
   "source": [
    "count.tail(4)"
   ]
  },
  {
   "cell_type": "code",
   "execution_count": 28,
   "metadata": {
    "collapsed": true
   },
   "outputs": [],
   "source": [
    "lon = np.asarray(df.lon)\n",
    "lat = np.asarray(df.lat)\n",
    "point = np.asarray(count.point)"
   ]
  },
  {
   "cell_type": "code",
   "execution_count": 29,
   "metadata": {
    "collapsed": true
   },
   "outputs": [],
   "source": [
    "# Origin Coordinates\n",
    "lon_o = np.zeros(M)\n",
    "lat_o = np.zeros(M)"
   ]
  },
  {
   "cell_type": "code",
   "execution_count": 30,
   "metadata": {
    "collapsed": true
   },
   "outputs": [],
   "source": [
    "# Termination Coordinates\n",
    "lon_t = np.zeros(M)\n",
    "lat_t = np.zeros(M)"
   ]
  },
  {
   "cell_type": "code",
   "execution_count": 31,
   "metadata": {
    "collapsed": false
   },
   "outputs": [],
   "source": [
    "c = 0\n",
    "i = 0\n",
    "\n",
    "while i < N:\n",
    "    c = int(c) + 1\n",
    "    lon_o[c-1] = lon[i]\n",
    "    lat_o[c-1] = lat[i]\n",
    "    i = i + int(point[c-1])\n",
    "    lon_t[c-1] = lon[i-1]\n",
    "    lat_t[c-1] = lat[i-1]"
   ]
  },
  {
   "cell_type": "code",
   "execution_count": 32,
   "metadata": {
    "collapsed": true
   },
   "outputs": [],
   "source": [
    "lon_o = pd.DataFrame(lon_o)\n",
    "lat_o = pd.DataFrame(lat_o)\n",
    "lon_t = pd.DataFrame(lon_t)\n",
    "lat_t = pd.DataFrame(lat_t)"
   ]
  },
  {
   "cell_type": "code",
   "execution_count": 33,
   "metadata": {
    "collapsed": false
   },
   "outputs": [],
   "source": [
    "# Index Construction\n",
    "index = np.zeros(M)"
   ]
  },
  {
   "cell_type": "code",
   "execution_count": 34,
   "metadata": {
    "collapsed": true
   },
   "outputs": [],
   "source": [
    "for i in range(M):\n",
    "    index[i] = i+1"
   ]
  },
  {
   "cell_type": "code",
   "execution_count": 35,
   "metadata": {
    "collapsed": false
   },
   "outputs": [],
   "source": [
    "index = pd.DataFrame(index)\n",
    "index = index.astype(int)"
   ]
  },
  {
   "cell_type": "code",
   "execution_count": 36,
   "metadata": {
    "collapsed": true
   },
   "outputs": [],
   "source": [
    "# Start Centers\n",
    "sc = pd.concat([index, lon_o, lat_o], axis=1)\n",
    "sc.columns = ['Eddy ID', 'lon', 'lat']\n",
    "sc = sc.set_index('Eddy ID')"
   ]
  },
  {
   "cell_type": "code",
   "execution_count": 37,
   "metadata": {
    "collapsed": false
   },
   "outputs": [
    {
     "data": {
      "text/html": [
       "<div>\n",
       "<table border=\"1\" class=\"dataframe\">\n",
       "  <thead>\n",
       "    <tr style=\"text-align: right;\">\n",
       "      <th></th>\n",
       "      <th>lon</th>\n",
       "      <th>lat</th>\n",
       "    </tr>\n",
       "    <tr>\n",
       "      <th>Eddy ID</th>\n",
       "      <th></th>\n",
       "      <th></th>\n",
       "    </tr>\n",
       "  </thead>\n",
       "  <tbody>\n",
       "    <tr>\n",
       "      <th>2997</th>\n",
       "      <td>190.353027</td>\n",
       "      <td>-38.660000</td>\n",
       "    </tr>\n",
       "    <tr>\n",
       "      <th>2998</th>\n",
       "      <td>34.248993</td>\n",
       "      <td>-31.216299</td>\n",
       "    </tr>\n",
       "    <tr>\n",
       "      <th>2999</th>\n",
       "      <td>14.755005</td>\n",
       "      <td>-30.001801</td>\n",
       "    </tr>\n",
       "    <tr>\n",
       "      <th>3000</th>\n",
       "      <td>225.187988</td>\n",
       "      <td>-1.012250</td>\n",
       "    </tr>\n",
       "  </tbody>\n",
       "</table>\n",
       "</div>"
      ],
      "text/plain": [
       "                lon        lat\n",
       "Eddy ID                       \n",
       "2997     190.353027 -38.660000\n",
       "2998      34.248993 -31.216299\n",
       "2999      14.755005 -30.001801\n",
       "3000     225.187988  -1.012250"
      ]
     },
     "execution_count": 37,
     "metadata": {},
     "output_type": "execute_result"
    }
   ],
   "source": [
    "sc.tail(4)"
   ]
  },
  {
   "cell_type": "code",
   "execution_count": 38,
   "metadata": {
    "collapsed": false
   },
   "outputs": [],
   "source": [
    "# End Centers\n",
    "ec = pd.concat([index, lon_t, lat_t], axis=1)\n",
    "ec.columns = ['Eddy ID', 'lon', 'lat']\n",
    "ec = ec.set_index('Eddy ID')"
   ]
  },
  {
   "cell_type": "code",
   "execution_count": 39,
   "metadata": {
    "collapsed": false
   },
   "outputs": [
    {
     "data": {
      "text/html": [
       "<div>\n",
       "<table border=\"1\" class=\"dataframe\">\n",
       "  <thead>\n",
       "    <tr style=\"text-align: right;\">\n",
       "      <th></th>\n",
       "      <th>lon</th>\n",
       "      <th>lat</th>\n",
       "    </tr>\n",
       "    <tr>\n",
       "      <th>Eddy ID</th>\n",
       "      <th></th>\n",
       "      <th></th>\n",
       "    </tr>\n",
       "  </thead>\n",
       "  <tbody>\n",
       "    <tr>\n",
       "      <th>2997</th>\n",
       "      <td>189.864990</td>\n",
       "      <td>-38.80320</td>\n",
       "    </tr>\n",
       "    <tr>\n",
       "      <th>2998</th>\n",
       "      <td>32.817993</td>\n",
       "      <td>-31.36990</td>\n",
       "    </tr>\n",
       "    <tr>\n",
       "      <th>2999</th>\n",
       "      <td>15.549011</td>\n",
       "      <td>-30.23790</td>\n",
       "    </tr>\n",
       "    <tr>\n",
       "      <th>3000</th>\n",
       "      <td>214.455994</td>\n",
       "      <td>-0.40103</td>\n",
       "    </tr>\n",
       "  </tbody>\n",
       "</table>\n",
       "</div>"
      ],
      "text/plain": [
       "                lon       lat\n",
       "Eddy ID                      \n",
       "2997     189.864990 -38.80320\n",
       "2998      32.817993 -31.36990\n",
       "2999      15.549011 -30.23790\n",
       "3000     214.455994  -0.40103"
      ]
     },
     "execution_count": 39,
     "metadata": {},
     "output_type": "execute_result"
    }
   ],
   "source": [
    "ec.tail(4)"
   ]
  },
  {
   "cell_type": "markdown",
   "metadata": {},
   "source": [
    "### LineString ###"
   ]
  },
  {
   "cell_type": "code",
   "execution_count": 40,
   "metadata": {
    "collapsed": true
   },
   "outputs": [],
   "source": [
    "ls = np.zeros((N, 2))"
   ]
  },
  {
   "cell_type": "code",
   "execution_count": 41,
   "metadata": {
    "collapsed": false
   },
   "outputs": [],
   "source": [
    "for i in range(N):\n",
    "    ls[i][0] = lon[i]\n",
    "    ls[i][1] = lat[i]"
   ]
  },
  {
   "cell_type": "code",
   "execution_count": 42,
   "metadata": {
    "collapsed": false
   },
   "outputs": [],
   "source": [
    "ls = pd.DataFrame(ls, index=multi_index, columns=['lon', 'lat'])"
   ]
  },
  {
   "cell_type": "code",
   "execution_count": 43,
   "metadata": {
    "collapsed": false,
    "scrolled": true
   },
   "outputs": [
    {
     "data": {
      "text/html": [
       "<div>\n",
       "<table border=\"1\" class=\"dataframe\">\n",
       "  <thead>\n",
       "    <tr style=\"text-align: right;\">\n",
       "      <th></th>\n",
       "      <th></th>\n",
       "      <th>lon</th>\n",
       "      <th>lat</th>\n",
       "    </tr>\n",
       "    <tr>\n",
       "      <th>Eddy ID</th>\n",
       "      <th>Point ID</th>\n",
       "      <th></th>\n",
       "      <th></th>\n",
       "    </tr>\n",
       "  </thead>\n",
       "  <tbody>\n",
       "    <tr>\n",
       "      <th rowspan=\"4\" valign=\"top\">3000</th>\n",
       "      <th>1</th>\n",
       "      <td>225.187988</td>\n",
       "      <td>-1.012250</td>\n",
       "    </tr>\n",
       "    <tr>\n",
       "      <th>2</th>\n",
       "      <td>217.690979</td>\n",
       "      <td>-0.200525</td>\n",
       "    </tr>\n",
       "    <tr>\n",
       "      <th>3</th>\n",
       "      <td>217.781982</td>\n",
       "      <td>-0.156585</td>\n",
       "    </tr>\n",
       "    <tr>\n",
       "      <th>4</th>\n",
       "      <td>214.455994</td>\n",
       "      <td>-0.401030</td>\n",
       "    </tr>\n",
       "  </tbody>\n",
       "</table>\n",
       "</div>"
      ],
      "text/plain": [
       "                         lon       lat\n",
       "Eddy ID Point ID                      \n",
       "3000    1         225.187988 -1.012250\n",
       "        2         217.690979 -0.200525\n",
       "        3         217.781982 -0.156585\n",
       "        4         214.455994 -0.401030"
      ]
     },
     "execution_count": 43,
     "metadata": {},
     "output_type": "execute_result"
    }
   ],
   "source": [
    "ls.tail(4)"
   ]
  },
  {
   "cell_type": "markdown",
   "metadata": {},
   "source": [
    "### Polygon ###"
   ]
  },
  {
   "cell_type": "code",
   "execution_count": 44,
   "metadata": {
    "collapsed": true
   },
   "outputs": [],
   "source": [
    "from numpy import cos, pi, sin"
   ]
  },
  {
   "cell_type": "code",
   "execution_count": 45,
   "metadata": {
    "collapsed": false
   },
   "outputs": [],
   "source": [
    "L = np.asarray(df.L)"
   ]
  },
  {
   "cell_type": "code",
   "execution_count": 46,
   "metadata": {
    "collapsed": true
   },
   "outputs": [],
   "source": [
    "L_o = np.zeros(M)\n",
    "L_t = np.zeros(M)"
   ]
  },
  {
   "cell_type": "code",
   "execution_count": 47,
   "metadata": {
    "collapsed": false
   },
   "outputs": [],
   "source": [
    "c = 0\n",
    "i = 0\n",
    "\n",
    "while i < N:\n",
    "    c = int(c) + 1\n",
    "    L_o[c-1] = L[i]\n",
    "    i = i + int(point[c-1])\n",
    "    L_t[c-1] = L[i-1]"
   ]
  },
  {
   "cell_type": "code",
   "execution_count": 48,
   "metadata": {
    "collapsed": true
   },
   "outputs": [],
   "source": [
    "L_o = pd.DataFrame(L_o)\n",
    "L_t = pd.DataFrame(L_t)"
   ]
  },
  {
   "cell_type": "code",
   "execution_count": 49,
   "metadata": {
    "collapsed": true
   },
   "outputs": [],
   "source": [
    "# Origin Circles\n",
    "oc = pd.concat([lon_o, lat_o, L_o], axis=1)\n",
    "oc.columns = ['lon', 'lat', 'L']"
   ]
  },
  {
   "cell_type": "code",
   "execution_count": 50,
   "metadata": {
    "collapsed": false
   },
   "outputs": [
    {
     "data": {
      "text/html": [
       "<div>\n",
       "<table border=\"1\" class=\"dataframe\">\n",
       "  <thead>\n",
       "    <tr style=\"text-align: right;\">\n",
       "      <th></th>\n",
       "      <th>lon</th>\n",
       "      <th>lat</th>\n",
       "      <th>L</th>\n",
       "    </tr>\n",
       "  </thead>\n",
       "  <tbody>\n",
       "    <tr>\n",
       "      <th>2996</th>\n",
       "      <td>190.353027</td>\n",
       "      <td>-38.660000</td>\n",
       "      <td>74.715797</td>\n",
       "    </tr>\n",
       "    <tr>\n",
       "      <th>2997</th>\n",
       "      <td>34.248993</td>\n",
       "      <td>-31.216299</td>\n",
       "      <td>102.660004</td>\n",
       "    </tr>\n",
       "    <tr>\n",
       "      <th>2998</th>\n",
       "      <td>14.755005</td>\n",
       "      <td>-30.001801</td>\n",
       "      <td>75.933502</td>\n",
       "    </tr>\n",
       "    <tr>\n",
       "      <th>2999</th>\n",
       "      <td>225.187988</td>\n",
       "      <td>-1.012250</td>\n",
       "      <td>129.462006</td>\n",
       "    </tr>\n",
       "  </tbody>\n",
       "</table>\n",
       "</div>"
      ],
      "text/plain": [
       "             lon        lat           L\n",
       "2996  190.353027 -38.660000   74.715797\n",
       "2997   34.248993 -31.216299  102.660004\n",
       "2998   14.755005 -30.001801   75.933502\n",
       "2999  225.187988  -1.012250  129.462006"
      ]
     },
     "execution_count": 50,
     "metadata": {},
     "output_type": "execute_result"
    }
   ],
   "source": [
    "oc.tail(4)"
   ]
  },
  {
   "cell_type": "code",
   "execution_count": 51,
   "metadata": {
    "collapsed": false
   },
   "outputs": [],
   "source": [
    "# Termination Circles\n",
    "tc = pd.concat([lon_t, lat_t, L_t], axis=1)\n",
    "tc.columns = ['lon', 'lat', 'L']"
   ]
  },
  {
   "cell_type": "code",
   "execution_count": 52,
   "metadata": {
    "collapsed": false
   },
   "outputs": [
    {
     "data": {
      "text/html": [
       "<div>\n",
       "<table border=\"1\" class=\"dataframe\">\n",
       "  <thead>\n",
       "    <tr style=\"text-align: right;\">\n",
       "      <th></th>\n",
       "      <th>lon</th>\n",
       "      <th>lat</th>\n",
       "      <th>L</th>\n",
       "    </tr>\n",
       "  </thead>\n",
       "  <tbody>\n",
       "    <tr>\n",
       "      <th>2996</th>\n",
       "      <td>189.864990</td>\n",
       "      <td>-38.80320</td>\n",
       "      <td>66.479401</td>\n",
       "    </tr>\n",
       "    <tr>\n",
       "      <th>2997</th>\n",
       "      <td>32.817993</td>\n",
       "      <td>-31.36990</td>\n",
       "      <td>68.051003</td>\n",
       "    </tr>\n",
       "    <tr>\n",
       "      <th>2998</th>\n",
       "      <td>15.549011</td>\n",
       "      <td>-30.23790</td>\n",
       "      <td>75.832100</td>\n",
       "    </tr>\n",
       "    <tr>\n",
       "      <th>2999</th>\n",
       "      <td>214.455994</td>\n",
       "      <td>-0.40103</td>\n",
       "      <td>156.994995</td>\n",
       "    </tr>\n",
       "  </tbody>\n",
       "</table>\n",
       "</div>"
      ],
      "text/plain": [
       "             lon       lat           L\n",
       "2996  189.864990 -38.80320   66.479401\n",
       "2997   32.817993 -31.36990   68.051003\n",
       "2998   15.549011 -30.23790   75.832100\n",
       "2999  214.455994  -0.40103  156.994995"
      ]
     },
     "execution_count": 52,
     "metadata": {},
     "output_type": "execute_result"
    }
   ],
   "source": [
    "tc.tail(4)"
   ]
  },
  {
   "cell_type": "code",
   "execution_count": 53,
   "metadata": {
    "collapsed": true
   },
   "outputs": [],
   "source": [
    "# Circle Center Number\n",
    "C = M"
   ]
  },
  {
   "cell_type": "code",
   "execution_count": 54,
   "metadata": {
    "collapsed": false
   },
   "outputs": [],
   "source": [
    "# Circle Arc Number\n",
    "A = C*17"
   ]
  },
  {
   "cell_type": "code",
   "execution_count": 55,
   "metadata": {
    "collapsed": true
   },
   "outputs": [],
   "source": [
    "center = np.zeros(A)\n",
    "arc = np.zeros(A)"
   ]
  },
  {
   "cell_type": "code",
   "execution_count": 56,
   "metadata": {
    "collapsed": false
   },
   "outputs": [],
   "source": [
    "c = 1\n",
    "i = 0\n",
    "j = 1\n",
    "\n",
    "while i < A:\n",
    "    while c <= 17:\n",
    "        center[i] = j\n",
    "        i = i+1\n",
    "        c = c+1\n",
    "    j = j+1\n",
    "    c = 1"
   ]
  },
  {
   "cell_type": "code",
   "execution_count": 57,
   "metadata": {
    "collapsed": false
   },
   "outputs": [],
   "source": [
    "center = center.astype(int)"
   ]
  },
  {
   "cell_type": "code",
   "execution_count": 58,
   "metadata": {
    "collapsed": true
   },
   "outputs": [],
   "source": [
    "c = 1\n",
    "i = 0\n",
    "j = 1\n",
    "\n",
    "while i < A:\n",
    "    while c <= 17:\n",
    "        arc[i] = j\n",
    "        i = i+1\n",
    "        j = j+1\n",
    "        c = c+1\n",
    "    j = 1\n",
    "    c = 1"
   ]
  },
  {
   "cell_type": "code",
   "execution_count": 59,
   "metadata": {
    "collapsed": true
   },
   "outputs": [],
   "source": [
    "arc = arc.astype(int)"
   ]
  },
  {
   "cell_type": "code",
   "execution_count": 60,
   "metadata": {
    "collapsed": false
   },
   "outputs": [],
   "source": [
    "# Multi-Index Construction\n",
    "arrays = [center, arc]\n",
    "tuples = list(zip(*arrays))\n",
    "multi_index = pd.MultiIndex.from_tuples(tuples, names=['center', 'arc'])"
   ]
  },
  {
   "cell_type": "code",
   "execution_count": 61,
   "metadata": {
    "collapsed": true
   },
   "outputs": [],
   "source": [
    "# Earth Radius in Kilometers\n",
    "R = 6371"
   ]
  },
  {
   "cell_type": "markdown",
   "metadata": {},
   "source": [
    "__Origins__"
   ]
  },
  {
   "cell_type": "code",
   "execution_count": 62,
   "metadata": {
    "collapsed": false
   },
   "outputs": [],
   "source": [
    "lon = np.asarray(oc.lon)\n",
    "lat = np.asarray(oc.lat)\n",
    "L = np.asarray(oc.L)"
   ]
  },
  {
   "cell_type": "code",
   "execution_count": 63,
   "metadata": {
    "collapsed": true
   },
   "outputs": [],
   "source": [
    "theta = np.zeros(C)\n",
    "x = np.zeros(C)\n",
    "y = np.zeros(C)\n",
    "r = np.zeros(C)"
   ]
  },
  {
   "cell_type": "code",
   "execution_count": 64,
   "metadata": {
    "collapsed": false
   },
   "outputs": [],
   "source": [
    "for i in range(C):\n",
    "    theta[i] = lat[i]*(pi/180)\n",
    "    r[i] = R*cos(theta[i])\n",
    "    x[i] = (L[i]/r[i])*(180/pi)\n",
    "    y[i] = (L[i]/R)*(180/pi)"
   ]
  },
  {
   "cell_type": "code",
   "execution_count": 65,
   "metadata": {
    "collapsed": false
   },
   "outputs": [],
   "source": [
    "op_lon = np.zeros(A)\n",
    "op_lat = np.zeros(A)\n",
    "op_x = np.zeros(A)\n",
    "op_y = np.zeros(A)"
   ]
  },
  {
   "cell_type": "code",
   "execution_count": 66,
   "metadata": {
    "collapsed": false
   },
   "outputs": [],
   "source": [
    "c = 0\n",
    "i = 0\n",
    "j = 1\n",
    "\n",
    "while i < A:\n",
    "    while j <= 17:\n",
    "        op_lon[i] = lon[c]\n",
    "        i = i+1\n",
    "        j = j+1\n",
    "    j = 1\n",
    "    c = c+1"
   ]
  },
  {
   "cell_type": "code",
   "execution_count": 67,
   "metadata": {
    "collapsed": false
   },
   "outputs": [],
   "source": [
    "c = 0\n",
    "i = 0\n",
    "j = 1\n",
    "\n",
    "while i < A:\n",
    "    while j <= 17:\n",
    "        op_lat[i] = lat[c]\n",
    "        i = i+1\n",
    "        j = j+1\n",
    "    j = 1\n",
    "    c = c+1"
   ]
  },
  {
   "cell_type": "code",
   "execution_count": 68,
   "metadata": {
    "collapsed": true
   },
   "outputs": [],
   "source": [
    "c = 0\n",
    "i = 0\n",
    "j = 1\n",
    "\n",
    "while i < A:\n",
    "    while j <= 17:\n",
    "        op_x[i] = x[c]*cos((j-1)*(pi/8))\n",
    "        i = i+1\n",
    "        j = j+1\n",
    "    j = 1\n",
    "    c = c+1"
   ]
  },
  {
   "cell_type": "code",
   "execution_count": 69,
   "metadata": {
    "collapsed": false
   },
   "outputs": [],
   "source": [
    "c = 0\n",
    "i = 0\n",
    "j = 1\n",
    "\n",
    "while i < A:\n",
    "    while j <= 17:\n",
    "        op_y[i] = y[c]*sin((j-1)*(pi/8))\n",
    "        i = i+1\n",
    "        j = j+1\n",
    "    j = 1\n",
    "    c = c+1"
   ]
  },
  {
   "cell_type": "code",
   "execution_count": 70,
   "metadata": {
    "collapsed": true
   },
   "outputs": [],
   "source": [
    "op = np.zeros((A, 2))"
   ]
  },
  {
   "cell_type": "code",
   "execution_count": 71,
   "metadata": {
    "collapsed": false
   },
   "outputs": [],
   "source": [
    "for i in range(A):\n",
    "    op[i][0] = op_lon[i]+op_x[i]\n",
    "    op[i][1] = op_lat[i]+op_y[i]"
   ]
  },
  {
   "cell_type": "code",
   "execution_count": 72,
   "metadata": {
    "collapsed": false
   },
   "outputs": [],
   "source": [
    "# Origin Polygons\n",
    "op = pd.DataFrame(op, index=multi_index)\n",
    "op.columns = ['lon', 'lat']"
   ]
  },
  {
   "cell_type": "code",
   "execution_count": 73,
   "metadata": {
    "collapsed": false
   },
   "outputs": [
    {
     "data": {
      "text/html": [
       "<div>\n",
       "<table border=\"1\" class=\"dataframe\">\n",
       "  <thead>\n",
       "    <tr style=\"text-align: right;\">\n",
       "      <th></th>\n",
       "      <th></th>\n",
       "      <th>lon</th>\n",
       "      <th>lat</th>\n",
       "    </tr>\n",
       "    <tr>\n",
       "      <th>center</th>\n",
       "      <th>arc</th>\n",
       "      <th></th>\n",
       "      <th></th>\n",
       "    </tr>\n",
       "  </thead>\n",
       "  <tbody>\n",
       "    <tr>\n",
       "      <th rowspan=\"4\" valign=\"top\">3000</th>\n",
       "      <th>14</th>\n",
       "      <td>225.633608</td>\n",
       "      <td>-2.087904</td>\n",
       "    </tr>\n",
       "    <tr>\n",
       "      <th>15</th>\n",
       "      <td>226.011387</td>\n",
       "      <td>-1.835520</td>\n",
       "    </tr>\n",
       "    <tr>\n",
       "      <th>16</th>\n",
       "      <td>226.263810</td>\n",
       "      <td>-1.457801</td>\n",
       "    </tr>\n",
       "    <tr>\n",
       "      <th>17</th>\n",
       "      <td>226.352450</td>\n",
       "      <td>-1.012250</td>\n",
       "    </tr>\n",
       "  </tbody>\n",
       "</table>\n",
       "</div>"
      ],
      "text/plain": [
       "                   lon       lat\n",
       "center arc                      \n",
       "3000   14   225.633608 -2.087904\n",
       "       15   226.011387 -1.835520\n",
       "       16   226.263810 -1.457801\n",
       "       17   226.352450 -1.012250"
      ]
     },
     "execution_count": 73,
     "metadata": {},
     "output_type": "execute_result"
    }
   ],
   "source": [
    "op.tail(4)"
   ]
  },
  {
   "cell_type": "markdown",
   "metadata": {},
   "source": [
    "__Terminations__"
   ]
  },
  {
   "cell_type": "code",
   "execution_count": 74,
   "metadata": {
    "collapsed": true
   },
   "outputs": [],
   "source": [
    "lon = np.asarray(tc.lon)\n",
    "lat = np.asarray(tc.lat)\n",
    "L = np.asarray(tc.L)"
   ]
  },
  {
   "cell_type": "code",
   "execution_count": 75,
   "metadata": {
    "collapsed": true
   },
   "outputs": [],
   "source": [
    "theta = np.zeros(C)\n",
    "r = np.zeros(C)\n",
    "x = np.zeros(C)\n",
    "y = np.zeros(C)"
   ]
  },
  {
   "cell_type": "code",
   "execution_count": 76,
   "metadata": {
    "collapsed": true
   },
   "outputs": [],
   "source": [
    "for i in range(C):\n",
    "    theta[i] = lat[i]*(pi/180)\n",
    "    r[i] = R*cos(theta[i])\n",
    "    x[i] = (L[i]/r[i])*(180/pi)\n",
    "    y[i] = (L[i]/R)*(180/pi)"
   ]
  },
  {
   "cell_type": "code",
   "execution_count": 77,
   "metadata": {
    "collapsed": true
   },
   "outputs": [],
   "source": [
    "tp_lon = np.zeros(A)\n",
    "tp_lat = np.zeros(A)\n",
    "tp_x = np.zeros(A)\n",
    "tp_y = np.zeros(A)"
   ]
  },
  {
   "cell_type": "code",
   "execution_count": 78,
   "metadata": {
    "collapsed": false
   },
   "outputs": [],
   "source": [
    "c = 0\n",
    "i = 0\n",
    "j = 1\n",
    "\n",
    "while i < A:\n",
    "    while j <= 17:\n",
    "        tp_lon[i] = lon[c]\n",
    "        i = i+1\n",
    "        j = j+1\n",
    "    j = 1\n",
    "    c = c+1"
   ]
  },
  {
   "cell_type": "code",
   "execution_count": 79,
   "metadata": {
    "collapsed": true
   },
   "outputs": [],
   "source": [
    "c = 0\n",
    "i = 0\n",
    "j = 1\n",
    "\n",
    "while i < A:\n",
    "    while j <= 17:\n",
    "        tp_lat[i] = lat[c]\n",
    "        i = i+1\n",
    "        j = j+1\n",
    "    j = 1\n",
    "    c = c+1"
   ]
  },
  {
   "cell_type": "code",
   "execution_count": 80,
   "metadata": {
    "collapsed": false
   },
   "outputs": [],
   "source": [
    "c = 0\n",
    "i = 0\n",
    "j = 1\n",
    "\n",
    "while i < A:\n",
    "    while j <= 17:\n",
    "        tp_x[i] = x[c]*cos((j-1)*(pi/8))\n",
    "        i = i+1\n",
    "        j = j+1\n",
    "    j = 1\n",
    "    c = c+1"
   ]
  },
  {
   "cell_type": "code",
   "execution_count": 81,
   "metadata": {
    "collapsed": true
   },
   "outputs": [],
   "source": [
    "c = 0\n",
    "i = 0\n",
    "j = 1\n",
    "\n",
    "while i < A:\n",
    "    while j <= 17:\n",
    "        tp_y[i] = y[c]*sin((j-1)*(pi/8))\n",
    "        i = i+1\n",
    "        j = j+1\n",
    "    j = 1\n",
    "    c = c+1"
   ]
  },
  {
   "cell_type": "code",
   "execution_count": 82,
   "metadata": {
    "collapsed": false
   },
   "outputs": [],
   "source": [
    "tp = np.zeros((A, 2))"
   ]
  },
  {
   "cell_type": "code",
   "execution_count": 83,
   "metadata": {
    "collapsed": false
   },
   "outputs": [],
   "source": [
    "for i in range(A):\n",
    "    tp[i][0] = tp_lon[i]+tp_x[i]\n",
    "    tp[i][1] = tp_lat[i]+tp_y[i]"
   ]
  },
  {
   "cell_type": "code",
   "execution_count": 84,
   "metadata": {
    "collapsed": false
   },
   "outputs": [],
   "source": [
    "# Termination Polygons\n",
    "tp = pd.DataFrame(tp, index=multi_index)\n",
    "tp.columns = ['lon', 'lat']"
   ]
  },
  {
   "cell_type": "code",
   "execution_count": 85,
   "metadata": {
    "collapsed": false
   },
   "outputs": [
    {
     "data": {
      "text/html": [
       "<div>\n",
       "<table border=\"1\" class=\"dataframe\">\n",
       "  <thead>\n",
       "    <tr style=\"text-align: right;\">\n",
       "      <th></th>\n",
       "      <th></th>\n",
       "      <th>lon</th>\n",
       "      <th>lat</th>\n",
       "    </tr>\n",
       "    <tr>\n",
       "      <th>center</th>\n",
       "      <th>arc</th>\n",
       "      <th></th>\n",
       "      <th></th>\n",
       "    </tr>\n",
       "  </thead>\n",
       "  <tbody>\n",
       "    <tr>\n",
       "      <th rowspan=\"4\" valign=\"top\">3000</th>\n",
       "      <th>14</th>\n",
       "      <td>214.996314</td>\n",
       "      <td>-1.705446</td>\n",
       "    </tr>\n",
       "    <tr>\n",
       "      <th>15</th>\n",
       "      <td>215.454375</td>\n",
       "      <td>-1.399387</td>\n",
       "    </tr>\n",
       "    <tr>\n",
       "      <th>16</th>\n",
       "      <td>215.760442</td>\n",
       "      <td>-0.941337</td>\n",
       "    </tr>\n",
       "    <tr>\n",
       "      <th>17</th>\n",
       "      <td>215.867918</td>\n",
       "      <td>-0.401030</td>\n",
       "    </tr>\n",
       "  </tbody>\n",
       "</table>\n",
       "</div>"
      ],
      "text/plain": [
       "                   lon       lat\n",
       "center arc                      \n",
       "3000   14   214.996314 -1.705446\n",
       "       15   215.454375 -1.399387\n",
       "       16   215.760442 -0.941337\n",
       "       17   215.867918 -0.401030"
      ]
     },
     "execution_count": 85,
     "metadata": {},
     "output_type": "execute_result"
    }
   ],
   "source": [
    "tp.tail(4)"
   ]
  },
  {
   "cell_type": "markdown",
   "metadata": {},
   "source": [
    "### ID ###"
   ]
  },
  {
   "cell_type": "code",
   "execution_count": 86,
   "metadata": {
    "collapsed": false
   },
   "outputs": [],
   "source": [
    "eddy_id = pd.DataFrame(index)\n",
    "eddy_id = pd.concat([index, index], axis=1)\n",
    "eddy_id.columns = ['Eddy ID', 'eddy id']\n",
    "eddy_id = eddy_id.set_index('Eddy ID')"
   ]
  },
  {
   "cell_type": "code",
   "execution_count": 87,
   "metadata": {
    "collapsed": false
   },
   "outputs": [
    {
     "data": {
      "text/html": [
       "<div>\n",
       "<table border=\"1\" class=\"dataframe\">\n",
       "  <thead>\n",
       "    <tr style=\"text-align: right;\">\n",
       "      <th></th>\n",
       "      <th>eddy id</th>\n",
       "    </tr>\n",
       "    <tr>\n",
       "      <th>Eddy ID</th>\n",
       "      <th></th>\n",
       "    </tr>\n",
       "  </thead>\n",
       "  <tbody>\n",
       "    <tr>\n",
       "      <th>2997</th>\n",
       "      <td>2997</td>\n",
       "    </tr>\n",
       "    <tr>\n",
       "      <th>2998</th>\n",
       "      <td>2998</td>\n",
       "    </tr>\n",
       "    <tr>\n",
       "      <th>2999</th>\n",
       "      <td>2999</td>\n",
       "    </tr>\n",
       "    <tr>\n",
       "      <th>3000</th>\n",
       "      <td>3000</td>\n",
       "    </tr>\n",
       "  </tbody>\n",
       "</table>\n",
       "</div>"
      ],
      "text/plain": [
       "         eddy id\n",
       "Eddy ID         \n",
       "2997        2997\n",
       "2998        2998\n",
       "2999        2999\n",
       "3000        3000"
      ]
     },
     "execution_count": 87,
     "metadata": {},
     "output_type": "execute_result"
    }
   ],
   "source": [
    "eddy_id.tail(4)"
   ]
  },
  {
   "cell_type": "markdown",
   "metadata": {},
   "source": [
    "### Date ###"
   ]
  },
  {
   "cell_type": "code",
   "execution_count": 88,
   "metadata": {
    "collapsed": false
   },
   "outputs": [
    {
     "data": {
      "text/html": [
       "<div>\n",
       "<table border=\"1\" class=\"dataframe\">\n",
       "  <thead>\n",
       "    <tr style=\"text-align: right;\">\n",
       "      <th></th>\n",
       "      <th>A</th>\n",
       "      <th>track</th>\n",
       "      <th>lon</th>\n",
       "      <th>j1</th>\n",
       "      <th>n</th>\n",
       "      <th>cyc</th>\n",
       "      <th>U</th>\n",
       "      <th>lat</th>\n",
       "      <th>L</th>\n",
       "    </tr>\n",
       "    <tr>\n",
       "      <th>Nobs</th>\n",
       "      <th></th>\n",
       "      <th></th>\n",
       "      <th></th>\n",
       "      <th></th>\n",
       "      <th></th>\n",
       "      <th></th>\n",
       "      <th></th>\n",
       "      <th></th>\n",
       "      <th></th>\n",
       "    </tr>\n",
       "  </thead>\n",
       "  <tbody>\n",
       "    <tr>\n",
       "      <th>41316</th>\n",
       "      <td>4.50767</td>\n",
       "      <td>3000</td>\n",
       "      <td>585.187988</td>\n",
       "      <td>2449043</td>\n",
       "      <td>1</td>\n",
       "      <td>-1</td>\n",
       "      <td>43.786400</td>\n",
       "      <td>-1.012250</td>\n",
       "      <td>129.462006</td>\n",
       "    </tr>\n",
       "    <tr>\n",
       "      <th>41317</th>\n",
       "      <td>5.60816</td>\n",
       "      <td>3000</td>\n",
       "      <td>577.690979</td>\n",
       "      <td>2449050</td>\n",
       "      <td>2</td>\n",
       "      <td>-1</td>\n",
       "      <td>91.454697</td>\n",
       "      <td>-0.200525</td>\n",
       "      <td>107.625999</td>\n",
       "    </tr>\n",
       "    <tr>\n",
       "      <th>41318</th>\n",
       "      <td>3.18113</td>\n",
       "      <td>3000</td>\n",
       "      <td>577.781982</td>\n",
       "      <td>2449057</td>\n",
       "      <td>3</td>\n",
       "      <td>-1</td>\n",
       "      <td>42.783001</td>\n",
       "      <td>-0.156585</td>\n",
       "      <td>190.341003</td>\n",
       "    </tr>\n",
       "    <tr>\n",
       "      <th>41319</th>\n",
       "      <td>2.38252</td>\n",
       "      <td>3000</td>\n",
       "      <td>574.455994</td>\n",
       "      <td>2449064</td>\n",
       "      <td>4</td>\n",
       "      <td>-1</td>\n",
       "      <td>23.117800</td>\n",
       "      <td>-0.401030</td>\n",
       "      <td>156.994995</td>\n",
       "    </tr>\n",
       "  </tbody>\n",
       "</table>\n",
       "</div>"
      ],
      "text/plain": [
       "             A  track         lon       j1  n  cyc          U       lat  \\\n",
       "Nobs                                                                      \n",
       "41316  4.50767   3000  585.187988  2449043  1   -1  43.786400 -1.012250   \n",
       "41317  5.60816   3000  577.690979  2449050  2   -1  91.454697 -0.200525   \n",
       "41318  3.18113   3000  577.781982  2449057  3   -1  42.783001 -0.156585   \n",
       "41319  2.38252   3000  574.455994  2449064  4   -1  23.117800 -0.401030   \n",
       "\n",
       "                L  \n",
       "Nobs               \n",
       "41316  129.462006  \n",
       "41317  107.625999  \n",
       "41318  190.341003  \n",
       "41319  156.994995  "
      ]
     },
     "execution_count": 88,
     "metadata": {},
     "output_type": "execute_result"
    }
   ],
   "source": [
    "ds.tail(4)"
   ]
  },
  {
   "cell_type": "code",
   "execution_count": 89,
   "metadata": {
    "collapsed": false
   },
   "outputs": [],
   "source": [
    "j1 = np.asarray(ds.j1)"
   ]
  },
  {
   "cell_type": "code",
   "execution_count": 90,
   "metadata": {
    "collapsed": true
   },
   "outputs": [],
   "source": [
    "j1_o = np.zeros(M)\n",
    "j1_t = np.zeros(M)"
   ]
  },
  {
   "cell_type": "code",
   "execution_count": 91,
   "metadata": {
    "collapsed": false
   },
   "outputs": [],
   "source": [
    "c = 0\n",
    "i = 0\n",
    "\n",
    "while i < N:\n",
    "    c = int(c) + 1\n",
    "    j1_o[c-1] = j1[i]\n",
    "    i = i + int(point[c-1])\n",
    "    j1_t[c-1] = j1[i-1]"
   ]
  },
  {
   "cell_type": "code",
   "execution_count": 92,
   "metadata": {
    "collapsed": true
   },
   "outputs": [],
   "source": [
    "j1_o = pd.DataFrame(j1_o)\n",
    "j1_t = pd.DataFrame(j1_t)"
   ]
  },
  {
   "cell_type": "code",
   "execution_count": 93,
   "metadata": {
    "collapsed": true
   },
   "outputs": [],
   "source": [
    "# Start Julian Dates\n",
    "sj = pd.concat([index, j1_o], axis=1)\n",
    "sj.columns = ['Eddy ID', 'j1']\n",
    "sj = sj.set_index('Eddy ID')"
   ]
  },
  {
   "cell_type": "code",
   "execution_count": 94,
   "metadata": {
    "collapsed": false
   },
   "outputs": [
    {
     "data": {
      "text/html": [
       "<div>\n",
       "<table border=\"1\" class=\"dataframe\">\n",
       "  <thead>\n",
       "    <tr style=\"text-align: right;\">\n",
       "      <th></th>\n",
       "      <th>j1</th>\n",
       "    </tr>\n",
       "    <tr>\n",
       "      <th>Eddy ID</th>\n",
       "      <th></th>\n",
       "    </tr>\n",
       "  </thead>\n",
       "  <tbody>\n",
       "    <tr>\n",
       "      <th>2997</th>\n",
       "      <td>2449043.0</td>\n",
       "    </tr>\n",
       "    <tr>\n",
       "      <th>2998</th>\n",
       "      <td>2449043.0</td>\n",
       "    </tr>\n",
       "    <tr>\n",
       "      <th>2999</th>\n",
       "      <td>2449043.0</td>\n",
       "    </tr>\n",
       "    <tr>\n",
       "      <th>3000</th>\n",
       "      <td>2449043.0</td>\n",
       "    </tr>\n",
       "  </tbody>\n",
       "</table>\n",
       "</div>"
      ],
      "text/plain": [
       "                j1\n",
       "Eddy ID           \n",
       "2997     2449043.0\n",
       "2998     2449043.0\n",
       "2999     2449043.0\n",
       "3000     2449043.0"
      ]
     },
     "execution_count": 94,
     "metadata": {},
     "output_type": "execute_result"
    }
   ],
   "source": [
    "sj.tail(4)"
   ]
  },
  {
   "cell_type": "code",
   "execution_count": 95,
   "metadata": {
    "collapsed": false
   },
   "outputs": [],
   "source": [
    "# End Julian Dates\n",
    "ej = pd.concat([index, j1_t], axis=1)\n",
    "ej.columns = ['Eddy ID', 'j1']\n",
    "ej = ej.set_index('Eddy ID')"
   ]
  },
  {
   "cell_type": "code",
   "execution_count": 96,
   "metadata": {
    "collapsed": false
   },
   "outputs": [
    {
     "data": {
      "text/html": [
       "<div>\n",
       "<table border=\"1\" class=\"dataframe\">\n",
       "  <thead>\n",
       "    <tr style=\"text-align: right;\">\n",
       "      <th></th>\n",
       "      <th>j1</th>\n",
       "    </tr>\n",
       "    <tr>\n",
       "      <th>Eddy ID</th>\n",
       "      <th></th>\n",
       "    </tr>\n",
       "  </thead>\n",
       "  <tbody>\n",
       "    <tr>\n",
       "      <th>2997</th>\n",
       "      <td>2449064.0</td>\n",
       "    </tr>\n",
       "    <tr>\n",
       "      <th>2998</th>\n",
       "      <td>2449064.0</td>\n",
       "    </tr>\n",
       "    <tr>\n",
       "      <th>2999</th>\n",
       "      <td>2449064.0</td>\n",
       "    </tr>\n",
       "    <tr>\n",
       "      <th>3000</th>\n",
       "      <td>2449064.0</td>\n",
       "    </tr>\n",
       "  </tbody>\n",
       "</table>\n",
       "</div>"
      ],
      "text/plain": [
       "                j1\n",
       "Eddy ID           \n",
       "2997     2449064.0\n",
       "2998     2449064.0\n",
       "2999     2449064.0\n",
       "3000     2449064.0"
      ]
     },
     "execution_count": 96,
     "metadata": {},
     "output_type": "execute_result"
    }
   ],
   "source": [
    "ej.tail(4)"
   ]
  },
  {
   "cell_type": "code",
   "execution_count": 97,
   "metadata": {
    "collapsed": true
   },
   "outputs": [],
   "source": [
    "# Start Dates\n",
    "sd = sj.j1.apply(jday_to_datetime)\n",
    "sd = pd.DataFrame(sd)\n",
    "sd = sd.rename(columns = {'j1': 'date'})"
   ]
  },
  {
   "cell_type": "code",
   "execution_count": 98,
   "metadata": {
    "collapsed": false
   },
   "outputs": [
    {
     "data": {
      "text/html": [
       "<div>\n",
       "<table border=\"1\" class=\"dataframe\">\n",
       "  <thead>\n",
       "    <tr style=\"text-align: right;\">\n",
       "      <th></th>\n",
       "      <th>date</th>\n",
       "    </tr>\n",
       "    <tr>\n",
       "      <th>Eddy ID</th>\n",
       "      <th></th>\n",
       "    </tr>\n",
       "  </thead>\n",
       "  <tbody>\n",
       "    <tr>\n",
       "      <th>2997</th>\n",
       "      <td>1993-02-24 12:00:00</td>\n",
       "    </tr>\n",
       "    <tr>\n",
       "      <th>2998</th>\n",
       "      <td>1993-02-24 12:00:00</td>\n",
       "    </tr>\n",
       "    <tr>\n",
       "      <th>2999</th>\n",
       "      <td>1993-02-24 12:00:00</td>\n",
       "    </tr>\n",
       "    <tr>\n",
       "      <th>3000</th>\n",
       "      <td>1993-02-24 12:00:00</td>\n",
       "    </tr>\n",
       "  </tbody>\n",
       "</table>\n",
       "</div>"
      ],
      "text/plain": [
       "                       date\n",
       "Eddy ID                    \n",
       "2997    1993-02-24 12:00:00\n",
       "2998    1993-02-24 12:00:00\n",
       "2999    1993-02-24 12:00:00\n",
       "3000    1993-02-24 12:00:00"
      ]
     },
     "execution_count": 98,
     "metadata": {},
     "output_type": "execute_result"
    }
   ],
   "source": [
    "sd.tail(4)"
   ]
  },
  {
   "cell_type": "code",
   "execution_count": 99,
   "metadata": {
    "collapsed": true
   },
   "outputs": [],
   "source": [
    "# End Dates\n",
    "ed = ej.j1.apply(jday_to_datetime)\n",
    "ed = pd.DataFrame(ed)\n",
    "ed = ed.rename(columns = {'j1': 'date'})"
   ]
  },
  {
   "cell_type": "code",
   "execution_count": 100,
   "metadata": {
    "collapsed": false
   },
   "outputs": [
    {
     "data": {
      "text/html": [
       "<div>\n",
       "<table border=\"1\" class=\"dataframe\">\n",
       "  <thead>\n",
       "    <tr style=\"text-align: right;\">\n",
       "      <th></th>\n",
       "      <th>date</th>\n",
       "    </tr>\n",
       "    <tr>\n",
       "      <th>Eddy ID</th>\n",
       "      <th></th>\n",
       "    </tr>\n",
       "  </thead>\n",
       "  <tbody>\n",
       "    <tr>\n",
       "      <th>2997</th>\n",
       "      <td>1993-03-17 12:00:00</td>\n",
       "    </tr>\n",
       "    <tr>\n",
       "      <th>2998</th>\n",
       "      <td>1993-03-17 12:00:00</td>\n",
       "    </tr>\n",
       "    <tr>\n",
       "      <th>2999</th>\n",
       "      <td>1993-03-17 12:00:00</td>\n",
       "    </tr>\n",
       "    <tr>\n",
       "      <th>3000</th>\n",
       "      <td>1993-03-17 12:00:00</td>\n",
       "    </tr>\n",
       "  </tbody>\n",
       "</table>\n",
       "</div>"
      ],
      "text/plain": [
       "                       date\n",
       "Eddy ID                    \n",
       "2997    1993-03-17 12:00:00\n",
       "2998    1993-03-17 12:00:00\n",
       "2999    1993-03-17 12:00:00\n",
       "3000    1993-03-17 12:00:00"
      ]
     },
     "execution_count": 100,
     "metadata": {},
     "output_type": "execute_result"
    }
   ],
   "source": [
    "ed.tail(4)"
   ]
  },
  {
   "cell_type": "code",
   "execution_count": 101,
   "metadata": {
    "collapsed": false
   },
   "outputs": [],
   "source": [
    "# Durations in Days\n",
    "dd = ed-sd"
   ]
  },
  {
   "cell_type": "code",
   "execution_count": 102,
   "metadata": {
    "collapsed": false
   },
   "outputs": [
    {
     "data": {
      "text/plain": [
       "Timedelta('1596 days 00:00:00')"
      ]
     },
     "execution_count": 102,
     "metadata": {},
     "output_type": "execute_result"
    }
   ],
   "source": [
    "dd.date.max()"
   ]
  },
  {
   "cell_type": "code",
   "execution_count": 103,
   "metadata": {
    "collapsed": false
   },
   "outputs": [
    {
     "data": {
      "text/html": [
       "<div>\n",
       "<table border=\"1\" class=\"dataframe\">\n",
       "  <thead>\n",
       "    <tr style=\"text-align: right;\">\n",
       "      <th></th>\n",
       "      <th>date</th>\n",
       "    </tr>\n",
       "    <tr>\n",
       "      <th>Eddy ID</th>\n",
       "      <th></th>\n",
       "    </tr>\n",
       "  </thead>\n",
       "  <tbody>\n",
       "    <tr>\n",
       "      <th>2997</th>\n",
       "      <td>21 days</td>\n",
       "    </tr>\n",
       "    <tr>\n",
       "      <th>2998</th>\n",
       "      <td>21 days</td>\n",
       "    </tr>\n",
       "    <tr>\n",
       "      <th>2999</th>\n",
       "      <td>21 days</td>\n",
       "    </tr>\n",
       "    <tr>\n",
       "      <th>3000</th>\n",
       "      <td>21 days</td>\n",
       "    </tr>\n",
       "  </tbody>\n",
       "</table>\n",
       "</div>"
      ],
      "text/plain": [
       "           date\n",
       "Eddy ID        \n",
       "2997    21 days\n",
       "2998    21 days\n",
       "2999    21 days\n",
       "3000    21 days"
      ]
     },
     "execution_count": 103,
     "metadata": {},
     "output_type": "execute_result"
    }
   ],
   "source": [
    "dd.tail(4)"
   ]
  },
  {
   "cell_type": "code",
   "execution_count": 104,
   "metadata": {
    "collapsed": true
   },
   "outputs": [],
   "source": [
    "# Durations in Integers\n",
    "di = np.zeros(M)"
   ]
  },
  {
   "cell_type": "code",
   "execution_count": 105,
   "metadata": {
    "collapsed": false
   },
   "outputs": [],
   "source": [
    "for i in range(M):\n",
    "    di[i] = np.timedelta64(dd.date[i+1], 'D')/np.timedelta64(1, 'D')"
   ]
  },
  {
   "cell_type": "code",
   "execution_count": 106,
   "metadata": {
    "collapsed": true
   },
   "outputs": [],
   "source": [
    "di = pd.DataFrame(di)"
   ]
  },
  {
   "cell_type": "code",
   "execution_count": 107,
   "metadata": {
    "collapsed": false
   },
   "outputs": [],
   "source": [
    "di = pd.concat([index, di], axis=1)\n",
    "di.columns = ['Eddy ID', 'day']\n",
    "di = di.set_index('Eddy ID')\n",
    "di.day = di.day.astype(int)"
   ]
  },
  {
   "cell_type": "code",
   "execution_count": 108,
   "metadata": {
    "collapsed": false
   },
   "outputs": [
    {
     "data": {
      "text/html": [
       "<div>\n",
       "<table border=\"1\" class=\"dataframe\">\n",
       "  <thead>\n",
       "    <tr style=\"text-align: right;\">\n",
       "      <th></th>\n",
       "      <th>day</th>\n",
       "    </tr>\n",
       "    <tr>\n",
       "      <th>Eddy ID</th>\n",
       "      <th></th>\n",
       "    </tr>\n",
       "  </thead>\n",
       "  <tbody>\n",
       "    <tr>\n",
       "      <th>2997</th>\n",
       "      <td>21</td>\n",
       "    </tr>\n",
       "    <tr>\n",
       "      <th>2998</th>\n",
       "      <td>21</td>\n",
       "    </tr>\n",
       "    <tr>\n",
       "      <th>2999</th>\n",
       "      <td>21</td>\n",
       "    </tr>\n",
       "    <tr>\n",
       "      <th>3000</th>\n",
       "      <td>21</td>\n",
       "    </tr>\n",
       "  </tbody>\n",
       "</table>\n",
       "</div>"
      ],
      "text/plain": [
       "         day\n",
       "Eddy ID     \n",
       "2997      21\n",
       "2998      21\n",
       "2999      21\n",
       "3000      21"
      ]
     },
     "execution_count": 108,
     "metadata": {},
     "output_type": "execute_result"
    }
   ],
   "source": [
    "di.tail(4)"
   ]
  },
  {
   "cell_type": "markdown",
   "metadata": {},
   "source": [
    "### Area ###"
   ]
  },
  {
   "cell_type": "code",
   "execution_count": 109,
   "metadata": {
    "collapsed": true
   },
   "outputs": [],
   "source": [
    "radius = np.asarray(ds.L)"
   ]
  },
  {
   "cell_type": "code",
   "execution_count": 110,
   "metadata": {
    "collapsed": false
   },
   "outputs": [],
   "source": [
    "area = 2*pi*(radius**2)"
   ]
  },
  {
   "cell_type": "code",
   "execution_count": 111,
   "metadata": {
    "collapsed": true
   },
   "outputs": [],
   "source": [
    "aa = np.zeros(M)"
   ]
  },
  {
   "cell_type": "code",
   "execution_count": 112,
   "metadata": {
    "collapsed": false
   },
   "outputs": [],
   "source": [
    "i = 0\n",
    "c = 0\n",
    "\n",
    "while i < N:\n",
    "    c = int(c) + 1\n",
    "    aa[c-1] = area[i]\n",
    "    i = i + int(point[c-1])"
   ]
  },
  {
   "cell_type": "code",
   "execution_count": 113,
   "metadata": {
    "collapsed": false
   },
   "outputs": [],
   "source": [
    "aa = pd.DataFrame(aa)"
   ]
  },
  {
   "cell_type": "code",
   "execution_count": 114,
   "metadata": {
    "collapsed": false
   },
   "outputs": [],
   "source": [
    "# Area in Square Kilometers\n",
    "aa = pd.concat([index, aa], axis=1)\n",
    "aa.columns = ['Eddy ID', 'area']\n",
    "aa = aa.set_index('Eddy ID')\n",
    "\n",
    "# Area in Square Meters\n",
    "aa = aa*10**6"
   ]
  },
  {
   "cell_type": "code",
   "execution_count": 115,
   "metadata": {
    "collapsed": false
   },
   "outputs": [
    {
     "data": {
      "text/html": [
       "<div>\n",
       "<table border=\"1\" class=\"dataframe\">\n",
       "  <thead>\n",
       "    <tr style=\"text-align: right;\">\n",
       "      <th></th>\n",
       "      <th>area</th>\n",
       "    </tr>\n",
       "    <tr>\n",
       "      <th>Eddy ID</th>\n",
       "      <th></th>\n",
       "    </tr>\n",
       "  </thead>\n",
       "  <tbody>\n",
       "    <tr>\n",
       "      <th>2997</th>\n",
       "      <td>3.507557e+10</td>\n",
       "    </tr>\n",
       "    <tr>\n",
       "      <th>2998</th>\n",
       "      <td>6.621897e+10</td>\n",
       "    </tr>\n",
       "    <tr>\n",
       "      <th>2999</th>\n",
       "      <td>3.622820e+10</td>\n",
       "    </tr>\n",
       "    <tr>\n",
       "      <th>3000</th>\n",
       "      <td>1.053088e+11</td>\n",
       "    </tr>\n",
       "  </tbody>\n",
       "</table>\n",
       "</div>"
      ],
      "text/plain": [
       "                 area\n",
       "Eddy ID              \n",
       "2997     3.507557e+10\n",
       "2998     6.621897e+10\n",
       "2999     3.622820e+10\n",
       "3000     1.053088e+11"
      ]
     },
     "execution_count": 115,
     "metadata": {},
     "output_type": "execute_result"
    }
   ],
   "source": [
    "aa.tail(4)"
   ]
  },
  {
   "cell_type": "markdown",
   "metadata": {},
   "source": [
    "### Vorticity ###"
   ]
  },
  {
   "cell_type": "code",
   "execution_count": 116,
   "metadata": {
    "collapsed": false
   },
   "outputs": [],
   "source": [
    "from tqdm import tqdm"
   ]
  },
  {
   "cell_type": "code",
   "execution_count": 117,
   "metadata": {
    "collapsed": false
   },
   "outputs": [],
   "source": [
    "# Relative Vorticity\n",
    "zeta = np.asarray((ds.U*0.01)/(ds.L*1000))"
   ]
  },
  {
   "cell_type": "code",
   "execution_count": 118,
   "metadata": {
    "collapsed": false
   },
   "outputs": [],
   "source": [
    "# Multi-Index Construction\n",
    "arrays = [track, n]\n",
    "tuples = list(zip(*arrays))\n",
    "multi_index = pd.MultiIndex.from_tuples(tuples, names=['Eddy ID', 'Point ID'])"
   ]
  },
  {
   "cell_type": "code",
   "execution_count": 119,
   "metadata": {
    "collapsed": true
   },
   "outputs": [],
   "source": [
    "zeta = pd.DataFrame(zeta, index=multi_index)\n",
    "zeta.columns = ['relative vorticity']"
   ]
  },
  {
   "cell_type": "code",
   "execution_count": 120,
   "metadata": {
    "collapsed": false
   },
   "outputs": [
    {
     "data": {
      "text/html": [
       "<div>\n",
       "<table border=\"1\" class=\"dataframe\">\n",
       "  <thead>\n",
       "    <tr style=\"text-align: right;\">\n",
       "      <th></th>\n",
       "      <th></th>\n",
       "      <th>relative vorticity</th>\n",
       "    </tr>\n",
       "    <tr>\n",
       "      <th>Eddy ID</th>\n",
       "      <th>Point ID</th>\n",
       "      <th></th>\n",
       "    </tr>\n",
       "  </thead>\n",
       "  <tbody>\n",
       "    <tr>\n",
       "      <th rowspan=\"4\" valign=\"top\">3000</th>\n",
       "      <th>1</th>\n",
       "      <td>0.000003</td>\n",
       "    </tr>\n",
       "    <tr>\n",
       "      <th>2</th>\n",
       "      <td>0.000008</td>\n",
       "    </tr>\n",
       "    <tr>\n",
       "      <th>3</th>\n",
       "      <td>0.000002</td>\n",
       "    </tr>\n",
       "    <tr>\n",
       "      <th>4</th>\n",
       "      <td>0.000001</td>\n",
       "    </tr>\n",
       "  </tbody>\n",
       "</table>\n",
       "</div>"
      ],
      "text/plain": [
       "                  relative vorticity\n",
       "Eddy ID Point ID                    \n",
       "3000    1                   0.000003\n",
       "        2                   0.000008\n",
       "        3                   0.000002\n",
       "        4                   0.000001"
      ]
     },
     "execution_count": 120,
     "metadata": {},
     "output_type": "execute_result"
    }
   ],
   "source": [
    "zeta.tail(4)"
   ]
  },
  {
   "cell_type": "code",
   "execution_count": 121,
   "metadata": {
    "collapsed": true
   },
   "outputs": [],
   "source": [
    "lav = np.zeros(M)"
   ]
  },
  {
   "cell_type": "code",
   "execution_count": 122,
   "metadata": {
    "collapsed": false
   },
   "outputs": [
    {
     "name": "stderr",
     "output_type": "stream",
     "text": [
      "100%|██████████| 3000/3000 [00:04<00:00, 727.20it/s]\n"
     ]
    }
   ],
   "source": [
    "for i in tqdm(range(0, M)):\n",
    "    lav[i] = zeta.loc[i+1].mean()"
   ]
  },
  {
   "cell_type": "code",
   "execution_count": 123,
   "metadata": {
    "collapsed": false
   },
   "outputs": [],
   "source": [
    "lav = pd.DataFrame(lav)"
   ]
  },
  {
   "cell_type": "code",
   "execution_count": 124,
   "metadata": {
    "collapsed": false
   },
   "outputs": [],
   "source": [
    "lav = pd.concat([index, lav], axis=1)\n",
    "lav.columns = ['Eddy ID', 'zeta']\n",
    "lav = lav.set_index('Eddy ID')"
   ]
  },
  {
   "cell_type": "code",
   "execution_count": 125,
   "metadata": {
    "collapsed": false
   },
   "outputs": [
    {
     "data": {
      "text/html": [
       "<div>\n",
       "<table border=\"1\" class=\"dataframe\">\n",
       "  <thead>\n",
       "    <tr style=\"text-align: right;\">\n",
       "      <th></th>\n",
       "      <th>zeta</th>\n",
       "    </tr>\n",
       "    <tr>\n",
       "      <th>Eddy ID</th>\n",
       "      <th></th>\n",
       "    </tr>\n",
       "  </thead>\n",
       "  <tbody>\n",
       "    <tr>\n",
       "      <th>2997</th>\n",
       "      <td>1.215096e-06</td>\n",
       "    </tr>\n",
       "    <tr>\n",
       "      <th>2998</th>\n",
       "      <td>3.599635e-06</td>\n",
       "    </tr>\n",
       "    <tr>\n",
       "      <th>2999</th>\n",
       "      <td>8.633401e-07</td>\n",
       "    </tr>\n",
       "    <tr>\n",
       "      <th>3000</th>\n",
       "      <td>3.899964e-06</td>\n",
       "    </tr>\n",
       "  </tbody>\n",
       "</table>\n",
       "</div>"
      ],
      "text/plain": [
       "                 zeta\n",
       "Eddy ID              \n",
       "2997     1.215096e-06\n",
       "2998     3.599635e-06\n",
       "2999     8.633401e-07\n",
       "3000     3.899964e-06"
      ]
     },
     "execution_count": 125,
     "metadata": {},
     "output_type": "execute_result"
    }
   ],
   "source": [
    "lav.tail(4)"
   ]
  },
  {
   "cell_type": "markdown",
   "metadata": {},
   "source": [
    "### GeoJSON ###"
   ]
  },
  {
   "cell_type": "code",
   "execution_count": 126,
   "metadata": {
    "collapsed": false
   },
   "outputs": [],
   "source": [
    "from geojson import LineString, Point, Polygon\n",
    "from pymongo import MongoClient"
   ]
  },
  {
   "cell_type": "code",
   "execution_count": 127,
   "metadata": {
    "collapsed": false
   },
   "outputs": [],
   "source": [
    "client = MongoClient()\n",
    "db = client.eddies"
   ]
  },
  {
   "cell_type": "code",
   "execution_count": 128,
   "metadata": {
    "collapsed": false
   },
   "outputs": [
    {
     "data": {
      "text/plain": [
       "[u'eddies', u'local']"
      ]
     },
     "execution_count": 128,
     "metadata": {},
     "output_type": "execute_result"
    }
   ],
   "source": [
    "# Print Database Names\n",
    "client.database_names()"
   ]
  },
  {
   "cell_type": "code",
   "execution_count": 129,
   "metadata": {
    "collapsed": false
   },
   "outputs": [
    {
     "data": {
      "text/plain": [
       "[u'ssh_eddies']"
      ]
     },
     "execution_count": 129,
     "metadata": {},
     "output_type": "execute_result"
    }
   ],
   "source": [
    "# Print Collection Names\n",
    "db.collection_names()"
   ]
  },
  {
   "cell_type": "code",
   "execution_count": 130,
   "metadata": {
    "collapsed": false
   },
   "outputs": [
    {
     "name": "stderr",
     "output_type": "stream",
     "text": [
      "/Applications/anaconda/lib/python2.7/site-packages/ipykernel/__main__.py:2: DeprecationWarning: remove is deprecated. Use delete_one or delete_many instead.\n",
      "  from ipykernel import kernelapp as app\n"
     ]
    }
   ],
   "source": [
    "# Removes Documents from the Collection\n",
    "result = db.ssh_eddies.remove()"
   ]
  },
  {
   "cell_type": "code",
   "execution_count": 131,
   "metadata": {
    "collapsed": false
   },
   "outputs": [
    {
     "name": "stderr",
     "output_type": "stream",
     "text": [
      "100%|██████████| 3000/3000 [00:40<00:00, 73.51it/s]\n"
     ]
    }
   ],
   "source": [
    "# Inserts Documents into the Collection\n",
    "for i in tqdm(range(1, M+1)):\n",
    "\n",
    "    # GeoJSON\n",
    "    eddy = {\n",
    "        '_id': int(eddy_id.loc[i]),\n",
    "        'type': 'FeatureSet',\n",
    "        'loc_start': [sc.loc[i]['lon'], sc.loc[i]['lat']],\n",
    "        'loc_end': [ec.loc[i]['lon'], ec.loc[i]['lat']],\n",
    "        'date_start': sd.loc[i]['date'],\n",
    "        'date_end': ed.loc[i]['date'],\n",
    "        'duration': di.loc[i]['day'],\n",
    "        'area': aa.loc[i]['area'],\n",
    "        'lav': lav.loc[i]['zeta'],\n",
    "        'features': [\n",
    "            {\n",
    "                'type': 'Feature',\n",
    "                'properties': {'name': 'start_center'},\n",
    "                'geometry': Point(tuple(sc.loc[i][['lon', 'lat']].values))\n",
    "            },\n",
    "            {\n",
    "                'type': 'Feature',\n",
    "                'properties': {'name': 'end_center'},\n",
    "                'geometry': Point(tuple(ec.loc[i][['lon', 'lat']].values))\n",
    "            },\n",
    "            {\n",
    "                'type': 'Feature',\n",
    "                'properties': {'name': 'trajectory'},\n",
    "                'geometry': LineString([tuple(x) for x in ls.loc[i][['lon', 'lat']].values])\n",
    "            },\n",
    "            {\n",
    "                'type': 'Feature',\n",
    "                'properties': {'name': 'start_polygon'},\n",
    "                'geometry': Polygon([[tuple(x) for x in op.loc[i][['lon', 'lat']].values]])\n",
    "            },\n",
    "            {\n",
    "                'type': 'Feature',\n",
    "                'properties': {'name': 'end_polygon'},\n",
    "                'geometry': Polygon([[tuple(x) for x in tp.loc[i][['lon', 'lat']].values]])\n",
    "            }\n",
    "        ]    \n",
    "    }\n",
    "    \n",
    "    # MongoDB\n",
    "    result = db.ssh_eddies.insert_one(dict(eddy))"
   ]
  },
  {
   "cell_type": "code",
   "execution_count": null,
   "metadata": {
    "collapsed": true
   },
   "outputs": [],
   "source": []
  }
 ],
 "metadata": {
  "anaconda-cloud": {},
  "kernelspec": {
   "display_name": "Python [Root]",
   "language": "python",
   "name": "Python [Root]"
  },
  "language_info": {
   "codemirror_mode": {
    "name": "ipython",
    "version": 2
   },
   "file_extension": ".py",
   "mimetype": "text/x-python",
   "name": "python",
   "nbconvert_exporter": "python",
   "pygments_lexer": "ipython2",
   "version": "2.7.12"
  }
 },
 "nbformat": 4,
 "nbformat_minor": 0
}
