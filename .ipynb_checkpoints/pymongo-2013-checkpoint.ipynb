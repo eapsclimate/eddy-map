{
 "cells": [
  {
   "cell_type": "markdown",
   "metadata": {},
   "source": [
    "### data ###"
   ]
  },
  {
   "cell_type": "code",
   "execution_count": 1,
   "metadata": {
    "collapsed": false
   },
   "outputs": [],
   "source": [
    "import xarray as xr"
   ]
  },
  {
   "cell_type": "code",
   "execution_count": 2,
   "metadata": {
    "collapsed": false
   },
   "outputs": [
    {
     "data": {
      "text/plain": [
       "<xarray.Dataset>\n",
       "Dimensions:  (Nobs: 2590938)\n",
       "Coordinates:\n",
       "  * Nobs     (Nobs) int64 0 1 2 3 4 5 6 7 8 9 10 11 12 13 14 15 16 17 18 19 ...\n",
       "Data variables:\n",
       "    track    (Nobs) int32 1 1 1 1 2 2 2 2 3 3 3 3 4 4 4 4 5 5 5 5 6 6 6 6 7 ...\n",
       "    n        (Nobs) int32 1 2 3 4 1 2 3 4 1 2 3 4 1 2 3 4 1 2 3 4 1 2 3 4 1 ...\n",
       "    j1       (Nobs) int32 2448910 2448917 2448924 2448931 2448910 2448917 ...\n",
       "    cyc      (Nobs) int32 -1 -1 -1 -1 -1 -1 -1 -1 -1 -1 -1 -1 -1 -1 -1 -1 -1 ...\n",
       "    lon      (Nobs) float32 636.74 635.99 635.82 635.845 560.642 561.447 ...\n",
       "    lat      (Nobs) float32 -65.0011 -65.1376 -65.2457 -65.2933 -62.5424 ...\n",
       "    A        (Nobs) float32 1.24564 2.64604 3.40119 1.45836 2.16156 4.87579 ...\n",
       "    L        (Nobs) float32 44.464 36.7024 45.4221 43.022 63.0697 51.1345 ...\n",
       "    U        (Nobs) float32 5.97993 8.17373 8.28628 5.20364 4.81408 6.59872 ...\n",
       "Attributes:\n",
       "    title: Mesoscale Eddies in Altimeter Observations of SSH\n",
       "    institution: Oregon State University/CEOAS\n",
       "    file_name: tracks.20130125.nc\n",
       "    file_creation_time: 2013May06 15:53:30\n",
       "    data_process_date: 20130125\n",
       "    data_start_date: Oct 14, 1992\n",
       "    data_end_date: Apr  4, 2012\n",
       "    authors: Dudley Chelton and Michael Schlax\n",
       "    inquiries_to: Eric Beals (beals@coas.oregonstate.edu)"
      ]
     },
     "execution_count": 2,
     "metadata": {},
     "output_type": "execute_result"
    }
   ],
   "source": [
    "# xarray dataset\n",
    "ds = xr.open_dataset('/home/cz2397/data/ssh-eddies/tracks.20130125.nc', decode_cf=False)\n",
    "ds"
   ]
  },
  {
   "cell_type": "code",
   "execution_count": 3,
   "metadata": {
    "collapsed": false
   },
   "outputs": [
    {
     "data": {
      "text/plain": [
       "<xarray.DataArray 'track' (Nobs: 2590938)>\n",
       "[2590938 values with dtype=int32]\n",
       "Coordinates:\n",
       "  * Nobs     (Nobs) int64 0 1 2 3 4 5 6 7 8 9 10 11 12 13 14 15 16 17 18 19 ...\n",
       "Attributes:\n",
       "    units: ordinal\n",
       "    min: 1\n",
       "    max: 215184\n",
       "    long_name: track number\n",
       "    description: eddy identification number"
      ]
     },
     "execution_count": 3,
     "metadata": {},
     "output_type": "execute_result"
    }
   ],
   "source": [
    "# track number\n",
    "ds.track"
   ]
  },
  {
   "cell_type": "code",
   "execution_count": 4,
   "metadata": {
    "collapsed": false
   },
   "outputs": [
    {
     "data": {
      "text/plain": [
       "<xarray.DataArray 'n' (Nobs: 2590938)>\n",
       "[2590938 values with dtype=int32]\n",
       "Coordinates:\n",
       "  * Nobs     (Nobs) int64 0 1 2 3 4 5 6 7 8 9 10 11 12 13 14 15 16 17 18 19 ...\n",
       "Attributes:\n",
       "    units: ordinal\n",
       "    min: 4\n",
       "    max: 307\n",
       "    long_name: observation number\n",
       "    description: observation sequence number (7 day intervals)"
      ]
     },
     "execution_count": 4,
     "metadata": {},
     "output_type": "execute_result"
    }
   ],
   "source": [
    "# observation number\n",
    "ds.n"
   ]
  },
  {
   "cell_type": "code",
   "execution_count": 5,
   "metadata": {
    "collapsed": false
   },
   "outputs": [
    {
     "data": {
      "text/plain": [
       "<xarray.DataArray 'j1' (Nobs: 2590938)>\n",
       "[2590938 values with dtype=int32]\n",
       "Coordinates:\n",
       "  * Nobs     (Nobs) int64 0 1 2 3 4 5 6 7 8 9 10 11 12 13 14 15 16 17 18 19 ...\n",
       "Attributes:\n",
       "    units: days\n",
       "    min: 2448910\n",
       "    max: 2456001\n",
       "    long_name: Julian date\n",
       "    description: date of this observation\n",
       "    reference: 2448623\n",
       "    reference_description: Julian date at Jan 1, 1992"
      ]
     },
     "execution_count": 5,
     "metadata": {},
     "output_type": "execute_result"
    }
   ],
   "source": [
    "# julian date\n",
    "ds.j1"
   ]
  },
  {
   "cell_type": "code",
   "execution_count": 6,
   "metadata": {
    "collapsed": false
   },
   "outputs": [
    {
     "data": {
      "text/plain": [
       "<xarray.DataArray 'cyc' (Nobs: 2590938)>\n",
       "[2590938 values with dtype=int32]\n",
       "Coordinates:\n",
       "  * Nobs     (Nobs) int64 0 1 2 3 4 5 6 7 8 9 10 11 12 13 14 15 16 17 18 19 ...\n",
       "Attributes:\n",
       "    units: boolean\n",
       "    min: -1\n",
       "    max: 1\n",
       "    long_name: cyclonic\n",
       "    description: cyclonic -1; anti-cyclonic +1"
      ]
     },
     "execution_count": 6,
     "metadata": {},
     "output_type": "execute_result"
    }
   ],
   "source": [
    "# cyclonic\n",
    "ds.cyc"
   ]
  },
  {
   "cell_type": "code",
   "execution_count": 7,
   "metadata": {
    "collapsed": false
   },
   "outputs": [
    {
     "data": {
      "text/plain": [
       "<xarray.DataArray 'lon' (Nobs: 2590938)>\n",
       "[2590938 values with dtype=float32]\n",
       "Coordinates:\n",
       "  * Nobs     (Nobs) int64 0 1 2 3 4 5 6 7 8 9 10 11 12 13 14 15 16 17 18 19 ...\n",
       "Attributes:\n",
       "    units: degrees east\n",
       "    min: 262.901\n",
       "    max: 649.407\n",
       "    long_name: longitude\n",
       "    description: longitude of this observation\n",
       "    note: To avoid jumps of ~360 deg in eddy tracks when the trajectory wraps around a longitude branch point that might lie in a region of interest, the longitude domain is set to 260E-650E. With this range, the only eddies with trajectories that might be affected will be those passing through the Drake Passage."
      ]
     },
     "execution_count": 7,
     "metadata": {},
     "output_type": "execute_result"
    }
   ],
   "source": [
    "# longitude\n",
    "ds.lon"
   ]
  },
  {
   "cell_type": "code",
   "execution_count": 8,
   "metadata": {
    "collapsed": false
   },
   "outputs": [
    {
     "data": {
      "text/plain": [
       "<xarray.DataArray 'lat' (Nobs: 2590938)>\n",
       "[2590938 values with dtype=float32]\n",
       "Coordinates:\n",
       "  * Nobs     (Nobs) int64 0 1 2 3 4 5 6 7 8 9 10 11 12 13 14 15 16 17 18 19 ...\n",
       "Attributes:\n",
       "    units: degrees north\n",
       "    min: -75.8862\n",
       "    max: 79.4768\n",
       "    long_name: latitude\n",
       "    description: latitude of this observation (negative for southern hemisphere)"
      ]
     },
     "execution_count": 8,
     "metadata": {},
     "output_type": "execute_result"
    }
   ],
   "source": [
    "# latitude\n",
    "ds.lat"
   ]
  },
  {
   "cell_type": "code",
   "execution_count": 9,
   "metadata": {
    "collapsed": false
   },
   "outputs": [
    {
     "data": {
      "text/plain": [
       "<xarray.DataArray 'A' (Nobs: 2590938)>\n",
       "[2590938 values with dtype=float32]\n",
       "Coordinates:\n",
       "  * Nobs     (Nobs) int64 0 1 2 3 4 5 6 7 8 9 10 11 12 13 14 15 16 17 18 19 ...\n",
       "Attributes:\n",
       "    units: cm\n",
       "    min: 1.00001\n",
       "    max: 125.935\n",
       "    long_name: amplitude\n",
       "    description: magnitude of the height difference between the extremum of SSH within the eddy and the SSH around the contour defining the eddy perimeter"
      ]
     },
     "execution_count": 9,
     "metadata": {},
     "output_type": "execute_result"
    }
   ],
   "source": [
    "# amplitude\n",
    "ds.A"
   ]
  },
  {
   "cell_type": "code",
   "execution_count": 10,
   "metadata": {
    "collapsed": false
   },
   "outputs": [
    {
     "data": {
      "text/plain": [
       "<xarray.DataArray 'L' (Nobs: 2590938)>\n",
       "[2590938 values with dtype=float32]\n",
       "Coordinates:\n",
       "  * Nobs     (Nobs) int64 0 1 2 3 4 5 6 7 8 9 10 11 12 13 14 15 16 17 18 19 ...\n",
       "Attributes:\n",
       "    units: km\n",
       "    min: 9.42582\n",
       "    max: 444.155\n",
       "    long_name: radius scale\n",
       "    description: radius of a circle whose area is equal to that enclosed by the contour of maximum circum-average speed"
      ]
     },
     "execution_count": 10,
     "metadata": {},
     "output_type": "execute_result"
    }
   ],
   "source": [
    "# radius scale\n",
    "ds.L"
   ]
  },
  {
   "cell_type": "code",
   "execution_count": 11,
   "metadata": {
    "collapsed": false
   },
   "outputs": [
    {
     "data": {
      "text/plain": [
       "<xarray.DataArray 'U' (Nobs: 2590938)>\n",
       "[2590938 values with dtype=float32]\n",
       "Coordinates:\n",
       "  * Nobs     (Nobs) int64 0 1 2 3 4 5 6 7 8 9 10 11 12 13 14 15 16 17 18 19 ...\n",
       "Attributes:\n",
       "    units: cm/sec\n",
       "    min: 0.58823\n",
       "    max: 563.817\n",
       "    long_name: maximum circum-averaged speed\n",
       "    description: average speed of the contour defining the radius scale L"
      ]
     },
     "execution_count": 11,
     "metadata": {},
     "output_type": "execute_result"
    }
   ],
   "source": [
    "# maximum circum-averaged speed\n",
    "ds.U"
   ]
  },
  {
   "cell_type": "markdown",
   "metadata": {},
   "source": [
    "### multi-index ###"
   ]
  },
  {
   "cell_type": "code",
   "execution_count": 12,
   "metadata": {
    "collapsed": false
   },
   "outputs": [],
   "source": [
    "from tqdm import tqdm\n",
    "import numpy as np\n",
    "import pandas as pd"
   ]
  },
  {
   "cell_type": "code",
   "execution_count": 13,
   "metadata": {
    "collapsed": true
   },
   "outputs": [],
   "source": [
    "df = ds.to_dataframe()"
   ]
  },
  {
   "cell_type": "code",
   "execution_count": 14,
   "metadata": {
    "collapsed": false,
    "scrolled": true
   },
   "outputs": [
    {
     "data": {
      "text/html": [
       "<div>\n",
       "<table border=\"1\" class=\"dataframe\">\n",
       "  <thead>\n",
       "    <tr style=\"text-align: right;\">\n",
       "      <th></th>\n",
       "      <th>track</th>\n",
       "      <th>n</th>\n",
       "      <th>j1</th>\n",
       "      <th>cyc</th>\n",
       "      <th>lon</th>\n",
       "      <th>lat</th>\n",
       "      <th>A</th>\n",
       "      <th>L</th>\n",
       "      <th>U</th>\n",
       "    </tr>\n",
       "    <tr>\n",
       "      <th>Nobs</th>\n",
       "      <th></th>\n",
       "      <th></th>\n",
       "      <th></th>\n",
       "      <th></th>\n",
       "      <th></th>\n",
       "      <th></th>\n",
       "      <th></th>\n",
       "      <th></th>\n",
       "      <th></th>\n",
       "    </tr>\n",
       "  </thead>\n",
       "  <tbody>\n",
       "    <tr>\n",
       "      <th>0</th>\n",
       "      <td>1</td>\n",
       "      <td>1</td>\n",
       "      <td>2448910</td>\n",
       "      <td>-1</td>\n",
       "      <td>636.739990</td>\n",
       "      <td>-65.001099</td>\n",
       "      <td>1.24564</td>\n",
       "      <td>44.464001</td>\n",
       "      <td>5.97993</td>\n",
       "    </tr>\n",
       "    <tr>\n",
       "      <th>1</th>\n",
       "      <td>1</td>\n",
       "      <td>2</td>\n",
       "      <td>2448917</td>\n",
       "      <td>-1</td>\n",
       "      <td>635.989990</td>\n",
       "      <td>-65.137604</td>\n",
       "      <td>2.64604</td>\n",
       "      <td>36.702400</td>\n",
       "      <td>8.17373</td>\n",
       "    </tr>\n",
       "    <tr>\n",
       "      <th>2</th>\n",
       "      <td>1</td>\n",
       "      <td>3</td>\n",
       "      <td>2448924</td>\n",
       "      <td>-1</td>\n",
       "      <td>635.820007</td>\n",
       "      <td>-65.245697</td>\n",
       "      <td>3.40119</td>\n",
       "      <td>45.422100</td>\n",
       "      <td>8.28628</td>\n",
       "    </tr>\n",
       "    <tr>\n",
       "      <th>3</th>\n",
       "      <td>1</td>\n",
       "      <td>4</td>\n",
       "      <td>2448931</td>\n",
       "      <td>-1</td>\n",
       "      <td>635.844971</td>\n",
       "      <td>-65.293297</td>\n",
       "      <td>1.45836</td>\n",
       "      <td>43.021999</td>\n",
       "      <td>5.20364</td>\n",
       "    </tr>\n",
       "    <tr>\n",
       "      <th>4</th>\n",
       "      <td>2</td>\n",
       "      <td>1</td>\n",
       "      <td>2448910</td>\n",
       "      <td>-1</td>\n",
       "      <td>560.642029</td>\n",
       "      <td>-62.542400</td>\n",
       "      <td>2.16156</td>\n",
       "      <td>63.069698</td>\n",
       "      <td>4.81408</td>\n",
       "    </tr>\n",
       "  </tbody>\n",
       "</table>\n",
       "</div>"
      ],
      "text/plain": [
       "      track  n       j1  cyc         lon        lat        A          L  \\\n",
       "Nobs                                                                      \n",
       "0         1  1  2448910   -1  636.739990 -65.001099  1.24564  44.464001   \n",
       "1         1  2  2448917   -1  635.989990 -65.137604  2.64604  36.702400   \n",
       "2         1  3  2448924   -1  635.820007 -65.245697  3.40119  45.422100   \n",
       "3         1  4  2448931   -1  635.844971 -65.293297  1.45836  43.021999   \n",
       "4         2  1  2448910   -1  560.642029 -62.542400  2.16156  63.069698   \n",
       "\n",
       "            U  \n",
       "Nobs           \n",
       "0     5.97993  \n",
       "1     8.17373  \n",
       "2     8.28628  \n",
       "3     5.20364  \n",
       "4     4.81408  "
      ]
     },
     "execution_count": 14,
     "metadata": {},
     "output_type": "execute_result"
    }
   ],
   "source": [
    "df.head()"
   ]
  },
  {
   "cell_type": "code",
   "execution_count": 15,
   "metadata": {
    "collapsed": false
   },
   "outputs": [
    {
     "data": {
      "text/plain": [
       "215184"
      ]
     },
     "execution_count": 15,
     "metadata": {},
     "output_type": "execute_result"
    }
   ],
   "source": [
    "# track number\n",
    "tra_num = max(df.track)\n",
    "tra_num"
   ]
  },
  {
   "cell_type": "code",
   "execution_count": 77,
   "metadata": {
    "collapsed": false
   },
   "outputs": [
    {
     "data": {
      "text/plain": [
       "2590938"
      ]
     },
     "execution_count": 77,
     "metadata": {},
     "output_type": "execute_result"
    }
   ],
   "source": [
    "# observation number\n",
    "obs_num = len(df.n)\n",
    "obs_num"
   ]
  },
  {
   "cell_type": "code",
   "execution_count": 17,
   "metadata": {
    "collapsed": false
   },
   "outputs": [],
   "source": [
    "track = np.asarray(df.track)\n",
    "n = np.asarray(df.n)"
   ]
  },
  {
   "cell_type": "code",
   "execution_count": 18,
   "metadata": {
    "collapsed": true
   },
   "outputs": [],
   "source": [
    "# multi-index construction\n",
    "arrays = [track, n]\n",
    "tuples = list(zip(*arrays))\n",
    "multi_index = pd.MultiIndex.from_tuples(tuples, names=['track-id', 'point-id'])"
   ]
  },
  {
   "cell_type": "code",
   "execution_count": 19,
   "metadata": {
    "collapsed": true
   },
   "outputs": [],
   "source": [
    "j1 = np.asarray(df.j1)\n",
    "cyc = np.asarray(df.cyc)\n",
    "lon = np.asarray(df.lon)\n",
    "lat = np.asarray(df.lat)\n",
    "A = np.asarray(df.A)\n",
    "L = np.asarray(df.L)\n",
    "U = np.asarray(df.U)"
   ]
  },
  {
   "cell_type": "code",
   "execution_count": 20,
   "metadata": {
    "collapsed": false
   },
   "outputs": [],
   "source": [
    "matrix = np.zeros((obs_num, 7))"
   ]
  },
  {
   "cell_type": "code",
   "execution_count": 21,
   "metadata": {
    "collapsed": false
   },
   "outputs": [
    {
     "name": "stderr",
     "output_type": "stream",
     "text": [
      "100%|██████████| 2590938/2590938 [00:06<00:00, 377112.24it/s]\n"
     ]
    }
   ],
   "source": [
    "for i in tqdm(range(obs_num)):\n",
    "    matrix[i][0] = j1[i]\n",
    "    matrix[i][1] = cyc[i]\n",
    "    matrix[i][2] = lon[i]\n",
    "    matrix[i][3] = lat[i]\n",
    "    matrix[i][4] = A[i]\n",
    "    matrix[i][5] = L[i]\n",
    "    matrix[i][6] = U[i]"
   ]
  },
  {
   "cell_type": "code",
   "execution_count": 22,
   "metadata": {
    "collapsed": true
   },
   "outputs": [],
   "source": [
    "DF = pd.DataFrame(matrix, index=multi_index)\n",
    "DF.columns = ['j1', 'cyc', 'lon', 'lat', 'A', 'L', 'U']"
   ]
  },
  {
   "cell_type": "code",
   "execution_count": 23,
   "metadata": {
    "collapsed": false
   },
   "outputs": [
    {
     "data": {
      "text/html": [
       "<div>\n",
       "<table border=\"1\" class=\"dataframe\">\n",
       "  <thead>\n",
       "    <tr style=\"text-align: right;\">\n",
       "      <th></th>\n",
       "      <th></th>\n",
       "      <th>j1</th>\n",
       "      <th>cyc</th>\n",
       "      <th>lon</th>\n",
       "      <th>lat</th>\n",
       "      <th>A</th>\n",
       "      <th>L</th>\n",
       "      <th>U</th>\n",
       "    </tr>\n",
       "    <tr>\n",
       "      <th>track-id</th>\n",
       "      <th>point-id</th>\n",
       "      <th></th>\n",
       "      <th></th>\n",
       "      <th></th>\n",
       "      <th></th>\n",
       "      <th></th>\n",
       "      <th></th>\n",
       "      <th></th>\n",
       "    </tr>\n",
       "  </thead>\n",
       "  <tbody>\n",
       "    <tr>\n",
       "      <th rowspan=\"4\" valign=\"top\">1</th>\n",
       "      <th>1</th>\n",
       "      <td>2448910</td>\n",
       "      <td>-1</td>\n",
       "      <td>636.739990</td>\n",
       "      <td>-65.001099</td>\n",
       "      <td>1.24564</td>\n",
       "      <td>44.464001</td>\n",
       "      <td>5.97993</td>\n",
       "    </tr>\n",
       "    <tr>\n",
       "      <th>2</th>\n",
       "      <td>2448917</td>\n",
       "      <td>-1</td>\n",
       "      <td>635.989990</td>\n",
       "      <td>-65.137604</td>\n",
       "      <td>2.64604</td>\n",
       "      <td>36.702400</td>\n",
       "      <td>8.17373</td>\n",
       "    </tr>\n",
       "    <tr>\n",
       "      <th>3</th>\n",
       "      <td>2448924</td>\n",
       "      <td>-1</td>\n",
       "      <td>635.820007</td>\n",
       "      <td>-65.245697</td>\n",
       "      <td>3.40119</td>\n",
       "      <td>45.422100</td>\n",
       "      <td>8.28628</td>\n",
       "    </tr>\n",
       "    <tr>\n",
       "      <th>4</th>\n",
       "      <td>2448931</td>\n",
       "      <td>-1</td>\n",
       "      <td>635.844971</td>\n",
       "      <td>-65.293297</td>\n",
       "      <td>1.45836</td>\n",
       "      <td>43.021999</td>\n",
       "      <td>5.20364</td>\n",
       "    </tr>\n",
       "    <tr>\n",
       "      <th>2</th>\n",
       "      <th>1</th>\n",
       "      <td>2448910</td>\n",
       "      <td>-1</td>\n",
       "      <td>560.642029</td>\n",
       "      <td>-62.542400</td>\n",
       "      <td>2.16156</td>\n",
       "      <td>63.069698</td>\n",
       "      <td>4.81408</td>\n",
       "    </tr>\n",
       "  </tbody>\n",
       "</table>\n",
       "</div>"
      ],
      "text/plain": [
       "                        j1  cyc         lon        lat        A          L  \\\n",
       "track-id point-id                                                            \n",
       "1        1         2448910   -1  636.739990 -65.001099  1.24564  44.464001   \n",
       "         2         2448917   -1  635.989990 -65.137604  2.64604  36.702400   \n",
       "         3         2448924   -1  635.820007 -65.245697  3.40119  45.422100   \n",
       "         4         2448931   -1  635.844971 -65.293297  1.45836  43.021999   \n",
       "2        1         2448910   -1  560.642029 -62.542400  2.16156  63.069698   \n",
       "\n",
       "                         U  \n",
       "track-id point-id           \n",
       "1        1         5.97993  \n",
       "         2         8.17373  \n",
       "         3         8.28628  \n",
       "         4         5.20364  \n",
       "2        1         4.81408  "
      ]
     },
     "execution_count": 23,
     "metadata": {},
     "output_type": "execute_result"
    }
   ],
   "source": [
    "DF.head()"
   ]
  },
  {
   "cell_type": "markdown",
   "metadata": {},
   "source": [
    "### time ###"
   ]
  },
  {
   "cell_type": "code",
   "execution_count": 24,
   "metadata": {
    "collapsed": true
   },
   "outputs": [],
   "source": [
    "import datetime, jdcal"
   ]
  },
  {
   "cell_type": "code",
   "execution_count": 25,
   "metadata": {
    "collapsed": true
   },
   "outputs": [],
   "source": [
    "def jday_to_datetime(jday, refday=0):\n",
    "    y, m, d, f = jdcal.jd2gcal(jday, refday)\n",
    "    h = int(f*24)\n",
    "    return pd.to_datetime(datetime.datetime(y, m, d, h))"
   ]
  },
  {
   "cell_type": "code",
   "execution_count": 26,
   "metadata": {
    "collapsed": false
   },
   "outputs": [],
   "source": [
    "date_fix = DF.j1.apply(jday_to_datetime)"
   ]
  },
  {
   "cell_type": "code",
   "execution_count": 27,
   "metadata": {
    "collapsed": true
   },
   "outputs": [],
   "source": [
    "DF.j1 = date_fix\n",
    "DF = DF.rename(columns = {'j1': 'date'})"
   ]
  },
  {
   "cell_type": "code",
   "execution_count": 28,
   "metadata": {
    "collapsed": false
   },
   "outputs": [
    {
     "data": {
      "text/html": [
       "<div>\n",
       "<table border=\"1\" class=\"dataframe\">\n",
       "  <thead>\n",
       "    <tr style=\"text-align: right;\">\n",
       "      <th></th>\n",
       "      <th></th>\n",
       "      <th>date</th>\n",
       "      <th>cyc</th>\n",
       "      <th>lon</th>\n",
       "      <th>lat</th>\n",
       "      <th>A</th>\n",
       "      <th>L</th>\n",
       "      <th>U</th>\n",
       "    </tr>\n",
       "    <tr>\n",
       "      <th>track-id</th>\n",
       "      <th>point-id</th>\n",
       "      <th></th>\n",
       "      <th></th>\n",
       "      <th></th>\n",
       "      <th></th>\n",
       "      <th></th>\n",
       "      <th></th>\n",
       "      <th></th>\n",
       "    </tr>\n",
       "  </thead>\n",
       "  <tbody>\n",
       "    <tr>\n",
       "      <th rowspan=\"4\" valign=\"top\">1</th>\n",
       "      <th>1</th>\n",
       "      <td>1992-10-14 12:00:00</td>\n",
       "      <td>-1</td>\n",
       "      <td>636.739990</td>\n",
       "      <td>-65.001099</td>\n",
       "      <td>1.24564</td>\n",
       "      <td>44.464001</td>\n",
       "      <td>5.97993</td>\n",
       "    </tr>\n",
       "    <tr>\n",
       "      <th>2</th>\n",
       "      <td>1992-10-21 12:00:00</td>\n",
       "      <td>-1</td>\n",
       "      <td>635.989990</td>\n",
       "      <td>-65.137604</td>\n",
       "      <td>2.64604</td>\n",
       "      <td>36.702400</td>\n",
       "      <td>8.17373</td>\n",
       "    </tr>\n",
       "    <tr>\n",
       "      <th>3</th>\n",
       "      <td>1992-10-28 12:00:00</td>\n",
       "      <td>-1</td>\n",
       "      <td>635.820007</td>\n",
       "      <td>-65.245697</td>\n",
       "      <td>3.40119</td>\n",
       "      <td>45.422100</td>\n",
       "      <td>8.28628</td>\n",
       "    </tr>\n",
       "    <tr>\n",
       "      <th>4</th>\n",
       "      <td>1992-11-04 12:00:00</td>\n",
       "      <td>-1</td>\n",
       "      <td>635.844971</td>\n",
       "      <td>-65.293297</td>\n",
       "      <td>1.45836</td>\n",
       "      <td>43.021999</td>\n",
       "      <td>5.20364</td>\n",
       "    </tr>\n",
       "    <tr>\n",
       "      <th>2</th>\n",
       "      <th>1</th>\n",
       "      <td>1992-10-14 12:00:00</td>\n",
       "      <td>-1</td>\n",
       "      <td>560.642029</td>\n",
       "      <td>-62.542400</td>\n",
       "      <td>2.16156</td>\n",
       "      <td>63.069698</td>\n",
       "      <td>4.81408</td>\n",
       "    </tr>\n",
       "  </tbody>\n",
       "</table>\n",
       "</div>"
      ],
      "text/plain": [
       "                                 date  cyc         lon        lat        A  \\\n",
       "track-id point-id                                                            \n",
       "1        1        1992-10-14 12:00:00   -1  636.739990 -65.001099  1.24564   \n",
       "         2        1992-10-21 12:00:00   -1  635.989990 -65.137604  2.64604   \n",
       "         3        1992-10-28 12:00:00   -1  635.820007 -65.245697  3.40119   \n",
       "         4        1992-11-04 12:00:00   -1  635.844971 -65.293297  1.45836   \n",
       "2        1        1992-10-14 12:00:00   -1  560.642029 -62.542400  2.16156   \n",
       "\n",
       "                           L        U  \n",
       "track-id point-id                      \n",
       "1        1         44.464001  5.97993  \n",
       "         2         36.702400  8.17373  \n",
       "         3         45.422100  8.28628  \n",
       "         4         43.021999  5.20364  \n",
       "2        1         63.069698  4.81408  "
      ]
     },
     "execution_count": 28,
     "metadata": {},
     "output_type": "execute_result"
    }
   ],
   "source": [
    "DF.head()"
   ]
  },
  {
   "cell_type": "markdown",
   "metadata": {},
   "source": [
    "### longitude ###"
   ]
  },
  {
   "cell_type": "code",
   "execution_count": 29,
   "metadata": {
    "collapsed": false
   },
   "outputs": [],
   "source": [
    "# longitude range setting\n",
    "# from -180 to 180\n",
    "lon_fix_a1 = DF.where(DF.lon < 540).lon - 360\n",
    "lon_fix_a2 = DF.where(DF.lon >= 540).lon - 720\n",
    "lon_fix_a = lon_fix_a1\n",
    "lon_fix_a = lon_fix_a.fillna(lon_fix_a2)\n",
    "DF.lon = lon_fix_a"
   ]
  },
  {
   "cell_type": "code",
   "execution_count": 30,
   "metadata": {
    "collapsed": false
   },
   "outputs": [
    {
     "data": {
      "text/html": [
       "<div>\n",
       "<table border=\"1\" class=\"dataframe\">\n",
       "  <thead>\n",
       "    <tr style=\"text-align: right;\">\n",
       "      <th></th>\n",
       "      <th></th>\n",
       "      <th>date</th>\n",
       "      <th>cyc</th>\n",
       "      <th>lon</th>\n",
       "      <th>lat</th>\n",
       "      <th>A</th>\n",
       "      <th>L</th>\n",
       "      <th>U</th>\n",
       "    </tr>\n",
       "    <tr>\n",
       "      <th>track-id</th>\n",
       "      <th>point-id</th>\n",
       "      <th></th>\n",
       "      <th></th>\n",
       "      <th></th>\n",
       "      <th></th>\n",
       "      <th></th>\n",
       "      <th></th>\n",
       "      <th></th>\n",
       "    </tr>\n",
       "  </thead>\n",
       "  <tbody>\n",
       "    <tr>\n",
       "      <th rowspan=\"4\" valign=\"top\">1</th>\n",
       "      <th>1</th>\n",
       "      <td>1992-10-14 12:00:00</td>\n",
       "      <td>-1</td>\n",
       "      <td>-83.260010</td>\n",
       "      <td>-65.001099</td>\n",
       "      <td>1.24564</td>\n",
       "      <td>44.464001</td>\n",
       "      <td>5.97993</td>\n",
       "    </tr>\n",
       "    <tr>\n",
       "      <th>2</th>\n",
       "      <td>1992-10-21 12:00:00</td>\n",
       "      <td>-1</td>\n",
       "      <td>-84.010010</td>\n",
       "      <td>-65.137604</td>\n",
       "      <td>2.64604</td>\n",
       "      <td>36.702400</td>\n",
       "      <td>8.17373</td>\n",
       "    </tr>\n",
       "    <tr>\n",
       "      <th>3</th>\n",
       "      <td>1992-10-28 12:00:00</td>\n",
       "      <td>-1</td>\n",
       "      <td>-84.179993</td>\n",
       "      <td>-65.245697</td>\n",
       "      <td>3.40119</td>\n",
       "      <td>45.422100</td>\n",
       "      <td>8.28628</td>\n",
       "    </tr>\n",
       "    <tr>\n",
       "      <th>4</th>\n",
       "      <td>1992-11-04 12:00:00</td>\n",
       "      <td>-1</td>\n",
       "      <td>-84.155029</td>\n",
       "      <td>-65.293297</td>\n",
       "      <td>1.45836</td>\n",
       "      <td>43.021999</td>\n",
       "      <td>5.20364</td>\n",
       "    </tr>\n",
       "    <tr>\n",
       "      <th>2</th>\n",
       "      <th>1</th>\n",
       "      <td>1992-10-14 12:00:00</td>\n",
       "      <td>-1</td>\n",
       "      <td>-159.357971</td>\n",
       "      <td>-62.542400</td>\n",
       "      <td>2.16156</td>\n",
       "      <td>63.069698</td>\n",
       "      <td>4.81408</td>\n",
       "    </tr>\n",
       "  </tbody>\n",
       "</table>\n",
       "</div>"
      ],
      "text/plain": [
       "                                 date  cyc         lon        lat        A  \\\n",
       "track-id point-id                                                            \n",
       "1        1        1992-10-14 12:00:00   -1  -83.260010 -65.001099  1.24564   \n",
       "         2        1992-10-21 12:00:00   -1  -84.010010 -65.137604  2.64604   \n",
       "         3        1992-10-28 12:00:00   -1  -84.179993 -65.245697  3.40119   \n",
       "         4        1992-11-04 12:00:00   -1  -84.155029 -65.293297  1.45836   \n",
       "2        1        1992-10-14 12:00:00   -1 -159.357971 -62.542400  2.16156   \n",
       "\n",
       "                           L        U  \n",
       "track-id point-id                      \n",
       "1        1         44.464001  5.97993  \n",
       "         2         36.702400  8.17373  \n",
       "         3         45.422100  8.28628  \n",
       "         4         43.021999  5.20364  \n",
       "2        1         63.069698  4.81408  "
      ]
     },
     "execution_count": 30,
     "metadata": {},
     "output_type": "execute_result"
    }
   ],
   "source": [
    "DF.head()"
   ]
  },
  {
   "cell_type": "code",
   "execution_count": 31,
   "metadata": {
    "collapsed": true
   },
   "outputs": [],
   "source": [
    "# longitude range setting\n",
    "# from 0 to 360\n",
    "lon_fix_b1 = DF.where(DF.lon < 0).lon + 360\n",
    "lon_fix_b2 = DF.where(DF.lon >= 0).lon\n",
    "lon_fix_b = lon_fix_b1\n",
    "lon_fix_b = lon_fix_b.fillna(lon_fix_b2)\n",
    "DF.lon = lon_fix_b"
   ]
  },
  {
   "cell_type": "code",
   "execution_count": 32,
   "metadata": {
    "collapsed": false
   },
   "outputs": [
    {
     "data": {
      "text/html": [
       "<div>\n",
       "<table border=\"1\" class=\"dataframe\">\n",
       "  <thead>\n",
       "    <tr style=\"text-align: right;\">\n",
       "      <th></th>\n",
       "      <th></th>\n",
       "      <th>date</th>\n",
       "      <th>cyc</th>\n",
       "      <th>lon</th>\n",
       "      <th>lat</th>\n",
       "      <th>A</th>\n",
       "      <th>L</th>\n",
       "      <th>U</th>\n",
       "    </tr>\n",
       "    <tr>\n",
       "      <th>track-id</th>\n",
       "      <th>point-id</th>\n",
       "      <th></th>\n",
       "      <th></th>\n",
       "      <th></th>\n",
       "      <th></th>\n",
       "      <th></th>\n",
       "      <th></th>\n",
       "      <th></th>\n",
       "    </tr>\n",
       "  </thead>\n",
       "  <tbody>\n",
       "    <tr>\n",
       "      <th rowspan=\"4\" valign=\"top\">1</th>\n",
       "      <th>1</th>\n",
       "      <td>1992-10-14 12:00:00</td>\n",
       "      <td>-1</td>\n",
       "      <td>276.739990</td>\n",
       "      <td>-65.001099</td>\n",
       "      <td>1.24564</td>\n",
       "      <td>44.464001</td>\n",
       "      <td>5.97993</td>\n",
       "    </tr>\n",
       "    <tr>\n",
       "      <th>2</th>\n",
       "      <td>1992-10-21 12:00:00</td>\n",
       "      <td>-1</td>\n",
       "      <td>275.989990</td>\n",
       "      <td>-65.137604</td>\n",
       "      <td>2.64604</td>\n",
       "      <td>36.702400</td>\n",
       "      <td>8.17373</td>\n",
       "    </tr>\n",
       "    <tr>\n",
       "      <th>3</th>\n",
       "      <td>1992-10-28 12:00:00</td>\n",
       "      <td>-1</td>\n",
       "      <td>275.820007</td>\n",
       "      <td>-65.245697</td>\n",
       "      <td>3.40119</td>\n",
       "      <td>45.422100</td>\n",
       "      <td>8.28628</td>\n",
       "    </tr>\n",
       "    <tr>\n",
       "      <th>4</th>\n",
       "      <td>1992-11-04 12:00:00</td>\n",
       "      <td>-1</td>\n",
       "      <td>275.844971</td>\n",
       "      <td>-65.293297</td>\n",
       "      <td>1.45836</td>\n",
       "      <td>43.021999</td>\n",
       "      <td>5.20364</td>\n",
       "    </tr>\n",
       "    <tr>\n",
       "      <th>2</th>\n",
       "      <th>1</th>\n",
       "      <td>1992-10-14 12:00:00</td>\n",
       "      <td>-1</td>\n",
       "      <td>200.642029</td>\n",
       "      <td>-62.542400</td>\n",
       "      <td>2.16156</td>\n",
       "      <td>63.069698</td>\n",
       "      <td>4.81408</td>\n",
       "    </tr>\n",
       "  </tbody>\n",
       "</table>\n",
       "</div>"
      ],
      "text/plain": [
       "                                 date  cyc         lon        lat        A  \\\n",
       "track-id point-id                                                            \n",
       "1        1        1992-10-14 12:00:00   -1  276.739990 -65.001099  1.24564   \n",
       "         2        1992-10-21 12:00:00   -1  275.989990 -65.137604  2.64604   \n",
       "         3        1992-10-28 12:00:00   -1  275.820007 -65.245697  3.40119   \n",
       "         4        1992-11-04 12:00:00   -1  275.844971 -65.293297  1.45836   \n",
       "2        1        1992-10-14 12:00:00   -1  200.642029 -62.542400  2.16156   \n",
       "\n",
       "                           L        U  \n",
       "track-id point-id                      \n",
       "1        1         44.464001  5.97993  \n",
       "         2         36.702400  8.17373  \n",
       "         3         45.422100  8.28628  \n",
       "         4         43.021999  5.20364  \n",
       "2        1         63.069698  4.81408  "
      ]
     },
     "execution_count": 32,
     "metadata": {},
     "output_type": "execute_result"
    }
   ],
   "source": [
    "DF.head()"
   ]
  },
  {
   "cell_type": "markdown",
   "metadata": {},
   "source": [
    "### radius ###"
   ]
  },
  {
   "cell_type": "code",
   "execution_count": 33,
   "metadata": {
    "collapsed": true
   },
   "outputs": [],
   "source": [
    "radius_fix = DF.L*1000\n",
    "DF.L = radius_fix\n",
    "DF = DF.rename(columns = {'L': 'radius'})"
   ]
  },
  {
   "cell_type": "code",
   "execution_count": 34,
   "metadata": {
    "collapsed": false
   },
   "outputs": [
    {
     "data": {
      "text/html": [
       "<div>\n",
       "<table border=\"1\" class=\"dataframe\">\n",
       "  <thead>\n",
       "    <tr style=\"text-align: right;\">\n",
       "      <th></th>\n",
       "      <th></th>\n",
       "      <th>date</th>\n",
       "      <th>cyc</th>\n",
       "      <th>lon</th>\n",
       "      <th>lat</th>\n",
       "      <th>A</th>\n",
       "      <th>radius</th>\n",
       "      <th>U</th>\n",
       "    </tr>\n",
       "    <tr>\n",
       "      <th>track-id</th>\n",
       "      <th>point-id</th>\n",
       "      <th></th>\n",
       "      <th></th>\n",
       "      <th></th>\n",
       "      <th></th>\n",
       "      <th></th>\n",
       "      <th></th>\n",
       "      <th></th>\n",
       "    </tr>\n",
       "  </thead>\n",
       "  <tbody>\n",
       "    <tr>\n",
       "      <th rowspan=\"4\" valign=\"top\">1</th>\n",
       "      <th>1</th>\n",
       "      <td>1992-10-14 12:00:00</td>\n",
       "      <td>-1</td>\n",
       "      <td>276.739990</td>\n",
       "      <td>-65.001099</td>\n",
       "      <td>1.24564</td>\n",
       "      <td>44464.000702</td>\n",
       "      <td>5.97993</td>\n",
       "    </tr>\n",
       "    <tr>\n",
       "      <th>2</th>\n",
       "      <td>1992-10-21 12:00:00</td>\n",
       "      <td>-1</td>\n",
       "      <td>275.989990</td>\n",
       "      <td>-65.137604</td>\n",
       "      <td>2.64604</td>\n",
       "      <td>36702.400208</td>\n",
       "      <td>8.17373</td>\n",
       "    </tr>\n",
       "    <tr>\n",
       "      <th>3</th>\n",
       "      <td>1992-10-28 12:00:00</td>\n",
       "      <td>-1</td>\n",
       "      <td>275.820007</td>\n",
       "      <td>-65.245697</td>\n",
       "      <td>3.40119</td>\n",
       "      <td>45422.100067</td>\n",
       "      <td>8.28628</td>\n",
       "    </tr>\n",
       "    <tr>\n",
       "      <th>4</th>\n",
       "      <td>1992-11-04 12:00:00</td>\n",
       "      <td>-1</td>\n",
       "      <td>275.844971</td>\n",
       "      <td>-65.293297</td>\n",
       "      <td>1.45836</td>\n",
       "      <td>43021.999359</td>\n",
       "      <td>5.20364</td>\n",
       "    </tr>\n",
       "    <tr>\n",
       "      <th>2</th>\n",
       "      <th>1</th>\n",
       "      <td>1992-10-14 12:00:00</td>\n",
       "      <td>-1</td>\n",
       "      <td>200.642029</td>\n",
       "      <td>-62.542400</td>\n",
       "      <td>2.16156</td>\n",
       "      <td>63069.698334</td>\n",
       "      <td>4.81408</td>\n",
       "    </tr>\n",
       "  </tbody>\n",
       "</table>\n",
       "</div>"
      ],
      "text/plain": [
       "                                 date  cyc         lon        lat        A  \\\n",
       "track-id point-id                                                            \n",
       "1        1        1992-10-14 12:00:00   -1  276.739990 -65.001099  1.24564   \n",
       "         2        1992-10-21 12:00:00   -1  275.989990 -65.137604  2.64604   \n",
       "         3        1992-10-28 12:00:00   -1  275.820007 -65.245697  3.40119   \n",
       "         4        1992-11-04 12:00:00   -1  275.844971 -65.293297  1.45836   \n",
       "2        1        1992-10-14 12:00:00   -1  200.642029 -62.542400  2.16156   \n",
       "\n",
       "                         radius        U  \n",
       "track-id point-id                         \n",
       "1        1         44464.000702  5.97993  \n",
       "         2         36702.400208  8.17373  \n",
       "         3         45422.100067  8.28628  \n",
       "         4         43021.999359  5.20364  \n",
       "2        1         63069.698334  4.81408  "
      ]
     },
     "execution_count": 34,
     "metadata": {},
     "output_type": "execute_result"
    }
   ],
   "source": [
    "DF.head()"
   ]
  },
  {
   "cell_type": "markdown",
   "metadata": {},
   "source": [
    "### geojson-point ###"
   ]
  },
  {
   "cell_type": "code",
   "execution_count": 67,
   "metadata": {
    "collapsed": false
   },
   "outputs": [
    {
     "data": {
      "text/html": [
       "<div>\n",
       "<table border=\"1\" class=\"dataframe\">\n",
       "  <thead>\n",
       "    <tr style=\"text-align: right;\">\n",
       "      <th></th>\n",
       "      <th>track</th>\n",
       "      <th>n</th>\n",
       "      <th>j1</th>\n",
       "      <th>cyc</th>\n",
       "      <th>lon</th>\n",
       "      <th>lat</th>\n",
       "      <th>A</th>\n",
       "      <th>L</th>\n",
       "      <th>U</th>\n",
       "    </tr>\n",
       "    <tr>\n",
       "      <th>Nobs</th>\n",
       "      <th></th>\n",
       "      <th></th>\n",
       "      <th></th>\n",
       "      <th></th>\n",
       "      <th></th>\n",
       "      <th></th>\n",
       "      <th></th>\n",
       "      <th></th>\n",
       "      <th></th>\n",
       "    </tr>\n",
       "  </thead>\n",
       "  <tbody>\n",
       "    <tr>\n",
       "      <th>0</th>\n",
       "      <td>1</td>\n",
       "      <td>1</td>\n",
       "      <td>2448910</td>\n",
       "      <td>-1</td>\n",
       "      <td>636.739990</td>\n",
       "      <td>-65.001099</td>\n",
       "      <td>1.24564</td>\n",
       "      <td>44.464001</td>\n",
       "      <td>5.97993</td>\n",
       "    </tr>\n",
       "    <tr>\n",
       "      <th>1</th>\n",
       "      <td>1</td>\n",
       "      <td>2</td>\n",
       "      <td>2448917</td>\n",
       "      <td>-1</td>\n",
       "      <td>635.989990</td>\n",
       "      <td>-65.137604</td>\n",
       "      <td>2.64604</td>\n",
       "      <td>36.702400</td>\n",
       "      <td>8.17373</td>\n",
       "    </tr>\n",
       "    <tr>\n",
       "      <th>2</th>\n",
       "      <td>1</td>\n",
       "      <td>3</td>\n",
       "      <td>2448924</td>\n",
       "      <td>-1</td>\n",
       "      <td>635.820007</td>\n",
       "      <td>-65.245697</td>\n",
       "      <td>3.40119</td>\n",
       "      <td>45.422100</td>\n",
       "      <td>8.28628</td>\n",
       "    </tr>\n",
       "    <tr>\n",
       "      <th>3</th>\n",
       "      <td>1</td>\n",
       "      <td>4</td>\n",
       "      <td>2448931</td>\n",
       "      <td>-1</td>\n",
       "      <td>635.844971</td>\n",
       "      <td>-65.293297</td>\n",
       "      <td>1.45836</td>\n",
       "      <td>43.021999</td>\n",
       "      <td>5.20364</td>\n",
       "    </tr>\n",
       "    <tr>\n",
       "      <th>4</th>\n",
       "      <td>2</td>\n",
       "      <td>1</td>\n",
       "      <td>2448910</td>\n",
       "      <td>-1</td>\n",
       "      <td>560.642029</td>\n",
       "      <td>-62.542400</td>\n",
       "      <td>2.16156</td>\n",
       "      <td>63.069698</td>\n",
       "      <td>4.81408</td>\n",
       "    </tr>\n",
       "  </tbody>\n",
       "</table>\n",
       "</div>"
      ],
      "text/plain": [
       "      track  n       j1  cyc         lon        lat        A          L  \\\n",
       "Nobs                                                                      \n",
       "0         1  1  2448910   -1  636.739990 -65.001099  1.24564  44.464001   \n",
       "1         1  2  2448917   -1  635.989990 -65.137604  2.64604  36.702400   \n",
       "2         1  3  2448924   -1  635.820007 -65.245697  3.40119  45.422100   \n",
       "3         1  4  2448931   -1  635.844971 -65.293297  1.45836  43.021999   \n",
       "4         2  1  2448910   -1  560.642029 -62.542400  2.16156  63.069698   \n",
       "\n",
       "            U  \n",
       "Nobs           \n",
       "0     5.97993  \n",
       "1     8.17373  \n",
       "2     8.28628  \n",
       "3     5.20364  \n",
       "4     4.81408  "
      ]
     },
     "execution_count": 67,
     "metadata": {},
     "output_type": "execute_result"
    }
   ],
   "source": [
    "df.head()"
   ]
  },
  {
   "cell_type": "code",
   "execution_count": 78,
   "metadata": {
    "collapsed": false
   },
   "outputs": [],
   "source": [
    "count = df.track\n",
    "count = count.value_counts(normalize=False, sort=True, ascending=True, bins=None, dropna=False).reindex(range(1, tra_num+1))\n",
    "count = pd.DataFrame(count)\n",
    "count.index.name = 'track-id'\n",
    "count.columns = ['obs-num']"
   ]
  },
  {
   "cell_type": "code",
   "execution_count": 79,
   "metadata": {
    "collapsed": false
   },
   "outputs": [
    {
     "data": {
      "text/html": [
       "<div>\n",
       "<table border=\"1\" class=\"dataframe\">\n",
       "  <thead>\n",
       "    <tr style=\"text-align: right;\">\n",
       "      <th></th>\n",
       "      <th>obs-num</th>\n",
       "    </tr>\n",
       "    <tr>\n",
       "      <th>track-id</th>\n",
       "      <th></th>\n",
       "    </tr>\n",
       "  </thead>\n",
       "  <tbody>\n",
       "    <tr>\n",
       "      <th>1</th>\n",
       "      <td>4</td>\n",
       "    </tr>\n",
       "    <tr>\n",
       "      <th>2</th>\n",
       "      <td>4</td>\n",
       "    </tr>\n",
       "    <tr>\n",
       "      <th>3</th>\n",
       "      <td>4</td>\n",
       "    </tr>\n",
       "    <tr>\n",
       "      <th>4</th>\n",
       "      <td>4</td>\n",
       "    </tr>\n",
       "    <tr>\n",
       "      <th>5</th>\n",
       "      <td>4</td>\n",
       "    </tr>\n",
       "  </tbody>\n",
       "</table>\n",
       "</div>"
      ],
      "text/plain": [
       "          obs-num\n",
       "track-id         \n",
       "1               4\n",
       "2               4\n",
       "3               4\n",
       "4               4\n",
       "5               4"
      ]
     },
     "execution_count": 79,
     "metadata": {},
     "output_type": "execute_result"
    }
   ],
   "source": [
    "count.head()"
   ]
  },
  {
   "cell_type": "code",
   "execution_count": 80,
   "metadata": {
    "collapsed": true
   },
   "outputs": [],
   "source": [
    "lon = np.asarray(DF.lon)\n",
    "lat = np.asarray(DF.lat)\n",
    "point = np.asarray(count['obs-num'])"
   ]
  },
  {
   "cell_type": "code",
   "execution_count": 81,
   "metadata": {
    "collapsed": true
   },
   "outputs": [],
   "source": [
    "# origin coordinates\n",
    "lon_ori = np.zeros(tra_num)\n",
    "lat_ori = np.zeros(tra_num)"
   ]
  },
  {
   "cell_type": "code",
   "execution_count": 82,
   "metadata": {
    "collapsed": true
   },
   "outputs": [],
   "source": [
    "# termination coordinates\n",
    "lon_ter = np.zeros(tra_num)\n",
    "lat_ter = np.zeros(tra_num)"
   ]
  },
  {
   "cell_type": "code",
   "execution_count": 83,
   "metadata": {
    "collapsed": false
   },
   "outputs": [],
   "source": [
    "c = 0\n",
    "i = 0\n",
    "\n",
    "while i < obs_num:\n",
    "    c = int(c) + 1\n",
    "    lon_ori[c-1] = lon[i]\n",
    "    lat_ori[c-1] = lat[i]\n",
    "    i = i + int(point[c-1])\n",
    "    lon_ter[c-1] = lon[i-1]\n",
    "    lat_ter[c-1] = lat[i-1]"
   ]
  },
  {
   "cell_type": "code",
   "execution_count": 84,
   "metadata": {
    "collapsed": true
   },
   "outputs": [],
   "source": [
    "lon_ori = pd.DataFrame(lon_ori)\n",
    "lat_ori = pd.DataFrame(lat_ori)\n",
    "lon_ter = pd.DataFrame(lon_ter)\n",
    "lat_ter = pd.DataFrame(lat_ter)"
   ]
  },
  {
   "cell_type": "code",
   "execution_count": 85,
   "metadata": {
    "collapsed": false
   },
   "outputs": [],
   "source": [
    "# index construction\n",
    "index = np.zeros(tra_num)\n",
    "for i in range(tra_num):\n",
    "    index[i] = i+1\n",
    "index = pd.DataFrame(index)\n",
    "index = index.astype(int)"
   ]
  },
  {
   "cell_type": "code",
   "execution_count": 86,
   "metadata": {
    "collapsed": true
   },
   "outputs": [],
   "source": [
    "# start center\n",
    "sta_cen = pd.concat([index, lon_ori, lat_ori], axis=1)\n",
    "sta_cen.columns = ['track-id', 'lon', 'lat']\n",
    "sta_cen = sta_cen.set_index('track-id')"
   ]
  },
  {
   "cell_type": "code",
   "execution_count": 93,
   "metadata": {
    "collapsed": false
   },
   "outputs": [
    {
     "data": {
      "text/html": [
       "<div>\n",
       "<table border=\"1\" class=\"dataframe\">\n",
       "  <thead>\n",
       "    <tr style=\"text-align: right;\">\n",
       "      <th></th>\n",
       "      <th>lon</th>\n",
       "      <th>lat</th>\n",
       "    </tr>\n",
       "    <tr>\n",
       "      <th>track-id</th>\n",
       "      <th></th>\n",
       "      <th></th>\n",
       "    </tr>\n",
       "  </thead>\n",
       "  <tbody>\n",
       "    <tr>\n",
       "      <th>1</th>\n",
       "      <td>276.739990</td>\n",
       "      <td>-65.001099</td>\n",
       "    </tr>\n",
       "    <tr>\n",
       "      <th>2</th>\n",
       "      <td>200.642029</td>\n",
       "      <td>-62.542400</td>\n",
       "    </tr>\n",
       "    <tr>\n",
       "      <th>3</th>\n",
       "      <td>164.956970</td>\n",
       "      <td>-60.751999</td>\n",
       "    </tr>\n",
       "    <tr>\n",
       "      <th>4</th>\n",
       "      <td>129.165985</td>\n",
       "      <td>-61.428299</td>\n",
       "    </tr>\n",
       "    <tr>\n",
       "      <th>5</th>\n",
       "      <td>293.981995</td>\n",
       "      <td>-60.260300</td>\n",
       "    </tr>\n",
       "  </tbody>\n",
       "</table>\n",
       "</div>"
      ],
      "text/plain": [
       "                 lon        lat\n",
       "track-id                       \n",
       "1         276.739990 -65.001099\n",
       "2         200.642029 -62.542400\n",
       "3         164.956970 -60.751999\n",
       "4         129.165985 -61.428299\n",
       "5         293.981995 -60.260300"
      ]
     },
     "execution_count": 93,
     "metadata": {},
     "output_type": "execute_result"
    }
   ],
   "source": [
    "sta_cen.head()"
   ]
  },
  {
   "cell_type": "code",
   "execution_count": 94,
   "metadata": {
    "collapsed": false
   },
   "outputs": [],
   "source": [
    "# end center\n",
    "end_cen = pd.concat([index, lon_ter, lat_ter], axis=1)\n",
    "end_cen.columns = ['track-id', 'lon', 'lat']\n",
    "end_cen = end_cen.set_index('track-id')"
   ]
  },
  {
   "cell_type": "code",
   "execution_count": 95,
   "metadata": {
    "collapsed": false
   },
   "outputs": [
    {
     "data": {
      "text/html": [
       "<div>\n",
       "<table border=\"1\" class=\"dataframe\">\n",
       "  <thead>\n",
       "    <tr style=\"text-align: right;\">\n",
       "      <th></th>\n",
       "      <th>lon</th>\n",
       "      <th>lat</th>\n",
       "    </tr>\n",
       "    <tr>\n",
       "      <th>track-id</th>\n",
       "      <th></th>\n",
       "      <th></th>\n",
       "    </tr>\n",
       "  </thead>\n",
       "  <tbody>\n",
       "    <tr>\n",
       "      <th>1</th>\n",
       "      <td>275.844971</td>\n",
       "      <td>-65.293297</td>\n",
       "    </tr>\n",
       "    <tr>\n",
       "      <th>2</th>\n",
       "      <td>200.843994</td>\n",
       "      <td>-62.726101</td>\n",
       "    </tr>\n",
       "    <tr>\n",
       "      <th>3</th>\n",
       "      <td>166.448975</td>\n",
       "      <td>-61.454601</td>\n",
       "    </tr>\n",
       "    <tr>\n",
       "      <th>4</th>\n",
       "      <td>128.390015</td>\n",
       "      <td>-61.127899</td>\n",
       "    </tr>\n",
       "    <tr>\n",
       "      <th>5</th>\n",
       "      <td>294.328003</td>\n",
       "      <td>-59.432701</td>\n",
       "    </tr>\n",
       "  </tbody>\n",
       "</table>\n",
       "</div>"
      ],
      "text/plain": [
       "                 lon        lat\n",
       "track-id                       \n",
       "1         275.844971 -65.293297\n",
       "2         200.843994 -62.726101\n",
       "3         166.448975 -61.454601\n",
       "4         128.390015 -61.127899\n",
       "5         294.328003 -59.432701"
      ]
     },
     "execution_count": 95,
     "metadata": {},
     "output_type": "execute_result"
    }
   ],
   "source": [
    "end_cen.head()"
   ]
  },
  {
   "cell_type": "markdown",
   "metadata": {},
   "source": [
    "### geojson-linestring ###"
   ]
  },
  {
   "cell_type": "code",
   "execution_count": 96,
   "metadata": {
    "collapsed": true
   },
   "outputs": [],
   "source": [
    "lin_str = np.zeros((obs_num, 2))"
   ]
  },
  {
   "cell_type": "code",
   "execution_count": 97,
   "metadata": {
    "collapsed": true
   },
   "outputs": [],
   "source": [
    "lon = np.asarray(DF.lon)\n",
    "lat = np.asarray(DF.lat)"
   ]
  },
  {
   "cell_type": "code",
   "execution_count": 98,
   "metadata": {
    "collapsed": false
   },
   "outputs": [],
   "source": [
    "for i in range(obs_num):\n",
    "    lin_str[i][0] = lon[i]\n",
    "    lin_str[i][1] = lat[i]"
   ]
  },
  {
   "cell_type": "code",
   "execution_count": 99,
   "metadata": {
    "collapsed": false
   },
   "outputs": [],
   "source": [
    "lin_str = pd.DataFrame(lin_str, index=multi_index, columns=['lon', 'lat'])"
   ]
  },
  {
   "cell_type": "code",
   "execution_count": 100,
   "metadata": {
    "collapsed": false,
    "scrolled": true
   },
   "outputs": [
    {
     "data": {
      "text/html": [
       "<div>\n",
       "<table border=\"1\" class=\"dataframe\">\n",
       "  <thead>\n",
       "    <tr style=\"text-align: right;\">\n",
       "      <th></th>\n",
       "      <th></th>\n",
       "      <th>lon</th>\n",
       "      <th>lat</th>\n",
       "    </tr>\n",
       "    <tr>\n",
       "      <th>track-id</th>\n",
       "      <th>point-id</th>\n",
       "      <th></th>\n",
       "      <th></th>\n",
       "    </tr>\n",
       "  </thead>\n",
       "  <tbody>\n",
       "    <tr>\n",
       "      <th rowspan=\"4\" valign=\"top\">1</th>\n",
       "      <th>1</th>\n",
       "      <td>276.739990</td>\n",
       "      <td>-65.001099</td>\n",
       "    </tr>\n",
       "    <tr>\n",
       "      <th>2</th>\n",
       "      <td>275.989990</td>\n",
       "      <td>-65.137604</td>\n",
       "    </tr>\n",
       "    <tr>\n",
       "      <th>3</th>\n",
       "      <td>275.820007</td>\n",
       "      <td>-65.245697</td>\n",
       "    </tr>\n",
       "    <tr>\n",
       "      <th>4</th>\n",
       "      <td>275.844971</td>\n",
       "      <td>-65.293297</td>\n",
       "    </tr>\n",
       "    <tr>\n",
       "      <th>2</th>\n",
       "      <th>1</th>\n",
       "      <td>200.642029</td>\n",
       "      <td>-62.542400</td>\n",
       "    </tr>\n",
       "  </tbody>\n",
       "</table>\n",
       "</div>"
      ],
      "text/plain": [
       "                          lon        lat\n",
       "track-id point-id                       \n",
       "1        1         276.739990 -65.001099\n",
       "         2         275.989990 -65.137604\n",
       "         3         275.820007 -65.245697\n",
       "         4         275.844971 -65.293297\n",
       "2        1         200.642029 -62.542400"
      ]
     },
     "execution_count": 100,
     "metadata": {},
     "output_type": "execute_result"
    }
   ],
   "source": [
    "lin_str.head()"
   ]
  },
  {
   "cell_type": "markdown",
   "metadata": {},
   "source": [
    "### geojson-polygon ###"
   ]
  },
  {
   "cell_type": "code",
   "execution_count": 101,
   "metadata": {
    "collapsed": true
   },
   "outputs": [],
   "source": [
    "from numpy import cos, pi, sin"
   ]
  },
  {
   "cell_type": "code",
   "execution_count": 105,
   "metadata": {
    "collapsed": false
   },
   "outputs": [],
   "source": [
    "radius = np.asarray(DF.radius)\n",
    "point = np.asarray(count['obs-num'])"
   ]
  },
  {
   "cell_type": "code",
   "execution_count": 106,
   "metadata": {
    "collapsed": true
   },
   "outputs": [],
   "source": [
    "rad_ori = np.zeros(tra_num)\n",
    "rad_ter = np.zeros(tra_num)"
   ]
  },
  {
   "cell_type": "code",
   "execution_count": 107,
   "metadata": {
    "collapsed": false
   },
   "outputs": [],
   "source": [
    "c = 0\n",
    "i = 0\n",
    "\n",
    "while i < obs_num:\n",
    "    c = int(c) + 1\n",
    "    rad_ori[c-1] = radius[i]\n",
    "    i = i + int(point[c-1])\n",
    "    rad_ter[c-1] = radius[i-1]"
   ]
  },
  {
   "cell_type": "code",
   "execution_count": 108,
   "metadata": {
    "collapsed": true
   },
   "outputs": [],
   "source": [
    "rad_ori = pd.DataFrame(rad_ori)\n",
    "rad_ter = pd.DataFrame(rad_ter)"
   ]
  },
  {
   "cell_type": "code",
   "execution_count": 111,
   "metadata": {
    "collapsed": true
   },
   "outputs": [],
   "source": [
    "# start circle\n",
    "sta_cir = pd.concat([index, lon_ori, lat_ori, rad_ori], axis=1)\n",
    "sta_cir.columns = ['track-id', 'lon', 'lat', 'radius']\n",
    "sta_cir = sta_cir.set_index('track-id')"
   ]
  },
  {
   "cell_type": "code",
   "execution_count": 112,
   "metadata": {
    "collapsed": false
   },
   "outputs": [
    {
     "data": {
      "text/html": [
       "<div>\n",
       "<table border=\"1\" class=\"dataframe\">\n",
       "  <thead>\n",
       "    <tr style=\"text-align: right;\">\n",
       "      <th></th>\n",
       "      <th>lon</th>\n",
       "      <th>lat</th>\n",
       "      <th>radius</th>\n",
       "    </tr>\n",
       "    <tr>\n",
       "      <th>track-id</th>\n",
       "      <th></th>\n",
       "      <th></th>\n",
       "      <th></th>\n",
       "    </tr>\n",
       "  </thead>\n",
       "  <tbody>\n",
       "    <tr>\n",
       "      <th>1</th>\n",
       "      <td>276.739990</td>\n",
       "      <td>-65.001099</td>\n",
       "      <td>44464.000702</td>\n",
       "    </tr>\n",
       "    <tr>\n",
       "      <th>2</th>\n",
       "      <td>200.642029</td>\n",
       "      <td>-62.542400</td>\n",
       "      <td>63069.698334</td>\n",
       "    </tr>\n",
       "    <tr>\n",
       "      <th>3</th>\n",
       "      <td>164.956970</td>\n",
       "      <td>-60.751999</td>\n",
       "      <td>66748.397827</td>\n",
       "    </tr>\n",
       "    <tr>\n",
       "      <th>4</th>\n",
       "      <td>129.165985</td>\n",
       "      <td>-61.428299</td>\n",
       "      <td>76040.702820</td>\n",
       "    </tr>\n",
       "    <tr>\n",
       "      <th>5</th>\n",
       "      <td>293.981995</td>\n",
       "      <td>-60.260300</td>\n",
       "      <td>41596.801758</td>\n",
       "    </tr>\n",
       "  </tbody>\n",
       "</table>\n",
       "</div>"
      ],
      "text/plain": [
       "                 lon        lat        radius\n",
       "track-id                                     \n",
       "1         276.739990 -65.001099  44464.000702\n",
       "2         200.642029 -62.542400  63069.698334\n",
       "3         164.956970 -60.751999  66748.397827\n",
       "4         129.165985 -61.428299  76040.702820\n",
       "5         293.981995 -60.260300  41596.801758"
      ]
     },
     "execution_count": 112,
     "metadata": {},
     "output_type": "execute_result"
    }
   ],
   "source": [
    "sta_cir.head()"
   ]
  },
  {
   "cell_type": "code",
   "execution_count": 113,
   "metadata": {
    "collapsed": false
   },
   "outputs": [],
   "source": [
    "# end circle\n",
    "end_cir = pd.concat([index, lon_ter, lat_ter, rad_ter], axis=1)\n",
    "end_cir.columns = ['track-id', 'lon', 'lat', 'radius']\n",
    "end_cir = end_cir.set_index('track-id')"
   ]
  },
  {
   "cell_type": "code",
   "execution_count": 114,
   "metadata": {
    "collapsed": false
   },
   "outputs": [
    {
     "data": {
      "text/html": [
       "<div>\n",
       "<table border=\"1\" class=\"dataframe\">\n",
       "  <thead>\n",
       "    <tr style=\"text-align: right;\">\n",
       "      <th></th>\n",
       "      <th>lon</th>\n",
       "      <th>lat</th>\n",
       "      <th>radius</th>\n",
       "    </tr>\n",
       "    <tr>\n",
       "      <th>track-id</th>\n",
       "      <th></th>\n",
       "      <th></th>\n",
       "      <th></th>\n",
       "    </tr>\n",
       "  </thead>\n",
       "  <tbody>\n",
       "    <tr>\n",
       "      <th>1</th>\n",
       "      <td>275.844971</td>\n",
       "      <td>-65.293297</td>\n",
       "      <td>43021.999359</td>\n",
       "    </tr>\n",
       "    <tr>\n",
       "      <th>2</th>\n",
       "      <td>200.843994</td>\n",
       "      <td>-62.726101</td>\n",
       "      <td>55183.399200</td>\n",
       "    </tr>\n",
       "    <tr>\n",
       "      <th>3</th>\n",
       "      <td>166.448975</td>\n",
       "      <td>-61.454601</td>\n",
       "      <td>94783.096313</td>\n",
       "    </tr>\n",
       "    <tr>\n",
       "      <th>4</th>\n",
       "      <td>128.390015</td>\n",
       "      <td>-61.127899</td>\n",
       "      <td>59744.499207</td>\n",
       "    </tr>\n",
       "    <tr>\n",
       "      <th>5</th>\n",
       "      <td>294.328003</td>\n",
       "      <td>-59.432701</td>\n",
       "      <td>66219.902039</td>\n",
       "    </tr>\n",
       "  </tbody>\n",
       "</table>\n",
       "</div>"
      ],
      "text/plain": [
       "                 lon        lat        radius\n",
       "track-id                                     \n",
       "1         275.844971 -65.293297  43021.999359\n",
       "2         200.843994 -62.726101  55183.399200\n",
       "3         166.448975 -61.454601  94783.096313\n",
       "4         128.390015 -61.127899  59744.499207\n",
       "5         294.328003 -59.432701  66219.902039"
      ]
     },
     "execution_count": 114,
     "metadata": {},
     "output_type": "execute_result"
    }
   ],
   "source": [
    "end_cir.head()"
   ]
  },
  {
   "cell_type": "code",
   "execution_count": 115,
   "metadata": {
    "collapsed": true
   },
   "outputs": [],
   "source": [
    "# circle center number\n",
    "cen_num = tra_num"
   ]
  },
  {
   "cell_type": "code",
   "execution_count": 117,
   "metadata": {
    "collapsed": false
   },
   "outputs": [],
   "source": [
    "# circle arc number\n",
    "arc_num = tra_num*33"
   ]
  },
  {
   "cell_type": "code",
   "execution_count": 118,
   "metadata": {
    "collapsed": true
   },
   "outputs": [],
   "source": [
    "center = np.zeros(arc_num)\n",
    "arc = np.zeros(arc_num)"
   ]
  },
  {
   "cell_type": "code",
   "execution_count": 119,
   "metadata": {
    "collapsed": false
   },
   "outputs": [],
   "source": [
    "c = 1\n",
    "i = 0\n",
    "j = 1\n",
    "\n",
    "while i < arc_num:\n",
    "    while c <= 33:\n",
    "        center[i] = j\n",
    "        i = i+1\n",
    "        c = c+1\n",
    "    j = j+1\n",
    "    c = 1"
   ]
  },
  {
   "cell_type": "code",
   "execution_count": 120,
   "metadata": {
    "collapsed": false
   },
   "outputs": [],
   "source": [
    "center = center.astype(int)"
   ]
  },
  {
   "cell_type": "code",
   "execution_count": 122,
   "metadata": {
    "collapsed": false
   },
   "outputs": [],
   "source": [
    "c = 1\n",
    "i = 0\n",
    "j = 1\n",
    "\n",
    "while i < arc_num:\n",
    "    while c <= 33:\n",
    "        arc[i] = j\n",
    "        i = i+1\n",
    "        j = j+1\n",
    "        c = c+1\n",
    "    j = 1\n",
    "    c = 1"
   ]
  },
  {
   "cell_type": "code",
   "execution_count": 123,
   "metadata": {
    "collapsed": true
   },
   "outputs": [],
   "source": [
    "arc = arc.astype(int)"
   ]
  },
  {
   "cell_type": "code",
   "execution_count": 124,
   "metadata": {
    "collapsed": false
   },
   "outputs": [],
   "source": [
    "# multi-index construction\n",
    "arrays = [center, arc]\n",
    "tuples = list(zip(*arrays))\n",
    "multi_index = pd.MultiIndex.from_tuples(tuples, names=['center', 'arc'])"
   ]
  },
  {
   "cell_type": "code",
   "execution_count": 125,
   "metadata": {
    "collapsed": true
   },
   "outputs": [],
   "source": [
    "# earth radius in meters\n",
    "R = 6371*1000"
   ]
  },
  {
   "cell_type": "markdown",
   "metadata": {},
   "source": [
    "__start polygon__"
   ]
  },
  {
   "cell_type": "code",
   "execution_count": 127,
   "metadata": {
    "collapsed": false
   },
   "outputs": [],
   "source": [
    "lon = np.asarray(sta_cir.lon)\n",
    "lat = np.asarray(sta_cir.lat)\n",
    "radius = np.asarray(sta_cir.radius)"
   ]
  },
  {
   "cell_type": "code",
   "execution_count": 129,
   "metadata": {
    "collapsed": false
   },
   "outputs": [],
   "source": [
    "theta = np.zeros(cen_num)\n",
    "x = np.zeros(cen_num)\n",
    "y = np.zeros(cen_num)\n",
    "r = np.zeros(cen_num)"
   ]
  },
  {
   "cell_type": "code",
   "execution_count": 130,
   "metadata": {
    "collapsed": false
   },
   "outputs": [],
   "source": [
    "for i in range(cen_num):\n",
    "    theta[i] = lat[i]*(pi/180)\n",
    "    r[i] = R*cos(theta[i])\n",
    "    x[i] = (radius[i]/r[i])*(180/pi)\n",
    "    y[i] = (radius[i]/R)*(180/pi)"
   ]
  },
  {
   "cell_type": "code",
   "execution_count": 131,
   "metadata": {
    "collapsed": false
   },
   "outputs": [],
   "source": [
    "lon_sta_pol = np.zeros(arc_num)\n",
    "lat_sta_pol = np.zeros(arc_num)\n",
    "x_sta_pol = np.zeros(arc_num)\n",
    "y_sta_pol = np.zeros(arc_num)"
   ]
  },
  {
   "cell_type": "code",
   "execution_count": 132,
   "metadata": {
    "collapsed": false
   },
   "outputs": [],
   "source": [
    "c = 0\n",
    "i = 0\n",
    "j = 1\n",
    "\n",
    "while i < arc_num:\n",
    "    while j <= 33:\n",
    "        lon_sta_pol[i] = lon[c]\n",
    "        i = i+1\n",
    "        j = j+1\n",
    "    j = 1\n",
    "    c = c+1"
   ]
  },
  {
   "cell_type": "code",
   "execution_count": 133,
   "metadata": {
    "collapsed": false
   },
   "outputs": [],
   "source": [
    "c = 0\n",
    "i = 0\n",
    "j = 1\n",
    "\n",
    "while i < arc_num:\n",
    "    while j <= 33:\n",
    "        lat_sta_pol[i] = lat[c]\n",
    "        i = i+1\n",
    "        j = j+1\n",
    "    j = 1\n",
    "    c = c+1"
   ]
  },
  {
   "cell_type": "code",
   "execution_count": 134,
   "metadata": {
    "collapsed": true
   },
   "outputs": [],
   "source": [
    "c = 0\n",
    "i = 0\n",
    "j = 1\n",
    "\n",
    "while i < arc_num:\n",
    "    while j <= 33:\n",
    "        x_sta_pol[i] = x[c]*cos((j-1)*(pi/16))\n",
    "        i = i+1\n",
    "        j = j+1\n",
    "    j = 1\n",
    "    c = c+1"
   ]
  },
  {
   "cell_type": "code",
   "execution_count": 135,
   "metadata": {
    "collapsed": false
   },
   "outputs": [],
   "source": [
    "c = 0\n",
    "i = 0\n",
    "j = 1\n",
    "\n",
    "while i < arc_num:\n",
    "    while j <= 33:\n",
    "        y_sta_pol[i] = y[c]*sin((j-1)*(pi/16))\n",
    "        i = i+1\n",
    "        j = j+1\n",
    "    j = 1\n",
    "    c = c+1"
   ]
  },
  {
   "cell_type": "code",
   "execution_count": 136,
   "metadata": {
    "collapsed": true
   },
   "outputs": [],
   "source": [
    "sta_pol = np.zeros((arc_num, 2))"
   ]
  },
  {
   "cell_type": "code",
   "execution_count": 137,
   "metadata": {
    "collapsed": false
   },
   "outputs": [],
   "source": [
    "for i in range(arc_num):\n",
    "    sta_pol[i][0] = lon_sta_pol[i]+x_sta_pol[i]\n",
    "    sta_pol[i][1] = lat_sta_pol[i]+y_sta_pol[i]"
   ]
  },
  {
   "cell_type": "code",
   "execution_count": 138,
   "metadata": {
    "collapsed": false
   },
   "outputs": [],
   "source": [
    "# start polygon\n",
    "sta_pol = pd.DataFrame(sta_pol, index=multi_index)\n",
    "sta_pol.columns = ['lon', 'lat']"
   ]
  },
  {
   "cell_type": "code",
   "execution_count": 141,
   "metadata": {
    "collapsed": false
   },
   "outputs": [
    {
     "data": {
      "text/html": [
       "<div>\n",
       "<table border=\"1\" class=\"dataframe\">\n",
       "  <thead>\n",
       "    <tr style=\"text-align: right;\">\n",
       "      <th></th>\n",
       "      <th></th>\n",
       "      <th>lon</th>\n",
       "      <th>lat</th>\n",
       "    </tr>\n",
       "    <tr>\n",
       "      <th>center</th>\n",
       "      <th>arc</th>\n",
       "      <th></th>\n",
       "      <th></th>\n",
       "    </tr>\n",
       "  </thead>\n",
       "  <tbody>\n",
       "    <tr>\n",
       "      <th rowspan=\"5\" valign=\"top\">1</th>\n",
       "      <th>1</th>\n",
       "      <td>277.686212</td>\n",
       "      <td>-65.001099</td>\n",
       "    </tr>\n",
       "    <tr>\n",
       "      <th>2</th>\n",
       "      <td>277.668031</td>\n",
       "      <td>-64.923087</td>\n",
       "    </tr>\n",
       "    <tr>\n",
       "      <th>3</th>\n",
       "      <td>277.614186</td>\n",
       "      <td>-64.848073</td>\n",
       "    </tr>\n",
       "    <tr>\n",
       "      <th>4</th>\n",
       "      <td>277.526745</td>\n",
       "      <td>-64.778940</td>\n",
       "    </tr>\n",
       "    <tr>\n",
       "      <th>5</th>\n",
       "      <td>277.409070</td>\n",
       "      <td>-64.718345</td>\n",
       "    </tr>\n",
       "  </tbody>\n",
       "</table>\n",
       "</div>"
      ],
      "text/plain": [
       "                   lon        lat\n",
       "center arc                       \n",
       "1      1    277.686212 -65.001099\n",
       "       2    277.668031 -64.923087\n",
       "       3    277.614186 -64.848073\n",
       "       4    277.526745 -64.778940\n",
       "       5    277.409070 -64.718345"
      ]
     },
     "execution_count": 141,
     "metadata": {},
     "output_type": "execute_result"
    }
   ],
   "source": [
    "sta_pol.head()"
   ]
  },
  {
   "cell_type": "markdown",
   "metadata": {},
   "source": [
    "__end polygon__"
   ]
  },
  {
   "cell_type": "code",
   "execution_count": 142,
   "metadata": {
    "collapsed": true
   },
   "outputs": [],
   "source": [
    "lon = np.asarray(end_cir.lon)\n",
    "lat = np.asarray(end_cir.lat)\n",
    "radius = np.asarray(end_cir.radius)"
   ]
  },
  {
   "cell_type": "code",
   "execution_count": 143,
   "metadata": {
    "collapsed": true
   },
   "outputs": [],
   "source": [
    "theta = np.zeros(cen_num)\n",
    "r = np.zeros(cen_num)\n",
    "x = np.zeros(cen_num)\n",
    "y = np.zeros(cen_num)"
   ]
  },
  {
   "cell_type": "code",
   "execution_count": 145,
   "metadata": {
    "collapsed": false
   },
   "outputs": [],
   "source": [
    "for i in range(cen_num):\n",
    "    theta[i] = lat[i]*(pi/180)\n",
    "    r[i] = R*cos(theta[i])\n",
    "    x[i] = (radius[i]/r[i])*(180/pi)\n",
    "    y[i] = (radius[i]/R)*(180/pi)"
   ]
  },
  {
   "cell_type": "code",
   "execution_count": 146,
   "metadata": {
    "collapsed": true
   },
   "outputs": [],
   "source": [
    "lon_end_pol = np.zeros(arc_num)\n",
    "lat_end_pol = np.zeros(arc_num)\n",
    "x_end_pol = np.zeros(arc_num)\n",
    "y_end_pol = np.zeros(arc_num)"
   ]
  },
  {
   "cell_type": "code",
   "execution_count": 153,
   "metadata": {
    "collapsed": false
   },
   "outputs": [],
   "source": [
    "c = 0\n",
    "i = 0\n",
    "j = 1\n",
    "\n",
    "while i < arc_num:\n",
    "    while j <= 33:\n",
    "        lon_end_pol[i] = lon[c]\n",
    "        i = i+1\n",
    "        j = j+1\n",
    "    j = 1\n",
    "    c = c+1"
   ]
  },
  {
   "cell_type": "code",
   "execution_count": 154,
   "metadata": {
    "collapsed": true
   },
   "outputs": [],
   "source": [
    "c = 0\n",
    "i = 0\n",
    "j = 1\n",
    "\n",
    "while i < arc_num:\n",
    "    while j <= 33:\n",
    "        lat_end_pol[i] = lat[c]\n",
    "        i = i+1\n",
    "        j = j+1\n",
    "    j = 1\n",
    "    c = c+1"
   ]
  },
  {
   "cell_type": "code",
   "execution_count": 155,
   "metadata": {
    "collapsed": false
   },
   "outputs": [],
   "source": [
    "c = 0\n",
    "i = 0\n",
    "j = 1\n",
    "\n",
    "while i < arc_num:\n",
    "    while j <= 33:\n",
    "        x_end_pol[i] = x[c]*cos((j-1)*(pi/16))\n",
    "        i = i+1\n",
    "        j = j+1\n",
    "    j = 1\n",
    "    c = c+1"
   ]
  },
  {
   "cell_type": "code",
   "execution_count": 156,
   "metadata": {
    "collapsed": true
   },
   "outputs": [],
   "source": [
    "c = 0\n",
    "i = 0\n",
    "j = 1\n",
    "\n",
    "while i < arc_num:\n",
    "    while j <= 33:\n",
    "        y_end_pol[i] = y[c]*sin((j-1)*(pi/16))\n",
    "        i = i+1\n",
    "        j = j+1\n",
    "    j = 1\n",
    "    c = c+1"
   ]
  },
  {
   "cell_type": "code",
   "execution_count": 157,
   "metadata": {
    "collapsed": false
   },
   "outputs": [],
   "source": [
    "end_pol = np.zeros((arc_num, 2))"
   ]
  },
  {
   "cell_type": "code",
   "execution_count": 158,
   "metadata": {
    "collapsed": false
   },
   "outputs": [],
   "source": [
    "for i in range(arc_num):\n",
    "    end_pol[i][0] = lon_end_pol[i]+x_end_pol[i]\n",
    "    end_pol[i][1] = lat_end_pol[i]+y_end_pol[i]"
   ]
  },
  {
   "cell_type": "code",
   "execution_count": 159,
   "metadata": {
    "collapsed": false
   },
   "outputs": [],
   "source": [
    "# end polygon\n",
    "end_pol = pd.DataFrame(end_pol, index=multi_index)\n",
    "end_pol.columns = ['lon', 'lat']"
   ]
  },
  {
   "cell_type": "code",
   "execution_count": 160,
   "metadata": {
    "collapsed": false
   },
   "outputs": [
    {
     "data": {
      "text/html": [
       "<div>\n",
       "<table border=\"1\" class=\"dataframe\">\n",
       "  <thead>\n",
       "    <tr style=\"text-align: right;\">\n",
       "      <th></th>\n",
       "      <th></th>\n",
       "      <th>lon</th>\n",
       "      <th>lat</th>\n",
       "    </tr>\n",
       "    <tr>\n",
       "      <th>center</th>\n",
       "      <th>arc</th>\n",
       "      <th></th>\n",
       "      <th></th>\n",
       "    </tr>\n",
       "  </thead>\n",
       "  <tbody>\n",
       "    <tr>\n",
       "      <th rowspan=\"5\" valign=\"top\">1</th>\n",
       "      <th>1</th>\n",
       "      <td>276.770642</td>\n",
       "      <td>-65.293297</td>\n",
       "    </tr>\n",
       "    <tr>\n",
       "      <th>2</th>\n",
       "      <td>276.752856</td>\n",
       "      <td>-65.217815</td>\n",
       "    </tr>\n",
       "    <tr>\n",
       "      <th>3</th>\n",
       "      <td>276.700180</td>\n",
       "      <td>-65.145234</td>\n",
       "    </tr>\n",
       "    <tr>\n",
       "      <th>4</th>\n",
       "      <td>276.614639</td>\n",
       "      <td>-65.078343</td>\n",
       "    </tr>\n",
       "    <tr>\n",
       "      <th>5</th>\n",
       "      <td>276.499519</td>\n",
       "      <td>-65.019713</td>\n",
       "    </tr>\n",
       "  </tbody>\n",
       "</table>\n",
       "</div>"
      ],
      "text/plain": [
       "                   lon        lat\n",
       "center arc                       \n",
       "1      1    276.770642 -65.293297\n",
       "       2    276.752856 -65.217815\n",
       "       3    276.700180 -65.145234\n",
       "       4    276.614639 -65.078343\n",
       "       5    276.499519 -65.019713"
      ]
     },
     "execution_count": 160,
     "metadata": {},
     "output_type": "execute_result"
    }
   ],
   "source": [
    "end_pol.head()"
   ]
  },
  {
   "cell_type": "markdown",
   "metadata": {},
   "source": [
    "### id ###"
   ]
  },
  {
   "cell_type": "code",
   "execution_count": 161,
   "metadata": {
    "collapsed": false
   },
   "outputs": [],
   "source": [
    "_id = pd.DataFrame(index)\n",
    "_id = pd.concat([index, index], axis=1)\n",
    "_id.columns = ['track-id', 'id']\n",
    "_id = _id.set_index('track-id')"
   ]
  },
  {
   "cell_type": "code",
   "execution_count": 162,
   "metadata": {
    "collapsed": false
   },
   "outputs": [
    {
     "data": {
      "text/html": [
       "<div>\n",
       "<table border=\"1\" class=\"dataframe\">\n",
       "  <thead>\n",
       "    <tr style=\"text-align: right;\">\n",
       "      <th></th>\n",
       "      <th>id</th>\n",
       "    </tr>\n",
       "    <tr>\n",
       "      <th>track-id</th>\n",
       "      <th></th>\n",
       "    </tr>\n",
       "  </thead>\n",
       "  <tbody>\n",
       "    <tr>\n",
       "      <th>1</th>\n",
       "      <td>1</td>\n",
       "    </tr>\n",
       "    <tr>\n",
       "      <th>2</th>\n",
       "      <td>2</td>\n",
       "    </tr>\n",
       "    <tr>\n",
       "      <th>3</th>\n",
       "      <td>3</td>\n",
       "    </tr>\n",
       "    <tr>\n",
       "      <th>4</th>\n",
       "      <td>4</td>\n",
       "    </tr>\n",
       "    <tr>\n",
       "      <th>5</th>\n",
       "      <td>5</td>\n",
       "    </tr>\n",
       "  </tbody>\n",
       "</table>\n",
       "</div>"
      ],
      "text/plain": [
       "          id\n",
       "track-id    \n",
       "1          1\n",
       "2          2\n",
       "3          3\n",
       "4          4\n",
       "5          5"
      ]
     },
     "execution_count": 162,
     "metadata": {},
     "output_type": "execute_result"
    }
   ],
   "source": [
    "_id.head()"
   ]
  },
  {
   "cell_type": "markdown",
   "metadata": {},
   "source": [
    "### date ###"
   ]
  },
  {
   "cell_type": "code",
   "execution_count": 163,
   "metadata": {
    "collapsed": false
   },
   "outputs": [
    {
     "data": {
      "text/html": [
       "<div>\n",
       "<table border=\"1\" class=\"dataframe\">\n",
       "  <thead>\n",
       "    <tr style=\"text-align: right;\">\n",
       "      <th></th>\n",
       "      <th>track</th>\n",
       "      <th>n</th>\n",
       "      <th>j1</th>\n",
       "      <th>cyc</th>\n",
       "      <th>lon</th>\n",
       "      <th>lat</th>\n",
       "      <th>A</th>\n",
       "      <th>L</th>\n",
       "      <th>U</th>\n",
       "    </tr>\n",
       "    <tr>\n",
       "      <th>Nobs</th>\n",
       "      <th></th>\n",
       "      <th></th>\n",
       "      <th></th>\n",
       "      <th></th>\n",
       "      <th></th>\n",
       "      <th></th>\n",
       "      <th></th>\n",
       "      <th></th>\n",
       "      <th></th>\n",
       "    </tr>\n",
       "  </thead>\n",
       "  <tbody>\n",
       "    <tr>\n",
       "      <th>0</th>\n",
       "      <td>1</td>\n",
       "      <td>1</td>\n",
       "      <td>2448910</td>\n",
       "      <td>-1</td>\n",
       "      <td>636.739990</td>\n",
       "      <td>-65.001099</td>\n",
       "      <td>1.24564</td>\n",
       "      <td>44.464001</td>\n",
       "      <td>5.97993</td>\n",
       "    </tr>\n",
       "    <tr>\n",
       "      <th>1</th>\n",
       "      <td>1</td>\n",
       "      <td>2</td>\n",
       "      <td>2448917</td>\n",
       "      <td>-1</td>\n",
       "      <td>635.989990</td>\n",
       "      <td>-65.137604</td>\n",
       "      <td>2.64604</td>\n",
       "      <td>36.702400</td>\n",
       "      <td>8.17373</td>\n",
       "    </tr>\n",
       "    <tr>\n",
       "      <th>2</th>\n",
       "      <td>1</td>\n",
       "      <td>3</td>\n",
       "      <td>2448924</td>\n",
       "      <td>-1</td>\n",
       "      <td>635.820007</td>\n",
       "      <td>-65.245697</td>\n",
       "      <td>3.40119</td>\n",
       "      <td>45.422100</td>\n",
       "      <td>8.28628</td>\n",
       "    </tr>\n",
       "    <tr>\n",
       "      <th>3</th>\n",
       "      <td>1</td>\n",
       "      <td>4</td>\n",
       "      <td>2448931</td>\n",
       "      <td>-1</td>\n",
       "      <td>635.844971</td>\n",
       "      <td>-65.293297</td>\n",
       "      <td>1.45836</td>\n",
       "      <td>43.021999</td>\n",
       "      <td>5.20364</td>\n",
       "    </tr>\n",
       "    <tr>\n",
       "      <th>4</th>\n",
       "      <td>2</td>\n",
       "      <td>1</td>\n",
       "      <td>2448910</td>\n",
       "      <td>-1</td>\n",
       "      <td>560.642029</td>\n",
       "      <td>-62.542400</td>\n",
       "      <td>2.16156</td>\n",
       "      <td>63.069698</td>\n",
       "      <td>4.81408</td>\n",
       "    </tr>\n",
       "  </tbody>\n",
       "</table>\n",
       "</div>"
      ],
      "text/plain": [
       "      track  n       j1  cyc         lon        lat        A          L  \\\n",
       "Nobs                                                                      \n",
       "0         1  1  2448910   -1  636.739990 -65.001099  1.24564  44.464001   \n",
       "1         1  2  2448917   -1  635.989990 -65.137604  2.64604  36.702400   \n",
       "2         1  3  2448924   -1  635.820007 -65.245697  3.40119  45.422100   \n",
       "3         1  4  2448931   -1  635.844971 -65.293297  1.45836  43.021999   \n",
       "4         2  1  2448910   -1  560.642029 -62.542400  2.16156  63.069698   \n",
       "\n",
       "            U  \n",
       "Nobs           \n",
       "0     5.97993  \n",
       "1     8.17373  \n",
       "2     8.28628  \n",
       "3     5.20364  \n",
       "4     4.81408  "
      ]
     },
     "execution_count": 163,
     "metadata": {},
     "output_type": "execute_result"
    }
   ],
   "source": [
    "df.head()"
   ]
  },
  {
   "cell_type": "code",
   "execution_count": 164,
   "metadata": {
    "collapsed": false
   },
   "outputs": [],
   "source": [
    "j1 = np.asarray(df.j1)"
   ]
  },
  {
   "cell_type": "code",
   "execution_count": 165,
   "metadata": {
    "collapsed": true
   },
   "outputs": [],
   "source": [
    "j1_ori = np.zeros(tra_num)\n",
    "j1_ter = np.zeros(tra_num)"
   ]
  },
  {
   "cell_type": "code",
   "execution_count": 166,
   "metadata": {
    "collapsed": false
   },
   "outputs": [],
   "source": [
    "c = 0\n",
    "i = 0\n",
    "\n",
    "while i < obs_num:\n",
    "    c = int(c) + 1\n",
    "    j1_ori[c-1] = j1[i]\n",
    "    i = i + int(point[c-1])\n",
    "    j1_ter[c-1] = j1[i-1]"
   ]
  },
  {
   "cell_type": "code",
   "execution_count": 168,
   "metadata": {
    "collapsed": true
   },
   "outputs": [],
   "source": [
    "j1_ori = pd.DataFrame(j1_ori)\n",
    "j1_ter = pd.DataFrame(j1_ter)"
   ]
  },
  {
   "cell_type": "code",
   "execution_count": 169,
   "metadata": {
    "collapsed": false
   },
   "outputs": [],
   "source": [
    "# start julian date\n",
    "sta_jul = pd.concat([index, j1_ori], axis=1)\n",
    "sta_jul.columns = ['track-id', 'j1']\n",
    "sta_jul = sta_jul.set_index('track-id')"
   ]
  },
  {
   "cell_type": "code",
   "execution_count": 170,
   "metadata": {
    "collapsed": false
   },
   "outputs": [
    {
     "data": {
      "text/html": [
       "<div>\n",
       "<table border=\"1\" class=\"dataframe\">\n",
       "  <thead>\n",
       "    <tr style=\"text-align: right;\">\n",
       "      <th></th>\n",
       "      <th>j1</th>\n",
       "    </tr>\n",
       "    <tr>\n",
       "      <th>track-id</th>\n",
       "      <th></th>\n",
       "    </tr>\n",
       "  </thead>\n",
       "  <tbody>\n",
       "    <tr>\n",
       "      <th>1</th>\n",
       "      <td>2448910</td>\n",
       "    </tr>\n",
       "    <tr>\n",
       "      <th>2</th>\n",
       "      <td>2448910</td>\n",
       "    </tr>\n",
       "    <tr>\n",
       "      <th>3</th>\n",
       "      <td>2448910</td>\n",
       "    </tr>\n",
       "    <tr>\n",
       "      <th>4</th>\n",
       "      <td>2448910</td>\n",
       "    </tr>\n",
       "    <tr>\n",
       "      <th>5</th>\n",
       "      <td>2448910</td>\n",
       "    </tr>\n",
       "  </tbody>\n",
       "</table>\n",
       "</div>"
      ],
      "text/plain": [
       "               j1\n",
       "track-id         \n",
       "1         2448910\n",
       "2         2448910\n",
       "3         2448910\n",
       "4         2448910\n",
       "5         2448910"
      ]
     },
     "execution_count": 170,
     "metadata": {},
     "output_type": "execute_result"
    }
   ],
   "source": [
    "sta_jul.head()"
   ]
  },
  {
   "cell_type": "code",
   "execution_count": 171,
   "metadata": {
    "collapsed": false
   },
   "outputs": [],
   "source": [
    "# end julian date\n",
    "end_jul = pd.concat([index, j1_ter], axis=1)\n",
    "end_jul.columns = ['track-id', 'j1']\n",
    "end_jul = end_jul.set_index('track-id')"
   ]
  },
  {
   "cell_type": "code",
   "execution_count": 173,
   "metadata": {
    "collapsed": false
   },
   "outputs": [
    {
     "data": {
      "text/html": [
       "<div>\n",
       "<table border=\"1\" class=\"dataframe\">\n",
       "  <thead>\n",
       "    <tr style=\"text-align: right;\">\n",
       "      <th></th>\n",
       "      <th>j1</th>\n",
       "    </tr>\n",
       "    <tr>\n",
       "      <th>track-id</th>\n",
       "      <th></th>\n",
       "    </tr>\n",
       "  </thead>\n",
       "  <tbody>\n",
       "    <tr>\n",
       "      <th>1</th>\n",
       "      <td>2448931</td>\n",
       "    </tr>\n",
       "    <tr>\n",
       "      <th>2</th>\n",
       "      <td>2448931</td>\n",
       "    </tr>\n",
       "    <tr>\n",
       "      <th>3</th>\n",
       "      <td>2448931</td>\n",
       "    </tr>\n",
       "    <tr>\n",
       "      <th>4</th>\n",
       "      <td>2448931</td>\n",
       "    </tr>\n",
       "    <tr>\n",
       "      <th>5</th>\n",
       "      <td>2448931</td>\n",
       "    </tr>\n",
       "  </tbody>\n",
       "</table>\n",
       "</div>"
      ],
      "text/plain": [
       "               j1\n",
       "track-id         \n",
       "1         2448931\n",
       "2         2448931\n",
       "3         2448931\n",
       "4         2448931\n",
       "5         2448931"
      ]
     },
     "execution_count": 173,
     "metadata": {},
     "output_type": "execute_result"
    }
   ],
   "source": [
    "end_jul.head()"
   ]
  },
  {
   "cell_type": "code",
   "execution_count": 174,
   "metadata": {
    "collapsed": true
   },
   "outputs": [],
   "source": [
    "# start date\n",
    "sta_dat = sta_jul.j1.apply(jday_to_datetime)\n",
    "sta_dat = pd.DataFrame(sta_dat)\n",
    "sta_dat = sta_dat.rename(columns = {'j1': 'date'})"
   ]
  },
  {
   "cell_type": "code",
   "execution_count": 175,
   "metadata": {
    "collapsed": false
   },
   "outputs": [
    {
     "data": {
      "text/html": [
       "<div>\n",
       "<table border=\"1\" class=\"dataframe\">\n",
       "  <thead>\n",
       "    <tr style=\"text-align: right;\">\n",
       "      <th></th>\n",
       "      <th>date</th>\n",
       "    </tr>\n",
       "    <tr>\n",
       "      <th>track-id</th>\n",
       "      <th></th>\n",
       "    </tr>\n",
       "  </thead>\n",
       "  <tbody>\n",
       "    <tr>\n",
       "      <th>1</th>\n",
       "      <td>1992-10-14 12:00:00</td>\n",
       "    </tr>\n",
       "    <tr>\n",
       "      <th>2</th>\n",
       "      <td>1992-10-14 12:00:00</td>\n",
       "    </tr>\n",
       "    <tr>\n",
       "      <th>3</th>\n",
       "      <td>1992-10-14 12:00:00</td>\n",
       "    </tr>\n",
       "    <tr>\n",
       "      <th>4</th>\n",
       "      <td>1992-10-14 12:00:00</td>\n",
       "    </tr>\n",
       "    <tr>\n",
       "      <th>5</th>\n",
       "      <td>1992-10-14 12:00:00</td>\n",
       "    </tr>\n",
       "  </tbody>\n",
       "</table>\n",
       "</div>"
      ],
      "text/plain": [
       "                        date\n",
       "track-id                    \n",
       "1        1992-10-14 12:00:00\n",
       "2        1992-10-14 12:00:00\n",
       "3        1992-10-14 12:00:00\n",
       "4        1992-10-14 12:00:00\n",
       "5        1992-10-14 12:00:00"
      ]
     },
     "execution_count": 175,
     "metadata": {},
     "output_type": "execute_result"
    }
   ],
   "source": [
    "sta_dat.head()"
   ]
  },
  {
   "cell_type": "code",
   "execution_count": 200,
   "metadata": {
    "collapsed": true
   },
   "outputs": [],
   "source": [
    "# end date\n",
    "end_dat = end_jul.j1.apply(jday_to_datetime)\n",
    "end_dat = pd.DataFrame(end_dat)\n",
    "end_dat = end_dat.rename(columns = {'j1': 'date'})"
   ]
  },
  {
   "cell_type": "code",
   "execution_count": 201,
   "metadata": {
    "collapsed": false
   },
   "outputs": [
    {
     "data": {
      "text/html": [
       "<div>\n",
       "<table border=\"1\" class=\"dataframe\">\n",
       "  <thead>\n",
       "    <tr style=\"text-align: right;\">\n",
       "      <th></th>\n",
       "      <th>date</th>\n",
       "    </tr>\n",
       "    <tr>\n",
       "      <th>track-id</th>\n",
       "      <th></th>\n",
       "    </tr>\n",
       "  </thead>\n",
       "  <tbody>\n",
       "    <tr>\n",
       "      <th>1</th>\n",
       "      <td>1992-11-04 12:00:00</td>\n",
       "    </tr>\n",
       "    <tr>\n",
       "      <th>2</th>\n",
       "      <td>1992-11-04 12:00:00</td>\n",
       "    </tr>\n",
       "    <tr>\n",
       "      <th>3</th>\n",
       "      <td>1992-11-04 12:00:00</td>\n",
       "    </tr>\n",
       "    <tr>\n",
       "      <th>4</th>\n",
       "      <td>1992-11-04 12:00:00</td>\n",
       "    </tr>\n",
       "    <tr>\n",
       "      <th>5</th>\n",
       "      <td>1992-11-04 12:00:00</td>\n",
       "    </tr>\n",
       "  </tbody>\n",
       "</table>\n",
       "</div>"
      ],
      "text/plain": [
       "                        date\n",
       "track-id                    \n",
       "1        1992-11-04 12:00:00\n",
       "2        1992-11-04 12:00:00\n",
       "3        1992-11-04 12:00:00\n",
       "4        1992-11-04 12:00:00\n",
       "5        1992-11-04 12:00:00"
      ]
     },
     "execution_count": 201,
     "metadata": {},
     "output_type": "execute_result"
    }
   ],
   "source": [
    "end_dat.head()"
   ]
  },
  {
   "cell_type": "markdown",
   "metadata": {},
   "source": [
    "### duration ###"
   ]
  },
  {
   "cell_type": "code",
   "execution_count": 202,
   "metadata": {
    "collapsed": false
   },
   "outputs": [],
   "source": [
    "# duration in days\n",
    "dur_day = end_dat - sta_dat\n",
    "dur_day = dur_day.rename(columns = {'date': 'duration'})"
   ]
  },
  {
   "cell_type": "code",
   "execution_count": 203,
   "metadata": {
    "collapsed": false
   },
   "outputs": [
    {
     "data": {
      "text/plain": [
       "duration   2142 days\n",
       "dtype: timedelta64[ns]"
      ]
     },
     "execution_count": 203,
     "metadata": {},
     "output_type": "execute_result"
    }
   ],
   "source": [
    "dur_day.max()"
   ]
  },
  {
   "cell_type": "code",
   "execution_count": 204,
   "metadata": {
    "collapsed": false
   },
   "outputs": [
    {
     "data": {
      "text/html": [
       "<div>\n",
       "<table border=\"1\" class=\"dataframe\">\n",
       "  <thead>\n",
       "    <tr style=\"text-align: right;\">\n",
       "      <th></th>\n",
       "      <th>duration</th>\n",
       "    </tr>\n",
       "    <tr>\n",
       "      <th>track-id</th>\n",
       "      <th></th>\n",
       "    </tr>\n",
       "  </thead>\n",
       "  <tbody>\n",
       "    <tr>\n",
       "      <th>1</th>\n",
       "      <td>21 days</td>\n",
       "    </tr>\n",
       "    <tr>\n",
       "      <th>2</th>\n",
       "      <td>21 days</td>\n",
       "    </tr>\n",
       "    <tr>\n",
       "      <th>3</th>\n",
       "      <td>21 days</td>\n",
       "    </tr>\n",
       "    <tr>\n",
       "      <th>4</th>\n",
       "      <td>21 days</td>\n",
       "    </tr>\n",
       "    <tr>\n",
       "      <th>5</th>\n",
       "      <td>21 days</td>\n",
       "    </tr>\n",
       "  </tbody>\n",
       "</table>\n",
       "</div>"
      ],
      "text/plain": [
       "          duration\n",
       "track-id          \n",
       "1          21 days\n",
       "2          21 days\n",
       "3          21 days\n",
       "4          21 days\n",
       "5          21 days"
      ]
     },
     "execution_count": 204,
     "metadata": {},
     "output_type": "execute_result"
    }
   ],
   "source": [
    "dur_day.head()"
   ]
  },
  {
   "cell_type": "code",
   "execution_count": 259,
   "metadata": {
    "collapsed": true
   },
   "outputs": [],
   "source": [
    "# duration in integers\n",
    "dur_int = np.zeros(tra_num)"
   ]
  },
  {
   "cell_type": "code",
   "execution_count": 260,
   "metadata": {
    "collapsed": false
   },
   "outputs": [],
   "source": [
    "for i in range(tra_num):\n",
    "    dur_int[i] = np.timedelta64(dur_day.duration[i+1], 'D')/np.timedelta64(1, 'D')"
   ]
  },
  {
   "cell_type": "code",
   "execution_count": 261,
   "metadata": {
    "collapsed": true
   },
   "outputs": [],
   "source": [
    "dur_int = pd.DataFrame(dur_int)"
   ]
  },
  {
   "cell_type": "code",
   "execution_count": 262,
   "metadata": {
    "collapsed": false
   },
   "outputs": [],
   "source": [
    "dur_int = pd.concat([index, dur_int], axis=1)\n",
    "dur_int.columns = ['track-id', 'duration-in-days']\n",
    "dur_int = dur_int.set_index('track-id')\n",
    "dur_int['duration-in-days'] = dur_int['duration-in-days'].astype(int)"
   ]
  },
  {
   "cell_type": "code",
   "execution_count": 263,
   "metadata": {
    "collapsed": false
   },
   "outputs": [
    {
     "data": {
      "text/html": [
       "<div>\n",
       "<table border=\"1\" class=\"dataframe\">\n",
       "  <thead>\n",
       "    <tr style=\"text-align: right;\">\n",
       "      <th></th>\n",
       "      <th>duration-in-days</th>\n",
       "    </tr>\n",
       "    <tr>\n",
       "      <th>track-id</th>\n",
       "      <th></th>\n",
       "    </tr>\n",
       "  </thead>\n",
       "  <tbody>\n",
       "    <tr>\n",
       "      <th>1</th>\n",
       "      <td>21</td>\n",
       "    </tr>\n",
       "    <tr>\n",
       "      <th>2</th>\n",
       "      <td>21</td>\n",
       "    </tr>\n",
       "    <tr>\n",
       "      <th>3</th>\n",
       "      <td>21</td>\n",
       "    </tr>\n",
       "    <tr>\n",
       "      <th>4</th>\n",
       "      <td>21</td>\n",
       "    </tr>\n",
       "    <tr>\n",
       "      <th>5</th>\n",
       "      <td>21</td>\n",
       "    </tr>\n",
       "  </tbody>\n",
       "</table>\n",
       "</div>"
      ],
      "text/plain": [
       "          duration-in-days\n",
       "track-id                  \n",
       "1                       21\n",
       "2                       21\n",
       "3                       21\n",
       "4                       21\n",
       "5                       21"
      ]
     },
     "execution_count": 263,
     "metadata": {},
     "output_type": "execute_result"
    }
   ],
   "source": [
    "dur_int.head()"
   ]
  },
  {
   "cell_type": "markdown",
   "metadata": {},
   "source": [
    "### area ###"
   ]
  },
  {
   "cell_type": "code",
   "execution_count": 240,
   "metadata": {
    "collapsed": false
   },
   "outputs": [
    {
     "data": {
      "text/html": [
       "<div>\n",
       "<table border=\"1\" class=\"dataframe\">\n",
       "  <thead>\n",
       "    <tr style=\"text-align: right;\">\n",
       "      <th></th>\n",
       "      <th>track</th>\n",
       "      <th>n</th>\n",
       "      <th>j1</th>\n",
       "      <th>cyc</th>\n",
       "      <th>lon</th>\n",
       "      <th>lat</th>\n",
       "      <th>A</th>\n",
       "      <th>L</th>\n",
       "      <th>U</th>\n",
       "    </tr>\n",
       "    <tr>\n",
       "      <th>Nobs</th>\n",
       "      <th></th>\n",
       "      <th></th>\n",
       "      <th></th>\n",
       "      <th></th>\n",
       "      <th></th>\n",
       "      <th></th>\n",
       "      <th></th>\n",
       "      <th></th>\n",
       "      <th></th>\n",
       "    </tr>\n",
       "  </thead>\n",
       "  <tbody>\n",
       "    <tr>\n",
       "      <th>0</th>\n",
       "      <td>1</td>\n",
       "      <td>1</td>\n",
       "      <td>2448910</td>\n",
       "      <td>-1</td>\n",
       "      <td>636.739990</td>\n",
       "      <td>-65.001099</td>\n",
       "      <td>1.24564</td>\n",
       "      <td>44.464001</td>\n",
       "      <td>5.97993</td>\n",
       "    </tr>\n",
       "    <tr>\n",
       "      <th>1</th>\n",
       "      <td>1</td>\n",
       "      <td>2</td>\n",
       "      <td>2448917</td>\n",
       "      <td>-1</td>\n",
       "      <td>635.989990</td>\n",
       "      <td>-65.137604</td>\n",
       "      <td>2.64604</td>\n",
       "      <td>36.702400</td>\n",
       "      <td>8.17373</td>\n",
       "    </tr>\n",
       "    <tr>\n",
       "      <th>2</th>\n",
       "      <td>1</td>\n",
       "      <td>3</td>\n",
       "      <td>2448924</td>\n",
       "      <td>-1</td>\n",
       "      <td>635.820007</td>\n",
       "      <td>-65.245697</td>\n",
       "      <td>3.40119</td>\n",
       "      <td>45.422100</td>\n",
       "      <td>8.28628</td>\n",
       "    </tr>\n",
       "    <tr>\n",
       "      <th>3</th>\n",
       "      <td>1</td>\n",
       "      <td>4</td>\n",
       "      <td>2448931</td>\n",
       "      <td>-1</td>\n",
       "      <td>635.844971</td>\n",
       "      <td>-65.293297</td>\n",
       "      <td>1.45836</td>\n",
       "      <td>43.021999</td>\n",
       "      <td>5.20364</td>\n",
       "    </tr>\n",
       "    <tr>\n",
       "      <th>4</th>\n",
       "      <td>2</td>\n",
       "      <td>1</td>\n",
       "      <td>2448910</td>\n",
       "      <td>-1</td>\n",
       "      <td>560.642029</td>\n",
       "      <td>-62.542400</td>\n",
       "      <td>2.16156</td>\n",
       "      <td>63.069698</td>\n",
       "      <td>4.81408</td>\n",
       "    </tr>\n",
       "  </tbody>\n",
       "</table>\n",
       "</div>"
      ],
      "text/plain": [
       "      track  n       j1  cyc         lon        lat        A          L  \\\n",
       "Nobs                                                                      \n",
       "0         1  1  2448910   -1  636.739990 -65.001099  1.24564  44.464001   \n",
       "1         1  2  2448917   -1  635.989990 -65.137604  2.64604  36.702400   \n",
       "2         1  3  2448924   -1  635.820007 -65.245697  3.40119  45.422100   \n",
       "3         1  4  2448931   -1  635.844971 -65.293297  1.45836  43.021999   \n",
       "4         2  1  2448910   -1  560.642029 -62.542400  2.16156  63.069698   \n",
       "\n",
       "            U  \n",
       "Nobs           \n",
       "0     5.97993  \n",
       "1     8.17373  \n",
       "2     8.28628  \n",
       "3     5.20364  \n",
       "4     4.81408  "
      ]
     },
     "execution_count": 240,
     "metadata": {},
     "output_type": "execute_result"
    }
   ],
   "source": [
    "df.head()"
   ]
  },
  {
   "cell_type": "code",
   "execution_count": 241,
   "metadata": {
    "collapsed": true
   },
   "outputs": [],
   "source": [
    "L = np.asarray(ds.L)\n",
    "radius = L*1000"
   ]
  },
  {
   "cell_type": "code",
   "execution_count": 242,
   "metadata": {
    "collapsed": false
   },
   "outputs": [],
   "source": [
    "# circle area calculation\n",
    "area = pi*(radius**2)"
   ]
  },
  {
   "cell_type": "code",
   "execution_count": 243,
   "metadata": {
    "collapsed": false
   },
   "outputs": [],
   "source": [
    "sta_area = np.zeros(tra_num)"
   ]
  },
  {
   "cell_type": "code",
   "execution_count": 244,
   "metadata": {
    "collapsed": false
   },
   "outputs": [],
   "source": [
    "i = 0\n",
    "c = 0\n",
    "\n",
    "while i < obs_num:\n",
    "    c = int(c) + 1\n",
    "    sta_area[c-1] = area[i]\n",
    "    i = i + int(point[c-1])"
   ]
  },
  {
   "cell_type": "code",
   "execution_count": 245,
   "metadata": {
    "collapsed": false
   },
   "outputs": [],
   "source": [
    "sta_area = pd.DataFrame(sta_area)"
   ]
  },
  {
   "cell_type": "code",
   "execution_count": 246,
   "metadata": {
    "collapsed": true
   },
   "outputs": [],
   "source": [
    "# area in square meters\n",
    "sta_area = pd.concat([index, sta_area], axis=1)\n",
    "sta_area.columns = ['track-id', 'start-area']\n",
    "sta_area = sta_area.set_index('track-id')"
   ]
  },
  {
   "cell_type": "code",
   "execution_count": 247,
   "metadata": {
    "collapsed": false
   },
   "outputs": [
    {
     "data": {
      "text/html": [
       "<div>\n",
       "<table border=\"1\" class=\"dataframe\">\n",
       "  <thead>\n",
       "    <tr style=\"text-align: right;\">\n",
       "      <th></th>\n",
       "      <th>start-area</th>\n",
       "    </tr>\n",
       "    <tr>\n",
       "      <th>track-id</th>\n",
       "      <th></th>\n",
       "    </tr>\n",
       "  </thead>\n",
       "  <tbody>\n",
       "    <tr>\n",
       "      <th>1</th>\n",
       "      <td>6211077632</td>\n",
       "    </tr>\n",
       "    <tr>\n",
       "      <th>2</th>\n",
       "      <td>12496586752</td>\n",
       "    </tr>\n",
       "    <tr>\n",
       "      <th>3</th>\n",
       "      <td>13996891136</td>\n",
       "    </tr>\n",
       "    <tr>\n",
       "      <th>4</th>\n",
       "      <td>18165280768</td>\n",
       "    </tr>\n",
       "    <tr>\n",
       "      <th>5</th>\n",
       "      <td>5435878912</td>\n",
       "    </tr>\n",
       "  </tbody>\n",
       "</table>\n",
       "</div>"
      ],
      "text/plain": [
       "           start-area\n",
       "track-id             \n",
       "1          6211077632\n",
       "2         12496586752\n",
       "3         13996891136\n",
       "4         18165280768\n",
       "5          5435878912"
      ]
     },
     "execution_count": 247,
     "metadata": {},
     "output_type": "execute_result"
    }
   ],
   "source": [
    "sta_area.head()"
   ]
  },
  {
   "cell_type": "markdown",
   "metadata": {},
   "source": [
    "### vorticity ###"
   ]
  },
  {
   "cell_type": "code",
   "execution_count": 249,
   "metadata": {
    "collapsed": false
   },
   "outputs": [],
   "source": [
    "# relative vorticity\n",
    "zeta = np.asarray((df.U*0.01)/(df.L*1000))"
   ]
  },
  {
   "cell_type": "code",
   "execution_count": 250,
   "metadata": {
    "collapsed": false
   },
   "outputs": [],
   "source": [
    "# multi-index construction\n",
    "arrays = [track, n]\n",
    "tuples = list(zip(*arrays))\n",
    "multi_index = pd.MultiIndex.from_tuples(tuples, names=['track-id', 'point-id'])"
   ]
  },
  {
   "cell_type": "code",
   "execution_count": 251,
   "metadata": {
    "collapsed": true
   },
   "outputs": [],
   "source": [
    "zeta = pd.DataFrame(zeta, index=multi_index)\n",
    "zeta.columns = ['relative-vorticity']"
   ]
  },
  {
   "cell_type": "code",
   "execution_count": 253,
   "metadata": {
    "collapsed": false
   },
   "outputs": [
    {
     "data": {
      "text/html": [
       "<div>\n",
       "<table border=\"1\" class=\"dataframe\">\n",
       "  <thead>\n",
       "    <tr style=\"text-align: right;\">\n",
       "      <th></th>\n",
       "      <th></th>\n",
       "      <th>relative-vorticity</th>\n",
       "    </tr>\n",
       "    <tr>\n",
       "      <th>track-id</th>\n",
       "      <th>point-id</th>\n",
       "      <th></th>\n",
       "    </tr>\n",
       "  </thead>\n",
       "  <tbody>\n",
       "    <tr>\n",
       "      <th rowspan=\"4\" valign=\"top\">1</th>\n",
       "      <th>1</th>\n",
       "      <td>1.344892e-06</td>\n",
       "    </tr>\n",
       "    <tr>\n",
       "      <th>2</th>\n",
       "      <td>2.227029e-06</td>\n",
       "    </tr>\n",
       "    <tr>\n",
       "      <th>3</th>\n",
       "      <td>1.824284e-06</td>\n",
       "    </tr>\n",
       "    <tr>\n",
       "      <th>4</th>\n",
       "      <td>1.209530e-06</td>\n",
       "    </tr>\n",
       "    <tr>\n",
       "      <th>2</th>\n",
       "      <th>1</th>\n",
       "      <td>7.632953e-07</td>\n",
       "    </tr>\n",
       "  </tbody>\n",
       "</table>\n",
       "</div>"
      ],
      "text/plain": [
       "                   relative-vorticity\n",
       "track-id point-id                    \n",
       "1        1               1.344892e-06\n",
       "         2               2.227029e-06\n",
       "         3               1.824284e-06\n",
       "         4               1.209530e-06\n",
       "2        1               7.632953e-07"
      ]
     },
     "execution_count": 253,
     "metadata": {},
     "output_type": "execute_result"
    }
   ],
   "source": [
    "zeta.head()"
   ]
  },
  {
   "cell_type": "code",
   "execution_count": 254,
   "metadata": {
    "collapsed": true
   },
   "outputs": [],
   "source": [
    "lav = np.zeros(tra_num)"
   ]
  },
  {
   "cell_type": "code",
   "execution_count": 255,
   "metadata": {
    "collapsed": false
   },
   "outputs": [
    {
     "name": "stderr",
     "output_type": "stream",
     "text": [
      "100%|██████████| 215184/215184 [54:03<00:00, 64.27it/s]\n"
     ]
    }
   ],
   "source": [
    "for i in tqdm(range(tra_num)):\n",
    "    lav[i] = zeta.loc[i+1].mean()"
   ]
  },
  {
   "cell_type": "code",
   "execution_count": 256,
   "metadata": {
    "collapsed": false
   },
   "outputs": [],
   "source": [
    "lav = pd.DataFrame(lav)"
   ]
  },
  {
   "cell_type": "code",
   "execution_count": 257,
   "metadata": {
    "collapsed": false
   },
   "outputs": [],
   "source": [
    "lav = pd.concat([index, lav], axis=1)\n",
    "lav.columns = ['track-id', 'relative-vorticity']\n",
    "lav = lav.set_index('track-id')"
   ]
  },
  {
   "cell_type": "code",
   "execution_count": 258,
   "metadata": {
    "collapsed": false
   },
   "outputs": [
    {
     "data": {
      "text/html": [
       "<div>\n",
       "<table border=\"1\" class=\"dataframe\">\n",
       "  <thead>\n",
       "    <tr style=\"text-align: right;\">\n",
       "      <th></th>\n",
       "      <th>relative-vorticity</th>\n",
       "    </tr>\n",
       "    <tr>\n",
       "      <th>track-id</th>\n",
       "      <th></th>\n",
       "    </tr>\n",
       "  </thead>\n",
       "  <tbody>\n",
       "    <tr>\n",
       "      <th>1</th>\n",
       "      <td>1.651434e-06</td>\n",
       "    </tr>\n",
       "    <tr>\n",
       "      <th>2</th>\n",
       "      <td>8.582187e-07</td>\n",
       "    </tr>\n",
       "    <tr>\n",
       "      <th>3</th>\n",
       "      <td>1.343490e-06</td>\n",
       "    </tr>\n",
       "    <tr>\n",
       "      <th>4</th>\n",
       "      <td>1.854057e-06</td>\n",
       "    </tr>\n",
       "    <tr>\n",
       "      <th>5</th>\n",
       "      <td>2.503743e-06</td>\n",
       "    </tr>\n",
       "  </tbody>\n",
       "</table>\n",
       "</div>"
      ],
      "text/plain": [
       "          relative-vorticity\n",
       "track-id                    \n",
       "1               1.651434e-06\n",
       "2               8.582187e-07\n",
       "3               1.343490e-06\n",
       "4               1.854057e-06\n",
       "5               2.503743e-06"
      ]
     },
     "execution_count": 258,
     "metadata": {},
     "output_type": "execute_result"
    }
   ],
   "source": [
    "lav.head()"
   ]
  },
  {
   "cell_type": "markdown",
   "metadata": {},
   "source": [
    "### GeoJSON ###"
   ]
  },
  {
   "cell_type": "code",
   "execution_count": 264,
   "metadata": {
    "collapsed": false
   },
   "outputs": [],
   "source": [
    "from geojson import LineString, Point, Polygon\n",
    "from pymongo import MongoClient"
   ]
  },
  {
   "cell_type": "code",
   "execution_count": 265,
   "metadata": {
    "collapsed": false
   },
   "outputs": [],
   "source": [
    "# collection\n",
    "ssh_eddies_2013 = MongoClient().eddies.ssh_eddies_2013"
   ]
  },
  {
   "cell_type": "code",
   "execution_count": 266,
   "metadata": {
    "collapsed": false
   },
   "outputs": [
    {
     "name": "stderr",
     "output_type": "stream",
     "text": [
      "-c:2: DeprecationWarning: remove is deprecated. Use delete_one or delete_many instead.\n"
     ]
    },
    {
     "data": {
      "text/plain": [
       "{u'n': 0, u'ok': 1}"
      ]
     },
     "execution_count": 266,
     "metadata": {},
     "output_type": "execute_result"
    }
   ],
   "source": [
    "# remove documents from the collection\n",
    "ssh_eddies_2013.remove()"
   ]
  },
  {
   "cell_type": "code",
   "execution_count": null,
   "metadata": {
    "collapsed": false
   },
   "outputs": [
    {
     "name": "stderr",
     "output_type": "stream",
     "text": [
      "  4%|▍         | 9288/215184 [46:38<17:37:28,  3.25it/s]"
     ]
    }
   ],
   "source": [
    "# insert documents into the collection\n",
    "for i in tqdm(range(1, tra_num+1)):\n",
    "\n",
    "    # geojson\n",
    "    eddy = {\n",
    "        'type': 'FeatureSet',\n",
    "        '_id': int(_id.loc[i]),\n",
    "        'date_start': sta_dat.loc[i]['date'],\n",
    "        'date_end': end_dat.loc[i]['date'],\n",
    "        'duration': dur_int.loc[i]['duration-in-days'],\n",
    "        'loc_start': [sta_cen.loc[i]['lon'], sta_cen.loc[i]['lat']],\n",
    "        'loc_end': [end_cen.loc[i]['lon'], end_cen.loc[i]['lat']],\n",
    "        'area': sta_area.loc[i]['start-area'],\n",
    "        'lav': lav.loc[i]['relative-vorticity'],\n",
    "        'features': [\n",
    "            {\n",
    "                'type': 'Feature',\n",
    "                'properties': {'name': 'start_center'},\n",
    "                'geometry': Point(tuple(sta_cen.loc[i][['lon', 'lat']].values))\n",
    "            },\n",
    "            {\n",
    "                'type': 'Feature',\n",
    "                'properties': {'name': 'end_center'},\n",
    "                'geometry': Point(tuple(end_cen.loc[i][['lon', 'lat']].values))\n",
    "            },\n",
    "            {\n",
    "                'type': 'Feature',\n",
    "                'properties': {'name': 'trajectory'},\n",
    "                'geometry': LineString([tuple(x) for x in lin_str.loc[i][['lon', 'lat']].values])\n",
    "            },\n",
    "            {\n",
    "                'type': 'Feature',\n",
    "                'properties': {'name': 'start_polygon'},\n",
    "                'geometry': Polygon([[tuple(x) for x in sta_pol.loc[i][['lon', 'lat']].values]])\n",
    "            },\n",
    "            {\n",
    "                'type': 'Feature',\n",
    "                'properties': {'name': 'end_polygon'},\n",
    "                'geometry': Polygon([[tuple(x) for x in end_pol.loc[i][['lon', 'lat']].values]])\n",
    "            }\n",
    "        ]    \n",
    "    }\n",
    "    \n",
    "    # mongodb\n",
    "    ssh_eddies_2013.insert_one(dict(eddy))"
   ]
  }
 ],
 "metadata": {
  "anaconda-cloud": {},
  "kernelspec": {
   "display_name": "Python 2.7",
   "language": "python",
   "name": "python2"
  },
  "language_info": {
   "codemirror_mode": {
    "name": "ipython",
    "version": 2
   },
   "file_extension": ".py",
   "mimetype": "text/x-python",
   "name": "python",
   "nbconvert_exporter": "python",
   "pygments_lexer": "ipython2",
   "version": "2.7.11"
  }
 },
 "nbformat": 4,
 "nbformat_minor": 0
}
