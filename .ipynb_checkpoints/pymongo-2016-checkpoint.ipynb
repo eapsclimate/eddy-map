{
 "cells": [
  {
   "cell_type": "markdown",
   "metadata": {},
   "source": [
    "### data ###"
   ]
  },
  {
   "cell_type": "code",
   "execution_count": 1,
   "metadata": {
    "collapsed": true
   },
   "outputs": [],
   "source": [
    "import xarray as xr"
   ]
  },
  {
   "cell_type": "code",
   "execution_count": 2,
   "metadata": {
    "collapsed": false
   },
   "outputs": [
    {
     "data": {
      "text/plain": [
       "<xarray.Dataset>\n",
       "Dimensions:  (Nobs: 22510604)\n",
       "Coordinates:\n",
       "  * Nobs     (Nobs) int64 0 1 2 3 4 5 6 7 8 9 10 11 12 13 14 15 16 17 18 19 ...\n",
       "Data variables:\n",
       "    track    (Nobs) int32 1 1 1 1 1 1 1 1 1 1 1 1 1 1 1 1 1 1 1 1 1 1 1 1 1 ...\n",
       "    n        (Nobs) int32 1 2 3 4 5 6 7 8 9 10 11 12 13 14 15 16 17 18 19 20 ...\n",
       "    j1       (Nobs) int32 2448989 2448990 2448991 2448992 2448993 2448994 ...\n",
       "    cyc      (Nobs) int32 1 1 1 1 1 1 1 1 1 1 1 1 1 1 1 1 1 1 1 1 1 1 1 1 1 ...\n",
       "    lon      (Nobs) float32 397.041 397.016 397.004 396.971 396.945 396.917 ...\n",
       "    lat      (Nobs) float32 -21.7194 -21.7603 -21.7977 -21.8521 -21.8712 ...\n",
       "    A        (Nobs) float32 31.4731 30.2156 28.8172 28.7913 27.7412 26.2385 ...\n",
       "    L        (Nobs) float32 146.739 138.674 137.84 136.146 136.12 132.704 ...\n",
       "    U        (Nobs) float32 79.1484 79.1413 78.5321 77.2414 77.7051 75.3127 ...\n",
       "Attributes:\n",
       "    title: Mesoscale Eddies in Altimeter Observations of SSH\n",
       "    institution: Oregon State University/CEOAS\n",
       "    file_name: tracks_AVISO_DT2014_daily.v0.1_web.ascii.nc\n",
       "    file_creation_time: 2016Jul13 10:33:14\n",
       "    data_start_date: Jan  1, 1993\n",
       "    data_end_date: Apr 23, 2015\n",
       "    authors: Dudley Chelton and Michael Schlax\n",
       "    inquiries_to: Eric Beals (beals@coas.oregonstate.edu)"
      ]
     },
     "execution_count": 2,
     "metadata": {},
     "output_type": "execute_result"
    }
   ],
   "source": [
    "# xarray dataset\n",
    "ds = xr.open_dataset('/home/cz2397/data/ssh-eddies/tracks_AVISO_DT2014_daily_web.nc', decode_cf=False)\n",
    "ds"
   ]
  },
  {
   "cell_type": "code",
   "execution_count": 3,
   "metadata": {
    "collapsed": false
   },
   "outputs": [
    {
     "data": {
      "text/plain": [
       "<xarray.DataArray 'track' (Nobs: 22510604)>\n",
       "[22510604 values with dtype=int32]\n",
       "Coordinates:\n",
       "  * Nobs     (Nobs) int64 0 1 2 3 4 5 6 7 8 9 10 11 12 13 14 15 16 17 18 19 ...\n",
       "Attributes:\n",
       "    units: ordinal\n",
       "    min: 1\n",
       "    max: 245389\n",
       "    long_name: track number\n",
       "    description: eddy identification number"
      ]
     },
     "execution_count": 3,
     "metadata": {},
     "output_type": "execute_result"
    }
   ],
   "source": [
    "# track number\n",
    "ds.track"
   ]
  },
  {
   "cell_type": "code",
   "execution_count": 4,
   "metadata": {
    "collapsed": false
   },
   "outputs": [
    {
     "data": {
      "text/plain": [
       "<xarray.DataArray 'n' (Nobs: 22510604)>\n",
       "[22510604 values with dtype=int32]\n",
       "Coordinates:\n",
       "  * Nobs     (Nobs) int64 0 1 2 3 4 5 6 7 8 9 10 11 12 13 14 15 16 17 18 19 ...\n",
       "Attributes:\n",
       "    units: ordinal\n",
       "    min: 28\n",
       "    max: 2197\n",
       "    long_name: observation number\n",
       "    description: observation sequence number (1 day intervals)"
      ]
     },
     "execution_count": 4,
     "metadata": {},
     "output_type": "execute_result"
    }
   ],
   "source": [
    "# observation number\n",
    "ds.n"
   ]
  },
  {
   "cell_type": "code",
   "execution_count": 5,
   "metadata": {
    "collapsed": false
   },
   "outputs": [
    {
     "data": {
      "text/plain": [
       "<xarray.DataArray 'j1' (Nobs: 22510604)>\n",
       "[22510604 values with dtype=int32]\n",
       "Coordinates:\n",
       "  * Nobs     (Nobs) int64 0 1 2 3 4 5 6 7 8 9 10 11 12 13 14 15 16 17 18 19 ...\n",
       "Attributes:\n",
       "    units: days\n",
       "    min: 2448989\n",
       "    max: 2457136\n",
       "    long_name: Julian date\n",
       "    description: date of this observation\n",
       "    reference: 2448623\n",
       "    reference_description: Julian date at Jan 1, 1992"
      ]
     },
     "execution_count": 5,
     "metadata": {},
     "output_type": "execute_result"
    }
   ],
   "source": [
    "# julian date\n",
    "ds.j1"
   ]
  },
  {
   "cell_type": "code",
   "execution_count": 6,
   "metadata": {
    "collapsed": false
   },
   "outputs": [
    {
     "data": {
      "text/plain": [
       "<xarray.DataArray 'cyc' (Nobs: 22510604)>\n",
       "[22510604 values with dtype=int32]\n",
       "Coordinates:\n",
       "  * Nobs     (Nobs) int64 0 1 2 3 4 5 6 7 8 9 10 11 12 13 14 15 16 17 18 19 ...\n",
       "Attributes:\n",
       "    units: boolean\n",
       "    min: -1\n",
       "    max: 1\n",
       "    long_name: cyclonic\n",
       "    description: cyclonic -1; anti-cyclonic +1"
      ]
     },
     "execution_count": 6,
     "metadata": {},
     "output_type": "execute_result"
    }
   ],
   "source": [
    "# cyclonic\n",
    "ds.cyc"
   ]
  },
  {
   "cell_type": "code",
   "execution_count": 7,
   "metadata": {
    "collapsed": false
   },
   "outputs": [
    {
     "data": {
      "text/plain": [
       "<xarray.DataArray 'lon' (Nobs: 22510604)>\n",
       "[22510604 values with dtype=float32]\n",
       "Coordinates:\n",
       "  * Nobs     (Nobs) int64 0 1 2 3 4 5 6 7 8 9 10 11 12 13 14 15 16 17 18 19 ...\n",
       "Attributes:\n",
       "    units: degrees east\n",
       "    min: 262.949\n",
       "    max: 649.179\n",
       "    long_name: longitude\n",
       "    description: longitude of this observation\n",
       "    note: To avoid jumps of ~360 deg in eddy tracks when the trajectory wraps around a longitude branch point that might lie in a region of interest, the longitude domain is set to 260E-650E. With this range, the only eddies with trajectories that might be affected will be those passing through the Drake Passage."
      ]
     },
     "execution_count": 7,
     "metadata": {},
     "output_type": "execute_result"
    }
   ],
   "source": [
    "# longitude\n",
    "ds.lon"
   ]
  },
  {
   "cell_type": "code",
   "execution_count": 8,
   "metadata": {
    "collapsed": false
   },
   "outputs": [
    {
     "data": {
      "text/plain": [
       "<xarray.DataArray 'lat' (Nobs: 22510604)>\n",
       "[22510604 values with dtype=float32]\n",
       "Coordinates:\n",
       "  * Nobs     (Nobs) int64 0 1 2 3 4 5 6 7 8 9 10 11 12 13 14 15 16 17 18 19 ...\n",
       "Attributes:\n",
       "    units: degrees north\n",
       "    min: -77.3894\n",
       "    max: 79.2183\n",
       "    long_name: latitude\n",
       "    description: latitude of this observation (negative for southern hemisphere)"
      ]
     },
     "execution_count": 8,
     "metadata": {},
     "output_type": "execute_result"
    }
   ],
   "source": [
    "# latitude\n",
    "ds.lat"
   ]
  },
  {
   "cell_type": "code",
   "execution_count": 9,
   "metadata": {
    "collapsed": false
   },
   "outputs": [
    {
     "data": {
      "text/plain": [
       "<xarray.DataArray 'A' (Nobs: 22510604)>\n",
       "[22510604 values with dtype=float32]\n",
       "Coordinates:\n",
       "  * Nobs     (Nobs) int64 0 1 2 3 4 5 6 7 8 9 10 11 12 13 14 15 16 17 18 19 ...\n",
       "Attributes:\n",
       "    units: cm\n",
       "    min: 1.0\n",
       "    max: 48.4769\n",
       "    long_name: amplitude\n",
       "    description: magnitude of the height difference between the extremum of SSH within the eddy and the SSH around the contour defining the eddy perimeter"
      ]
     },
     "execution_count": 9,
     "metadata": {},
     "output_type": "execute_result"
    }
   ],
   "source": [
    "# amplitude\n",
    "ds.A"
   ]
  },
  {
   "cell_type": "code",
   "execution_count": 10,
   "metadata": {
    "collapsed": false
   },
   "outputs": [
    {
     "data": {
      "text/plain": [
       "<xarray.DataArray 'L' (Nobs: 22510604)>\n",
       "[22510604 values with dtype=float32]\n",
       "Coordinates:\n",
       "  * Nobs     (Nobs) int64 0 1 2 3 4 5 6 7 8 9 10 11 12 13 14 15 16 17 18 19 ...\n",
       "Attributes:\n",
       "    units: km\n",
       "    min: 8.93032\n",
       "    max: 444.603\n",
       "    long_name: radius scale\n",
       "    description: radius of a circle whose area is equal to that enclosed by the contour of maximum circum-average speed"
      ]
     },
     "execution_count": 10,
     "metadata": {},
     "output_type": "execute_result"
    }
   ],
   "source": [
    "# radius scale\n",
    "ds.L"
   ]
  },
  {
   "cell_type": "code",
   "execution_count": 11,
   "metadata": {
    "collapsed": false
   },
   "outputs": [
    {
     "data": {
      "text/plain": [
       "<xarray.DataArray 'U' (Nobs: 22510604)>\n",
       "[22510604 values with dtype=float32]\n",
       "Coordinates:\n",
       "  * Nobs     (Nobs) int64 0 1 2 3 4 5 6 7 8 9 10 11 12 13 14 15 16 17 18 19 ...\n",
       "Attributes:\n",
       "    units: cm/sec\n",
       "    min: 1.08407\n",
       "    max: 671.569\n",
       "    long_name: maximum circum-averaged speed\n",
       "    description: average speed of the contour defining the radius scale L"
      ]
     },
     "execution_count": 11,
     "metadata": {},
     "output_type": "execute_result"
    }
   ],
   "source": [
    "# maximum circum-averaged speed\n",
    "ds.U"
   ]
  },
  {
   "cell_type": "markdown",
   "metadata": {},
   "source": [
    "### multi-index ###"
   ]
  },
  {
   "cell_type": "code",
   "execution_count": 12,
   "metadata": {
    "collapsed": true
   },
   "outputs": [],
   "source": [
    "from tqdm import tqdm\n",
    "import numpy as np\n",
    "import pandas as pd"
   ]
  },
  {
   "cell_type": "code",
   "execution_count": 13,
   "metadata": {
    "collapsed": true
   },
   "outputs": [],
   "source": [
    "df = ds.to_dataframe()"
   ]
  },
  {
   "cell_type": "code",
   "execution_count": 14,
   "metadata": {
    "collapsed": false
   },
   "outputs": [
    {
     "data": {
      "text/html": [
       "<div>\n",
       "<table border=\"1\" class=\"dataframe\">\n",
       "  <thead>\n",
       "    <tr style=\"text-align: right;\">\n",
       "      <th></th>\n",
       "      <th>track</th>\n",
       "      <th>n</th>\n",
       "      <th>j1</th>\n",
       "      <th>cyc</th>\n",
       "      <th>lon</th>\n",
       "      <th>lat</th>\n",
       "      <th>A</th>\n",
       "      <th>L</th>\n",
       "      <th>U</th>\n",
       "    </tr>\n",
       "    <tr>\n",
       "      <th>Nobs</th>\n",
       "      <th></th>\n",
       "      <th></th>\n",
       "      <th></th>\n",
       "      <th></th>\n",
       "      <th></th>\n",
       "      <th></th>\n",
       "      <th></th>\n",
       "      <th></th>\n",
       "      <th></th>\n",
       "    </tr>\n",
       "  </thead>\n",
       "  <tbody>\n",
       "    <tr>\n",
       "      <th>0</th>\n",
       "      <td>1</td>\n",
       "      <td>1</td>\n",
       "      <td>2448989</td>\n",
       "      <td>1</td>\n",
       "      <td>397.040985</td>\n",
       "      <td>-21.719400</td>\n",
       "      <td>31.473101</td>\n",
       "      <td>146.738998</td>\n",
       "      <td>79.148399</td>\n",
       "    </tr>\n",
       "    <tr>\n",
       "      <th>1</th>\n",
       "      <td>1</td>\n",
       "      <td>2</td>\n",
       "      <td>2448990</td>\n",
       "      <td>1</td>\n",
       "      <td>397.015991</td>\n",
       "      <td>-21.760300</td>\n",
       "      <td>30.215599</td>\n",
       "      <td>138.673996</td>\n",
       "      <td>79.141296</td>\n",
       "    </tr>\n",
       "    <tr>\n",
       "      <th>2</th>\n",
       "      <td>1</td>\n",
       "      <td>3</td>\n",
       "      <td>2448991</td>\n",
       "      <td>1</td>\n",
       "      <td>397.003998</td>\n",
       "      <td>-21.797701</td>\n",
       "      <td>28.817200</td>\n",
       "      <td>137.839996</td>\n",
       "      <td>78.532097</td>\n",
       "    </tr>\n",
       "    <tr>\n",
       "      <th>3</th>\n",
       "      <td>1</td>\n",
       "      <td>4</td>\n",
       "      <td>2448992</td>\n",
       "      <td>1</td>\n",
       "      <td>396.971008</td>\n",
       "      <td>-21.852100</td>\n",
       "      <td>28.791300</td>\n",
       "      <td>136.145996</td>\n",
       "      <td>77.241402</td>\n",
       "    </tr>\n",
       "    <tr>\n",
       "      <th>4</th>\n",
       "      <td>1</td>\n",
       "      <td>5</td>\n",
       "      <td>2448993</td>\n",
       "      <td>1</td>\n",
       "      <td>396.945007</td>\n",
       "      <td>-21.871201</td>\n",
       "      <td>27.741199</td>\n",
       "      <td>136.119995</td>\n",
       "      <td>77.705101</td>\n",
       "    </tr>\n",
       "  </tbody>\n",
       "</table>\n",
       "</div>"
      ],
      "text/plain": [
       "      track  n       j1  cyc         lon        lat          A           L  \\\n",
       "Nobs                                                                         \n",
       "0         1  1  2448989    1  397.040985 -21.719400  31.473101  146.738998   \n",
       "1         1  2  2448990    1  397.015991 -21.760300  30.215599  138.673996   \n",
       "2         1  3  2448991    1  397.003998 -21.797701  28.817200  137.839996   \n",
       "3         1  4  2448992    1  396.971008 -21.852100  28.791300  136.145996   \n",
       "4         1  5  2448993    1  396.945007 -21.871201  27.741199  136.119995   \n",
       "\n",
       "              U  \n",
       "Nobs             \n",
       "0     79.148399  \n",
       "1     79.141296  \n",
       "2     78.532097  \n",
       "3     77.241402  \n",
       "4     77.705101  "
      ]
     },
     "execution_count": 14,
     "metadata": {},
     "output_type": "execute_result"
    }
   ],
   "source": [
    "df.head()"
   ]
  },
  {
   "cell_type": "code",
   "execution_count": 15,
   "metadata": {
    "collapsed": false
   },
   "outputs": [
    {
     "data": {
      "text/plain": [
       "245389"
      ]
     },
     "execution_count": 15,
     "metadata": {},
     "output_type": "execute_result"
    }
   ],
   "source": [
    "# track number\n",
    "tra_num = max(df.track)\n",
    "tra_num"
   ]
  },
  {
   "cell_type": "code",
   "execution_count": 50,
   "metadata": {
    "collapsed": false
   },
   "outputs": [
    {
     "data": {
      "text/plain": [
       "22510604"
      ]
     },
     "execution_count": 50,
     "metadata": {},
     "output_type": "execute_result"
    }
   ],
   "source": [
    "# observation number\n",
    "obs_num = len(df.n)\n",
    "obs_num"
   ]
  },
  {
   "cell_type": "code",
   "execution_count": 17,
   "metadata": {
    "collapsed": true
   },
   "outputs": [],
   "source": [
    "track = np.asarray(df.track)\n",
    "n = np.asarray(df.n)"
   ]
  },
  {
   "cell_type": "code",
   "execution_count": 18,
   "metadata": {
    "collapsed": true
   },
   "outputs": [],
   "source": [
    "# multi-index construction\n",
    "arrays = [track, n]\n",
    "tuples = list(zip(*arrays))\n",
    "multi_index = pd.MultiIndex.from_tuples(tuples, names=['track-id', 'point-id'])"
   ]
  },
  {
   "cell_type": "code",
   "execution_count": 19,
   "metadata": {
    "collapsed": true
   },
   "outputs": [],
   "source": [
    "j1 = np.asarray(df.j1)\n",
    "cyc = np.asarray(df.cyc)\n",
    "lon = np.asarray(df.lon)\n",
    "lat = np.asarray(df.lat)\n",
    "A = np.asarray(df.A)\n",
    "L = np.asarray(df.L)\n",
    "U = np.asarray(df.U)"
   ]
  },
  {
   "cell_type": "code",
   "execution_count": 20,
   "metadata": {
    "collapsed": true
   },
   "outputs": [],
   "source": [
    "matrix = np.zeros((obs_num, 7))"
   ]
  },
  {
   "cell_type": "code",
   "execution_count": 21,
   "metadata": {
    "collapsed": false
   },
   "outputs": [
    {
     "name": "stderr",
     "output_type": "stream",
     "text": [
      "100%|██████████| 22510604/22510604 [01:04<00:00, 350682.04it/s]\n"
     ]
    }
   ],
   "source": [
    "for i in tqdm(range(obs_num)):\n",
    "    matrix[i][0] = j1[i]\n",
    "    matrix[i][1] = cyc[i]\n",
    "    matrix[i][2] = lon[i]\n",
    "    matrix[i][3] = lat[i]\n",
    "    matrix[i][4] = A[i]\n",
    "    matrix[i][5] = L[i]\n",
    "    matrix[i][6] = U[i]"
   ]
  },
  {
   "cell_type": "code",
   "execution_count": 22,
   "metadata": {
    "collapsed": true
   },
   "outputs": [],
   "source": [
    "DF = pd.DataFrame(matrix, index=multi_index)\n",
    "DF.columns = ['j1', 'cyc', 'lon', 'lat', 'A', 'L', 'U']"
   ]
  },
  {
   "cell_type": "code",
   "execution_count": 23,
   "metadata": {
    "collapsed": false
   },
   "outputs": [
    {
     "data": {
      "text/html": [
       "<div>\n",
       "<table border=\"1\" class=\"dataframe\">\n",
       "  <thead>\n",
       "    <tr style=\"text-align: right;\">\n",
       "      <th></th>\n",
       "      <th></th>\n",
       "      <th>j1</th>\n",
       "      <th>cyc</th>\n",
       "      <th>lon</th>\n",
       "      <th>lat</th>\n",
       "      <th>A</th>\n",
       "      <th>L</th>\n",
       "      <th>U</th>\n",
       "    </tr>\n",
       "    <tr>\n",
       "      <th>track-id</th>\n",
       "      <th>point-id</th>\n",
       "      <th></th>\n",
       "      <th></th>\n",
       "      <th></th>\n",
       "      <th></th>\n",
       "      <th></th>\n",
       "      <th></th>\n",
       "      <th></th>\n",
       "    </tr>\n",
       "  </thead>\n",
       "  <tbody>\n",
       "    <tr>\n",
       "      <th rowspan=\"5\" valign=\"top\">1</th>\n",
       "      <th>1</th>\n",
       "      <td>2448989</td>\n",
       "      <td>1</td>\n",
       "      <td>397.040985</td>\n",
       "      <td>-21.719400</td>\n",
       "      <td>31.473101</td>\n",
       "      <td>146.738998</td>\n",
       "      <td>79.148399</td>\n",
       "    </tr>\n",
       "    <tr>\n",
       "      <th>2</th>\n",
       "      <td>2448990</td>\n",
       "      <td>1</td>\n",
       "      <td>397.015991</td>\n",
       "      <td>-21.760300</td>\n",
       "      <td>30.215599</td>\n",
       "      <td>138.673996</td>\n",
       "      <td>79.141296</td>\n",
       "    </tr>\n",
       "    <tr>\n",
       "      <th>3</th>\n",
       "      <td>2448991</td>\n",
       "      <td>1</td>\n",
       "      <td>397.003998</td>\n",
       "      <td>-21.797701</td>\n",
       "      <td>28.817200</td>\n",
       "      <td>137.839996</td>\n",
       "      <td>78.532097</td>\n",
       "    </tr>\n",
       "    <tr>\n",
       "      <th>4</th>\n",
       "      <td>2448992</td>\n",
       "      <td>1</td>\n",
       "      <td>396.971008</td>\n",
       "      <td>-21.852100</td>\n",
       "      <td>28.791300</td>\n",
       "      <td>136.145996</td>\n",
       "      <td>77.241402</td>\n",
       "    </tr>\n",
       "    <tr>\n",
       "      <th>5</th>\n",
       "      <td>2448993</td>\n",
       "      <td>1</td>\n",
       "      <td>396.945007</td>\n",
       "      <td>-21.871201</td>\n",
       "      <td>27.741199</td>\n",
       "      <td>136.119995</td>\n",
       "      <td>77.705101</td>\n",
       "    </tr>\n",
       "  </tbody>\n",
       "</table>\n",
       "</div>"
      ],
      "text/plain": [
       "                        j1  cyc         lon        lat          A           L  \\\n",
       "track-id point-id                                                               \n",
       "1        1         2448989    1  397.040985 -21.719400  31.473101  146.738998   \n",
       "         2         2448990    1  397.015991 -21.760300  30.215599  138.673996   \n",
       "         3         2448991    1  397.003998 -21.797701  28.817200  137.839996   \n",
       "         4         2448992    1  396.971008 -21.852100  28.791300  136.145996   \n",
       "         5         2448993    1  396.945007 -21.871201  27.741199  136.119995   \n",
       "\n",
       "                           U  \n",
       "track-id point-id             \n",
       "1        1         79.148399  \n",
       "         2         79.141296  \n",
       "         3         78.532097  \n",
       "         4         77.241402  \n",
       "         5         77.705101  "
      ]
     },
     "execution_count": 23,
     "metadata": {},
     "output_type": "execute_result"
    }
   ],
   "source": [
    "DF.head()"
   ]
  },
  {
   "cell_type": "markdown",
   "metadata": {},
   "source": [
    "### time ###"
   ]
  },
  {
   "cell_type": "code",
   "execution_count": 24,
   "metadata": {
    "collapsed": true
   },
   "outputs": [],
   "source": [
    "import datetime, jdcal"
   ]
  },
  {
   "cell_type": "code",
   "execution_count": 25,
   "metadata": {
    "collapsed": true
   },
   "outputs": [],
   "source": [
    "def jday_to_datetime(jday, refday=0):\n",
    "    y, m, d, f = jdcal.jd2gcal(jday, refday)\n",
    "    h = int(f*24)\n",
    "    return pd.to_datetime(datetime.datetime(y, m, d, h))"
   ]
  },
  {
   "cell_type": "code",
   "execution_count": 26,
   "metadata": {
    "collapsed": false
   },
   "outputs": [],
   "source": [
    "date_fix = DF.j1.apply(jday_to_datetime)"
   ]
  },
  {
   "cell_type": "code",
   "execution_count": 27,
   "metadata": {
    "collapsed": true
   },
   "outputs": [],
   "source": [
    "DF.j1 = date_fix\n",
    "DF = DF.rename(columns = {'j1': 'date'})"
   ]
  },
  {
   "cell_type": "code",
   "execution_count": 28,
   "metadata": {
    "collapsed": false
   },
   "outputs": [
    {
     "data": {
      "text/html": [
       "<div>\n",
       "<table border=\"1\" class=\"dataframe\">\n",
       "  <thead>\n",
       "    <tr style=\"text-align: right;\">\n",
       "      <th></th>\n",
       "      <th></th>\n",
       "      <th>date</th>\n",
       "      <th>cyc</th>\n",
       "      <th>lon</th>\n",
       "      <th>lat</th>\n",
       "      <th>A</th>\n",
       "      <th>L</th>\n",
       "      <th>U</th>\n",
       "    </tr>\n",
       "    <tr>\n",
       "      <th>track-id</th>\n",
       "      <th>point-id</th>\n",
       "      <th></th>\n",
       "      <th></th>\n",
       "      <th></th>\n",
       "      <th></th>\n",
       "      <th></th>\n",
       "      <th></th>\n",
       "      <th></th>\n",
       "    </tr>\n",
       "  </thead>\n",
       "  <tbody>\n",
       "    <tr>\n",
       "      <th rowspan=\"5\" valign=\"top\">1</th>\n",
       "      <th>1</th>\n",
       "      <td>1993-01-01 12:00:00</td>\n",
       "      <td>1</td>\n",
       "      <td>397.040985</td>\n",
       "      <td>-21.719400</td>\n",
       "      <td>31.473101</td>\n",
       "      <td>146.738998</td>\n",
       "      <td>79.148399</td>\n",
       "    </tr>\n",
       "    <tr>\n",
       "      <th>2</th>\n",
       "      <td>1993-01-02 12:00:00</td>\n",
       "      <td>1</td>\n",
       "      <td>397.015991</td>\n",
       "      <td>-21.760300</td>\n",
       "      <td>30.215599</td>\n",
       "      <td>138.673996</td>\n",
       "      <td>79.141296</td>\n",
       "    </tr>\n",
       "    <tr>\n",
       "      <th>3</th>\n",
       "      <td>1993-01-03 12:00:00</td>\n",
       "      <td>1</td>\n",
       "      <td>397.003998</td>\n",
       "      <td>-21.797701</td>\n",
       "      <td>28.817200</td>\n",
       "      <td>137.839996</td>\n",
       "      <td>78.532097</td>\n",
       "    </tr>\n",
       "    <tr>\n",
       "      <th>4</th>\n",
       "      <td>1993-01-04 12:00:00</td>\n",
       "      <td>1</td>\n",
       "      <td>396.971008</td>\n",
       "      <td>-21.852100</td>\n",
       "      <td>28.791300</td>\n",
       "      <td>136.145996</td>\n",
       "      <td>77.241402</td>\n",
       "    </tr>\n",
       "    <tr>\n",
       "      <th>5</th>\n",
       "      <td>1993-01-05 12:00:00</td>\n",
       "      <td>1</td>\n",
       "      <td>396.945007</td>\n",
       "      <td>-21.871201</td>\n",
       "      <td>27.741199</td>\n",
       "      <td>136.119995</td>\n",
       "      <td>77.705101</td>\n",
       "    </tr>\n",
       "  </tbody>\n",
       "</table>\n",
       "</div>"
      ],
      "text/plain": [
       "                                 date  cyc         lon        lat          A  \\\n",
       "track-id point-id                                                              \n",
       "1        1        1993-01-01 12:00:00    1  397.040985 -21.719400  31.473101   \n",
       "         2        1993-01-02 12:00:00    1  397.015991 -21.760300  30.215599   \n",
       "         3        1993-01-03 12:00:00    1  397.003998 -21.797701  28.817200   \n",
       "         4        1993-01-04 12:00:00    1  396.971008 -21.852100  28.791300   \n",
       "         5        1993-01-05 12:00:00    1  396.945007 -21.871201  27.741199   \n",
       "\n",
       "                            L          U  \n",
       "track-id point-id                         \n",
       "1        1         146.738998  79.148399  \n",
       "         2         138.673996  79.141296  \n",
       "         3         137.839996  78.532097  \n",
       "         4         136.145996  77.241402  \n",
       "         5         136.119995  77.705101  "
      ]
     },
     "execution_count": 28,
     "metadata": {},
     "output_type": "execute_result"
    }
   ],
   "source": [
    "DF.head()"
   ]
  },
  {
   "cell_type": "markdown",
   "metadata": {},
   "source": [
    "### longitude ###"
   ]
  },
  {
   "cell_type": "code",
   "execution_count": 29,
   "metadata": {
    "collapsed": true
   },
   "outputs": [],
   "source": [
    "# longitude range setting\n",
    "# from -180 to 180\n",
    "lon_fix_a1 = DF.where(DF.lon < 540).lon - 360\n",
    "lon_fix_a2 = DF.where(DF.lon >= 540).lon - 720\n",
    "lon_fix_a = lon_fix_a1\n",
    "lon_fix_a = lon_fix_a.fillna(lon_fix_a2)\n",
    "DF.lon = lon_fix_a"
   ]
  },
  {
   "cell_type": "code",
   "execution_count": 30,
   "metadata": {
    "collapsed": false
   },
   "outputs": [
    {
     "data": {
      "text/html": [
       "<div>\n",
       "<table border=\"1\" class=\"dataframe\">\n",
       "  <thead>\n",
       "    <tr style=\"text-align: right;\">\n",
       "      <th></th>\n",
       "      <th></th>\n",
       "      <th>date</th>\n",
       "      <th>cyc</th>\n",
       "      <th>lon</th>\n",
       "      <th>lat</th>\n",
       "      <th>A</th>\n",
       "      <th>L</th>\n",
       "      <th>U</th>\n",
       "    </tr>\n",
       "    <tr>\n",
       "      <th>track-id</th>\n",
       "      <th>point-id</th>\n",
       "      <th></th>\n",
       "      <th></th>\n",
       "      <th></th>\n",
       "      <th></th>\n",
       "      <th></th>\n",
       "      <th></th>\n",
       "      <th></th>\n",
       "    </tr>\n",
       "  </thead>\n",
       "  <tbody>\n",
       "    <tr>\n",
       "      <th rowspan=\"5\" valign=\"top\">1</th>\n",
       "      <th>1</th>\n",
       "      <td>1993-01-01 12:00:00</td>\n",
       "      <td>1</td>\n",
       "      <td>37.040985</td>\n",
       "      <td>-21.719400</td>\n",
       "      <td>31.473101</td>\n",
       "      <td>146.738998</td>\n",
       "      <td>79.148399</td>\n",
       "    </tr>\n",
       "    <tr>\n",
       "      <th>2</th>\n",
       "      <td>1993-01-02 12:00:00</td>\n",
       "      <td>1</td>\n",
       "      <td>37.015991</td>\n",
       "      <td>-21.760300</td>\n",
       "      <td>30.215599</td>\n",
       "      <td>138.673996</td>\n",
       "      <td>79.141296</td>\n",
       "    </tr>\n",
       "    <tr>\n",
       "      <th>3</th>\n",
       "      <td>1993-01-03 12:00:00</td>\n",
       "      <td>1</td>\n",
       "      <td>37.003998</td>\n",
       "      <td>-21.797701</td>\n",
       "      <td>28.817200</td>\n",
       "      <td>137.839996</td>\n",
       "      <td>78.532097</td>\n",
       "    </tr>\n",
       "    <tr>\n",
       "      <th>4</th>\n",
       "      <td>1993-01-04 12:00:00</td>\n",
       "      <td>1</td>\n",
       "      <td>36.971008</td>\n",
       "      <td>-21.852100</td>\n",
       "      <td>28.791300</td>\n",
       "      <td>136.145996</td>\n",
       "      <td>77.241402</td>\n",
       "    </tr>\n",
       "    <tr>\n",
       "      <th>5</th>\n",
       "      <td>1993-01-05 12:00:00</td>\n",
       "      <td>1</td>\n",
       "      <td>36.945007</td>\n",
       "      <td>-21.871201</td>\n",
       "      <td>27.741199</td>\n",
       "      <td>136.119995</td>\n",
       "      <td>77.705101</td>\n",
       "    </tr>\n",
       "  </tbody>\n",
       "</table>\n",
       "</div>"
      ],
      "text/plain": [
       "                                 date  cyc        lon        lat          A  \\\n",
       "track-id point-id                                                             \n",
       "1        1        1993-01-01 12:00:00    1  37.040985 -21.719400  31.473101   \n",
       "         2        1993-01-02 12:00:00    1  37.015991 -21.760300  30.215599   \n",
       "         3        1993-01-03 12:00:00    1  37.003998 -21.797701  28.817200   \n",
       "         4        1993-01-04 12:00:00    1  36.971008 -21.852100  28.791300   \n",
       "         5        1993-01-05 12:00:00    1  36.945007 -21.871201  27.741199   \n",
       "\n",
       "                            L          U  \n",
       "track-id point-id                         \n",
       "1        1         146.738998  79.148399  \n",
       "         2         138.673996  79.141296  \n",
       "         3         137.839996  78.532097  \n",
       "         4         136.145996  77.241402  \n",
       "         5         136.119995  77.705101  "
      ]
     },
     "execution_count": 30,
     "metadata": {},
     "output_type": "execute_result"
    }
   ],
   "source": [
    "DF.head()"
   ]
  },
  {
   "cell_type": "code",
   "execution_count": 31,
   "metadata": {
    "collapsed": true
   },
   "outputs": [],
   "source": [
    "# longitude range setting\n",
    "# from 0 to 360\n",
    "lon_fix_b1 = DF.where(DF.lon < 0).lon + 360\n",
    "lon_fix_b2 = DF.where(DF.lon >= 0).lon\n",
    "lon_fix_b = lon_fix_b1\n",
    "lon_fix_b = lon_fix_b.fillna(lon_fix_b2)\n",
    "DF.lon = lon_fix_b"
   ]
  },
  {
   "cell_type": "code",
   "execution_count": 32,
   "metadata": {
    "collapsed": false
   },
   "outputs": [
    {
     "data": {
      "text/html": [
       "<div>\n",
       "<table border=\"1\" class=\"dataframe\">\n",
       "  <thead>\n",
       "    <tr style=\"text-align: right;\">\n",
       "      <th></th>\n",
       "      <th></th>\n",
       "      <th>date</th>\n",
       "      <th>cyc</th>\n",
       "      <th>lon</th>\n",
       "      <th>lat</th>\n",
       "      <th>A</th>\n",
       "      <th>L</th>\n",
       "      <th>U</th>\n",
       "    </tr>\n",
       "    <tr>\n",
       "      <th>track-id</th>\n",
       "      <th>point-id</th>\n",
       "      <th></th>\n",
       "      <th></th>\n",
       "      <th></th>\n",
       "      <th></th>\n",
       "      <th></th>\n",
       "      <th></th>\n",
       "      <th></th>\n",
       "    </tr>\n",
       "  </thead>\n",
       "  <tbody>\n",
       "    <tr>\n",
       "      <th rowspan=\"5\" valign=\"top\">1</th>\n",
       "      <th>1</th>\n",
       "      <td>1993-01-01 12:00:00</td>\n",
       "      <td>1</td>\n",
       "      <td>37.040985</td>\n",
       "      <td>-21.719400</td>\n",
       "      <td>31.473101</td>\n",
       "      <td>146.738998</td>\n",
       "      <td>79.148399</td>\n",
       "    </tr>\n",
       "    <tr>\n",
       "      <th>2</th>\n",
       "      <td>1993-01-02 12:00:00</td>\n",
       "      <td>1</td>\n",
       "      <td>37.015991</td>\n",
       "      <td>-21.760300</td>\n",
       "      <td>30.215599</td>\n",
       "      <td>138.673996</td>\n",
       "      <td>79.141296</td>\n",
       "    </tr>\n",
       "    <tr>\n",
       "      <th>3</th>\n",
       "      <td>1993-01-03 12:00:00</td>\n",
       "      <td>1</td>\n",
       "      <td>37.003998</td>\n",
       "      <td>-21.797701</td>\n",
       "      <td>28.817200</td>\n",
       "      <td>137.839996</td>\n",
       "      <td>78.532097</td>\n",
       "    </tr>\n",
       "    <tr>\n",
       "      <th>4</th>\n",
       "      <td>1993-01-04 12:00:00</td>\n",
       "      <td>1</td>\n",
       "      <td>36.971008</td>\n",
       "      <td>-21.852100</td>\n",
       "      <td>28.791300</td>\n",
       "      <td>136.145996</td>\n",
       "      <td>77.241402</td>\n",
       "    </tr>\n",
       "    <tr>\n",
       "      <th>5</th>\n",
       "      <td>1993-01-05 12:00:00</td>\n",
       "      <td>1</td>\n",
       "      <td>36.945007</td>\n",
       "      <td>-21.871201</td>\n",
       "      <td>27.741199</td>\n",
       "      <td>136.119995</td>\n",
       "      <td>77.705101</td>\n",
       "    </tr>\n",
       "  </tbody>\n",
       "</table>\n",
       "</div>"
      ],
      "text/plain": [
       "                                 date  cyc        lon        lat          A  \\\n",
       "track-id point-id                                                             \n",
       "1        1        1993-01-01 12:00:00    1  37.040985 -21.719400  31.473101   \n",
       "         2        1993-01-02 12:00:00    1  37.015991 -21.760300  30.215599   \n",
       "         3        1993-01-03 12:00:00    1  37.003998 -21.797701  28.817200   \n",
       "         4        1993-01-04 12:00:00    1  36.971008 -21.852100  28.791300   \n",
       "         5        1993-01-05 12:00:00    1  36.945007 -21.871201  27.741199   \n",
       "\n",
       "                            L          U  \n",
       "track-id point-id                         \n",
       "1        1         146.738998  79.148399  \n",
       "         2         138.673996  79.141296  \n",
       "         3         137.839996  78.532097  \n",
       "         4         136.145996  77.241402  \n",
       "         5         136.119995  77.705101  "
      ]
     },
     "execution_count": 32,
     "metadata": {},
     "output_type": "execute_result"
    }
   ],
   "source": [
    "DF.head()"
   ]
  },
  {
   "cell_type": "markdown",
   "metadata": {},
   "source": [
    "### radius ###"
   ]
  },
  {
   "cell_type": "code",
   "execution_count": 33,
   "metadata": {
    "collapsed": true
   },
   "outputs": [],
   "source": [
    "radius_fix = DF.L*1000\n",
    "DF.L = radius_fix\n",
    "DF = DF.rename(columns = {'L': 'radius'})"
   ]
  },
  {
   "cell_type": "code",
   "execution_count": 34,
   "metadata": {
    "collapsed": false
   },
   "outputs": [
    {
     "data": {
      "text/html": [
       "<div>\n",
       "<table border=\"1\" class=\"dataframe\">\n",
       "  <thead>\n",
       "    <tr style=\"text-align: right;\">\n",
       "      <th></th>\n",
       "      <th></th>\n",
       "      <th>date</th>\n",
       "      <th>cyc</th>\n",
       "      <th>lon</th>\n",
       "      <th>lat</th>\n",
       "      <th>A</th>\n",
       "      <th>radius</th>\n",
       "      <th>U</th>\n",
       "    </tr>\n",
       "    <tr>\n",
       "      <th>track-id</th>\n",
       "      <th>point-id</th>\n",
       "      <th></th>\n",
       "      <th></th>\n",
       "      <th></th>\n",
       "      <th></th>\n",
       "      <th></th>\n",
       "      <th></th>\n",
       "      <th></th>\n",
       "    </tr>\n",
       "  </thead>\n",
       "  <tbody>\n",
       "    <tr>\n",
       "      <th rowspan=\"5\" valign=\"top\">1</th>\n",
       "      <th>1</th>\n",
       "      <td>1993-01-01 12:00:00</td>\n",
       "      <td>1</td>\n",
       "      <td>37.040985</td>\n",
       "      <td>-21.719400</td>\n",
       "      <td>31.473101</td>\n",
       "      <td>146738.998413</td>\n",
       "      <td>79.148399</td>\n",
       "    </tr>\n",
       "    <tr>\n",
       "      <th>2</th>\n",
       "      <td>1993-01-02 12:00:00</td>\n",
       "      <td>1</td>\n",
       "      <td>37.015991</td>\n",
       "      <td>-21.760300</td>\n",
       "      <td>30.215599</td>\n",
       "      <td>138673.995972</td>\n",
       "      <td>79.141296</td>\n",
       "    </tr>\n",
       "    <tr>\n",
       "      <th>3</th>\n",
       "      <td>1993-01-03 12:00:00</td>\n",
       "      <td>1</td>\n",
       "      <td>37.003998</td>\n",
       "      <td>-21.797701</td>\n",
       "      <td>28.817200</td>\n",
       "      <td>137839.996338</td>\n",
       "      <td>78.532097</td>\n",
       "    </tr>\n",
       "    <tr>\n",
       "      <th>4</th>\n",
       "      <td>1993-01-04 12:00:00</td>\n",
       "      <td>1</td>\n",
       "      <td>36.971008</td>\n",
       "      <td>-21.852100</td>\n",
       "      <td>28.791300</td>\n",
       "      <td>136145.996094</td>\n",
       "      <td>77.241402</td>\n",
       "    </tr>\n",
       "    <tr>\n",
       "      <th>5</th>\n",
       "      <td>1993-01-05 12:00:00</td>\n",
       "      <td>1</td>\n",
       "      <td>36.945007</td>\n",
       "      <td>-21.871201</td>\n",
       "      <td>27.741199</td>\n",
       "      <td>136119.995117</td>\n",
       "      <td>77.705101</td>\n",
       "    </tr>\n",
       "  </tbody>\n",
       "</table>\n",
       "</div>"
      ],
      "text/plain": [
       "                                 date  cyc        lon        lat          A  \\\n",
       "track-id point-id                                                             \n",
       "1        1        1993-01-01 12:00:00    1  37.040985 -21.719400  31.473101   \n",
       "         2        1993-01-02 12:00:00    1  37.015991 -21.760300  30.215599   \n",
       "         3        1993-01-03 12:00:00    1  37.003998 -21.797701  28.817200   \n",
       "         4        1993-01-04 12:00:00    1  36.971008 -21.852100  28.791300   \n",
       "         5        1993-01-05 12:00:00    1  36.945007 -21.871201  27.741199   \n",
       "\n",
       "                          radius          U  \n",
       "track-id point-id                            \n",
       "1        1         146738.998413  79.148399  \n",
       "         2         138673.995972  79.141296  \n",
       "         3         137839.996338  78.532097  \n",
       "         4         136145.996094  77.241402  \n",
       "         5         136119.995117  77.705101  "
      ]
     },
     "execution_count": 34,
     "metadata": {},
     "output_type": "execute_result"
    }
   ],
   "source": [
    "DF.head()"
   ]
  },
  {
   "cell_type": "markdown",
   "metadata": {},
   "source": [
    "### geojson-point ###"
   ]
  },
  {
   "cell_type": "code",
   "execution_count": 35,
   "metadata": {
    "collapsed": false
   },
   "outputs": [
    {
     "data": {
      "text/html": [
       "<div>\n",
       "<table border=\"1\" class=\"dataframe\">\n",
       "  <thead>\n",
       "    <tr style=\"text-align: right;\">\n",
       "      <th></th>\n",
       "      <th>track</th>\n",
       "      <th>n</th>\n",
       "      <th>j1</th>\n",
       "      <th>cyc</th>\n",
       "      <th>lon</th>\n",
       "      <th>lat</th>\n",
       "      <th>A</th>\n",
       "      <th>L</th>\n",
       "      <th>U</th>\n",
       "    </tr>\n",
       "    <tr>\n",
       "      <th>Nobs</th>\n",
       "      <th></th>\n",
       "      <th></th>\n",
       "      <th></th>\n",
       "      <th></th>\n",
       "      <th></th>\n",
       "      <th></th>\n",
       "      <th></th>\n",
       "      <th></th>\n",
       "      <th></th>\n",
       "    </tr>\n",
       "  </thead>\n",
       "  <tbody>\n",
       "    <tr>\n",
       "      <th>0</th>\n",
       "      <td>1</td>\n",
       "      <td>1</td>\n",
       "      <td>2448989</td>\n",
       "      <td>1</td>\n",
       "      <td>397.040985</td>\n",
       "      <td>-21.719400</td>\n",
       "      <td>31.473101</td>\n",
       "      <td>146.738998</td>\n",
       "      <td>79.148399</td>\n",
       "    </tr>\n",
       "    <tr>\n",
       "      <th>1</th>\n",
       "      <td>1</td>\n",
       "      <td>2</td>\n",
       "      <td>2448990</td>\n",
       "      <td>1</td>\n",
       "      <td>397.015991</td>\n",
       "      <td>-21.760300</td>\n",
       "      <td>30.215599</td>\n",
       "      <td>138.673996</td>\n",
       "      <td>79.141296</td>\n",
       "    </tr>\n",
       "    <tr>\n",
       "      <th>2</th>\n",
       "      <td>1</td>\n",
       "      <td>3</td>\n",
       "      <td>2448991</td>\n",
       "      <td>1</td>\n",
       "      <td>397.003998</td>\n",
       "      <td>-21.797701</td>\n",
       "      <td>28.817200</td>\n",
       "      <td>137.839996</td>\n",
       "      <td>78.532097</td>\n",
       "    </tr>\n",
       "    <tr>\n",
       "      <th>3</th>\n",
       "      <td>1</td>\n",
       "      <td>4</td>\n",
       "      <td>2448992</td>\n",
       "      <td>1</td>\n",
       "      <td>396.971008</td>\n",
       "      <td>-21.852100</td>\n",
       "      <td>28.791300</td>\n",
       "      <td>136.145996</td>\n",
       "      <td>77.241402</td>\n",
       "    </tr>\n",
       "    <tr>\n",
       "      <th>4</th>\n",
       "      <td>1</td>\n",
       "      <td>5</td>\n",
       "      <td>2448993</td>\n",
       "      <td>1</td>\n",
       "      <td>396.945007</td>\n",
       "      <td>-21.871201</td>\n",
       "      <td>27.741199</td>\n",
       "      <td>136.119995</td>\n",
       "      <td>77.705101</td>\n",
       "    </tr>\n",
       "  </tbody>\n",
       "</table>\n",
       "</div>"
      ],
      "text/plain": [
       "      track  n       j1  cyc         lon        lat          A           L  \\\n",
       "Nobs                                                                         \n",
       "0         1  1  2448989    1  397.040985 -21.719400  31.473101  146.738998   \n",
       "1         1  2  2448990    1  397.015991 -21.760300  30.215599  138.673996   \n",
       "2         1  3  2448991    1  397.003998 -21.797701  28.817200  137.839996   \n",
       "3         1  4  2448992    1  396.971008 -21.852100  28.791300  136.145996   \n",
       "4         1  5  2448993    1  396.945007 -21.871201  27.741199  136.119995   \n",
       "\n",
       "              U  \n",
       "Nobs             \n",
       "0     79.148399  \n",
       "1     79.141296  \n",
       "2     78.532097  \n",
       "3     77.241402  \n",
       "4     77.705101  "
      ]
     },
     "execution_count": 35,
     "metadata": {},
     "output_type": "execute_result"
    }
   ],
   "source": [
    "df.head()"
   ]
  },
  {
   "cell_type": "code",
   "execution_count": 51,
   "metadata": {
    "collapsed": true
   },
   "outputs": [],
   "source": [
    "count = df.track\n",
    "count = count.value_counts(normalize=False, sort=True, ascending=True, bins=None, dropna=False).reindex(range(1, tra_num+1))\n",
    "count = pd.DataFrame(count)\n",
    "count.index.name = 'track-id'\n",
    "count.columns = ['obs-num']"
   ]
  },
  {
   "cell_type": "code",
   "execution_count": 52,
   "metadata": {
    "collapsed": false
   },
   "outputs": [
    {
     "data": {
      "text/html": [
       "<div>\n",
       "<table border=\"1\" class=\"dataframe\">\n",
       "  <thead>\n",
       "    <tr style=\"text-align: right;\">\n",
       "      <th></th>\n",
       "      <th>obs-num</th>\n",
       "    </tr>\n",
       "    <tr>\n",
       "      <th>track-id</th>\n",
       "      <th></th>\n",
       "    </tr>\n",
       "  </thead>\n",
       "  <tbody>\n",
       "    <tr>\n",
       "      <th>1</th>\n",
       "      <td>28</td>\n",
       "    </tr>\n",
       "    <tr>\n",
       "      <th>2</th>\n",
       "      <td>28</td>\n",
       "    </tr>\n",
       "    <tr>\n",
       "      <th>3</th>\n",
       "      <td>28</td>\n",
       "    </tr>\n",
       "    <tr>\n",
       "      <th>4</th>\n",
       "      <td>28</td>\n",
       "    </tr>\n",
       "    <tr>\n",
       "      <th>5</th>\n",
       "      <td>28</td>\n",
       "    </tr>\n",
       "  </tbody>\n",
       "</table>\n",
       "</div>"
      ],
      "text/plain": [
       "          obs-num\n",
       "track-id         \n",
       "1              28\n",
       "2              28\n",
       "3              28\n",
       "4              28\n",
       "5              28"
      ]
     },
     "execution_count": 52,
     "metadata": {},
     "output_type": "execute_result"
    }
   ],
   "source": [
    "count.head()"
   ]
  },
  {
   "cell_type": "code",
   "execution_count": 53,
   "metadata": {
    "collapsed": true
   },
   "outputs": [],
   "source": [
    "lon = np.asarray(DF.lon)\n",
    "lat = np.asarray(DF.lat)\n",
    "point = np.asarray(count['obs-num'])"
   ]
  },
  {
   "cell_type": "code",
   "execution_count": 54,
   "metadata": {
    "collapsed": true
   },
   "outputs": [],
   "source": [
    "# origin coordinates\n",
    "lon_ori = np.zeros(tra_num)\n",
    "lat_ori = np.zeros(tra_num)"
   ]
  },
  {
   "cell_type": "code",
   "execution_count": 55,
   "metadata": {
    "collapsed": true
   },
   "outputs": [],
   "source": [
    "# termination coordinates\n",
    "lon_ter = np.zeros(tra_num)\n",
    "lat_ter = np.zeros(tra_num)"
   ]
  },
  {
   "cell_type": "code",
   "execution_count": 56,
   "metadata": {
    "collapsed": true
   },
   "outputs": [],
   "source": [
    "c = 0\n",
    "i = 0\n",
    "\n",
    "while i < obs_num:\n",
    "    c = int(c) + 1\n",
    "    lon_ori[c-1] = lon[i]\n",
    "    lat_ori[c-1] = lat[i]\n",
    "    i = i + int(point[c-1])\n",
    "    lon_ter[c-1] = lon[i-1]\n",
    "    lat_ter[c-1] = lat[i-1]"
   ]
  },
  {
   "cell_type": "code",
   "execution_count": 57,
   "metadata": {
    "collapsed": true
   },
   "outputs": [],
   "source": [
    "lon_ori = pd.DataFrame(lon_ori)\n",
    "lat_ori = pd.DataFrame(lat_ori)\n",
    "lon_ter = pd.DataFrame(lon_ter)\n",
    "lat_ter = pd.DataFrame(lat_ter)"
   ]
  },
  {
   "cell_type": "code",
   "execution_count": 58,
   "metadata": {
    "collapsed": true
   },
   "outputs": [],
   "source": [
    "# index construction\n",
    "index = np.zeros(tra_num)\n",
    "for i in range(tra_num):\n",
    "    index[i] = i+1\n",
    "index = pd.DataFrame(index)\n",
    "index = index.astype(int)"
   ]
  },
  {
   "cell_type": "code",
   "execution_count": 59,
   "metadata": {
    "collapsed": true
   },
   "outputs": [],
   "source": [
    "# start center\n",
    "sta_cen = pd.concat([index, lon_ori, lat_ori], axis=1)\n",
    "sta_cen.columns = ['track-id', 'lon', 'lat']\n",
    "sta_cen = sta_cen.set_index('track-id')"
   ]
  },
  {
   "cell_type": "code",
   "execution_count": 60,
   "metadata": {
    "collapsed": false
   },
   "outputs": [
    {
     "data": {
      "text/html": [
       "<div>\n",
       "<table border=\"1\" class=\"dataframe\">\n",
       "  <thead>\n",
       "    <tr style=\"text-align: right;\">\n",
       "      <th></th>\n",
       "      <th>lon</th>\n",
       "      <th>lat</th>\n",
       "    </tr>\n",
       "    <tr>\n",
       "      <th>track-id</th>\n",
       "      <th></th>\n",
       "      <th></th>\n",
       "    </tr>\n",
       "  </thead>\n",
       "  <tbody>\n",
       "    <tr>\n",
       "      <th>1</th>\n",
       "      <td>37.040985</td>\n",
       "      <td>-21.719400</td>\n",
       "    </tr>\n",
       "    <tr>\n",
       "      <th>2</th>\n",
       "      <td>18.220001</td>\n",
       "      <td>-36.250702</td>\n",
       "    </tr>\n",
       "    <tr>\n",
       "      <th>3</th>\n",
       "      <td>85.252014</td>\n",
       "      <td>-43.040501</td>\n",
       "    </tr>\n",
       "    <tr>\n",
       "      <th>4</th>\n",
       "      <td>285.161987</td>\n",
       "      <td>32.524799</td>\n",
       "    </tr>\n",
       "    <tr>\n",
       "      <th>5</th>\n",
       "      <td>151.941010</td>\n",
       "      <td>-53.202301</td>\n",
       "    </tr>\n",
       "  </tbody>\n",
       "</table>\n",
       "</div>"
      ],
      "text/plain": [
       "                 lon        lat\n",
       "track-id                       \n",
       "1          37.040985 -21.719400\n",
       "2          18.220001 -36.250702\n",
       "3          85.252014 -43.040501\n",
       "4         285.161987  32.524799\n",
       "5         151.941010 -53.202301"
      ]
     },
     "execution_count": 60,
     "metadata": {},
     "output_type": "execute_result"
    }
   ],
   "source": [
    "sta_cen.head()"
   ]
  },
  {
   "cell_type": "code",
   "execution_count": 61,
   "metadata": {
    "collapsed": true
   },
   "outputs": [],
   "source": [
    "# end center\n",
    "end_cen = pd.concat([index, lon_ter, lat_ter], axis=1)\n",
    "end_cen.columns = ['track-id', 'lon', 'lat']\n",
    "end_cen = end_cen.set_index('track-id')"
   ]
  },
  {
   "cell_type": "code",
   "execution_count": 62,
   "metadata": {
    "collapsed": false
   },
   "outputs": [
    {
     "data": {
      "text/html": [
       "<div>\n",
       "<table border=\"1\" class=\"dataframe\">\n",
       "  <thead>\n",
       "    <tr style=\"text-align: right;\">\n",
       "      <th></th>\n",
       "      <th>lon</th>\n",
       "      <th>lat</th>\n",
       "    </tr>\n",
       "    <tr>\n",
       "      <th>track-id</th>\n",
       "      <th></th>\n",
       "      <th></th>\n",
       "    </tr>\n",
       "  </thead>\n",
       "  <tbody>\n",
       "    <tr>\n",
       "      <th>1</th>\n",
       "      <td>36.358002</td>\n",
       "      <td>-22.674101</td>\n",
       "    </tr>\n",
       "    <tr>\n",
       "      <th>2</th>\n",
       "      <td>19.826996</td>\n",
       "      <td>-37.270302</td>\n",
       "    </tr>\n",
       "    <tr>\n",
       "      <th>3</th>\n",
       "      <td>85.148010</td>\n",
       "      <td>-42.875401</td>\n",
       "    </tr>\n",
       "    <tr>\n",
       "      <th>4</th>\n",
       "      <td>284.404999</td>\n",
       "      <td>32.422901</td>\n",
       "    </tr>\n",
       "    <tr>\n",
       "      <th>5</th>\n",
       "      <td>151.738007</td>\n",
       "      <td>-51.564400</td>\n",
       "    </tr>\n",
       "  </tbody>\n",
       "</table>\n",
       "</div>"
      ],
      "text/plain": [
       "                 lon        lat\n",
       "track-id                       \n",
       "1          36.358002 -22.674101\n",
       "2          19.826996 -37.270302\n",
       "3          85.148010 -42.875401\n",
       "4         284.404999  32.422901\n",
       "5         151.738007 -51.564400"
      ]
     },
     "execution_count": 62,
     "metadata": {},
     "output_type": "execute_result"
    }
   ],
   "source": [
    "end_cen.head()"
   ]
  },
  {
   "cell_type": "markdown",
   "metadata": {},
   "source": [
    "### geojson-linestring ###"
   ]
  },
  {
   "cell_type": "code",
   "execution_count": 63,
   "metadata": {
    "collapsed": true
   },
   "outputs": [],
   "source": [
    "lin_str = np.zeros((obs_num, 2))"
   ]
  },
  {
   "cell_type": "code",
   "execution_count": 64,
   "metadata": {
    "collapsed": true
   },
   "outputs": [],
   "source": [
    "lon = np.asarray(DF.lon)\n",
    "lat = np.asarray(DF.lat)"
   ]
  },
  {
   "cell_type": "code",
   "execution_count": 65,
   "metadata": {
    "collapsed": true
   },
   "outputs": [],
   "source": [
    "for i in range(obs_num):\n",
    "    lin_str[i][0] = lon[i]\n",
    "    lin_str[i][1] = lat[i]"
   ]
  },
  {
   "cell_type": "code",
   "execution_count": 66,
   "metadata": {
    "collapsed": true
   },
   "outputs": [],
   "source": [
    "lin_str = pd.DataFrame(lin_str, index=multi_index, columns=['lon', 'lat'])"
   ]
  },
  {
   "cell_type": "code",
   "execution_count": 69,
   "metadata": {
    "collapsed": false
   },
   "outputs": [
    {
     "data": {
      "text/html": [
       "<div>\n",
       "<table border=\"1\" class=\"dataframe\">\n",
       "  <thead>\n",
       "    <tr style=\"text-align: right;\">\n",
       "      <th></th>\n",
       "      <th></th>\n",
       "      <th>lon</th>\n",
       "      <th>lat</th>\n",
       "    </tr>\n",
       "    <tr>\n",
       "      <th>track-id</th>\n",
       "      <th>point-id</th>\n",
       "      <th></th>\n",
       "      <th></th>\n",
       "    </tr>\n",
       "  </thead>\n",
       "  <tbody>\n",
       "    <tr>\n",
       "      <th rowspan=\"5\" valign=\"top\">1</th>\n",
       "      <th>1</th>\n",
       "      <td>37.040985</td>\n",
       "      <td>-21.719400</td>\n",
       "    </tr>\n",
       "    <tr>\n",
       "      <th>2</th>\n",
       "      <td>37.015991</td>\n",
       "      <td>-21.760300</td>\n",
       "    </tr>\n",
       "    <tr>\n",
       "      <th>3</th>\n",
       "      <td>37.003998</td>\n",
       "      <td>-21.797701</td>\n",
       "    </tr>\n",
       "    <tr>\n",
       "      <th>4</th>\n",
       "      <td>36.971008</td>\n",
       "      <td>-21.852100</td>\n",
       "    </tr>\n",
       "    <tr>\n",
       "      <th>5</th>\n",
       "      <td>36.945007</td>\n",
       "      <td>-21.871201</td>\n",
       "    </tr>\n",
       "  </tbody>\n",
       "</table>\n",
       "</div>"
      ],
      "text/plain": [
       "                         lon        lat\n",
       "track-id point-id                      \n",
       "1        1         37.040985 -21.719400\n",
       "         2         37.015991 -21.760300\n",
       "         3         37.003998 -21.797701\n",
       "         4         36.971008 -21.852100\n",
       "         5         36.945007 -21.871201"
      ]
     },
     "execution_count": 69,
     "metadata": {},
     "output_type": "execute_result"
    }
   ],
   "source": [
    "lin_str.head()"
   ]
  },
  {
   "cell_type": "markdown",
   "metadata": {},
   "source": [
    "### geojson-polygon ###"
   ]
  },
  {
   "cell_type": "code",
   "execution_count": 70,
   "metadata": {
    "collapsed": true
   },
   "outputs": [],
   "source": [
    "from numpy import cos, pi, sin"
   ]
  },
  {
   "cell_type": "code",
   "execution_count": 72,
   "metadata": {
    "collapsed": false
   },
   "outputs": [],
   "source": [
    "rad = np.asarray(DF.radius)\n",
    "point = np.asarray(count['obs-num'])"
   ]
  },
  {
   "cell_type": "code",
   "execution_count": 73,
   "metadata": {
    "collapsed": true
   },
   "outputs": [],
   "source": [
    "rad_ori = np.zeros(tra_num)\n",
    "rad_ter = np.zeros(tra_num)"
   ]
  },
  {
   "cell_type": "code",
   "execution_count": 74,
   "metadata": {
    "collapsed": true
   },
   "outputs": [],
   "source": [
    "c = 0\n",
    "i = 0\n",
    "\n",
    "while i < obs_num:\n",
    "    c = int(c) + 1\n",
    "    rad_ori[c-1] = L[i]\n",
    "    i = i + int(point[c-1])\n",
    "    rad_ter[c-1] = L[i-1]"
   ]
  },
  {
   "cell_type": "code",
   "execution_count": 75,
   "metadata": {
    "collapsed": true
   },
   "outputs": [],
   "source": [
    "rad_ori = pd.DataFrame(rad_ori)\n",
    "rad_ter = pd.DataFrame(rad_ter)"
   ]
  },
  {
   "cell_type": "code",
   "execution_count": 76,
   "metadata": {
    "collapsed": true
   },
   "outputs": [],
   "source": [
    "# start circle\n",
    "sta_cir = pd.concat([index, lon_ori, lat_ori, rad_ori], axis=1)\n",
    "sta_cir.columns = ['track-id', 'lon', 'lat', 'radius']\n",
    "sta_cir = sta_cir.set_index('track-id')"
   ]
  },
  {
   "cell_type": "code",
   "execution_count": 77,
   "metadata": {
    "collapsed": false
   },
   "outputs": [
    {
     "data": {
      "text/html": [
       "<div>\n",
       "<table border=\"1\" class=\"dataframe\">\n",
       "  <thead>\n",
       "    <tr style=\"text-align: right;\">\n",
       "      <th></th>\n",
       "      <th>lon</th>\n",
       "      <th>lat</th>\n",
       "      <th>radius</th>\n",
       "    </tr>\n",
       "    <tr>\n",
       "      <th>track-id</th>\n",
       "      <th></th>\n",
       "      <th></th>\n",
       "      <th></th>\n",
       "    </tr>\n",
       "  </thead>\n",
       "  <tbody>\n",
       "    <tr>\n",
       "      <th>1</th>\n",
       "      <td>37.040985</td>\n",
       "      <td>-21.719400</td>\n",
       "      <td>146.738998</td>\n",
       "    </tr>\n",
       "    <tr>\n",
       "      <th>2</th>\n",
       "      <td>18.220001</td>\n",
       "      <td>-36.250702</td>\n",
       "      <td>73.262398</td>\n",
       "    </tr>\n",
       "    <tr>\n",
       "      <th>3</th>\n",
       "      <td>85.252014</td>\n",
       "      <td>-43.040501</td>\n",
       "      <td>78.260902</td>\n",
       "    </tr>\n",
       "    <tr>\n",
       "      <th>4</th>\n",
       "      <td>285.161987</td>\n",
       "      <td>32.524799</td>\n",
       "      <td>92.312897</td>\n",
       "    </tr>\n",
       "    <tr>\n",
       "      <th>5</th>\n",
       "      <td>151.941010</td>\n",
       "      <td>-53.202301</td>\n",
       "      <td>117.158997</td>\n",
       "    </tr>\n",
       "  </tbody>\n",
       "</table>\n",
       "</div>"
      ],
      "text/plain": [
       "                 lon        lat      radius\n",
       "track-id                                   \n",
       "1          37.040985 -21.719400  146.738998\n",
       "2          18.220001 -36.250702   73.262398\n",
       "3          85.252014 -43.040501   78.260902\n",
       "4         285.161987  32.524799   92.312897\n",
       "5         151.941010 -53.202301  117.158997"
      ]
     },
     "execution_count": 77,
     "metadata": {},
     "output_type": "execute_result"
    }
   ],
   "source": [
    "sta_cir.head()"
   ]
  },
  {
   "cell_type": "code",
   "execution_count": 78,
   "metadata": {
    "collapsed": true
   },
   "outputs": [],
   "source": [
    "# end circle\n",
    "end_cir = pd.concat([index, lon_ter, lat_ter, rad_ter], axis=1)\n",
    "end_cir.columns = ['track-id', 'lon', 'lat', 'radius']\n",
    "end_cir = end_cir.set_index('track-id')"
   ]
  },
  {
   "cell_type": "code",
   "execution_count": 79,
   "metadata": {
    "collapsed": false
   },
   "outputs": [
    {
     "data": {
      "text/html": [
       "<div>\n",
       "<table border=\"1\" class=\"dataframe\">\n",
       "  <thead>\n",
       "    <tr style=\"text-align: right;\">\n",
       "      <th></th>\n",
       "      <th>lon</th>\n",
       "      <th>lat</th>\n",
       "      <th>radius</th>\n",
       "    </tr>\n",
       "    <tr>\n",
       "      <th>track-id</th>\n",
       "      <th></th>\n",
       "      <th></th>\n",
       "      <th></th>\n",
       "    </tr>\n",
       "  </thead>\n",
       "  <tbody>\n",
       "    <tr>\n",
       "      <th>1</th>\n",
       "      <td>36.358002</td>\n",
       "      <td>-22.674101</td>\n",
       "      <td>45.235600</td>\n",
       "    </tr>\n",
       "    <tr>\n",
       "      <th>2</th>\n",
       "      <td>19.826996</td>\n",
       "      <td>-37.270302</td>\n",
       "      <td>48.539200</td>\n",
       "    </tr>\n",
       "    <tr>\n",
       "      <th>3</th>\n",
       "      <td>85.148010</td>\n",
       "      <td>-42.875401</td>\n",
       "      <td>44.595001</td>\n",
       "    </tr>\n",
       "    <tr>\n",
       "      <th>4</th>\n",
       "      <td>284.404999</td>\n",
       "      <td>32.422901</td>\n",
       "      <td>61.198898</td>\n",
       "    </tr>\n",
       "    <tr>\n",
       "      <th>5</th>\n",
       "      <td>151.738007</td>\n",
       "      <td>-51.564400</td>\n",
       "      <td>47.947701</td>\n",
       "    </tr>\n",
       "  </tbody>\n",
       "</table>\n",
       "</div>"
      ],
      "text/plain": [
       "                 lon        lat     radius\n",
       "track-id                                  \n",
       "1          36.358002 -22.674101  45.235600\n",
       "2          19.826996 -37.270302  48.539200\n",
       "3          85.148010 -42.875401  44.595001\n",
       "4         284.404999  32.422901  61.198898\n",
       "5         151.738007 -51.564400  47.947701"
      ]
     },
     "execution_count": 79,
     "metadata": {},
     "output_type": "execute_result"
    }
   ],
   "source": [
    "end_cir.head()"
   ]
  },
  {
   "cell_type": "code",
   "execution_count": 80,
   "metadata": {
    "collapsed": true
   },
   "outputs": [],
   "source": [
    "# circle center number\n",
    "cen_num = tra_num"
   ]
  },
  {
   "cell_type": "code",
   "execution_count": 82,
   "metadata": {
    "collapsed": true
   },
   "outputs": [],
   "source": [
    "# circle arc number\n",
    "arc_num = tra_num*33"
   ]
  },
  {
   "cell_type": "code",
   "execution_count": 83,
   "metadata": {
    "collapsed": true
   },
   "outputs": [],
   "source": [
    "center = np.zeros(arc_num)\n",
    "arc = np.zeros(arc_num)"
   ]
  },
  {
   "cell_type": "code",
   "execution_count": 84,
   "metadata": {
    "collapsed": true
   },
   "outputs": [],
   "source": [
    "c = 1\n",
    "i = 0\n",
    "j = 1\n",
    "\n",
    "while i < arc_num:\n",
    "    while c <= 33:\n",
    "        center[i] = j\n",
    "        i = i+1\n",
    "        c = c+1\n",
    "    j = j+1\n",
    "    c = 1"
   ]
  },
  {
   "cell_type": "code",
   "execution_count": 85,
   "metadata": {
    "collapsed": true
   },
   "outputs": [],
   "source": [
    "center = center.astype(int)"
   ]
  },
  {
   "cell_type": "code",
   "execution_count": 86,
   "metadata": {
    "collapsed": true
   },
   "outputs": [],
   "source": [
    "c = 1\n",
    "i = 0\n",
    "j = 1\n",
    "\n",
    "while i < arc_num:\n",
    "    while c <= 33:\n",
    "        arc[i] = j\n",
    "        i = i+1\n",
    "        j = j+1\n",
    "        c = c+1\n",
    "    j = 1\n",
    "    c = 1"
   ]
  },
  {
   "cell_type": "code",
   "execution_count": 87,
   "metadata": {
    "collapsed": true
   },
   "outputs": [],
   "source": [
    "arc = arc.astype(int)"
   ]
  },
  {
   "cell_type": "code",
   "execution_count": 88,
   "metadata": {
    "collapsed": true
   },
   "outputs": [],
   "source": [
    "# multi-index construction\n",
    "arrays = [center, arc]\n",
    "tuples = list(zip(*arrays))\n",
    "multi_index = pd.MultiIndex.from_tuples(tuples, names=['center', 'arc'])"
   ]
  },
  {
   "cell_type": "code",
   "execution_count": 89,
   "metadata": {
    "collapsed": true
   },
   "outputs": [],
   "source": [
    "# earth radius in meters\n",
    "R = 6371*1000"
   ]
  },
  {
   "cell_type": "markdown",
   "metadata": {},
   "source": [
    "__Start Polygon__"
   ]
  },
  {
   "cell_type": "code",
   "execution_count": 90,
   "metadata": {
    "collapsed": true
   },
   "outputs": [],
   "source": [
    "lon = np.asarray(sta_cir.lon)\n",
    "lat = np.asarray(sta_cir.lat)\n",
    "radius = np.asarray(sta_cir.radius)"
   ]
  },
  {
   "cell_type": "code",
   "execution_count": 91,
   "metadata": {
    "collapsed": true
   },
   "outputs": [],
   "source": [
    "theta = np.zeros(cen_num)\n",
    "x = np.zeros(cen_num)\n",
    "y = np.zeros(cen_num)\n",
    "r = np.zeros(cen_num)"
   ]
  },
  {
   "cell_type": "code",
   "execution_count": 92,
   "metadata": {
    "collapsed": true
   },
   "outputs": [],
   "source": [
    "for i in range(cen_num):\n",
    "    theta[i] = lat[i]*(pi/180)\n",
    "    r[i] = R*cos(theta[i])\n",
    "    x[i] = (radius[i]/r[i])*(180/pi)\n",
    "    y[i] = (radius[i]/R)*(180/pi)"
   ]
  },
  {
   "cell_type": "code",
   "execution_count": 93,
   "metadata": {
    "collapsed": true
   },
   "outputs": [],
   "source": [
    "lon_sta_pol = np.zeros(arc_num)\n",
    "lat_sta_pol = np.zeros(arc_num)\n",
    "x_sta_pol = np.zeros(arc_num)\n",
    "y_sta_pol = np.zeros(arc_num)"
   ]
  },
  {
   "cell_type": "code",
   "execution_count": 94,
   "metadata": {
    "collapsed": true
   },
   "outputs": [],
   "source": [
    "c = 0\n",
    "i = 0\n",
    "j = 1\n",
    "\n",
    "while i < arc_num:\n",
    "    while j <= 33:\n",
    "        lon_sta_pol[i] = lon[c]\n",
    "        i = i+1\n",
    "        j = j+1\n",
    "    j = 1\n",
    "    c = c+1"
   ]
  },
  {
   "cell_type": "code",
   "execution_count": 95,
   "metadata": {
    "collapsed": true
   },
   "outputs": [],
   "source": [
    "c = 0\n",
    "i = 0\n",
    "j = 1\n",
    "\n",
    "while i < arc_num:\n",
    "    while j <= 33:\n",
    "        lat_sta_pol[i] = lat[c]\n",
    "        i = i+1\n",
    "        j = j+1\n",
    "    j = 1\n",
    "    c = c+1"
   ]
  },
  {
   "cell_type": "code",
   "execution_count": 96,
   "metadata": {
    "collapsed": true
   },
   "outputs": [],
   "source": [
    "c = 0\n",
    "i = 0\n",
    "j = 1\n",
    "\n",
    "while i < arc_num:\n",
    "    while j <= 33:\n",
    "        x_sta_pol[i] = x[c]*cos((j-1)*(pi/16))\n",
    "        i = i+1\n",
    "        j = j+1\n",
    "    j = 1\n",
    "    c = c+1"
   ]
  },
  {
   "cell_type": "code",
   "execution_count": 97,
   "metadata": {
    "collapsed": true
   },
   "outputs": [],
   "source": [
    "c = 0\n",
    "i = 0\n",
    "j = 1\n",
    "\n",
    "while i < arc_num:\n",
    "    while j <= 33:\n",
    "        y_sta_pol[i] = y[c]*sin((j-1)*(pi/16))\n",
    "        i = i+1\n",
    "        j = j+1\n",
    "    j = 1\n",
    "    c = c+1"
   ]
  },
  {
   "cell_type": "code",
   "execution_count": 98,
   "metadata": {
    "collapsed": true
   },
   "outputs": [],
   "source": [
    "sta_pol = np.zeros((arc_num, 2))"
   ]
  },
  {
   "cell_type": "code",
   "execution_count": 99,
   "metadata": {
    "collapsed": true
   },
   "outputs": [],
   "source": [
    "for i in range(arc_num):\n",
    "    sta_pol[i][0] = lon_sta_pol[i]+x_sta_pol[i]\n",
    "    sta_pol[i][1] = lat_sta_pol[i]+y_sta_pol[i]"
   ]
  },
  {
   "cell_type": "code",
   "execution_count": 100,
   "metadata": {
    "collapsed": true
   },
   "outputs": [],
   "source": [
    "# start polygon\n",
    "sta_pol = pd.DataFrame(sta_pol, index=multi_index)\n",
    "sta_pol.columns = ['lon', 'lat']"
   ]
  },
  {
   "cell_type": "code",
   "execution_count": 101,
   "metadata": {
    "collapsed": false
   },
   "outputs": [
    {
     "data": {
      "text/html": [
       "<div>\n",
       "<table border=\"1\" class=\"dataframe\">\n",
       "  <thead>\n",
       "    <tr style=\"text-align: right;\">\n",
       "      <th></th>\n",
       "      <th></th>\n",
       "      <th>lon</th>\n",
       "      <th>lat</th>\n",
       "    </tr>\n",
       "    <tr>\n",
       "      <th>center</th>\n",
       "      <th>arc</th>\n",
       "      <th></th>\n",
       "      <th></th>\n",
       "    </tr>\n",
       "  </thead>\n",
       "  <tbody>\n",
       "    <tr>\n",
       "      <th rowspan=\"5\" valign=\"top\">1</th>\n",
       "      <th>1</th>\n",
       "      <td>37.042406</td>\n",
       "      <td>-21.719400</td>\n",
       "    </tr>\n",
       "    <tr>\n",
       "      <th>2</th>\n",
       "      <td>37.042378</td>\n",
       "      <td>-21.719143</td>\n",
       "    </tr>\n",
       "    <tr>\n",
       "      <th>3</th>\n",
       "      <td>37.042297</td>\n",
       "      <td>-21.718895</td>\n",
       "    </tr>\n",
       "    <tr>\n",
       "      <th>4</th>\n",
       "      <td>37.042166</td>\n",
       "      <td>-21.718667</td>\n",
       "    </tr>\n",
       "    <tr>\n",
       "      <th>5</th>\n",
       "      <td>37.041990</td>\n",
       "      <td>-21.718467</td>\n",
       "    </tr>\n",
       "  </tbody>\n",
       "</table>\n",
       "</div>"
      ],
      "text/plain": [
       "                  lon        lat\n",
       "center arc                      \n",
       "1      1    37.042406 -21.719400\n",
       "       2    37.042378 -21.719143\n",
       "       3    37.042297 -21.718895\n",
       "       4    37.042166 -21.718667\n",
       "       5    37.041990 -21.718467"
      ]
     },
     "execution_count": 101,
     "metadata": {},
     "output_type": "execute_result"
    }
   ],
   "source": [
    "sta_pol.head()"
   ]
  },
  {
   "cell_type": "markdown",
   "metadata": {},
   "source": [
    "__end polygon__"
   ]
  },
  {
   "cell_type": "code",
   "execution_count": 104,
   "metadata": {
    "collapsed": true
   },
   "outputs": [],
   "source": [
    "lon = np.asarray(end_cir.lon)\n",
    "lat = np.asarray(end_cir.lat)\n",
    "radius = np.asarray(end_cir.radius)"
   ]
  },
  {
   "cell_type": "code",
   "execution_count": 105,
   "metadata": {
    "collapsed": true
   },
   "outputs": [],
   "source": [
    "theta = np.zeros(cen_num)\n",
    "r = np.zeros(cen_num)\n",
    "x = np.zeros(cen_num)\n",
    "y = np.zeros(cen_num)"
   ]
  },
  {
   "cell_type": "code",
   "execution_count": 106,
   "metadata": {
    "collapsed": true
   },
   "outputs": [],
   "source": [
    "for i in range(cen_num):\n",
    "    theta[i] = lat[i]*(pi/180)\n",
    "    r[i] = R*cos(theta[i])\n",
    "    x[i] = (radius[i]/r[i])*(180/pi)\n",
    "    y[i] = (radius[i]/R)*(180/pi)"
   ]
  },
  {
   "cell_type": "code",
   "execution_count": 107,
   "metadata": {
    "collapsed": true
   },
   "outputs": [],
   "source": [
    "lon_end_pol = np.zeros(arc_num)\n",
    "lat_end_pol = np.zeros(arc_num)\n",
    "x_end_pol = np.zeros(arc_num)\n",
    "y_end_pol = np.zeros(arc_num)"
   ]
  },
  {
   "cell_type": "code",
   "execution_count": 108,
   "metadata": {
    "collapsed": true
   },
   "outputs": [],
   "source": [
    "c = 0\n",
    "i = 0\n",
    "j = 1\n",
    "\n",
    "while i < arc_num:\n",
    "    while j <= 33:\n",
    "        lon_end_pol[i] = lon[c]\n",
    "        i = i+1\n",
    "        j = j+1\n",
    "    j = 1\n",
    "    c = c+1"
   ]
  },
  {
   "cell_type": "code",
   "execution_count": 109,
   "metadata": {
    "collapsed": true
   },
   "outputs": [],
   "source": [
    "c = 0\n",
    "i = 0\n",
    "j = 1\n",
    "\n",
    "while i < arc_num:\n",
    "    while j <= 33:\n",
    "        lat_end_pol[i] = lat[c]\n",
    "        i = i+1\n",
    "        j = j+1\n",
    "    j = 1\n",
    "    c = c+1"
   ]
  },
  {
   "cell_type": "code",
   "execution_count": 110,
   "metadata": {
    "collapsed": true
   },
   "outputs": [],
   "source": [
    "c = 0\n",
    "i = 0\n",
    "j = 1\n",
    "\n",
    "while i < arc_num:\n",
    "    while j <= 33:\n",
    "        x_end_pol[i] = x[c]*cos((j-1)*(pi/16))\n",
    "        i = i+1\n",
    "        j = j+1\n",
    "    j = 1\n",
    "    c = c+1"
   ]
  },
  {
   "cell_type": "code",
   "execution_count": 111,
   "metadata": {
    "collapsed": true
   },
   "outputs": [],
   "source": [
    "c = 0\n",
    "i = 0\n",
    "j = 1\n",
    "\n",
    "while i < arc_num:\n",
    "    while j <= 33:\n",
    "        y_end_pol[i] = y[c]*sin((j-1)*(pi/16))\n",
    "        i = i+1\n",
    "        j = j+1\n",
    "    j = 1\n",
    "    c = c+1"
   ]
  },
  {
   "cell_type": "code",
   "execution_count": 112,
   "metadata": {
    "collapsed": true
   },
   "outputs": [],
   "source": [
    "end_pol = np.zeros((arc_num, 2))"
   ]
  },
  {
   "cell_type": "code",
   "execution_count": 113,
   "metadata": {
    "collapsed": true
   },
   "outputs": [],
   "source": [
    "for i in range(arc_num):\n",
    "    end_pol[i][0] = lon_end_pol[i]+x_end_pol[i]\n",
    "    end_pol[i][1] = lat_end_pol[i]+y_end_pol[i]"
   ]
  },
  {
   "cell_type": "code",
   "execution_count": 114,
   "metadata": {
    "collapsed": true
   },
   "outputs": [],
   "source": [
    "# end polygon\n",
    "end_pol = pd.DataFrame(end_pol, index=multi_index)\n",
    "end_pol.columns = ['lon', 'lat']"
   ]
  },
  {
   "cell_type": "code",
   "execution_count": 115,
   "metadata": {
    "collapsed": false
   },
   "outputs": [
    {
     "data": {
      "text/html": [
       "<div>\n",
       "<table border=\"1\" class=\"dataframe\">\n",
       "  <thead>\n",
       "    <tr style=\"text-align: right;\">\n",
       "      <th></th>\n",
       "      <th></th>\n",
       "      <th>lon</th>\n",
       "      <th>lat</th>\n",
       "    </tr>\n",
       "    <tr>\n",
       "      <th>center</th>\n",
       "      <th>arc</th>\n",
       "      <th></th>\n",
       "      <th></th>\n",
       "    </tr>\n",
       "  </thead>\n",
       "  <tbody>\n",
       "    <tr>\n",
       "      <th rowspan=\"5\" valign=\"top\">1</th>\n",
       "      <th>1</th>\n",
       "      <td>36.358443</td>\n",
       "      <td>-22.674101</td>\n",
       "    </tr>\n",
       "    <tr>\n",
       "      <th>2</th>\n",
       "      <td>36.358434</td>\n",
       "      <td>-22.674022</td>\n",
       "    </tr>\n",
       "    <tr>\n",
       "      <th>3</th>\n",
       "      <td>36.358409</td>\n",
       "      <td>-22.673945</td>\n",
       "    </tr>\n",
       "    <tr>\n",
       "      <th>4</th>\n",
       "      <td>36.358368</td>\n",
       "      <td>-22.673875</td>\n",
       "    </tr>\n",
       "    <tr>\n",
       "      <th>5</th>\n",
       "      <td>36.358313</td>\n",
       "      <td>-22.673813</td>\n",
       "    </tr>\n",
       "  </tbody>\n",
       "</table>\n",
       "</div>"
      ],
      "text/plain": [
       "                  lon        lat\n",
       "center arc                      \n",
       "1      1    36.358443 -22.674101\n",
       "       2    36.358434 -22.674022\n",
       "       3    36.358409 -22.673945\n",
       "       4    36.358368 -22.673875\n",
       "       5    36.358313 -22.673813"
      ]
     },
     "execution_count": 115,
     "metadata": {},
     "output_type": "execute_result"
    }
   ],
   "source": [
    "end_pol.head()"
   ]
  },
  {
   "cell_type": "markdown",
   "metadata": {},
   "source": [
    "### id ###"
   ]
  },
  {
   "cell_type": "code",
   "execution_count": 117,
   "metadata": {
    "collapsed": false
   },
   "outputs": [],
   "source": [
    "_id = pd.DataFrame(index)\n",
    "_id = pd.concat([index, index], axis=1)\n",
    "_id.columns = ['track-id', 'id']\n",
    "_id = _id.set_index('track-id')"
   ]
  },
  {
   "cell_type": "code",
   "execution_count": 118,
   "metadata": {
    "collapsed": false
   },
   "outputs": [
    {
     "data": {
      "text/html": [
       "<div>\n",
       "<table border=\"1\" class=\"dataframe\">\n",
       "  <thead>\n",
       "    <tr style=\"text-align: right;\">\n",
       "      <th></th>\n",
       "      <th>id</th>\n",
       "    </tr>\n",
       "    <tr>\n",
       "      <th>track-id</th>\n",
       "      <th></th>\n",
       "    </tr>\n",
       "  </thead>\n",
       "  <tbody>\n",
       "    <tr>\n",
       "      <th>1</th>\n",
       "      <td>1</td>\n",
       "    </tr>\n",
       "    <tr>\n",
       "      <th>2</th>\n",
       "      <td>2</td>\n",
       "    </tr>\n",
       "    <tr>\n",
       "      <th>3</th>\n",
       "      <td>3</td>\n",
       "    </tr>\n",
       "    <tr>\n",
       "      <th>4</th>\n",
       "      <td>4</td>\n",
       "    </tr>\n",
       "    <tr>\n",
       "      <th>5</th>\n",
       "      <td>5</td>\n",
       "    </tr>\n",
       "  </tbody>\n",
       "</table>\n",
       "</div>"
      ],
      "text/plain": [
       "          id\n",
       "track-id    \n",
       "1          1\n",
       "2          2\n",
       "3          3\n",
       "4          4\n",
       "5          5"
      ]
     },
     "execution_count": 118,
     "metadata": {},
     "output_type": "execute_result"
    }
   ],
   "source": [
    "_id.head()"
   ]
  },
  {
   "cell_type": "markdown",
   "metadata": {},
   "source": [
    "### date ###"
   ]
  },
  {
   "cell_type": "code",
   "execution_count": 120,
   "metadata": {
    "collapsed": false
   },
   "outputs": [
    {
     "data": {
      "text/html": [
       "<div>\n",
       "<table border=\"1\" class=\"dataframe\">\n",
       "  <thead>\n",
       "    <tr style=\"text-align: right;\">\n",
       "      <th></th>\n",
       "      <th>track</th>\n",
       "      <th>n</th>\n",
       "      <th>j1</th>\n",
       "      <th>cyc</th>\n",
       "      <th>lon</th>\n",
       "      <th>lat</th>\n",
       "      <th>A</th>\n",
       "      <th>L</th>\n",
       "      <th>U</th>\n",
       "    </tr>\n",
       "    <tr>\n",
       "      <th>Nobs</th>\n",
       "      <th></th>\n",
       "      <th></th>\n",
       "      <th></th>\n",
       "      <th></th>\n",
       "      <th></th>\n",
       "      <th></th>\n",
       "      <th></th>\n",
       "      <th></th>\n",
       "      <th></th>\n",
       "    </tr>\n",
       "  </thead>\n",
       "  <tbody>\n",
       "    <tr>\n",
       "      <th>0</th>\n",
       "      <td>1</td>\n",
       "      <td>1</td>\n",
       "      <td>2448989</td>\n",
       "      <td>1</td>\n",
       "      <td>397.040985</td>\n",
       "      <td>-21.719400</td>\n",
       "      <td>31.473101</td>\n",
       "      <td>146.738998</td>\n",
       "      <td>79.148399</td>\n",
       "    </tr>\n",
       "    <tr>\n",
       "      <th>1</th>\n",
       "      <td>1</td>\n",
       "      <td>2</td>\n",
       "      <td>2448990</td>\n",
       "      <td>1</td>\n",
       "      <td>397.015991</td>\n",
       "      <td>-21.760300</td>\n",
       "      <td>30.215599</td>\n",
       "      <td>138.673996</td>\n",
       "      <td>79.141296</td>\n",
       "    </tr>\n",
       "    <tr>\n",
       "      <th>2</th>\n",
       "      <td>1</td>\n",
       "      <td>3</td>\n",
       "      <td>2448991</td>\n",
       "      <td>1</td>\n",
       "      <td>397.003998</td>\n",
       "      <td>-21.797701</td>\n",
       "      <td>28.817200</td>\n",
       "      <td>137.839996</td>\n",
       "      <td>78.532097</td>\n",
       "    </tr>\n",
       "    <tr>\n",
       "      <th>3</th>\n",
       "      <td>1</td>\n",
       "      <td>4</td>\n",
       "      <td>2448992</td>\n",
       "      <td>1</td>\n",
       "      <td>396.971008</td>\n",
       "      <td>-21.852100</td>\n",
       "      <td>28.791300</td>\n",
       "      <td>136.145996</td>\n",
       "      <td>77.241402</td>\n",
       "    </tr>\n",
       "    <tr>\n",
       "      <th>4</th>\n",
       "      <td>1</td>\n",
       "      <td>5</td>\n",
       "      <td>2448993</td>\n",
       "      <td>1</td>\n",
       "      <td>396.945007</td>\n",
       "      <td>-21.871201</td>\n",
       "      <td>27.741199</td>\n",
       "      <td>136.119995</td>\n",
       "      <td>77.705101</td>\n",
       "    </tr>\n",
       "  </tbody>\n",
       "</table>\n",
       "</div>"
      ],
      "text/plain": [
       "      track  n       j1  cyc         lon        lat          A           L  \\\n",
       "Nobs                                                                         \n",
       "0         1  1  2448989    1  397.040985 -21.719400  31.473101  146.738998   \n",
       "1         1  2  2448990    1  397.015991 -21.760300  30.215599  138.673996   \n",
       "2         1  3  2448991    1  397.003998 -21.797701  28.817200  137.839996   \n",
       "3         1  4  2448992    1  396.971008 -21.852100  28.791300  136.145996   \n",
       "4         1  5  2448993    1  396.945007 -21.871201  27.741199  136.119995   \n",
       "\n",
       "              U  \n",
       "Nobs             \n",
       "0     79.148399  \n",
       "1     79.141296  \n",
       "2     78.532097  \n",
       "3     77.241402  \n",
       "4     77.705101  "
      ]
     },
     "execution_count": 120,
     "metadata": {},
     "output_type": "execute_result"
    }
   ],
   "source": [
    "df.head()"
   ]
  },
  {
   "cell_type": "code",
   "execution_count": 121,
   "metadata": {
    "collapsed": true
   },
   "outputs": [],
   "source": [
    "j1 = np.asarray(df.j1)"
   ]
  },
  {
   "cell_type": "code",
   "execution_count": 122,
   "metadata": {
    "collapsed": true
   },
   "outputs": [],
   "source": [
    "j1_ori = np.zeros(tra_num)\n",
    "j1_ter = np.zeros(tra_num)"
   ]
  },
  {
   "cell_type": "code",
   "execution_count": 123,
   "metadata": {
    "collapsed": true
   },
   "outputs": [],
   "source": [
    "c = 0\n",
    "i = 0\n",
    "\n",
    "while i < obs_num:\n",
    "    c = int(c) + 1\n",
    "    j1_ori[c-1] = j1[i]\n",
    "    i = i + int(point[c-1])\n",
    "    j1_ter[c-1] = j1[i-1]"
   ]
  },
  {
   "cell_type": "code",
   "execution_count": 124,
   "metadata": {
    "collapsed": true
   },
   "outputs": [],
   "source": [
    "j1_ori = pd.DataFrame(j1_ori)\n",
    "j1_ter = pd.DataFrame(j1_ter)"
   ]
  },
  {
   "cell_type": "code",
   "execution_count": 125,
   "metadata": {
    "collapsed": true
   },
   "outputs": [],
   "source": [
    "# start julian date\n",
    "sta_jul = pd.concat([index, j1_ori], axis=1)\n",
    "sta_jul.columns = ['track-id', 'j1']\n",
    "sta_jul = sta_jul.set_index('track-id')"
   ]
  },
  {
   "cell_type": "code",
   "execution_count": 126,
   "metadata": {
    "collapsed": false
   },
   "outputs": [
    {
     "data": {
      "text/html": [
       "<div>\n",
       "<table border=\"1\" class=\"dataframe\">\n",
       "  <thead>\n",
       "    <tr style=\"text-align: right;\">\n",
       "      <th></th>\n",
       "      <th>j1</th>\n",
       "    </tr>\n",
       "    <tr>\n",
       "      <th>track-id</th>\n",
       "      <th></th>\n",
       "    </tr>\n",
       "  </thead>\n",
       "  <tbody>\n",
       "    <tr>\n",
       "      <th>1</th>\n",
       "      <td>2448989</td>\n",
       "    </tr>\n",
       "    <tr>\n",
       "      <th>2</th>\n",
       "      <td>2448989</td>\n",
       "    </tr>\n",
       "    <tr>\n",
       "      <th>3</th>\n",
       "      <td>2448989</td>\n",
       "    </tr>\n",
       "    <tr>\n",
       "      <th>4</th>\n",
       "      <td>2448989</td>\n",
       "    </tr>\n",
       "    <tr>\n",
       "      <th>5</th>\n",
       "      <td>2448989</td>\n",
       "    </tr>\n",
       "  </tbody>\n",
       "</table>\n",
       "</div>"
      ],
      "text/plain": [
       "               j1\n",
       "track-id         \n",
       "1         2448989\n",
       "2         2448989\n",
       "3         2448989\n",
       "4         2448989\n",
       "5         2448989"
      ]
     },
     "execution_count": 126,
     "metadata": {},
     "output_type": "execute_result"
    }
   ],
   "source": [
    "sta_jul.head()"
   ]
  },
  {
   "cell_type": "code",
   "execution_count": 127,
   "metadata": {
    "collapsed": true
   },
   "outputs": [],
   "source": [
    "# end julian date\n",
    "end_jul = pd.concat([index, j1_ter], axis=1)\n",
    "end_jul.columns = ['track-id', 'j1']\n",
    "end_jul = end_jul.set_index('track-id')"
   ]
  },
  {
   "cell_type": "code",
   "execution_count": 128,
   "metadata": {
    "collapsed": false
   },
   "outputs": [
    {
     "data": {
      "text/html": [
       "<div>\n",
       "<table border=\"1\" class=\"dataframe\">\n",
       "  <thead>\n",
       "    <tr style=\"text-align: right;\">\n",
       "      <th></th>\n",
       "      <th>j1</th>\n",
       "    </tr>\n",
       "    <tr>\n",
       "      <th>track-id</th>\n",
       "      <th></th>\n",
       "    </tr>\n",
       "  </thead>\n",
       "  <tbody>\n",
       "    <tr>\n",
       "      <th>1</th>\n",
       "      <td>2449016</td>\n",
       "    </tr>\n",
       "    <tr>\n",
       "      <th>2</th>\n",
       "      <td>2449016</td>\n",
       "    </tr>\n",
       "    <tr>\n",
       "      <th>3</th>\n",
       "      <td>2449016</td>\n",
       "    </tr>\n",
       "    <tr>\n",
       "      <th>4</th>\n",
       "      <td>2449016</td>\n",
       "    </tr>\n",
       "    <tr>\n",
       "      <th>5</th>\n",
       "      <td>2449016</td>\n",
       "    </tr>\n",
       "  </tbody>\n",
       "</table>\n",
       "</div>"
      ],
      "text/plain": [
       "               j1\n",
       "track-id         \n",
       "1         2449016\n",
       "2         2449016\n",
       "3         2449016\n",
       "4         2449016\n",
       "5         2449016"
      ]
     },
     "execution_count": 128,
     "metadata": {},
     "output_type": "execute_result"
    }
   ],
   "source": [
    "end_jul.head()"
   ]
  },
  {
   "cell_type": "code",
   "execution_count": 129,
   "metadata": {
    "collapsed": true
   },
   "outputs": [],
   "source": [
    "# start date\n",
    "sta_dat = sta_jul.j1.apply(jday_to_datetime)\n",
    "sta_dat = pd.DataFrame(sta_dat)\n",
    "sta_dat = sta_dat.rename(columns = {'j1': 'date'})"
   ]
  },
  {
   "cell_type": "code",
   "execution_count": 130,
   "metadata": {
    "collapsed": false
   },
   "outputs": [
    {
     "data": {
      "text/html": [
       "<div>\n",
       "<table border=\"1\" class=\"dataframe\">\n",
       "  <thead>\n",
       "    <tr style=\"text-align: right;\">\n",
       "      <th></th>\n",
       "      <th>date</th>\n",
       "    </tr>\n",
       "    <tr>\n",
       "      <th>track-id</th>\n",
       "      <th></th>\n",
       "    </tr>\n",
       "  </thead>\n",
       "  <tbody>\n",
       "    <tr>\n",
       "      <th>1</th>\n",
       "      <td>1993-01-01 12:00:00</td>\n",
       "    </tr>\n",
       "    <tr>\n",
       "      <th>2</th>\n",
       "      <td>1993-01-01 12:00:00</td>\n",
       "    </tr>\n",
       "    <tr>\n",
       "      <th>3</th>\n",
       "      <td>1993-01-01 12:00:00</td>\n",
       "    </tr>\n",
       "    <tr>\n",
       "      <th>4</th>\n",
       "      <td>1993-01-01 12:00:00</td>\n",
       "    </tr>\n",
       "    <tr>\n",
       "      <th>5</th>\n",
       "      <td>1993-01-01 12:00:00</td>\n",
       "    </tr>\n",
       "  </tbody>\n",
       "</table>\n",
       "</div>"
      ],
      "text/plain": [
       "                        date\n",
       "track-id                    \n",
       "1        1993-01-01 12:00:00\n",
       "2        1993-01-01 12:00:00\n",
       "3        1993-01-01 12:00:00\n",
       "4        1993-01-01 12:00:00\n",
       "5        1993-01-01 12:00:00"
      ]
     },
     "execution_count": 130,
     "metadata": {},
     "output_type": "execute_result"
    }
   ],
   "source": [
    "sta_dat.head()"
   ]
  },
  {
   "cell_type": "code",
   "execution_count": 131,
   "metadata": {
    "collapsed": true
   },
   "outputs": [],
   "source": [
    "# end date\n",
    "end_dat = end_jul.j1.apply(jday_to_datetime)\n",
    "end_dat = pd.DataFrame(end_dat)\n",
    "end_dat = end_dat.rename(columns = {'j1': 'date'})"
   ]
  },
  {
   "cell_type": "code",
   "execution_count": 134,
   "metadata": {
    "collapsed": false
   },
   "outputs": [
    {
     "data": {
      "text/html": [
       "<div>\n",
       "<table border=\"1\" class=\"dataframe\">\n",
       "  <thead>\n",
       "    <tr style=\"text-align: right;\">\n",
       "      <th></th>\n",
       "      <th>date</th>\n",
       "    </tr>\n",
       "    <tr>\n",
       "      <th>track-id</th>\n",
       "      <th></th>\n",
       "    </tr>\n",
       "  </thead>\n",
       "  <tbody>\n",
       "    <tr>\n",
       "      <th>1</th>\n",
       "      <td>1993-01-28 12:00:00</td>\n",
       "    </tr>\n",
       "    <tr>\n",
       "      <th>2</th>\n",
       "      <td>1993-01-28 12:00:00</td>\n",
       "    </tr>\n",
       "    <tr>\n",
       "      <th>3</th>\n",
       "      <td>1993-01-28 12:00:00</td>\n",
       "    </tr>\n",
       "    <tr>\n",
       "      <th>4</th>\n",
       "      <td>1993-01-28 12:00:00</td>\n",
       "    </tr>\n",
       "    <tr>\n",
       "      <th>5</th>\n",
       "      <td>1993-01-28 12:00:00</td>\n",
       "    </tr>\n",
       "  </tbody>\n",
       "</table>\n",
       "</div>"
      ],
      "text/plain": [
       "                        date\n",
       "track-id                    \n",
       "1        1993-01-28 12:00:00\n",
       "2        1993-01-28 12:00:00\n",
       "3        1993-01-28 12:00:00\n",
       "4        1993-01-28 12:00:00\n",
       "5        1993-01-28 12:00:00"
      ]
     },
     "execution_count": 134,
     "metadata": {},
     "output_type": "execute_result"
    }
   ],
   "source": [
    "end_dat.head()"
   ]
  },
  {
   "cell_type": "markdown",
   "metadata": {},
   "source": [
    "### duration ###"
   ]
  },
  {
   "cell_type": "code",
   "execution_count": 141,
   "metadata": {
    "collapsed": true
   },
   "outputs": [],
   "source": [
    "# duration in days\n",
    "dur_day = end_dat - sta_dat\n",
    "dur_day = dur_day.rename(columns = {'date': 'duration'})"
   ]
  },
  {
   "cell_type": "code",
   "execution_count": 142,
   "metadata": {
    "collapsed": false
   },
   "outputs": [
    {
     "data": {
      "text/plain": [
       "duration   2196 days\n",
       "dtype: timedelta64[ns]"
      ]
     },
     "execution_count": 142,
     "metadata": {},
     "output_type": "execute_result"
    }
   ],
   "source": [
    "dur_day.max()"
   ]
  },
  {
   "cell_type": "code",
   "execution_count": 143,
   "metadata": {
    "collapsed": false
   },
   "outputs": [
    {
     "data": {
      "text/html": [
       "<div>\n",
       "<table border=\"1\" class=\"dataframe\">\n",
       "  <thead>\n",
       "    <tr style=\"text-align: right;\">\n",
       "      <th></th>\n",
       "      <th>duration</th>\n",
       "    </tr>\n",
       "    <tr>\n",
       "      <th>track-id</th>\n",
       "      <th></th>\n",
       "    </tr>\n",
       "  </thead>\n",
       "  <tbody>\n",
       "    <tr>\n",
       "      <th>1</th>\n",
       "      <td>27 days</td>\n",
       "    </tr>\n",
       "    <tr>\n",
       "      <th>2</th>\n",
       "      <td>27 days</td>\n",
       "    </tr>\n",
       "    <tr>\n",
       "      <th>3</th>\n",
       "      <td>27 days</td>\n",
       "    </tr>\n",
       "    <tr>\n",
       "      <th>4</th>\n",
       "      <td>27 days</td>\n",
       "    </tr>\n",
       "    <tr>\n",
       "      <th>5</th>\n",
       "      <td>27 days</td>\n",
       "    </tr>\n",
       "  </tbody>\n",
       "</table>\n",
       "</div>"
      ],
      "text/plain": [
       "          duration\n",
       "track-id          \n",
       "1          27 days\n",
       "2          27 days\n",
       "3          27 days\n",
       "4          27 days\n",
       "5          27 days"
      ]
     },
     "execution_count": 143,
     "metadata": {},
     "output_type": "execute_result"
    }
   ],
   "source": [
    "dur_day.head()"
   ]
  },
  {
   "cell_type": "code",
   "execution_count": 144,
   "metadata": {
    "collapsed": true
   },
   "outputs": [],
   "source": [
    "# duration in integers\n",
    "dur_int = np.zeros(tra_num)"
   ]
  },
  {
   "cell_type": "code",
   "execution_count": 145,
   "metadata": {
    "collapsed": true
   },
   "outputs": [],
   "source": [
    "for i in range(tra_num):\n",
    "    dur_int[i] = np.timedelta64(dur_day.duration[i+1], 'D')/np.timedelta64(1, 'D')"
   ]
  },
  {
   "cell_type": "code",
   "execution_count": 146,
   "metadata": {
    "collapsed": true
   },
   "outputs": [],
   "source": [
    "dur_int = pd.DataFrame(dur_int)"
   ]
  },
  {
   "cell_type": "code",
   "execution_count": 147,
   "metadata": {
    "collapsed": true
   },
   "outputs": [],
   "source": [
    "dur_int = pd.concat([index, dur_int], axis=1)\n",
    "dur_int.columns = ['track-id', 'duration-in-days']\n",
    "dur_int = dur_int.set_index('track-id')\n",
    "dur_int['duration-in-days'] = dur_int['duration-in-days'].astype(int)"
   ]
  },
  {
   "cell_type": "code",
   "execution_count": 148,
   "metadata": {
    "collapsed": false
   },
   "outputs": [
    {
     "data": {
      "text/html": [
       "<div>\n",
       "<table border=\"1\" class=\"dataframe\">\n",
       "  <thead>\n",
       "    <tr style=\"text-align: right;\">\n",
       "      <th></th>\n",
       "      <th>duration in days</th>\n",
       "    </tr>\n",
       "    <tr>\n",
       "      <th>track-id</th>\n",
       "      <th></th>\n",
       "    </tr>\n",
       "  </thead>\n",
       "  <tbody>\n",
       "    <tr>\n",
       "      <th>1</th>\n",
       "      <td>27</td>\n",
       "    </tr>\n",
       "    <tr>\n",
       "      <th>2</th>\n",
       "      <td>27</td>\n",
       "    </tr>\n",
       "    <tr>\n",
       "      <th>3</th>\n",
       "      <td>27</td>\n",
       "    </tr>\n",
       "    <tr>\n",
       "      <th>4</th>\n",
       "      <td>27</td>\n",
       "    </tr>\n",
       "    <tr>\n",
       "      <th>5</th>\n",
       "      <td>27</td>\n",
       "    </tr>\n",
       "  </tbody>\n",
       "</table>\n",
       "</div>"
      ],
      "text/plain": [
       "          duration in days\n",
       "track-id                  \n",
       "1                       27\n",
       "2                       27\n",
       "3                       27\n",
       "4                       27\n",
       "5                       27"
      ]
     },
     "execution_count": 148,
     "metadata": {},
     "output_type": "execute_result"
    }
   ],
   "source": [
    "dur_int.head()"
   ]
  },
  {
   "cell_type": "markdown",
   "metadata": {},
   "source": [
    "### area ###"
   ]
  },
  {
   "cell_type": "code",
   "execution_count": 150,
   "metadata": {
    "collapsed": false
   },
   "outputs": [
    {
     "data": {
      "text/html": [
       "<div>\n",
       "<table border=\"1\" class=\"dataframe\">\n",
       "  <thead>\n",
       "    <tr style=\"text-align: right;\">\n",
       "      <th></th>\n",
       "      <th>track</th>\n",
       "      <th>n</th>\n",
       "      <th>j1</th>\n",
       "      <th>cyc</th>\n",
       "      <th>lon</th>\n",
       "      <th>lat</th>\n",
       "      <th>A</th>\n",
       "      <th>L</th>\n",
       "      <th>U</th>\n",
       "    </tr>\n",
       "    <tr>\n",
       "      <th>Nobs</th>\n",
       "      <th></th>\n",
       "      <th></th>\n",
       "      <th></th>\n",
       "      <th></th>\n",
       "      <th></th>\n",
       "      <th></th>\n",
       "      <th></th>\n",
       "      <th></th>\n",
       "      <th></th>\n",
       "    </tr>\n",
       "  </thead>\n",
       "  <tbody>\n",
       "    <tr>\n",
       "      <th>0</th>\n",
       "      <td>1</td>\n",
       "      <td>1</td>\n",
       "      <td>2448989</td>\n",
       "      <td>1</td>\n",
       "      <td>397.040985</td>\n",
       "      <td>-21.719400</td>\n",
       "      <td>31.473101</td>\n",
       "      <td>146.738998</td>\n",
       "      <td>79.148399</td>\n",
       "    </tr>\n",
       "    <tr>\n",
       "      <th>1</th>\n",
       "      <td>1</td>\n",
       "      <td>2</td>\n",
       "      <td>2448990</td>\n",
       "      <td>1</td>\n",
       "      <td>397.015991</td>\n",
       "      <td>-21.760300</td>\n",
       "      <td>30.215599</td>\n",
       "      <td>138.673996</td>\n",
       "      <td>79.141296</td>\n",
       "    </tr>\n",
       "    <tr>\n",
       "      <th>2</th>\n",
       "      <td>1</td>\n",
       "      <td>3</td>\n",
       "      <td>2448991</td>\n",
       "      <td>1</td>\n",
       "      <td>397.003998</td>\n",
       "      <td>-21.797701</td>\n",
       "      <td>28.817200</td>\n",
       "      <td>137.839996</td>\n",
       "      <td>78.532097</td>\n",
       "    </tr>\n",
       "    <tr>\n",
       "      <th>3</th>\n",
       "      <td>1</td>\n",
       "      <td>4</td>\n",
       "      <td>2448992</td>\n",
       "      <td>1</td>\n",
       "      <td>396.971008</td>\n",
       "      <td>-21.852100</td>\n",
       "      <td>28.791300</td>\n",
       "      <td>136.145996</td>\n",
       "      <td>77.241402</td>\n",
       "    </tr>\n",
       "    <tr>\n",
       "      <th>4</th>\n",
       "      <td>1</td>\n",
       "      <td>5</td>\n",
       "      <td>2448993</td>\n",
       "      <td>1</td>\n",
       "      <td>396.945007</td>\n",
       "      <td>-21.871201</td>\n",
       "      <td>27.741199</td>\n",
       "      <td>136.119995</td>\n",
       "      <td>77.705101</td>\n",
       "    </tr>\n",
       "  </tbody>\n",
       "</table>\n",
       "</div>"
      ],
      "text/plain": [
       "      track  n       j1  cyc         lon        lat          A           L  \\\n",
       "Nobs                                                                         \n",
       "0         1  1  2448989    1  397.040985 -21.719400  31.473101  146.738998   \n",
       "1         1  2  2448990    1  397.015991 -21.760300  30.215599  138.673996   \n",
       "2         1  3  2448991    1  397.003998 -21.797701  28.817200  137.839996   \n",
       "3         1  4  2448992    1  396.971008 -21.852100  28.791300  136.145996   \n",
       "4         1  5  2448993    1  396.945007 -21.871201  27.741199  136.119995   \n",
       "\n",
       "              U  \n",
       "Nobs             \n",
       "0     79.148399  \n",
       "1     79.141296  \n",
       "2     78.532097  \n",
       "3     77.241402  \n",
       "4     77.705101  "
      ]
     },
     "execution_count": 150,
     "metadata": {},
     "output_type": "execute_result"
    }
   ],
   "source": [
    "df.head()"
   ]
  },
  {
   "cell_type": "code",
   "execution_count": 151,
   "metadata": {
    "collapsed": true
   },
   "outputs": [],
   "source": [
    "L = np.asarray(ds.L)\n",
    "radius = L*1000"
   ]
  },
  {
   "cell_type": "code",
   "execution_count": 152,
   "metadata": {
    "collapsed": true
   },
   "outputs": [],
   "source": [
    "# circle area calculation\n",
    "area = pi*(radius**2)"
   ]
  },
  {
   "cell_type": "code",
   "execution_count": 153,
   "metadata": {
    "collapsed": true
   },
   "outputs": [],
   "source": [
    "sta_area = np.zeros(tra_num)"
   ]
  },
  {
   "cell_type": "code",
   "execution_count": 154,
   "metadata": {
    "collapsed": true
   },
   "outputs": [],
   "source": [
    "i = 0\n",
    "c = 0\n",
    "\n",
    "while i < obs_num:\n",
    "    c = int(c) + 1\n",
    "    sta_area[c-1] = area[i]\n",
    "    i = i + int(point[c-1])"
   ]
  },
  {
   "cell_type": "code",
   "execution_count": 155,
   "metadata": {
    "collapsed": true
   },
   "outputs": [],
   "source": [
    "sta_area = pd.DataFrame(sta_area)"
   ]
  },
  {
   "cell_type": "code",
   "execution_count": 156,
   "metadata": {
    "collapsed": true
   },
   "outputs": [],
   "source": [
    "# area in square meters\n",
    "sta_area = pd.concat([index, sta_area], axis=1)\n",
    "sta_area.columns = ['track-id', 'start-area']\n",
    "sta_area = sta_area.set_index('track-id')"
   ]
  },
  {
   "cell_type": "code",
   "execution_count": 157,
   "metadata": {
    "collapsed": false
   },
   "outputs": [
    {
     "data": {
      "text/html": [
       "<div>\n",
       "<table border=\"1\" class=\"dataframe\">\n",
       "  <thead>\n",
       "    <tr style=\"text-align: right;\">\n",
       "      <th></th>\n",
       "      <th>start-area</th>\n",
       "    </tr>\n",
       "    <tr>\n",
       "      <th>track-id</th>\n",
       "      <th></th>\n",
       "    </tr>\n",
       "  </thead>\n",
       "  <tbody>\n",
       "    <tr>\n",
       "      <th>1</th>\n",
       "      <td>67645825024</td>\n",
       "    </tr>\n",
       "    <tr>\n",
       "      <th>2</th>\n",
       "      <td>16862118912</td>\n",
       "    </tr>\n",
       "    <tr>\n",
       "      <th>3</th>\n",
       "      <td>19241531392</td>\n",
       "    </tr>\n",
       "    <tr>\n",
       "      <th>4</th>\n",
       "      <td>26771619840</td>\n",
       "    </tr>\n",
       "    <tr>\n",
       "      <th>5</th>\n",
       "      <td>43122229248</td>\n",
       "    </tr>\n",
       "  </tbody>\n",
       "</table>\n",
       "</div>"
      ],
      "text/plain": [
       "           start-area\n",
       "track-id             \n",
       "1         67645825024\n",
       "2         16862118912\n",
       "3         19241531392\n",
       "4         26771619840\n",
       "5         43122229248"
      ]
     },
     "execution_count": 157,
     "metadata": {},
     "output_type": "execute_result"
    }
   ],
   "source": [
    "sta_area.head()"
   ]
  },
  {
   "cell_type": "markdown",
   "metadata": {},
   "source": [
    "### vorticity ###"
   ]
  },
  {
   "cell_type": "code",
   "execution_count": 159,
   "metadata": {
    "collapsed": true
   },
   "outputs": [],
   "source": [
    "# relative vorticity\n",
    "zeta = np.asarray((df.U*0.01)/(df.L*1000))"
   ]
  },
  {
   "cell_type": "code",
   "execution_count": 160,
   "metadata": {
    "collapsed": true
   },
   "outputs": [],
   "source": [
    "# multi-index construction\n",
    "arrays = [track, n]\n",
    "tuples = list(zip(*arrays))\n",
    "multi_index = pd.MultiIndex.from_tuples(tuples, names=['track-id', 'point-id'])"
   ]
  },
  {
   "cell_type": "code",
   "execution_count": 161,
   "metadata": {
    "collapsed": true
   },
   "outputs": [],
   "source": [
    "zeta = pd.DataFrame(zeta, index=multi_index)\n",
    "zeta.columns = ['relative-vorticity']"
   ]
  },
  {
   "cell_type": "code",
   "execution_count": 162,
   "metadata": {
    "collapsed": false
   },
   "outputs": [
    {
     "data": {
      "text/html": [
       "<div>\n",
       "<table border=\"1\" class=\"dataframe\">\n",
       "  <thead>\n",
       "    <tr style=\"text-align: right;\">\n",
       "      <th></th>\n",
       "      <th></th>\n",
       "      <th>relative-vorticity</th>\n",
       "    </tr>\n",
       "    <tr>\n",
       "      <th>track-id</th>\n",
       "      <th>point-id</th>\n",
       "      <th></th>\n",
       "    </tr>\n",
       "  </thead>\n",
       "  <tbody>\n",
       "    <tr>\n",
       "      <th rowspan=\"5\" valign=\"top\">1</th>\n",
       "      <th>1</th>\n",
       "      <td>0.000005</td>\n",
       "    </tr>\n",
       "    <tr>\n",
       "      <th>2</th>\n",
       "      <td>0.000006</td>\n",
       "    </tr>\n",
       "    <tr>\n",
       "      <th>3</th>\n",
       "      <td>0.000006</td>\n",
       "    </tr>\n",
       "    <tr>\n",
       "      <th>4</th>\n",
       "      <td>0.000006</td>\n",
       "    </tr>\n",
       "    <tr>\n",
       "      <th>5</th>\n",
       "      <td>0.000006</td>\n",
       "    </tr>\n",
       "  </tbody>\n",
       "</table>\n",
       "</div>"
      ],
      "text/plain": [
       "                   relative-vorticity\n",
       "track-id point-id                    \n",
       "1        1                   0.000005\n",
       "         2                   0.000006\n",
       "         3                   0.000006\n",
       "         4                   0.000006\n",
       "         5                   0.000006"
      ]
     },
     "execution_count": 162,
     "metadata": {},
     "output_type": "execute_result"
    }
   ],
   "source": [
    "zeta.head()"
   ]
  },
  {
   "cell_type": "code",
   "execution_count": 163,
   "metadata": {
    "collapsed": true
   },
   "outputs": [],
   "source": [
    "lav = np.zeros(tra_num)"
   ]
  },
  {
   "cell_type": "code",
   "execution_count": null,
   "metadata": {
    "collapsed": false
   },
   "outputs": [
    {
     "name": "stderr",
     "output_type": "stream",
     "text": [
      "  5%|▌         | 12818/245389 [1:41:11<30:46:14,  2.10it/s]"
     ]
    }
   ],
   "source": [
    "for i in tqdm(range(tra_num)):\n",
    "    lav[i] = zeta.loc[i+1].mean()"
   ]
  },
  {
   "cell_type": "code",
   "execution_count": null,
   "metadata": {
    "collapsed": true
   },
   "outputs": [],
   "source": [
    "lav = pd.DataFrame(lav)"
   ]
  },
  {
   "cell_type": "code",
   "execution_count": null,
   "metadata": {
    "collapsed": true
   },
   "outputs": [],
   "source": [
    "lav = pd.concat([index, lav], axis=1)\n",
    "lav.columns = ['track-id', 'relative-vorticity']\n",
    "lav = lav.set_index('track-id')"
   ]
  },
  {
   "cell_type": "code",
   "execution_count": null,
   "metadata": {
    "collapsed": true
   },
   "outputs": [],
   "source": [
    "lav.head()"
   ]
  },
  {
   "cell_type": "markdown",
   "metadata": {},
   "source": [
    "### GeoJSON ###"
   ]
  },
  {
   "cell_type": "code",
   "execution_count": null,
   "metadata": {
    "collapsed": true
   },
   "outputs": [],
   "source": [
    "from geojson import LineString, Point, Polygon\n",
    "from pymongo import MongoClient"
   ]
  },
  {
   "cell_type": "code",
   "execution_count": null,
   "metadata": {
    "collapsed": true
   },
   "outputs": [],
   "source": [
    "# collection\n",
    "ssh_eddies_2016 = MongoClient().eddies.ssh_eddies_2016"
   ]
  },
  {
   "cell_type": "code",
   "execution_count": null,
   "metadata": {
    "collapsed": true
   },
   "outputs": [],
   "source": [
    "# remove documents from the collection\n",
    "ssh_eddies_2016.remove()"
   ]
  },
  {
   "cell_type": "code",
   "execution_count": null,
   "metadata": {
    "collapsed": true
   },
   "outputs": [],
   "source": [
    "# insert documents into the collection\n",
    "for i in tqdm(range(1, tra_num+1)):\n",
    "\n",
    "    # geojson\n",
    "    eddy = {\n",
    "        'type': 'FeatureSet',\n",
    "        '_id': int(_id.loc[i]),\n",
    "        'date_start': sta_dat.loc[i]['date'],\n",
    "        'date_end': end_dat.loc[i]['date'],\n",
    "        'duration': dur_int.loc[i]['duration-in-days'],\n",
    "        'loc_start': [sta_cen.loc[i]['lon'], sta_cen.loc[i]['lat']],\n",
    "        'loc_end': [end_cen.loc[i]['lon'], end_cen.loc[i]['lat']],\n",
    "        'area': sta_area.loc[i]['start-area'],\n",
    "        'lav': lav.loc[i]['relative-vorticity'],\n",
    "        'features': [\n",
    "            {\n",
    "                'type': 'Feature',\n",
    "                'properties': {'name': 'start_center'},\n",
    "                'geometry': Point(tuple(sta_cen.loc[i][['lon', 'lat']].values))\n",
    "            },\n",
    "            {\n",
    "                'type': 'Feature',\n",
    "                'properties': {'name': 'end_center'},\n",
    "                'geometry': Point(tuple(end_cen.loc[i][['lon', 'lat']].values))\n",
    "            },\n",
    "            {\n",
    "                'type': 'Feature',\n",
    "                'properties': {'name': 'trajectory'},\n",
    "                'geometry': LineString([tuple(x) for x in lin_str.loc[i][['lon', 'lat']].values])\n",
    "            },\n",
    "            {\n",
    "                'type': 'Feature',\n",
    "                'properties': {'name': 'start_polygon'},\n",
    "                'geometry': Polygon([[tuple(x) for x in sta_pol.loc[i][['lon', 'lat']].values]])\n",
    "            },\n",
    "            {\n",
    "                'type': 'Feature',\n",
    "                'properties': {'name': 'end_polygon'},\n",
    "                'geometry': Polygon([[tuple(x) for x in end_pol.loc[i][['lon', 'lat']].values]])\n",
    "            }\n",
    "        ]    \n",
    "    }\n",
    "    \n",
    "    # mongodb\n",
    "    ssh_eddies_2016.insert_one(dict(eddy))"
   ]
  }
 ],
 "metadata": {
  "kernelspec": {
   "display_name": "Python 2.7",
   "language": "python",
   "name": "python2"
  },
  "language_info": {
   "codemirror_mode": {
    "name": "ipython",
    "version": 2
   },
   "file_extension": ".py",
   "mimetype": "text/x-python",
   "name": "python",
   "nbconvert_exporter": "python",
   "pygments_lexer": "ipython2",
   "version": "2.7.11"
  }
 },
 "nbformat": 4,
 "nbformat_minor": 0
}
