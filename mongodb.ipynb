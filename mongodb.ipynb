{
 "cells": [
  {
   "cell_type": "markdown",
   "metadata": {},
   "source": [
    "### Data ###"
   ]
  },
  {
   "cell_type": "code",
   "execution_count": 1,
   "metadata": {
    "collapsed": true
   },
   "outputs": [],
   "source": [
    "import xray"
   ]
  },
  {
   "cell_type": "code",
   "execution_count": 2,
   "metadata": {
    "collapsed": false
   },
   "outputs": [],
   "source": [
    "data = xray.open_dataset('tracks.20130125.nc', decode_cf=False)"
   ]
  },
  {
   "cell_type": "code",
   "execution_count": 3,
   "metadata": {
    "collapsed": false
   },
   "outputs": [
    {
     "name": "stdout",
     "output_type": "stream",
     "text": [
      "<xray.Dataset>\n",
      "Dimensions:  (Nobs: 2590938)\n",
      "Coordinates:\n",
      "  * Nobs     (Nobs) int64 0 1 2 3 4 5 6 7 8 9 10 11 12 13 14 15 16 17 18 19 ...\n",
      "Data variables:\n",
      "    track    (Nobs) int32 1 1 1 1 2 2 2 2 3 3 3 3 4 4 4 4 5 5 5 5 6 6 6 6 7 ...\n",
      "    n        (Nobs) int32 1 2 3 4 1 2 3 4 1 2 3 4 1 2 3 4 1 2 3 4 1 2 3 4 1 ...\n",
      "    j1       (Nobs) int32 2448910 2448917 2448924 2448931 2448910 2448917 ...\n",
      "    cyc      (Nobs) int32 -1 -1 -1 -1 -1 -1 -1 -1 -1 -1 -1 -1 -1 -1 -1 -1 -1 ...\n",
      "    lon      (Nobs) float32 636.74 635.99 635.82 635.845 560.642 561.447 ...\n",
      "    lat      (Nobs) float32 -65.0011 -65.1376 -65.2457 -65.2933 -62.5424 ...\n",
      "    A        (Nobs) float32 1.24564 2.64604 3.40119 1.45836 2.16156 4.87579 ...\n",
      "    L        (Nobs) float32 44.464 36.7024 45.4221 43.022 63.0697 51.1345 ...\n",
      "    U        (Nobs) float32 5.97993 8.17373 8.28628 5.20364 4.81408 6.59872 ...\n",
      "Attributes:\n",
      "    title: Mesoscale Eddies in Altimeter Observations of SSH\n",
      "    institution: Oregon State University/CEOAS\n",
      "    file_name: tracks.20130125.nc\n",
      "    file_creation_time: 2013May06 15:53:30\n",
      "    data_process_date: 20130125\n",
      "    data_start_date: Oct 14, 1992\n",
      "    data_end_date: Apr  4, 2012\n",
      "    authors: Dudley Chelton and Michael Schlax\n",
      "    inquiries_to: Eric Beals (beals@coas.oregonstate.edu)\n"
     ]
    }
   ],
   "source": [
    "print data"
   ]
  },
  {
   "cell_type": "markdown",
   "metadata": {},
   "source": [
    "### Multi-Index ###"
   ]
  },
  {
   "cell_type": "code",
   "execution_count": 4,
   "metadata": {
    "collapsed": false
   },
   "outputs": [],
   "source": [
    "import numpy as np\n",
    "import pandas as pd"
   ]
  },
  {
   "cell_type": "code",
   "execution_count": 5,
   "metadata": {
    "collapsed": true
   },
   "outputs": [],
   "source": [
    "ds = data.to_dataframe()"
   ]
  },
  {
   "cell_type": "code",
   "execution_count": 6,
   "metadata": {
    "collapsed": false,
    "scrolled": true
   },
   "outputs": [
    {
     "data": {
      "text/html": [
       "<div>\n",
       "<table border=\"1\" class=\"dataframe\">\n",
       "  <thead>\n",
       "    <tr style=\"text-align: right;\">\n",
       "      <th></th>\n",
       "      <th>track</th>\n",
       "      <th>n</th>\n",
       "      <th>j1</th>\n",
       "      <th>cyc</th>\n",
       "      <th>lon</th>\n",
       "      <th>lat</th>\n",
       "      <th>A</th>\n",
       "      <th>L</th>\n",
       "      <th>U</th>\n",
       "    </tr>\n",
       "    <tr>\n",
       "      <th>Nobs</th>\n",
       "      <th></th>\n",
       "      <th></th>\n",
       "      <th></th>\n",
       "      <th></th>\n",
       "      <th></th>\n",
       "      <th></th>\n",
       "      <th></th>\n",
       "      <th></th>\n",
       "      <th></th>\n",
       "    </tr>\n",
       "  </thead>\n",
       "  <tbody>\n",
       "    <tr>\n",
       "      <th>2590930</th>\n",
       "      <td>215183</td>\n",
       "      <td>1</td>\n",
       "      <td>2456001</td>\n",
       "      <td>1</td>\n",
       "      <td>307.384003</td>\n",
       "      <td>59.680500</td>\n",
       "      <td>1.78922</td>\n",
       "      <td>44.618099</td>\n",
       "      <td>5.37469</td>\n",
       "    </tr>\n",
       "    <tr>\n",
       "      <th>2590931</th>\n",
       "      <td>215183</td>\n",
       "      <td>2</td>\n",
       "      <td>2456008</td>\n",
       "      <td>1</td>\n",
       "      <td>307.834015</td>\n",
       "      <td>59.388100</td>\n",
       "      <td>3.08864</td>\n",
       "      <td>41.930099</td>\n",
       "      <td>10.53940</td>\n",
       "    </tr>\n",
       "    <tr>\n",
       "      <th>2590932</th>\n",
       "      <td>215183</td>\n",
       "      <td>3</td>\n",
       "      <td>2456015</td>\n",
       "      <td>1</td>\n",
       "      <td>307.615997</td>\n",
       "      <td>59.352699</td>\n",
       "      <td>4.55595</td>\n",
       "      <td>48.856499</td>\n",
       "      <td>13.26870</td>\n",
       "    </tr>\n",
       "    <tr>\n",
       "      <th>2590933</th>\n",
       "      <td>215183</td>\n",
       "      <td>4</td>\n",
       "      <td>2456022</td>\n",
       "      <td>1</td>\n",
       "      <td>307.500000</td>\n",
       "      <td>59.202999</td>\n",
       "      <td>5.27399</td>\n",
       "      <td>58.372101</td>\n",
       "      <td>14.44380</td>\n",
       "    </tr>\n",
       "    <tr>\n",
       "      <th>2590934</th>\n",
       "      <td>215184</td>\n",
       "      <td>1</td>\n",
       "      <td>2456001</td>\n",
       "      <td>1</td>\n",
       "      <td>336.242004</td>\n",
       "      <td>62.275398</td>\n",
       "      <td>3.06445</td>\n",
       "      <td>54.620499</td>\n",
       "      <td>7.21748</td>\n",
       "    </tr>\n",
       "    <tr>\n",
       "      <th>2590935</th>\n",
       "      <td>215184</td>\n",
       "      <td>2</td>\n",
       "      <td>2456008</td>\n",
       "      <td>1</td>\n",
       "      <td>336.033997</td>\n",
       "      <td>62.011700</td>\n",
       "      <td>2.03734</td>\n",
       "      <td>53.794102</td>\n",
       "      <td>5.87109</td>\n",
       "    </tr>\n",
       "    <tr>\n",
       "      <th>2590936</th>\n",
       "      <td>215184</td>\n",
       "      <td>3</td>\n",
       "      <td>2456015</td>\n",
       "      <td>1</td>\n",
       "      <td>335.938995</td>\n",
       "      <td>62.359200</td>\n",
       "      <td>1.75523</td>\n",
       "      <td>30.240000</td>\n",
       "      <td>6.72342</td>\n",
       "    </tr>\n",
       "    <tr>\n",
       "      <th>2590937</th>\n",
       "      <td>215184</td>\n",
       "      <td>4</td>\n",
       "      <td>2456022</td>\n",
       "      <td>1</td>\n",
       "      <td>335.752991</td>\n",
       "      <td>62.145901</td>\n",
       "      <td>1.23239</td>\n",
       "      <td>37.190102</td>\n",
       "      <td>6.36023</td>\n",
       "    </tr>\n",
       "  </tbody>\n",
       "</table>\n",
       "</div>"
      ],
      "text/plain": [
       "          track  n       j1  cyc         lon        lat        A          L  \\\n",
       "Nobs                                                                          \n",
       "2590930  215183  1  2456001    1  307.384003  59.680500  1.78922  44.618099   \n",
       "2590931  215183  2  2456008    1  307.834015  59.388100  3.08864  41.930099   \n",
       "2590932  215183  3  2456015    1  307.615997  59.352699  4.55595  48.856499   \n",
       "2590933  215183  4  2456022    1  307.500000  59.202999  5.27399  58.372101   \n",
       "2590934  215184  1  2456001    1  336.242004  62.275398  3.06445  54.620499   \n",
       "2590935  215184  2  2456008    1  336.033997  62.011700  2.03734  53.794102   \n",
       "2590936  215184  3  2456015    1  335.938995  62.359200  1.75523  30.240000   \n",
       "2590937  215184  4  2456022    1  335.752991  62.145901  1.23239  37.190102   \n",
       "\n",
       "                U  \n",
       "Nobs               \n",
       "2590930   5.37469  \n",
       "2590931  10.53940  \n",
       "2590932  13.26870  \n",
       "2590933  14.44380  \n",
       "2590934   7.21748  \n",
       "2590935   5.87109  \n",
       "2590936   6.72342  \n",
       "2590937   6.36023  "
      ]
     },
     "execution_count": 6,
     "metadata": {},
     "output_type": "execute_result"
    }
   ],
   "source": [
    "ds.tail(8)"
   ]
  },
  {
   "cell_type": "code",
   "execution_count": 7,
   "metadata": {
    "collapsed": true
   },
   "outputs": [],
   "source": [
    "# Dimension Setting\n",
    "\n",
    "# All\n",
    "# M = max(ds.track)\n",
    "# N = len(ds.n)\n",
    "\n",
    "# TEST\n",
    "M = 1000\n",
    "N = 17687\n",
    "ds = ds.head(N)"
   ]
  },
  {
   "cell_type": "code",
   "execution_count": 8,
   "metadata": {
    "collapsed": false
   },
   "outputs": [
    {
     "data": {
      "text/html": [
       "<div>\n",
       "<table border=\"1\" class=\"dataframe\">\n",
       "  <thead>\n",
       "    <tr style=\"text-align: right;\">\n",
       "      <th></th>\n",
       "      <th>track</th>\n",
       "      <th>n</th>\n",
       "      <th>j1</th>\n",
       "      <th>cyc</th>\n",
       "      <th>lon</th>\n",
       "      <th>lat</th>\n",
       "      <th>A</th>\n",
       "      <th>L</th>\n",
       "      <th>U</th>\n",
       "    </tr>\n",
       "    <tr>\n",
       "      <th>Nobs</th>\n",
       "      <th></th>\n",
       "      <th></th>\n",
       "      <th></th>\n",
       "      <th></th>\n",
       "      <th></th>\n",
       "      <th></th>\n",
       "      <th></th>\n",
       "      <th></th>\n",
       "      <th></th>\n",
       "    </tr>\n",
       "  </thead>\n",
       "  <tbody>\n",
       "    <tr>\n",
       "      <th>17683</th>\n",
       "      <td>1000</td>\n",
       "      <td>5</td>\n",
       "      <td>2448945</td>\n",
       "      <td>-1</td>\n",
       "      <td>581.109985</td>\n",
       "      <td>46.809700</td>\n",
       "      <td>1.90537</td>\n",
       "      <td>66.215698</td>\n",
       "      <td>5.11371</td>\n",
       "    </tr>\n",
       "    <tr>\n",
       "      <th>17684</th>\n",
       "      <td>1000</td>\n",
       "      <td>6</td>\n",
       "      <td>2448952</td>\n",
       "      <td>-1</td>\n",
       "      <td>581.013977</td>\n",
       "      <td>46.808102</td>\n",
       "      <td>2.50892</td>\n",
       "      <td>68.702003</td>\n",
       "      <td>5.97126</td>\n",
       "    </tr>\n",
       "    <tr>\n",
       "      <th>17685</th>\n",
       "      <td>1000</td>\n",
       "      <td>7</td>\n",
       "      <td>2448959</td>\n",
       "      <td>-1</td>\n",
       "      <td>580.973022</td>\n",
       "      <td>46.610298</td>\n",
       "      <td>2.08100</td>\n",
       "      <td>52.068699</td>\n",
       "      <td>5.61743</td>\n",
       "    </tr>\n",
       "    <tr>\n",
       "      <th>17686</th>\n",
       "      <td>1000</td>\n",
       "      <td>8</td>\n",
       "      <td>2448966</td>\n",
       "      <td>-1</td>\n",
       "      <td>580.992004</td>\n",
       "      <td>46.574100</td>\n",
       "      <td>1.48384</td>\n",
       "      <td>58.216400</td>\n",
       "      <td>5.03651</td>\n",
       "    </tr>\n",
       "  </tbody>\n",
       "</table>\n",
       "</div>"
      ],
      "text/plain": [
       "       track  n       j1  cyc         lon        lat        A          L  \\\n",
       "Nobs                                                                       \n",
       "17683   1000  5  2448945   -1  581.109985  46.809700  1.90537  66.215698   \n",
       "17684   1000  6  2448952   -1  581.013977  46.808102  2.50892  68.702003   \n",
       "17685   1000  7  2448959   -1  580.973022  46.610298  2.08100  52.068699   \n",
       "17686   1000  8  2448966   -1  580.992004  46.574100  1.48384  58.216400   \n",
       "\n",
       "             U  \n",
       "Nobs            \n",
       "17683  5.11371  \n",
       "17684  5.97126  \n",
       "17685  5.61743  \n",
       "17686  5.03651  "
      ]
     },
     "execution_count": 8,
     "metadata": {},
     "output_type": "execute_result"
    }
   ],
   "source": [
    "ds.tail(4)"
   ]
  },
  {
   "cell_type": "code",
   "execution_count": 9,
   "metadata": {
    "collapsed": true
   },
   "outputs": [],
   "source": [
    "track = np.asarray(ds.track)\n",
    "n = np.asarray(ds.n)\n",
    "\n",
    "arrays = [track, n]\n",
    "tuples = list(zip(*arrays))\n",
    "multi_index = pd.MultiIndex.from_tuples(tuples, names=['Eddy ID', 'Point ID'])"
   ]
  },
  {
   "cell_type": "code",
   "execution_count": 10,
   "metadata": {
    "collapsed": true
   },
   "outputs": [],
   "source": [
    "j1 = np.asarray(ds.j1)\n",
    "cyc = np.asarray(ds.cyc)\n",
    "lon = np.asarray(ds.lon)\n",
    "lat = np.asarray(ds.lat)\n",
    "A = np.asarray(ds.A)\n",
    "L = np.asarray(ds.L)\n",
    "U = np.asarray(ds.U)\n",
    "\n",
    "info = np.zeros((N, 7))\n",
    "for i in range(0, N):\n",
    "    info[i][0] = j1[i]\n",
    "    info[i][1] = cyc[i]\n",
    "    info[i][2] = lon[i]\n",
    "    info[i][3] = lat[i]\n",
    "    info[i][4] = A[i]\n",
    "    info[i][5] = L[i]\n",
    "    info[i][6] = U[i]"
   ]
  },
  {
   "cell_type": "code",
   "execution_count": 11,
   "metadata": {
    "collapsed": true
   },
   "outputs": [],
   "source": [
    "df = pd.DataFrame(info, index=multi_index)\n",
    "df.columns = ['j1', 'cyc', 'lon','lat', 'A', 'L', 'U']"
   ]
  },
  {
   "cell_type": "markdown",
   "metadata": {},
   "source": [
    "### Time ###"
   ]
  },
  {
   "cell_type": "code",
   "execution_count": 12,
   "metadata": {
    "collapsed": true
   },
   "outputs": [],
   "source": [
    "import datetime, jdcal"
   ]
  },
  {
   "cell_type": "code",
   "execution_count": 13,
   "metadata": {
    "collapsed": false
   },
   "outputs": [
    {
     "data": {
      "text/html": [
       "<div>\n",
       "<table border=\"1\" class=\"dataframe\">\n",
       "  <thead>\n",
       "    <tr style=\"text-align: right;\">\n",
       "      <th></th>\n",
       "      <th></th>\n",
       "      <th>j1</th>\n",
       "      <th>cyc</th>\n",
       "      <th>lon</th>\n",
       "      <th>lat</th>\n",
       "      <th>A</th>\n",
       "      <th>L</th>\n",
       "      <th>U</th>\n",
       "    </tr>\n",
       "    <tr>\n",
       "      <th>Eddy ID</th>\n",
       "      <th>Point ID</th>\n",
       "      <th></th>\n",
       "      <th></th>\n",
       "      <th></th>\n",
       "      <th></th>\n",
       "      <th></th>\n",
       "      <th></th>\n",
       "      <th></th>\n",
       "    </tr>\n",
       "  </thead>\n",
       "  <tbody>\n",
       "    <tr>\n",
       "      <th rowspan=\"4\" valign=\"top\">1000</th>\n",
       "      <th>5</th>\n",
       "      <td>2448945</td>\n",
       "      <td>-1</td>\n",
       "      <td>581.109985</td>\n",
       "      <td>46.809700</td>\n",
       "      <td>1.90537</td>\n",
       "      <td>66.215698</td>\n",
       "      <td>5.11371</td>\n",
       "    </tr>\n",
       "    <tr>\n",
       "      <th>6</th>\n",
       "      <td>2448952</td>\n",
       "      <td>-1</td>\n",
       "      <td>581.013977</td>\n",
       "      <td>46.808102</td>\n",
       "      <td>2.50892</td>\n",
       "      <td>68.702003</td>\n",
       "      <td>5.97126</td>\n",
       "    </tr>\n",
       "    <tr>\n",
       "      <th>7</th>\n",
       "      <td>2448959</td>\n",
       "      <td>-1</td>\n",
       "      <td>580.973022</td>\n",
       "      <td>46.610298</td>\n",
       "      <td>2.08100</td>\n",
       "      <td>52.068699</td>\n",
       "      <td>5.61743</td>\n",
       "    </tr>\n",
       "    <tr>\n",
       "      <th>8</th>\n",
       "      <td>2448966</td>\n",
       "      <td>-1</td>\n",
       "      <td>580.992004</td>\n",
       "      <td>46.574100</td>\n",
       "      <td>1.48384</td>\n",
       "      <td>58.216400</td>\n",
       "      <td>5.03651</td>\n",
       "    </tr>\n",
       "  </tbody>\n",
       "</table>\n",
       "</div>"
      ],
      "text/plain": [
       "                       j1  cyc         lon        lat        A          L  \\\n",
       "Eddy ID Point ID                                                            \n",
       "1000    5         2448945   -1  581.109985  46.809700  1.90537  66.215698   \n",
       "        6         2448952   -1  581.013977  46.808102  2.50892  68.702003   \n",
       "        7         2448959   -1  580.973022  46.610298  2.08100  52.068699   \n",
       "        8         2448966   -1  580.992004  46.574100  1.48384  58.216400   \n",
       "\n",
       "                        U  \n",
       "Eddy ID Point ID           \n",
       "1000    5         5.11371  \n",
       "        6         5.97126  \n",
       "        7         5.61743  \n",
       "        8         5.03651  "
      ]
     },
     "execution_count": 13,
     "metadata": {},
     "output_type": "execute_result"
    }
   ],
   "source": [
    "df.tail(4)"
   ]
  },
  {
   "cell_type": "code",
   "execution_count": 14,
   "metadata": {
    "collapsed": true
   },
   "outputs": [],
   "source": [
    "def jday_to_datetime(jday, refday=0):\n",
    "    y, m, d, f = jdcal.jd2gcal(jday, refday)\n",
    "    h = int(f*24)\n",
    "    return pd.to_datetime(datetime.datetime(y, m, d, h))"
   ]
  },
  {
   "cell_type": "code",
   "execution_count": 15,
   "metadata": {
    "collapsed": false
   },
   "outputs": [],
   "source": [
    "pd_date = df.j1.apply(jday_to_datetime)"
   ]
  },
  {
   "cell_type": "code",
   "execution_count": 16,
   "metadata": {
    "collapsed": true
   },
   "outputs": [],
   "source": [
    "df.j1 = pd_date\n",
    "df = df.rename(columns = {'j1':'date'})"
   ]
  },
  {
   "cell_type": "markdown",
   "metadata": {},
   "source": [
    "### Longitude ###"
   ]
  },
  {
   "cell_type": "code",
   "execution_count": 17,
   "metadata": {
    "collapsed": false
   },
   "outputs": [
    {
     "data": {
      "text/html": [
       "<div>\n",
       "<table border=\"1\" class=\"dataframe\">\n",
       "  <thead>\n",
       "    <tr style=\"text-align: right;\">\n",
       "      <th></th>\n",
       "      <th></th>\n",
       "      <th>date</th>\n",
       "      <th>cyc</th>\n",
       "      <th>lon</th>\n",
       "      <th>lat</th>\n",
       "      <th>A</th>\n",
       "      <th>L</th>\n",
       "      <th>U</th>\n",
       "    </tr>\n",
       "    <tr>\n",
       "      <th>Eddy ID</th>\n",
       "      <th>Point ID</th>\n",
       "      <th></th>\n",
       "      <th></th>\n",
       "      <th></th>\n",
       "      <th></th>\n",
       "      <th></th>\n",
       "      <th></th>\n",
       "      <th></th>\n",
       "    </tr>\n",
       "  </thead>\n",
       "  <tbody>\n",
       "    <tr>\n",
       "      <th rowspan=\"4\" valign=\"top\">1000</th>\n",
       "      <th>5</th>\n",
       "      <td>1992-11-18 12:00:00</td>\n",
       "      <td>-1</td>\n",
       "      <td>581.109985</td>\n",
       "      <td>46.809700</td>\n",
       "      <td>1.90537</td>\n",
       "      <td>66.215698</td>\n",
       "      <td>5.11371</td>\n",
       "    </tr>\n",
       "    <tr>\n",
       "      <th>6</th>\n",
       "      <td>1992-11-25 12:00:00</td>\n",
       "      <td>-1</td>\n",
       "      <td>581.013977</td>\n",
       "      <td>46.808102</td>\n",
       "      <td>2.50892</td>\n",
       "      <td>68.702003</td>\n",
       "      <td>5.97126</td>\n",
       "    </tr>\n",
       "    <tr>\n",
       "      <th>7</th>\n",
       "      <td>1992-12-02 12:00:00</td>\n",
       "      <td>-1</td>\n",
       "      <td>580.973022</td>\n",
       "      <td>46.610298</td>\n",
       "      <td>2.08100</td>\n",
       "      <td>52.068699</td>\n",
       "      <td>5.61743</td>\n",
       "    </tr>\n",
       "    <tr>\n",
       "      <th>8</th>\n",
       "      <td>1992-12-09 12:00:00</td>\n",
       "      <td>-1</td>\n",
       "      <td>580.992004</td>\n",
       "      <td>46.574100</td>\n",
       "      <td>1.48384</td>\n",
       "      <td>58.216400</td>\n",
       "      <td>5.03651</td>\n",
       "    </tr>\n",
       "  </tbody>\n",
       "</table>\n",
       "</div>"
      ],
      "text/plain": [
       "                                date  cyc         lon        lat        A  \\\n",
       "Eddy ID Point ID                                                            \n",
       "1000    5        1992-11-18 12:00:00   -1  581.109985  46.809700  1.90537   \n",
       "        6        1992-11-25 12:00:00   -1  581.013977  46.808102  2.50892   \n",
       "        7        1992-12-02 12:00:00   -1  580.973022  46.610298  2.08100   \n",
       "        8        1992-12-09 12:00:00   -1  580.992004  46.574100  1.48384   \n",
       "\n",
       "                          L        U  \n",
       "Eddy ID Point ID                      \n",
       "1000    5         66.215698  5.11371  \n",
       "        6         68.702003  5.97126  \n",
       "        7         52.068699  5.61743  \n",
       "        8         58.216400  5.03651  "
      ]
     },
     "execution_count": 17,
     "metadata": {},
     "output_type": "execute_result"
    }
   ],
   "source": [
    "df.tail(4)"
   ]
  },
  {
   "cell_type": "code",
   "execution_count": 18,
   "metadata": {
    "collapsed": false
   },
   "outputs": [],
   "source": [
    "lon_fix_01 = df.where(df.lon <= 540).lon - 360\n",
    "lon_fix_02 = df.where(df.lon > 540).lon - 720\n",
    "\n",
    "lon_fix = lon_fix_01\n",
    "lon_fix = lon_fix.fillna(lon_fix_02)\n",
    "df.lon = lon_fix"
   ]
  },
  {
   "cell_type": "code",
   "execution_count": 19,
   "metadata": {
    "collapsed": false
   },
   "outputs": [
    {
     "data": {
      "text/html": [
       "<div>\n",
       "<table border=\"1\" class=\"dataframe\">\n",
       "  <thead>\n",
       "    <tr style=\"text-align: right;\">\n",
       "      <th></th>\n",
       "      <th></th>\n",
       "      <th>date</th>\n",
       "      <th>cyc</th>\n",
       "      <th>lon</th>\n",
       "      <th>lat</th>\n",
       "      <th>A</th>\n",
       "      <th>L</th>\n",
       "      <th>U</th>\n",
       "    </tr>\n",
       "    <tr>\n",
       "      <th>Eddy ID</th>\n",
       "      <th>Point ID</th>\n",
       "      <th></th>\n",
       "      <th></th>\n",
       "      <th></th>\n",
       "      <th></th>\n",
       "      <th></th>\n",
       "      <th></th>\n",
       "      <th></th>\n",
       "    </tr>\n",
       "  </thead>\n",
       "  <tbody>\n",
       "    <tr>\n",
       "      <th rowspan=\"4\" valign=\"top\">1000</th>\n",
       "      <th>5</th>\n",
       "      <td>1992-11-18 12:00:00</td>\n",
       "      <td>-1</td>\n",
       "      <td>-138.890015</td>\n",
       "      <td>46.809700</td>\n",
       "      <td>1.90537</td>\n",
       "      <td>66.215698</td>\n",
       "      <td>5.11371</td>\n",
       "    </tr>\n",
       "    <tr>\n",
       "      <th>6</th>\n",
       "      <td>1992-11-25 12:00:00</td>\n",
       "      <td>-1</td>\n",
       "      <td>-138.986023</td>\n",
       "      <td>46.808102</td>\n",
       "      <td>2.50892</td>\n",
       "      <td>68.702003</td>\n",
       "      <td>5.97126</td>\n",
       "    </tr>\n",
       "    <tr>\n",
       "      <th>7</th>\n",
       "      <td>1992-12-02 12:00:00</td>\n",
       "      <td>-1</td>\n",
       "      <td>-139.026978</td>\n",
       "      <td>46.610298</td>\n",
       "      <td>2.08100</td>\n",
       "      <td>52.068699</td>\n",
       "      <td>5.61743</td>\n",
       "    </tr>\n",
       "    <tr>\n",
       "      <th>8</th>\n",
       "      <td>1992-12-09 12:00:00</td>\n",
       "      <td>-1</td>\n",
       "      <td>-139.007996</td>\n",
       "      <td>46.574100</td>\n",
       "      <td>1.48384</td>\n",
       "      <td>58.216400</td>\n",
       "      <td>5.03651</td>\n",
       "    </tr>\n",
       "  </tbody>\n",
       "</table>\n",
       "</div>"
      ],
      "text/plain": [
       "                                date  cyc         lon        lat        A  \\\n",
       "Eddy ID Point ID                                                            \n",
       "1000    5        1992-11-18 12:00:00   -1 -138.890015  46.809700  1.90537   \n",
       "        6        1992-11-25 12:00:00   -1 -138.986023  46.808102  2.50892   \n",
       "        7        1992-12-02 12:00:00   -1 -139.026978  46.610298  2.08100   \n",
       "        8        1992-12-09 12:00:00   -1 -139.007996  46.574100  1.48384   \n",
       "\n",
       "                          L        U  \n",
       "Eddy ID Point ID                      \n",
       "1000    5         66.215698  5.11371  \n",
       "        6         68.702003  5.97126  \n",
       "        7         52.068699  5.61743  \n",
       "        8         58.216400  5.03651  "
      ]
     },
     "execution_count": 19,
     "metadata": {},
     "output_type": "execute_result"
    }
   ],
   "source": [
    "df.tail(4)"
   ]
  },
  {
   "cell_type": "markdown",
   "metadata": {},
   "source": [
    "### Point ###"
   ]
  },
  {
   "cell_type": "code",
   "execution_count": 20,
   "metadata": {
    "collapsed": false
   },
   "outputs": [
    {
     "data": {
      "text/html": [
       "<div>\n",
       "<table border=\"1\" class=\"dataframe\">\n",
       "  <thead>\n",
       "    <tr style=\"text-align: right;\">\n",
       "      <th></th>\n",
       "      <th>track</th>\n",
       "      <th>n</th>\n",
       "      <th>j1</th>\n",
       "      <th>cyc</th>\n",
       "      <th>lon</th>\n",
       "      <th>lat</th>\n",
       "      <th>A</th>\n",
       "      <th>L</th>\n",
       "      <th>U</th>\n",
       "    </tr>\n",
       "    <tr>\n",
       "      <th>Nobs</th>\n",
       "      <th></th>\n",
       "      <th></th>\n",
       "      <th></th>\n",
       "      <th></th>\n",
       "      <th></th>\n",
       "      <th></th>\n",
       "      <th></th>\n",
       "      <th></th>\n",
       "      <th></th>\n",
       "    </tr>\n",
       "  </thead>\n",
       "  <tbody>\n",
       "    <tr>\n",
       "      <th>17683</th>\n",
       "      <td>1000</td>\n",
       "      <td>5</td>\n",
       "      <td>2448945</td>\n",
       "      <td>-1</td>\n",
       "      <td>581.109985</td>\n",
       "      <td>46.809700</td>\n",
       "      <td>1.90537</td>\n",
       "      <td>66.215698</td>\n",
       "      <td>5.11371</td>\n",
       "    </tr>\n",
       "    <tr>\n",
       "      <th>17684</th>\n",
       "      <td>1000</td>\n",
       "      <td>6</td>\n",
       "      <td>2448952</td>\n",
       "      <td>-1</td>\n",
       "      <td>581.013977</td>\n",
       "      <td>46.808102</td>\n",
       "      <td>2.50892</td>\n",
       "      <td>68.702003</td>\n",
       "      <td>5.97126</td>\n",
       "    </tr>\n",
       "    <tr>\n",
       "      <th>17685</th>\n",
       "      <td>1000</td>\n",
       "      <td>7</td>\n",
       "      <td>2448959</td>\n",
       "      <td>-1</td>\n",
       "      <td>580.973022</td>\n",
       "      <td>46.610298</td>\n",
       "      <td>2.08100</td>\n",
       "      <td>52.068699</td>\n",
       "      <td>5.61743</td>\n",
       "    </tr>\n",
       "    <tr>\n",
       "      <th>17686</th>\n",
       "      <td>1000</td>\n",
       "      <td>8</td>\n",
       "      <td>2448966</td>\n",
       "      <td>-1</td>\n",
       "      <td>580.992004</td>\n",
       "      <td>46.574100</td>\n",
       "      <td>1.48384</td>\n",
       "      <td>58.216400</td>\n",
       "      <td>5.03651</td>\n",
       "    </tr>\n",
       "  </tbody>\n",
       "</table>\n",
       "</div>"
      ],
      "text/plain": [
       "       track  n       j1  cyc         lon        lat        A          L  \\\n",
       "Nobs                                                                       \n",
       "17683   1000  5  2448945   -1  581.109985  46.809700  1.90537  66.215698   \n",
       "17684   1000  6  2448952   -1  581.013977  46.808102  2.50892  68.702003   \n",
       "17685   1000  7  2448959   -1  580.973022  46.610298  2.08100  52.068699   \n",
       "17686   1000  8  2448966   -1  580.992004  46.574100  1.48384  58.216400   \n",
       "\n",
       "             U  \n",
       "Nobs            \n",
       "17683  5.11371  \n",
       "17684  5.97126  \n",
       "17685  5.61743  \n",
       "17686  5.03651  "
      ]
     },
     "execution_count": 20,
     "metadata": {},
     "output_type": "execute_result"
    }
   ],
   "source": [
    "ds.tail(4)"
   ]
  },
  {
   "cell_type": "code",
   "execution_count": 21,
   "metadata": {
    "collapsed": false
   },
   "outputs": [],
   "source": [
    "count = ds.track\n",
    "count = count.value_counts(normalize=False, sort=True, ascending=True, bins=None, dropna=False).reindex(range(1, M+1))\n",
    "count = pd.DataFrame(count)\n",
    "count.columns = ['point']"
   ]
  },
  {
   "cell_type": "code",
   "execution_count": 22,
   "metadata": {
    "collapsed": false
   },
   "outputs": [
    {
     "data": {
      "text/html": [
       "<div>\n",
       "<table border=\"1\" class=\"dataframe\">\n",
       "  <thead>\n",
       "    <tr style=\"text-align: right;\">\n",
       "      <th></th>\n",
       "      <th>point</th>\n",
       "    </tr>\n",
       "  </thead>\n",
       "  <tbody>\n",
       "    <tr>\n",
       "      <th>997</th>\n",
       "      <td>8</td>\n",
       "    </tr>\n",
       "    <tr>\n",
       "      <th>998</th>\n",
       "      <td>8</td>\n",
       "    </tr>\n",
       "    <tr>\n",
       "      <th>999</th>\n",
       "      <td>8</td>\n",
       "    </tr>\n",
       "    <tr>\n",
       "      <th>1000</th>\n",
       "      <td>8</td>\n",
       "    </tr>\n",
       "  </tbody>\n",
       "</table>\n",
       "</div>"
      ],
      "text/plain": [
       "      point\n",
       "997       8\n",
       "998       8\n",
       "999       8\n",
       "1000      8"
      ]
     },
     "execution_count": 22,
     "metadata": {},
     "output_type": "execute_result"
    }
   ],
   "source": [
    "count.tail(4)"
   ]
  },
  {
   "cell_type": "code",
   "execution_count": 23,
   "metadata": {
    "collapsed": true
   },
   "outputs": [],
   "source": [
    "lon = np.asarray(df.lon)\n",
    "lat = np.asarray(df.lat)\n",
    "point = np.asarray(count.point)"
   ]
  },
  {
   "cell_type": "code",
   "execution_count": 24,
   "metadata": {
    "collapsed": true
   },
   "outputs": [],
   "source": [
    "lon_o = np.zeros((M, 1))\n",
    "lat_o = np.zeros((M, 1))\n",
    "\n",
    "lon_t = np.zeros((M, 1))\n",
    "lat_t = np.zeros((M, 1))"
   ]
  },
  {
   "cell_type": "code",
   "execution_count": 25,
   "metadata": {
    "collapsed": false
   },
   "outputs": [],
   "source": [
    "i = 0\n",
    "c = 0\n",
    "\n",
    "while i < N:\n",
    "    c = int(c) + 1\n",
    "    lon_o[c-1] = lon[i]\n",
    "    lat_o[c-1] = lat[i]\n",
    "    i = i + int(point[c-1])\n",
    "    lon_t[c-1] = lon[i-1]\n",
    "    lat_t[c-1] = lat[i-1]"
   ]
  },
  {
   "cell_type": "code",
   "execution_count": 26,
   "metadata": {
    "collapsed": true
   },
   "outputs": [],
   "source": [
    "lon_o = pd.DataFrame(lon_o)\n",
    "lat_o = pd.DataFrame(lat_o)\n",
    "\n",
    "lon_t = pd.DataFrame(lon_t)\n",
    "lat_t = pd.DataFrame(lat_t)"
   ]
  },
  {
   "cell_type": "code",
   "execution_count": 27,
   "metadata": {
    "collapsed": false
   },
   "outputs": [],
   "source": [
    "index = np.zeros(M)"
   ]
  },
  {
   "cell_type": "code",
   "execution_count": 28,
   "metadata": {
    "collapsed": true
   },
   "outputs": [],
   "source": [
    "for i in range(0, M):\n",
    "    index[i] = i+1"
   ]
  },
  {
   "cell_type": "code",
   "execution_count": 29,
   "metadata": {
    "collapsed": true
   },
   "outputs": [],
   "source": [
    "index = pd.DataFrame(index)"
   ]
  },
  {
   "cell_type": "code",
   "execution_count": 30,
   "metadata": {
    "collapsed": false
   },
   "outputs": [],
   "source": [
    "# Start Centers\n",
    "sc = pd.concat([index, lon_o, lat_o], axis=1)\n",
    "sc.columns = ['Eddy ID','lon', 'lat']\n",
    "sc = sc.set_index('Eddy ID')\n",
    "\n",
    "# End Centers\n",
    "ec = pd.concat([index, lon_t, lat_t], axis=1)\n",
    "ec.columns = ['Eddy ID','lon', 'lat']\n",
    "ec = ec.set_index('Eddy ID')"
   ]
  },
  {
   "cell_type": "code",
   "execution_count": 31,
   "metadata": {
    "collapsed": false
   },
   "outputs": [
    {
     "data": {
      "text/html": [
       "<div>\n",
       "<table border=\"1\" class=\"dataframe\">\n",
       "  <thead>\n",
       "    <tr style=\"text-align: right;\">\n",
       "      <th></th>\n",
       "      <th>lon</th>\n",
       "      <th>lat</th>\n",
       "    </tr>\n",
       "    <tr>\n",
       "      <th>Eddy ID</th>\n",
       "      <th></th>\n",
       "      <th></th>\n",
       "    </tr>\n",
       "  </thead>\n",
       "  <tbody>\n",
       "    <tr>\n",
       "      <th>997</th>\n",
       "      <td>-91.752991</td>\n",
       "      <td>-32.631199</td>\n",
       "    </tr>\n",
       "    <tr>\n",
       "      <th>998</th>\n",
       "      <td>-141.437012</td>\n",
       "      <td>-30.702101</td>\n",
       "    </tr>\n",
       "    <tr>\n",
       "      <th>999</th>\n",
       "      <td>-20.184998</td>\n",
       "      <td>29.784700</td>\n",
       "    </tr>\n",
       "    <tr>\n",
       "      <th>1000</th>\n",
       "      <td>-138.401978</td>\n",
       "      <td>47.121700</td>\n",
       "    </tr>\n",
       "  </tbody>\n",
       "</table>\n",
       "</div>"
      ],
      "text/plain": [
       "                lon        lat\n",
       "Eddy ID                       \n",
       "997      -91.752991 -32.631199\n",
       "998     -141.437012 -30.702101\n",
       "999      -20.184998  29.784700\n",
       "1000    -138.401978  47.121700"
      ]
     },
     "execution_count": 31,
     "metadata": {},
     "output_type": "execute_result"
    }
   ],
   "source": [
    "sc.tail(4)"
   ]
  },
  {
   "cell_type": "code",
   "execution_count": 32,
   "metadata": {
    "collapsed": false
   },
   "outputs": [
    {
     "data": {
      "text/html": [
       "<div>\n",
       "<table border=\"1\" class=\"dataframe\">\n",
       "  <thead>\n",
       "    <tr style=\"text-align: right;\">\n",
       "      <th></th>\n",
       "      <th>lon</th>\n",
       "      <th>lat</th>\n",
       "    </tr>\n",
       "    <tr>\n",
       "      <th>Eddy ID</th>\n",
       "      <th></th>\n",
       "      <th></th>\n",
       "    </tr>\n",
       "  </thead>\n",
       "  <tbody>\n",
       "    <tr>\n",
       "      <th>997</th>\n",
       "      <td>-91.273987</td>\n",
       "      <td>-33.806702</td>\n",
       "    </tr>\n",
       "    <tr>\n",
       "      <th>998</th>\n",
       "      <td>-141.560974</td>\n",
       "      <td>-29.453501</td>\n",
       "    </tr>\n",
       "    <tr>\n",
       "      <th>999</th>\n",
       "      <td>-21.278015</td>\n",
       "      <td>29.068501</td>\n",
       "    </tr>\n",
       "    <tr>\n",
       "      <th>1000</th>\n",
       "      <td>-139.007996</td>\n",
       "      <td>46.574100</td>\n",
       "    </tr>\n",
       "  </tbody>\n",
       "</table>\n",
       "</div>"
      ],
      "text/plain": [
       "                lon        lat\n",
       "Eddy ID                       \n",
       "997      -91.273987 -33.806702\n",
       "998     -141.560974 -29.453501\n",
       "999      -21.278015  29.068501\n",
       "1000    -139.007996  46.574100"
      ]
     },
     "execution_count": 32,
     "metadata": {},
     "output_type": "execute_result"
    }
   ],
   "source": [
    "ec.tail(4)"
   ]
  },
  {
   "cell_type": "markdown",
   "metadata": {},
   "source": [
    "### LineString ###"
   ]
  },
  {
   "cell_type": "code",
   "execution_count": 33,
   "metadata": {
    "collapsed": false
   },
   "outputs": [],
   "source": [
    "linestring = np.zeros((N, 2))\n",
    "\n",
    "for i in range(0, N):\n",
    "    linestring[i][0] = lon[i]\n",
    "    linestring[i][1] = lat[i]"
   ]
  },
  {
   "cell_type": "code",
   "execution_count": 34,
   "metadata": {
    "collapsed": false
   },
   "outputs": [],
   "source": [
    "ls = pd.DataFrame(linestring, index=multi_index, columns=['lon', 'lat'])"
   ]
  },
  {
   "cell_type": "code",
   "execution_count": 35,
   "metadata": {
    "collapsed": false,
    "scrolled": true
   },
   "outputs": [
    {
     "data": {
      "text/html": [
       "<div>\n",
       "<table border=\"1\" class=\"dataframe\">\n",
       "  <thead>\n",
       "    <tr style=\"text-align: right;\">\n",
       "      <th></th>\n",
       "      <th></th>\n",
       "      <th>lon</th>\n",
       "      <th>lat</th>\n",
       "    </tr>\n",
       "    <tr>\n",
       "      <th>Eddy ID</th>\n",
       "      <th>Point ID</th>\n",
       "      <th></th>\n",
       "      <th></th>\n",
       "    </tr>\n",
       "  </thead>\n",
       "  <tbody>\n",
       "    <tr>\n",
       "      <th rowspan=\"4\" valign=\"top\">1000</th>\n",
       "      <th>5</th>\n",
       "      <td>-138.890015</td>\n",
       "      <td>46.809700</td>\n",
       "    </tr>\n",
       "    <tr>\n",
       "      <th>6</th>\n",
       "      <td>-138.986023</td>\n",
       "      <td>46.808102</td>\n",
       "    </tr>\n",
       "    <tr>\n",
       "      <th>7</th>\n",
       "      <td>-139.026978</td>\n",
       "      <td>46.610298</td>\n",
       "    </tr>\n",
       "    <tr>\n",
       "      <th>8</th>\n",
       "      <td>-139.007996</td>\n",
       "      <td>46.574100</td>\n",
       "    </tr>\n",
       "  </tbody>\n",
       "</table>\n",
       "</div>"
      ],
      "text/plain": [
       "                         lon        lat\n",
       "Eddy ID Point ID                       \n",
       "1000    5        -138.890015  46.809700\n",
       "        6        -138.986023  46.808102\n",
       "        7        -139.026978  46.610298\n",
       "        8        -139.007996  46.574100"
      ]
     },
     "execution_count": 35,
     "metadata": {},
     "output_type": "execute_result"
    }
   ],
   "source": [
    "ls.tail(4)"
   ]
  },
  {
   "cell_type": "markdown",
   "metadata": {},
   "source": [
    "### Polygon ###"
   ]
  },
  {
   "cell_type": "code",
   "execution_count": 36,
   "metadata": {
    "collapsed": true
   },
   "outputs": [],
   "source": [
    "from numpy import cos, pi, sin"
   ]
  },
  {
   "cell_type": "code",
   "execution_count": 37,
   "metadata": {
    "collapsed": false
   },
   "outputs": [],
   "source": [
    "L = np.asarray(df.L)"
   ]
  },
  {
   "cell_type": "code",
   "execution_count": 38,
   "metadata": {
    "collapsed": true
   },
   "outputs": [],
   "source": [
    "L_o = np.zeros(M)\n",
    "L_t = np.zeros(M)"
   ]
  },
  {
   "cell_type": "code",
   "execution_count": 39,
   "metadata": {
    "collapsed": false
   },
   "outputs": [
    {
     "name": "stdout",
     "output_type": "stream",
     "text": [
      "17687\n"
     ]
    }
   ],
   "source": [
    "print N"
   ]
  },
  {
   "cell_type": "code",
   "execution_count": 40,
   "metadata": {
    "collapsed": false
   },
   "outputs": [],
   "source": [
    "i = 0\n",
    "c = 0\n",
    "\n",
    "while i < N:\n",
    "    c = int(c) + 1\n",
    "    L_o[c-1] = L[i]\n",
    "    i = i + int(point[c-1])\n",
    "    L_t[c-1] = L[i-1]"
   ]
  },
  {
   "cell_type": "code",
   "execution_count": 41,
   "metadata": {
    "collapsed": true
   },
   "outputs": [],
   "source": [
    "L_o = pd.DataFrame(L_o)\n",
    "L_t = pd.DataFrame(L_t)"
   ]
  },
  {
   "cell_type": "code",
   "execution_count": 42,
   "metadata": {
    "collapsed": false
   },
   "outputs": [],
   "source": [
    "# Origin Circles\n",
    "oc = pd.concat([lon_o, lat_o, L_o], axis=1)\n",
    "oc.columns = ['lon', 'lat', 'L']\n",
    "\n",
    "# Termination Circles\n",
    "tc = pd.concat([lon_t, lat_t, L_t], axis=1)\n",
    "tc.columns = ['lon', 'lat', 'L']"
   ]
  },
  {
   "cell_type": "code",
   "execution_count": 43,
   "metadata": {
    "collapsed": false
   },
   "outputs": [
    {
     "data": {
      "text/html": [
       "<div>\n",
       "<table border=\"1\" class=\"dataframe\">\n",
       "  <thead>\n",
       "    <tr style=\"text-align: right;\">\n",
       "      <th></th>\n",
       "      <th>lon</th>\n",
       "      <th>lat</th>\n",
       "      <th>L</th>\n",
       "    </tr>\n",
       "  </thead>\n",
       "  <tbody>\n",
       "    <tr>\n",
       "      <th>996</th>\n",
       "      <td>-91.752991</td>\n",
       "      <td>-32.631199</td>\n",
       "      <td>126.373001</td>\n",
       "    </tr>\n",
       "    <tr>\n",
       "      <th>997</th>\n",
       "      <td>-141.437012</td>\n",
       "      <td>-30.702101</td>\n",
       "      <td>63.460701</td>\n",
       "    </tr>\n",
       "    <tr>\n",
       "      <th>998</th>\n",
       "      <td>-20.184998</td>\n",
       "      <td>29.784700</td>\n",
       "      <td>86.515900</td>\n",
       "    </tr>\n",
       "    <tr>\n",
       "      <th>999</th>\n",
       "      <td>-138.401978</td>\n",
       "      <td>47.121700</td>\n",
       "      <td>42.862099</td>\n",
       "    </tr>\n",
       "  </tbody>\n",
       "</table>\n",
       "</div>"
      ],
      "text/plain": [
       "            lon        lat           L\n",
       "996  -91.752991 -32.631199  126.373001\n",
       "997 -141.437012 -30.702101   63.460701\n",
       "998  -20.184998  29.784700   86.515900\n",
       "999 -138.401978  47.121700   42.862099"
      ]
     },
     "execution_count": 43,
     "metadata": {},
     "output_type": "execute_result"
    }
   ],
   "source": [
    "oc.tail(4)"
   ]
  },
  {
   "cell_type": "code",
   "execution_count": 44,
   "metadata": {
    "collapsed": false
   },
   "outputs": [
    {
     "data": {
      "text/html": [
       "<div>\n",
       "<table border=\"1\" class=\"dataframe\">\n",
       "  <thead>\n",
       "    <tr style=\"text-align: right;\">\n",
       "      <th></th>\n",
       "      <th>lon</th>\n",
       "      <th>lat</th>\n",
       "      <th>L</th>\n",
       "    </tr>\n",
       "  </thead>\n",
       "  <tbody>\n",
       "    <tr>\n",
       "      <th>996</th>\n",
       "      <td>-91.273987</td>\n",
       "      <td>-33.806702</td>\n",
       "      <td>49.583099</td>\n",
       "    </tr>\n",
       "    <tr>\n",
       "      <th>997</th>\n",
       "      <td>-141.560974</td>\n",
       "      <td>-29.453501</td>\n",
       "      <td>80.245201</td>\n",
       "    </tr>\n",
       "    <tr>\n",
       "      <th>998</th>\n",
       "      <td>-21.278015</td>\n",
       "      <td>29.068501</td>\n",
       "      <td>58.712200</td>\n",
       "    </tr>\n",
       "    <tr>\n",
       "      <th>999</th>\n",
       "      <td>-139.007996</td>\n",
       "      <td>46.574100</td>\n",
       "      <td>58.216400</td>\n",
       "    </tr>\n",
       "  </tbody>\n",
       "</table>\n",
       "</div>"
      ],
      "text/plain": [
       "            lon        lat          L\n",
       "996  -91.273987 -33.806702  49.583099\n",
       "997 -141.560974 -29.453501  80.245201\n",
       "998  -21.278015  29.068501  58.712200\n",
       "999 -139.007996  46.574100  58.216400"
      ]
     },
     "execution_count": 44,
     "metadata": {},
     "output_type": "execute_result"
    }
   ],
   "source": [
    "tc.tail(4)"
   ]
  },
  {
   "cell_type": "code",
   "execution_count": 45,
   "metadata": {
    "collapsed": false
   },
   "outputs": [],
   "source": [
    "# Circle Center Number\n",
    "C = M\n",
    "\n",
    "# Circle Arc Number\n",
    "A = C*17"
   ]
  },
  {
   "cell_type": "code",
   "execution_count": 46,
   "metadata": {
    "collapsed": true
   },
   "outputs": [],
   "source": [
    "center = np.zeros(A)\n",
    "arc = np.zeros(A)"
   ]
  },
  {
   "cell_type": "code",
   "execution_count": 47,
   "metadata": {
    "collapsed": false
   },
   "outputs": [],
   "source": [
    "i = 0\n",
    "j = 1\n",
    "c = 1\n",
    "\n",
    "while i < A:\n",
    "    while c <= 17:\n",
    "        center[i] = j\n",
    "        i = i+1\n",
    "        c = c+1\n",
    "    j = j+1\n",
    "    c = 1"
   ]
  },
  {
   "cell_type": "code",
   "execution_count": 48,
   "metadata": {
    "collapsed": false
   },
   "outputs": [],
   "source": [
    "center = center.astype(int)"
   ]
  },
  {
   "cell_type": "code",
   "execution_count": 49,
   "metadata": {
    "collapsed": true
   },
   "outputs": [],
   "source": [
    "i = 0\n",
    "j = 1\n",
    "c = 1\n",
    "\n",
    "while i < A:\n",
    "    while c <= 17:\n",
    "        arc[i] = j\n",
    "        i = i+1\n",
    "        j = j+1\n",
    "        c = c+1\n",
    "    j = 1\n",
    "    c = 1"
   ]
  },
  {
   "cell_type": "code",
   "execution_count": 50,
   "metadata": {
    "collapsed": true
   },
   "outputs": [],
   "source": [
    "center = center.astype(int)"
   ]
  },
  {
   "cell_type": "code",
   "execution_count": 51,
   "metadata": {
    "collapsed": false
   },
   "outputs": [],
   "source": [
    "arrays = [center, arc]\n",
    "tuples = list(zip(*arrays))\n",
    "multi_index = pd.MultiIndex.from_tuples(tuples, names=['center', 'arc'])"
   ]
  },
  {
   "cell_type": "code",
   "execution_count": 52,
   "metadata": {
    "collapsed": true
   },
   "outputs": [],
   "source": [
    "# Earth Radius in Kilometers\n",
    "R = 6371"
   ]
  },
  {
   "cell_type": "markdown",
   "metadata": {},
   "source": [
    "__Origins__"
   ]
  },
  {
   "cell_type": "code",
   "execution_count": 53,
   "metadata": {
    "collapsed": false
   },
   "outputs": [],
   "source": [
    "lon = np.asarray(oc.lon)\n",
    "lat = np.asarray(oc.lat)\n",
    "L = np.asarray(oc.L)"
   ]
  },
  {
   "cell_type": "code",
   "execution_count": 54,
   "metadata": {
    "collapsed": true
   },
   "outputs": [],
   "source": [
    "theta = np.zeros(C)\n",
    "x = np.zeros(C)\n",
    "y = np.zeros(C)\n",
    "r = np.zeros(C)"
   ]
  },
  {
   "cell_type": "code",
   "execution_count": 55,
   "metadata": {
    "collapsed": false
   },
   "outputs": [],
   "source": [
    "for i in range(0, C):\n",
    "    theta[i] = lat[i]*(pi/180)\n",
    "    r[i] = R*cos(theta[i])\n",
    "    x[i] = (L[i]/r[i])*(180/pi)\n",
    "    y[i] = (L[i]/R)*(180/pi)"
   ]
  },
  {
   "cell_type": "code",
   "execution_count": 56,
   "metadata": {
    "collapsed": false
   },
   "outputs": [],
   "source": [
    "op_lon = np.zeros(A)\n",
    "op_lat = np.zeros(A)\n",
    "op_x = np.zeros(A)\n",
    "op_y = np.zeros(A)"
   ]
  },
  {
   "cell_type": "code",
   "execution_count": 57,
   "metadata": {
    "collapsed": false
   },
   "outputs": [],
   "source": [
    "i = 0\n",
    "j = 1\n",
    "c = 0\n",
    "\n",
    "while i < A:\n",
    "    while j <= 17:\n",
    "        op_lon[i] = lon[c]\n",
    "        i = i+1\n",
    "        j = j+1\n",
    "    j = 1\n",
    "    c = c+1"
   ]
  },
  {
   "cell_type": "code",
   "execution_count": 58,
   "metadata": {
    "collapsed": false
   },
   "outputs": [],
   "source": [
    "i = 0\n",
    "j = 1\n",
    "c = 0\n",
    "\n",
    "while i < A:\n",
    "    while j <= 17:\n",
    "        op_lat[i] = lat[c]\n",
    "        i = i+1\n",
    "        j = j+1\n",
    "    j = 1\n",
    "    c = c+1"
   ]
  },
  {
   "cell_type": "code",
   "execution_count": 59,
   "metadata": {
    "collapsed": true
   },
   "outputs": [],
   "source": [
    "i = 0\n",
    "j = 1\n",
    "c = 0\n",
    "\n",
    "while i < A:\n",
    "    while j <= 17:\n",
    "        op_x[i] = x[c]*cos((j-1)*(pi/8))\n",
    "        i = i+1\n",
    "        j = j+1\n",
    "    j = 1\n",
    "    c = c+1"
   ]
  },
  {
   "cell_type": "code",
   "execution_count": 60,
   "metadata": {
    "collapsed": false
   },
   "outputs": [],
   "source": [
    "i = 0\n",
    "j = 1\n",
    "c = 0\n",
    "\n",
    "while i < A:\n",
    "    while j <= 17:\n",
    "        op_y[i] = y[c]*sin((j-1)*(pi/8))\n",
    "        i = i+1\n",
    "        j = j+1\n",
    "    j = 1\n",
    "    c = c+1"
   ]
  },
  {
   "cell_type": "code",
   "execution_count": 61,
   "metadata": {
    "collapsed": true
   },
   "outputs": [],
   "source": [
    "op = np.zeros((A, 2))"
   ]
  },
  {
   "cell_type": "code",
   "execution_count": 62,
   "metadata": {
    "collapsed": false
   },
   "outputs": [],
   "source": [
    "for i in range(0, A):\n",
    "    op[i][0] = op_lon[i]+op_x[i]\n",
    "    op[i][1] = op_lat[i]+op_y[i]"
   ]
  },
  {
   "cell_type": "code",
   "execution_count": 63,
   "metadata": {
    "collapsed": false
   },
   "outputs": [],
   "source": [
    "# Origin Polygons\n",
    "op = pd.DataFrame(op, index=multi_index)\n",
    "op.columns = ['lon','lat']"
   ]
  },
  {
   "cell_type": "code",
   "execution_count": 64,
   "metadata": {
    "collapsed": false
   },
   "outputs": [
    {
     "data": {
      "text/html": [
       "<div>\n",
       "<table border=\"1\" class=\"dataframe\">\n",
       "  <thead>\n",
       "    <tr style=\"text-align: right;\">\n",
       "      <th></th>\n",
       "      <th></th>\n",
       "      <th>lon</th>\n",
       "      <th>lat</th>\n",
       "    </tr>\n",
       "    <tr>\n",
       "      <th>center</th>\n",
       "      <th>arc</th>\n",
       "      <th></th>\n",
       "      <th></th>\n",
       "    </tr>\n",
       "  </thead>\n",
       "  <tbody>\n",
       "    <tr>\n",
       "      <th rowspan=\"4\" valign=\"top\">1000</th>\n",
       "      <th>14</th>\n",
       "      <td>-138.185189</td>\n",
       "      <td>46.765574</td>\n",
       "    </tr>\n",
       "    <tr>\n",
       "      <th>15</th>\n",
       "      <td>-138.001405</td>\n",
       "      <td>46.849133</td>\n",
       "    </tr>\n",
       "    <tr>\n",
       "      <th>16</th>\n",
       "      <td>-137.878604</td>\n",
       "      <td>46.974188</td>\n",
       "    </tr>\n",
       "    <tr>\n",
       "      <th>17</th>\n",
       "      <td>-137.835482</td>\n",
       "      <td>47.121700</td>\n",
       "    </tr>\n",
       "  </tbody>\n",
       "</table>\n",
       "</div>"
      ],
      "text/plain": [
       "                   lon        lat\n",
       "center arc                       \n",
       "1000   14  -138.185189  46.765574\n",
       "       15  -138.001405  46.849133\n",
       "       16  -137.878604  46.974188\n",
       "       17  -137.835482  47.121700"
      ]
     },
     "execution_count": 64,
     "metadata": {},
     "output_type": "execute_result"
    }
   ],
   "source": [
    "op.tail(4)"
   ]
  },
  {
   "cell_type": "markdown",
   "metadata": {},
   "source": [
    "__Terminations__"
   ]
  },
  {
   "cell_type": "code",
   "execution_count": 65,
   "metadata": {
    "collapsed": true
   },
   "outputs": [],
   "source": [
    "lon = np.asarray(tc.lon)\n",
    "lat = np.asarray(tc.lat)\n",
    "L = np.asarray(tc.L)"
   ]
  },
  {
   "cell_type": "code",
   "execution_count": 66,
   "metadata": {
    "collapsed": true
   },
   "outputs": [],
   "source": [
    "theta = np.zeros(C)\n",
    "r = np.zeros(C)\n",
    "x = np.zeros(C)\n",
    "y = np.zeros(C)"
   ]
  },
  {
   "cell_type": "code",
   "execution_count": 67,
   "metadata": {
    "collapsed": true
   },
   "outputs": [],
   "source": [
    "for i in range(0, C):\n",
    "    theta[i] = lat[i]*(pi/180)\n",
    "    r[i] = R*cos(theta[i])\n",
    "    x[i] = (L[i]/r[i])*(180/pi)\n",
    "    y[i] = (L[i]/R)*(180/pi)"
   ]
  },
  {
   "cell_type": "code",
   "execution_count": 68,
   "metadata": {
    "collapsed": true
   },
   "outputs": [],
   "source": [
    "tp_lon = np.zeros(A)\n",
    "tp_lat = np.zeros(A)\n",
    "tp_x = np.zeros(A)\n",
    "tp_y = np.zeros(A)"
   ]
  },
  {
   "cell_type": "code",
   "execution_count": 69,
   "metadata": {
    "collapsed": false
   },
   "outputs": [],
   "source": [
    "i = 0\n",
    "j = 1\n",
    "c = 0\n",
    "\n",
    "while i < A:\n",
    "    while j <= 17:\n",
    "        tp_lon[i] = lon[c]\n",
    "        i = i+1\n",
    "        j = j+1\n",
    "    j = 1\n",
    "    c = c+1"
   ]
  },
  {
   "cell_type": "code",
   "execution_count": 70,
   "metadata": {
    "collapsed": true
   },
   "outputs": [],
   "source": [
    "i = 0\n",
    "j = 1\n",
    "c = 0\n",
    "\n",
    "while i < A:\n",
    "    while j <= 17:\n",
    "        tp_lat[i] = lat[c]\n",
    "        i = i+1\n",
    "        j = j+1\n",
    "    j = 1\n",
    "    c = c+1"
   ]
  },
  {
   "cell_type": "code",
   "execution_count": 71,
   "metadata": {
    "collapsed": false
   },
   "outputs": [],
   "source": [
    "i = 0\n",
    "j = 1\n",
    "c = 0\n",
    "\n",
    "while i < A:\n",
    "    while j <= 17:\n",
    "        tp_x[i] = x[c]*cos((j-1)*(pi/8))\n",
    "        i = i+1\n",
    "        j = j+1\n",
    "    j = 1\n",
    "    c = c+1"
   ]
  },
  {
   "cell_type": "code",
   "execution_count": 72,
   "metadata": {
    "collapsed": true
   },
   "outputs": [],
   "source": [
    "i = 0\n",
    "j = 1\n",
    "c = 0\n",
    "\n",
    "while i < A:\n",
    "    while j <= 17:\n",
    "        tp_y[i] = y[c]*sin((j-1)*(pi/8))\n",
    "        i = i+1\n",
    "        j = j+1\n",
    "    j = 1\n",
    "    c = c+1"
   ]
  },
  {
   "cell_type": "code",
   "execution_count": 73,
   "metadata": {
    "collapsed": true
   },
   "outputs": [],
   "source": [
    "tp = np.zeros((A, 2))"
   ]
  },
  {
   "cell_type": "code",
   "execution_count": 74,
   "metadata": {
    "collapsed": false
   },
   "outputs": [],
   "source": [
    "for i in range(0, A):\n",
    "    tp[i][0] = tp_lon[i]+tp_x[i]\n",
    "    tp[i][1] = tp_lat[i]+tp_y[i]"
   ]
  },
  {
   "cell_type": "code",
   "execution_count": 75,
   "metadata": {
    "collapsed": false
   },
   "outputs": [],
   "source": [
    "# Termination Polygons\n",
    "tp = pd.DataFrame(tp, index=multi_index)\n",
    "tp.columns = ['lon','lat']"
   ]
  },
  {
   "cell_type": "code",
   "execution_count": 76,
   "metadata": {
    "collapsed": false
   },
   "outputs": [
    {
     "data": {
      "text/html": [
       "<div>\n",
       "<table border=\"1\" class=\"dataframe\">\n",
       "  <thead>\n",
       "    <tr style=\"text-align: right;\">\n",
       "      <th></th>\n",
       "      <th></th>\n",
       "      <th>lon</th>\n",
       "      <th>lat</th>\n",
       "    </tr>\n",
       "    <tr>\n",
       "      <th>center</th>\n",
       "      <th>arc</th>\n",
       "      <th></th>\n",
       "      <th></th>\n",
       "    </tr>\n",
       "  </thead>\n",
       "  <tbody>\n",
       "    <tr>\n",
       "      <th rowspan=\"4\" valign=\"top\">1000</th>\n",
       "      <th>14</th>\n",
       "      <td>-138.716535</td>\n",
       "      <td>46.090401</td>\n",
       "    </tr>\n",
       "    <tr>\n",
       "      <th>15</th>\n",
       "      <td>-138.469446</td>\n",
       "      <td>46.203893</td>\n",
       "    </tr>\n",
       "    <tr>\n",
       "      <th>16</th>\n",
       "      <td>-138.304346</td>\n",
       "      <td>46.373746</td>\n",
       "    </tr>\n",
       "    <tr>\n",
       "      <th>17</th>\n",
       "      <td>-138.246371</td>\n",
       "      <td>46.574100</td>\n",
       "    </tr>\n",
       "  </tbody>\n",
       "</table>\n",
       "</div>"
      ],
      "text/plain": [
       "                   lon        lat\n",
       "center arc                       \n",
       "1000   14  -138.716535  46.090401\n",
       "       15  -138.469446  46.203893\n",
       "       16  -138.304346  46.373746\n",
       "       17  -138.246371  46.574100"
      ]
     },
     "execution_count": 76,
     "metadata": {},
     "output_type": "execute_result"
    }
   ],
   "source": [
    "tp.tail(4)"
   ]
  },
  {
   "cell_type": "markdown",
   "metadata": {},
   "source": [
    "### ID ###"
   ]
  },
  {
   "cell_type": "code",
   "execution_count": 77,
   "metadata": {
    "collapsed": false
   },
   "outputs": [],
   "source": [
    "eddy_id = pd.DataFrame(index)\n",
    "eddy_id = pd.concat([index, index], axis=1)\n",
    "eddy_id.columns = ['Eddy ID', 'eddy id']\n",
    "eddy_id = eddy_id.set_index('Eddy ID')"
   ]
  },
  {
   "cell_type": "code",
   "execution_count": 78,
   "metadata": {
    "collapsed": false
   },
   "outputs": [
    {
     "data": {
      "text/html": [
       "<div>\n",
       "<table border=\"1\" class=\"dataframe\">\n",
       "  <thead>\n",
       "    <tr style=\"text-align: right;\">\n",
       "      <th></th>\n",
       "      <th>eddy id</th>\n",
       "    </tr>\n",
       "    <tr>\n",
       "      <th>Eddy ID</th>\n",
       "      <th></th>\n",
       "    </tr>\n",
       "  </thead>\n",
       "  <tbody>\n",
       "    <tr>\n",
       "      <th>997</th>\n",
       "      <td>997</td>\n",
       "    </tr>\n",
       "    <tr>\n",
       "      <th>998</th>\n",
       "      <td>998</td>\n",
       "    </tr>\n",
       "    <tr>\n",
       "      <th>999</th>\n",
       "      <td>999</td>\n",
       "    </tr>\n",
       "    <tr>\n",
       "      <th>1000</th>\n",
       "      <td>1000</td>\n",
       "    </tr>\n",
       "  </tbody>\n",
       "</table>\n",
       "</div>"
      ],
      "text/plain": [
       "         eddy id\n",
       "Eddy ID         \n",
       "997          997\n",
       "998          998\n",
       "999          999\n",
       "1000        1000"
      ]
     },
     "execution_count": 78,
     "metadata": {},
     "output_type": "execute_result"
    }
   ],
   "source": [
    "eddy_id.tail(4)"
   ]
  },
  {
   "cell_type": "markdown",
   "metadata": {},
   "source": [
    "### Date ###"
   ]
  },
  {
   "cell_type": "code",
   "execution_count": 79,
   "metadata": {
    "collapsed": false
   },
   "outputs": [
    {
     "data": {
      "text/html": [
       "<div>\n",
       "<table border=\"1\" class=\"dataframe\">\n",
       "  <thead>\n",
       "    <tr style=\"text-align: right;\">\n",
       "      <th></th>\n",
       "      <th>track</th>\n",
       "      <th>n</th>\n",
       "      <th>j1</th>\n",
       "      <th>cyc</th>\n",
       "      <th>lon</th>\n",
       "      <th>lat</th>\n",
       "      <th>A</th>\n",
       "      <th>L</th>\n",
       "      <th>U</th>\n",
       "    </tr>\n",
       "    <tr>\n",
       "      <th>Nobs</th>\n",
       "      <th></th>\n",
       "      <th></th>\n",
       "      <th></th>\n",
       "      <th></th>\n",
       "      <th></th>\n",
       "      <th></th>\n",
       "      <th></th>\n",
       "      <th></th>\n",
       "      <th></th>\n",
       "    </tr>\n",
       "  </thead>\n",
       "  <tbody>\n",
       "    <tr>\n",
       "      <th>17683</th>\n",
       "      <td>1000</td>\n",
       "      <td>5</td>\n",
       "      <td>2448945</td>\n",
       "      <td>-1</td>\n",
       "      <td>581.109985</td>\n",
       "      <td>46.809700</td>\n",
       "      <td>1.90537</td>\n",
       "      <td>66.215698</td>\n",
       "      <td>5.11371</td>\n",
       "    </tr>\n",
       "    <tr>\n",
       "      <th>17684</th>\n",
       "      <td>1000</td>\n",
       "      <td>6</td>\n",
       "      <td>2448952</td>\n",
       "      <td>-1</td>\n",
       "      <td>581.013977</td>\n",
       "      <td>46.808102</td>\n",
       "      <td>2.50892</td>\n",
       "      <td>68.702003</td>\n",
       "      <td>5.97126</td>\n",
       "    </tr>\n",
       "    <tr>\n",
       "      <th>17685</th>\n",
       "      <td>1000</td>\n",
       "      <td>7</td>\n",
       "      <td>2448959</td>\n",
       "      <td>-1</td>\n",
       "      <td>580.973022</td>\n",
       "      <td>46.610298</td>\n",
       "      <td>2.08100</td>\n",
       "      <td>52.068699</td>\n",
       "      <td>5.61743</td>\n",
       "    </tr>\n",
       "    <tr>\n",
       "      <th>17686</th>\n",
       "      <td>1000</td>\n",
       "      <td>8</td>\n",
       "      <td>2448966</td>\n",
       "      <td>-1</td>\n",
       "      <td>580.992004</td>\n",
       "      <td>46.574100</td>\n",
       "      <td>1.48384</td>\n",
       "      <td>58.216400</td>\n",
       "      <td>5.03651</td>\n",
       "    </tr>\n",
       "  </tbody>\n",
       "</table>\n",
       "</div>"
      ],
      "text/plain": [
       "       track  n       j1  cyc         lon        lat        A          L  \\\n",
       "Nobs                                                                       \n",
       "17683   1000  5  2448945   -1  581.109985  46.809700  1.90537  66.215698   \n",
       "17684   1000  6  2448952   -1  581.013977  46.808102  2.50892  68.702003   \n",
       "17685   1000  7  2448959   -1  580.973022  46.610298  2.08100  52.068699   \n",
       "17686   1000  8  2448966   -1  580.992004  46.574100  1.48384  58.216400   \n",
       "\n",
       "             U  \n",
       "Nobs            \n",
       "17683  5.11371  \n",
       "17684  5.97126  \n",
       "17685  5.61743  \n",
       "17686  5.03651  "
      ]
     },
     "execution_count": 79,
     "metadata": {},
     "output_type": "execute_result"
    }
   ],
   "source": [
    "ds.tail(4)"
   ]
  },
  {
   "cell_type": "code",
   "execution_count": 80,
   "metadata": {
    "collapsed": false
   },
   "outputs": [],
   "source": [
    "j1 = np.asarray(ds.j1)"
   ]
  },
  {
   "cell_type": "code",
   "execution_count": 81,
   "metadata": {
    "collapsed": true
   },
   "outputs": [],
   "source": [
    "j1_o = np.zeros((M, 1))\n",
    "j1_t = np.zeros((M, 1))"
   ]
  },
  {
   "cell_type": "code",
   "execution_count": 82,
   "metadata": {
    "collapsed": false
   },
   "outputs": [],
   "source": [
    "i = 0\n",
    "c = 0\n",
    "\n",
    "while i < N:\n",
    "    c = int(c) + 1\n",
    "    j1_o[c-1] = j1[i]\n",
    "    i = i + int(point[c-1])\n",
    "    j1_t[c-1] = j1[i-1]"
   ]
  },
  {
   "cell_type": "code",
   "execution_count": 83,
   "metadata": {
    "collapsed": true
   },
   "outputs": [],
   "source": [
    "j1_o = pd.DataFrame(j1_o)\n",
    "j1_t = pd.DataFrame(j1_t)"
   ]
  },
  {
   "cell_type": "code",
   "execution_count": 84,
   "metadata": {
    "collapsed": false
   },
   "outputs": [],
   "source": [
    "# Start Julian Dates\n",
    "sj = pd.concat([index, j1_o], axis=1)\n",
    "sj.columns = ['Eddy ID','j1']\n",
    "sj = sj.set_index('Eddy ID')\n",
    "\n",
    "# End Julian Dates\n",
    "ej = pd.concat([index, j1_t], axis=1)\n",
    "ej.columns = ['Eddy ID','j1']\n",
    "ej = ej.set_index('Eddy ID')"
   ]
  },
  {
   "cell_type": "code",
   "execution_count": 85,
   "metadata": {
    "collapsed": false
   },
   "outputs": [
    {
     "data": {
      "text/html": [
       "<div>\n",
       "<table border=\"1\" class=\"dataframe\">\n",
       "  <thead>\n",
       "    <tr style=\"text-align: right;\">\n",
       "      <th></th>\n",
       "      <th>j1</th>\n",
       "    </tr>\n",
       "    <tr>\n",
       "      <th>Eddy ID</th>\n",
       "      <th></th>\n",
       "    </tr>\n",
       "  </thead>\n",
       "  <tbody>\n",
       "    <tr>\n",
       "      <th>997</th>\n",
       "      <td>2448917</td>\n",
       "    </tr>\n",
       "    <tr>\n",
       "      <th>998</th>\n",
       "      <td>2448917</td>\n",
       "    </tr>\n",
       "    <tr>\n",
       "      <th>999</th>\n",
       "      <td>2448917</td>\n",
       "    </tr>\n",
       "    <tr>\n",
       "      <th>1000</th>\n",
       "      <td>2448917</td>\n",
       "    </tr>\n",
       "  </tbody>\n",
       "</table>\n",
       "</div>"
      ],
      "text/plain": [
       "              j1\n",
       "Eddy ID         \n",
       "997      2448917\n",
       "998      2448917\n",
       "999      2448917\n",
       "1000     2448917"
      ]
     },
     "execution_count": 85,
     "metadata": {},
     "output_type": "execute_result"
    }
   ],
   "source": [
    "sj.tail(4)"
   ]
  },
  {
   "cell_type": "code",
   "execution_count": 86,
   "metadata": {
    "collapsed": false
   },
   "outputs": [
    {
     "data": {
      "text/html": [
       "<div>\n",
       "<table border=\"1\" class=\"dataframe\">\n",
       "  <thead>\n",
       "    <tr style=\"text-align: right;\">\n",
       "      <th></th>\n",
       "      <th>j1</th>\n",
       "    </tr>\n",
       "    <tr>\n",
       "      <th>Eddy ID</th>\n",
       "      <th></th>\n",
       "    </tr>\n",
       "  </thead>\n",
       "  <tbody>\n",
       "    <tr>\n",
       "      <th>997</th>\n",
       "      <td>2448966</td>\n",
       "    </tr>\n",
       "    <tr>\n",
       "      <th>998</th>\n",
       "      <td>2448966</td>\n",
       "    </tr>\n",
       "    <tr>\n",
       "      <th>999</th>\n",
       "      <td>2448966</td>\n",
       "    </tr>\n",
       "    <tr>\n",
       "      <th>1000</th>\n",
       "      <td>2448966</td>\n",
       "    </tr>\n",
       "  </tbody>\n",
       "</table>\n",
       "</div>"
      ],
      "text/plain": [
       "              j1\n",
       "Eddy ID         \n",
       "997      2448966\n",
       "998      2448966\n",
       "999      2448966\n",
       "1000     2448966"
      ]
     },
     "execution_count": 86,
     "metadata": {},
     "output_type": "execute_result"
    }
   ],
   "source": [
    "ej.tail(4)"
   ]
  },
  {
   "cell_type": "code",
   "execution_count": 87,
   "metadata": {
    "collapsed": true
   },
   "outputs": [],
   "source": [
    "sd = sj.j1.apply(jday_to_datetime)\n",
    "ed = ej.j1.apply(jday_to_datetime)"
   ]
  },
  {
   "cell_type": "code",
   "execution_count": 88,
   "metadata": {
    "collapsed": false
   },
   "outputs": [],
   "source": [
    "sd = pd.DataFrame(sd)\n",
    "ed = pd.DataFrame(ed)"
   ]
  },
  {
   "cell_type": "code",
   "execution_count": 89,
   "metadata": {
    "collapsed": false
   },
   "outputs": [],
   "source": [
    "# Start Dates\n",
    "sd = sd.rename(columns = {'j1':'date'})\n",
    "\n",
    "# End Dates\n",
    "ed = ed.rename(columns = {'j1':'date'})"
   ]
  },
  {
   "cell_type": "code",
   "execution_count": 90,
   "metadata": {
    "collapsed": false
   },
   "outputs": [
    {
     "data": {
      "text/html": [
       "<div>\n",
       "<table border=\"1\" class=\"dataframe\">\n",
       "  <thead>\n",
       "    <tr style=\"text-align: right;\">\n",
       "      <th></th>\n",
       "      <th>date</th>\n",
       "    </tr>\n",
       "    <tr>\n",
       "      <th>Eddy ID</th>\n",
       "      <th></th>\n",
       "    </tr>\n",
       "  </thead>\n",
       "  <tbody>\n",
       "    <tr>\n",
       "      <th>997</th>\n",
       "      <td>1992-10-21 12:00:00</td>\n",
       "    </tr>\n",
       "    <tr>\n",
       "      <th>998</th>\n",
       "      <td>1992-10-21 12:00:00</td>\n",
       "    </tr>\n",
       "    <tr>\n",
       "      <th>999</th>\n",
       "      <td>1992-10-21 12:00:00</td>\n",
       "    </tr>\n",
       "    <tr>\n",
       "      <th>1000</th>\n",
       "      <td>1992-10-21 12:00:00</td>\n",
       "    </tr>\n",
       "  </tbody>\n",
       "</table>\n",
       "</div>"
      ],
      "text/plain": [
       "                       date\n",
       "Eddy ID                    \n",
       "997     1992-10-21 12:00:00\n",
       "998     1992-10-21 12:00:00\n",
       "999     1992-10-21 12:00:00\n",
       "1000    1992-10-21 12:00:00"
      ]
     },
     "execution_count": 90,
     "metadata": {},
     "output_type": "execute_result"
    }
   ],
   "source": [
    "sd.tail(4)"
   ]
  },
  {
   "cell_type": "code",
   "execution_count": 91,
   "metadata": {
    "collapsed": false
   },
   "outputs": [
    {
     "data": {
      "text/html": [
       "<div>\n",
       "<table border=\"1\" class=\"dataframe\">\n",
       "  <thead>\n",
       "    <tr style=\"text-align: right;\">\n",
       "      <th></th>\n",
       "      <th>date</th>\n",
       "    </tr>\n",
       "    <tr>\n",
       "      <th>Eddy ID</th>\n",
       "      <th></th>\n",
       "    </tr>\n",
       "  </thead>\n",
       "  <tbody>\n",
       "    <tr>\n",
       "      <th>997</th>\n",
       "      <td>1992-12-09 12:00:00</td>\n",
       "    </tr>\n",
       "    <tr>\n",
       "      <th>998</th>\n",
       "      <td>1992-12-09 12:00:00</td>\n",
       "    </tr>\n",
       "    <tr>\n",
       "      <th>999</th>\n",
       "      <td>1992-12-09 12:00:00</td>\n",
       "    </tr>\n",
       "    <tr>\n",
       "      <th>1000</th>\n",
       "      <td>1992-12-09 12:00:00</td>\n",
       "    </tr>\n",
       "  </tbody>\n",
       "</table>\n",
       "</div>"
      ],
      "text/plain": [
       "                       date\n",
       "Eddy ID                    \n",
       "997     1992-12-09 12:00:00\n",
       "998     1992-12-09 12:00:00\n",
       "999     1992-12-09 12:00:00\n",
       "1000    1992-12-09 12:00:00"
      ]
     },
     "execution_count": 91,
     "metadata": {},
     "output_type": "execute_result"
    }
   ],
   "source": [
    "ed.tail(4)"
   ]
  },
  {
   "cell_type": "code",
   "execution_count": 92,
   "metadata": {
    "collapsed": false
   },
   "outputs": [],
   "source": [
    "# Durations\n",
    "dd = ed-sd"
   ]
  },
  {
   "cell_type": "code",
   "execution_count": 93,
   "metadata": {
    "collapsed": false
   },
   "outputs": [
    {
     "data": {
      "text/html": [
       "<div>\n",
       "<table border=\"1\" class=\"dataframe\">\n",
       "  <thead>\n",
       "    <tr style=\"text-align: right;\">\n",
       "      <th></th>\n",
       "      <th>date</th>\n",
       "    </tr>\n",
       "    <tr>\n",
       "      <th>Eddy ID</th>\n",
       "      <th></th>\n",
       "    </tr>\n",
       "  </thead>\n",
       "  <tbody>\n",
       "    <tr>\n",
       "      <th>997</th>\n",
       "      <td>49 days</td>\n",
       "    </tr>\n",
       "    <tr>\n",
       "      <th>998</th>\n",
       "      <td>49 days</td>\n",
       "    </tr>\n",
       "    <tr>\n",
       "      <th>999</th>\n",
       "      <td>49 days</td>\n",
       "    </tr>\n",
       "    <tr>\n",
       "      <th>1000</th>\n",
       "      <td>49 days</td>\n",
       "    </tr>\n",
       "  </tbody>\n",
       "</table>\n",
       "</div>"
      ],
      "text/plain": [
       "           date\n",
       "Eddy ID        \n",
       "997     49 days\n",
       "998     49 days\n",
       "999     49 days\n",
       "1000    49 days"
      ]
     },
     "execution_count": 93,
     "metadata": {},
     "output_type": "execute_result"
    }
   ],
   "source": [
    "dd.tail(4)"
   ]
  },
  {
   "cell_type": "code",
   "execution_count": 94,
   "metadata": {
    "collapsed": true
   },
   "outputs": [],
   "source": [
    "di = np.zeros(M)"
   ]
  },
  {
   "cell_type": "code",
   "execution_count": 95,
   "metadata": {
    "collapsed": false
   },
   "outputs": [],
   "source": [
    "for i in range(0, M):\n",
    "    di[i] = int(dd.date[i+1].astype('timedelta64[D]')/np.timedelta64(1, 'D'))"
   ]
  },
  {
   "cell_type": "code",
   "execution_count": 96,
   "metadata": {
    "collapsed": true
   },
   "outputs": [],
   "source": [
    "di = pd.DataFrame(di)"
   ]
  },
  {
   "cell_type": "code",
   "execution_count": 97,
   "metadata": {
    "collapsed": false
   },
   "outputs": [],
   "source": [
    "di = pd.concat([index, di], axis=1)\n",
    "di.columns = ['Eddy ID','day']\n",
    "di = di.set_index('Eddy ID')\n",
    "di.day = di.day.astype(int)"
   ]
  },
  {
   "cell_type": "code",
   "execution_count": 98,
   "metadata": {
    "collapsed": false
   },
   "outputs": [
    {
     "data": {
      "text/html": [
       "<div>\n",
       "<table border=\"1\" class=\"dataframe\">\n",
       "  <thead>\n",
       "    <tr style=\"text-align: right;\">\n",
       "      <th></th>\n",
       "      <th>day</th>\n",
       "    </tr>\n",
       "    <tr>\n",
       "      <th>Eddy ID</th>\n",
       "      <th></th>\n",
       "    </tr>\n",
       "  </thead>\n",
       "  <tbody>\n",
       "    <tr>\n",
       "      <th>997</th>\n",
       "      <td>49</td>\n",
       "    </tr>\n",
       "    <tr>\n",
       "      <th>998</th>\n",
       "      <td>49</td>\n",
       "    </tr>\n",
       "    <tr>\n",
       "      <th>999</th>\n",
       "      <td>49</td>\n",
       "    </tr>\n",
       "    <tr>\n",
       "      <th>1000</th>\n",
       "      <td>49</td>\n",
       "    </tr>\n",
       "  </tbody>\n",
       "</table>\n",
       "</div>"
      ],
      "text/plain": [
       "         day\n",
       "Eddy ID     \n",
       "997       49\n",
       "998       49\n",
       "999       49\n",
       "1000      49"
      ]
     },
     "execution_count": 98,
     "metadata": {},
     "output_type": "execute_result"
    }
   ],
   "source": [
    "di.tail(4)"
   ]
  },
  {
   "cell_type": "markdown",
   "metadata": {},
   "source": [
    "### Area ###"
   ]
  },
  {
   "cell_type": "code",
   "execution_count": 99,
   "metadata": {
    "collapsed": true
   },
   "outputs": [],
   "source": [
    "radius = np.asarray(ds.L)"
   ]
  },
  {
   "cell_type": "code",
   "execution_count": 100,
   "metadata": {
    "collapsed": false
   },
   "outputs": [],
   "source": [
    "area = 2*pi*(radius**2)"
   ]
  },
  {
   "cell_type": "code",
   "execution_count": 101,
   "metadata": {
    "collapsed": true
   },
   "outputs": [],
   "source": [
    "arrays = [track, n]\n",
    "tuples = list(zip(*arrays))\n",
    "multi_index = pd.MultiIndex.from_tuples(tuples, names=['Eddy ID', 'Point ID'])"
   ]
  },
  {
   "cell_type": "code",
   "execution_count": 102,
   "metadata": {
    "collapsed": false
   },
   "outputs": [],
   "source": [
    "area = pd.DataFrame(area, index=multi_index)\n",
    "area.columns = ['area']"
   ]
  },
  {
   "cell_type": "code",
   "execution_count": 103,
   "metadata": {
    "collapsed": false
   },
   "outputs": [
    {
     "data": {
      "text/html": [
       "<div>\n",
       "<table border=\"1\" class=\"dataframe\">\n",
       "  <thead>\n",
       "    <tr style=\"text-align: right;\">\n",
       "      <th></th>\n",
       "      <th></th>\n",
       "      <th>area</th>\n",
       "    </tr>\n",
       "    <tr>\n",
       "      <th>Eddy ID</th>\n",
       "      <th>Point ID</th>\n",
       "      <th></th>\n",
       "    </tr>\n",
       "  </thead>\n",
       "  <tbody>\n",
       "    <tr>\n",
       "      <th rowspan=\"4\" valign=\"top\">1000</th>\n",
       "      <th>5</th>\n",
       "      <td>27548.744141</td>\n",
       "    </tr>\n",
       "    <tr>\n",
       "      <th>6</th>\n",
       "      <td>29656.417969</td>\n",
       "    </tr>\n",
       "    <tr>\n",
       "      <th>7</th>\n",
       "      <td>17034.654297</td>\n",
       "    </tr>\n",
       "    <tr>\n",
       "      <th>8</th>\n",
       "      <td>21294.652344</td>\n",
       "    </tr>\n",
       "  </tbody>\n",
       "</table>\n",
       "</div>"
      ],
      "text/plain": [
       "                          area\n",
       "Eddy ID Point ID              \n",
       "1000    5         27548.744141\n",
       "        6         29656.417969\n",
       "        7         17034.654297\n",
       "        8         21294.652344"
      ]
     },
     "execution_count": 103,
     "metadata": {},
     "output_type": "execute_result"
    }
   ],
   "source": [
    "area.tail(4)"
   ]
  },
  {
   "cell_type": "code",
   "execution_count": 104,
   "metadata": {
    "collapsed": false
   },
   "outputs": [],
   "source": [
    "aa = np.zeros(M)"
   ]
  },
  {
   "cell_type": "code",
   "execution_count": 105,
   "metadata": {
    "collapsed": false
   },
   "outputs": [],
   "source": [
    "for i in range(0, M):\n",
    "    aa[i] = area.loc[i+1].loc[1]"
   ]
  },
  {
   "cell_type": "code",
   "execution_count": 106,
   "metadata": {
    "collapsed": true
   },
   "outputs": [],
   "source": [
    "aa = pd.DataFrame(aa)"
   ]
  },
  {
   "cell_type": "code",
   "execution_count": 107,
   "metadata": {
    "collapsed": false
   },
   "outputs": [],
   "source": [
    "# Area in Square Kilometers\n",
    "aa = pd.concat([index, aa], axis=1)\n",
    "aa.columns = ['Eddy ID','area']\n",
    "aa = aa.set_index('Eddy ID')\n",
    "\n",
    "# Area in Square Meters\n",
    "aa = aa*10**6"
   ]
  },
  {
   "cell_type": "code",
   "execution_count": 108,
   "metadata": {
    "collapsed": false
   },
   "outputs": [
    {
     "data": {
      "text/html": [
       "<div>\n",
       "<table border=\"1\" class=\"dataframe\">\n",
       "  <thead>\n",
       "    <tr style=\"text-align: right;\">\n",
       "      <th></th>\n",
       "      <th>area</th>\n",
       "    </tr>\n",
       "    <tr>\n",
       "      <th>Eddy ID</th>\n",
       "      <th></th>\n",
       "    </tr>\n",
       "  </thead>\n",
       "  <tbody>\n",
       "    <tr>\n",
       "      <th>997</th>\n",
       "      <td>1.003433e+11</td>\n",
       "    </tr>\n",
       "    <tr>\n",
       "      <th>998</th>\n",
       "      <td>2.530403e+10</td>\n",
       "    </tr>\n",
       "    <tr>\n",
       "      <th>999</th>\n",
       "      <td>4.702965e+10</td>\n",
       "    </tr>\n",
       "    <tr>\n",
       "      <th>1000</th>\n",
       "      <td>1.154321e+10</td>\n",
       "    </tr>\n",
       "  </tbody>\n",
       "</table>\n",
       "</div>"
      ],
      "text/plain": [
       "                 area\n",
       "Eddy ID              \n",
       "997      1.003433e+11\n",
       "998      2.530403e+10\n",
       "999      4.702965e+10\n",
       "1000     1.154321e+10"
      ]
     },
     "execution_count": 108,
     "metadata": {},
     "output_type": "execute_result"
    }
   ],
   "source": [
    "aa.tail(4)"
   ]
  },
  {
   "cell_type": "markdown",
   "metadata": {},
   "source": [
    "### Vorticity ###"
   ]
  },
  {
   "cell_type": "code",
   "execution_count": 109,
   "metadata": {
    "collapsed": false
   },
   "outputs": [],
   "source": [
    "zeta = np.asarray((ds.U*0.01)/(ds.L*1000))"
   ]
  },
  {
   "cell_type": "code",
   "execution_count": 110,
   "metadata": {
    "collapsed": false
   },
   "outputs": [],
   "source": [
    "arrays = [track, n]\n",
    "tuples = list(zip(*arrays))\n",
    "multi_index = pd.MultiIndex.from_tuples(tuples, names=['Eddy ID', 'Point ID'])"
   ]
  },
  {
   "cell_type": "code",
   "execution_count": 111,
   "metadata": {
    "collapsed": true
   },
   "outputs": [],
   "source": [
    "zeta = pd.DataFrame(zeta, index=multi_index)\n",
    "zeta.columns = ['relative vorticity']"
   ]
  },
  {
   "cell_type": "code",
   "execution_count": 112,
   "metadata": {
    "collapsed": false
   },
   "outputs": [
    {
     "data": {
      "text/html": [
       "<div>\n",
       "<table border=\"1\" class=\"dataframe\">\n",
       "  <thead>\n",
       "    <tr style=\"text-align: right;\">\n",
       "      <th></th>\n",
       "      <th></th>\n",
       "      <th>relative vorticity</th>\n",
       "    </tr>\n",
       "    <tr>\n",
       "      <th>Eddy ID</th>\n",
       "      <th>Point ID</th>\n",
       "      <th></th>\n",
       "    </tr>\n",
       "  </thead>\n",
       "  <tbody>\n",
       "    <tr>\n",
       "      <th rowspan=\"4\" valign=\"top\">1000</th>\n",
       "      <th>5</th>\n",
       "      <td>7.722806e-07</td>\n",
       "    </tr>\n",
       "    <tr>\n",
       "      <th>6</th>\n",
       "      <td>8.691537e-07</td>\n",
       "    </tr>\n",
       "    <tr>\n",
       "      <th>7</th>\n",
       "      <td>1.078850e-06</td>\n",
       "    </tr>\n",
       "    <tr>\n",
       "      <th>8</th>\n",
       "      <td>8.651360e-07</td>\n",
       "    </tr>\n",
       "  </tbody>\n",
       "</table>\n",
       "</div>"
      ],
      "text/plain": [
       "                  relative vorticity\n",
       "Eddy ID Point ID                    \n",
       "1000    5               7.722806e-07\n",
       "        6               8.691537e-07\n",
       "        7               1.078850e-06\n",
       "        8               8.651360e-07"
      ]
     },
     "execution_count": 112,
     "metadata": {},
     "output_type": "execute_result"
    }
   ],
   "source": [
    "zeta.tail(4)"
   ]
  },
  {
   "cell_type": "code",
   "execution_count": 113,
   "metadata": {
    "collapsed": true
   },
   "outputs": [],
   "source": [
    "lav = np.zeros(M)"
   ]
  },
  {
   "cell_type": "code",
   "execution_count": 114,
   "metadata": {
    "collapsed": true
   },
   "outputs": [],
   "source": [
    "for i in range(0, M):\n",
    "    lav[i] = zeta.loc[i+1].mean()"
   ]
  },
  {
   "cell_type": "code",
   "execution_count": 115,
   "metadata": {
    "collapsed": false
   },
   "outputs": [],
   "source": [
    "lav = pd.DataFrame(lav)"
   ]
  },
  {
   "cell_type": "code",
   "execution_count": 116,
   "metadata": {
    "collapsed": false
   },
   "outputs": [],
   "source": [
    "lav = pd.concat([index, lav], axis=1)\n",
    "lav.columns = ['Eddy ID','zeta']\n",
    "lav = lav.set_index('Eddy ID')"
   ]
  },
  {
   "cell_type": "code",
   "execution_count": 117,
   "metadata": {
    "collapsed": false
   },
   "outputs": [
    {
     "data": {
      "text/html": [
       "<div>\n",
       "<table border=\"1\" class=\"dataframe\">\n",
       "  <thead>\n",
       "    <tr style=\"text-align: right;\">\n",
       "      <th></th>\n",
       "      <th>zeta</th>\n",
       "    </tr>\n",
       "    <tr>\n",
       "      <th>Eddy ID</th>\n",
       "      <th></th>\n",
       "    </tr>\n",
       "  </thead>\n",
       "  <tbody>\n",
       "    <tr>\n",
       "      <th>997</th>\n",
       "      <td>1.072882e-06</td>\n",
       "    </tr>\n",
       "    <tr>\n",
       "      <th>998</th>\n",
       "      <td>1.126555e-06</td>\n",
       "    </tr>\n",
       "    <tr>\n",
       "      <th>999</th>\n",
       "      <td>1.185512e-06</td>\n",
       "    </tr>\n",
       "    <tr>\n",
       "      <th>1000</th>\n",
       "      <td>8.497072e-07</td>\n",
       "    </tr>\n",
       "  </tbody>\n",
       "</table>\n",
       "</div>"
      ],
      "text/plain": [
       "                 zeta\n",
       "Eddy ID              \n",
       "997      1.072882e-06\n",
       "998      1.126555e-06\n",
       "999      1.185512e-06\n",
       "1000     8.497072e-07"
      ]
     },
     "execution_count": 117,
     "metadata": {},
     "output_type": "execute_result"
    }
   ],
   "source": [
    "lav.tail(4)"
   ]
  },
  {
   "cell_type": "markdown",
   "metadata": {},
   "source": [
    "### GeoJSON ###"
   ]
  },
  {
   "cell_type": "code",
   "execution_count": 118,
   "metadata": {
    "collapsed": false
   },
   "outputs": [],
   "source": [
    "from geojson import Feature, FeatureCollection, LineString, Point, Polygon\n",
    "from pymongo import MongoClient\n",
    "from tqdm import tqdm"
   ]
  },
  {
   "cell_type": "code",
   "execution_count": 119,
   "metadata": {
    "collapsed": true
   },
   "outputs": [],
   "source": [
    "client = MongoClient()\n",
    "db = client.ocean"
   ]
  },
  {
   "cell_type": "code",
   "execution_count": null,
   "metadata": {
    "collapsed": false
   },
   "outputs": [],
   "source": [
    "# GeoJSON Schema For One Eddy\n",
    "\n",
    "a = {\n",
    "    '_id': eddy_id,\n",
    "    'type': 'FeatureSet',\n",
    "    'loc_start': [·,·],\n",
    "    'loc_end': [·,·],\n",
    "    'date_start': date_start,\n",
    "    'date_end': date_end,\n",
    "    'duration': ndays,\n",
    "    'area': area,\n",
    "    'lav': lav,\n",
    "    'features': [\n",
    "        {\n",
    "            # Starting Centers\n",
    "            'type': 'Feature',\n",
    "            'properties': {'name': 'start_center'},\n",
    "            'geometry': {'type': 'Point', 'coordinates': [·,·]}\n",
    "        },\n",
    "        {\n",
    "            # Ending Centers\n",
    "            'type': 'Feature',\n",
    "            'properties': {'name': 'end_center'},\n",
    "            'geometry': {'type': 'Point', 'coordinates': [·,·]}\n",
    "        },\n",
    "        {\n",
    "            # Trajectories\n",
    "            'type': 'Feature',\n",
    "            'properties': {'name': 'trajectories',},\n",
    "            'geometry': {'type': 'LineString', 'coordinates': [[·,·],[·,·],[·,·],...]}\n",
    "        },\n",
    "        {\n",
    "            # Origin Polygons\n",
    "            'type': 'Feature',\n",
    "            'properties': {'name': 'start_polygon'},\n",
    "            'geometry': {'type': 'Polygon', 'coordinates': [[[·,·],[·,·],[·,·],...]]}\n",
    "        },\n",
    "        {\n",
    "            # Termination Polygons\n",
    "            'type': 'Feature',\n",
    "            'properties': {'name': 'end_polygon'},\n",
    "            'geometry': {'type': 'Polygon', 'coordinates': [[[·,·],[·,·],[·,·],...]]}\n",
    "        }\n",
    "    ]\n",
    "}"
   ]
  },
  {
   "cell_type": "code",
   "execution_count": 121,
   "metadata": {
    "collapsed": false
   },
   "outputs": [],
   "source": [
    "for i in range(1, 2):\n",
    "\n",
    "    # GeoJSON\n",
    "    eddy = {\n",
    "        '_id': int(eddy_id.loc[i]),\n",
    "        'type': 'FeatureSet',\n",
    "        'loc_start': [sc.loc[i]['lon'], sc.loc[i]['lat']],\n",
    "        'loc_end': [ec.loc[i]['lon'], ec.loc[i]['lat']],\n",
    "        'date_start': sd.loc[i]['date'],\n",
    "        'date_end': ed.loc[i]['date'],\n",
    "        'duration': di.loc[i]['day'],\n",
    "        'area': aa.loc[i]['area'],\n",
    "        'lav': lav.loc[i]['zeta'],\n",
    "        'features': [\n",
    "            {\n",
    "                'type': 'Feature',\n",
    "                'properties': {'name': 'start_center'},\n",
    "                'geometry': Point(tuple(sc.loc[i][['lon', 'lat']].values))\n",
    "            },\n",
    "            {\n",
    "                'type': 'Feature',\n",
    "                'properties': {'name': 'end_center'},\n",
    "                'geometry': Point(tuple(ec.loc[i][['lon', 'lat']].values))\n",
    "            },\n",
    "            {\n",
    "                'type': 'Feature',\n",
    "                'properties': {'name': 'trajectory'},\n",
    "                'geometry': LineString([tuple(x) for x in ls.loc[i][['lon', 'lat']].values])\n",
    "            },\n",
    "            {\n",
    "                'type': 'Feature',\n",
    "                'properties': {'name': 'start_polygon'},\n",
    "                'geometry': Polygon([[tuple(x) for x in op.loc[i][['lon', 'lat']].values]])\n",
    "            },\n",
    "            {\n",
    "                'type': 'Feature',\n",
    "                'properties': {'name': 'end_polygon'},\n",
    "                'geometry': Polygon([[tuple(x) for x in tp.loc[i][['lon', 'lat']].values]])\n",
    "            }\n",
    "        ]    \n",
    "    }\n",
    "    \n",
    "    # MongoDB\n",
    "    # result = db.ocean.insert_one(eddy)    "
   ]
  },
  {
   "cell_type": "code",
   "execution_count": 124,
   "metadata": {
    "collapsed": false
   },
   "outputs": [
    {
     "data": {
      "text/plain": [
       "{'_id': 1,\n",
       " 'area': 12422155273.4375,\n",
       " 'date_end': Timestamp('1992-11-04 12:00:00'),\n",
       " 'date_start': Timestamp('1992-10-14 12:00:00'),\n",
       " 'duration': 21,\n",
       " 'features': [{'geometry': {\"coordinates\": [-83.260009765625, -65.0010986328125], \"type\": \"Point\"},\n",
       "   'properties': {'name': 'start_center'},\n",
       "   'type': 'Feature'},\n",
       "  {'geometry': {\"coordinates\": [-84.155029296875, -65.293296813964844], \"type\": \"Point\"},\n",
       "   'properties': {'name': 'end_center'},\n",
       "   'type': 'Feature'},\n",
       "  {'geometry': {\"coordinates\": [[-83.260009765625, -65.0010986328125], [-84.010009765625, -65.137603759765625], [-84.17999267578125, -65.245697021484375], [-84.155029296875, -65.293296813964844]], \"type\": \"LineString\"},\n",
       "   'properties': {'name': 'trajectory'},\n",
       "   'type': 'Feature'},\n",
       "  {'geometry': {\"coordinates\": [[[-82.31378750048529, -65.0010986328125], [-82.385814381655962, -64.848073338235167], [-82.59092958543502, -64.718344757579487], [-82.897906181421064, -64.631662891257761], [-83.260009765625, -64.601224267644412], [-83.622113349828936, -64.631662891257761], [-83.92908994581498, -64.718344757579487], [-84.134205149594038, -64.848073338235167], [-84.20623203076471, -65.0010986328125], [-84.134205149594038, -65.154123927389833], [-83.92908994581498, -65.283852508045513], [-83.622113349828936, -65.370534374367239], [-83.260009765625, -65.400972997980588], [-82.897906181421064, -65.370534374367239], [-82.59092958543502, -65.283852508045513], [-82.385814381655962, -65.154123927389833], [-82.31378750048529, -65.0010986328125]]], \"type\": \"Polygon\"},\n",
       "   'properties': {'name': 'start_polygon'},\n",
       "   'type': 'Feature'},\n",
       "  {'geometry': {\"coordinates\": [[[-83.229357536885985, -65.293296813964844], [-83.299820103997448, -65.145234246015249], [-83.500480518233871, -65.019712861845449], [-83.80079005051897, -64.935842154341131], [-84.155029296875, -64.906390678429958], [-84.50926854323103, -64.935842154341131], [-84.809578075516129, -65.019712861845449], [-85.010238489752552, -65.145234246015249], [-85.080701056864015, -65.293296813964844], [-85.010238489752552, -65.441359381914438], [-84.809578075516129, -65.566880766084239], [-84.50926854323103, -65.650751473588556], [-84.155029296875, -65.68020294949973], [-83.80079005051897, -65.650751473588556], [-83.500480518233871, -65.566880766084239], [-83.299820103997448, -65.441359381914438], [-83.229357536885985, -65.293296813964844]]], \"type\": \"Polygon\"},\n",
       "   'properties': {'name': 'end_polygon'},\n",
       "   'type': 'Feature'}],\n",
       " 'lav': 1.6514337353498681e-06,\n",
       " 'loc_end': [-84.155029296875, -65.293296813964844],\n",
       " 'loc_start': [-83.260009765625, -65.0010986328125],\n",
       " 'type': 'FeatureSet'}"
      ]
     },
     "execution_count": 124,
     "metadata": {},
     "output_type": "execute_result"
    }
   ],
   "source": [
    "eddy"
   ]
  },
  {
   "cell_type": "code",
   "execution_count": 125,
   "metadata": {
    "collapsed": false
   },
   "outputs": [
    {
     "data": {
      "text/plain": [
       "{'_id': 1,\n",
       " 'area': 12422155273.4375,\n",
       " 'date_end': Timestamp('1992-11-04 12:00:00'),\n",
       " 'date_start': Timestamp('1992-10-14 12:00:00'),\n",
       " 'duration': 21,\n",
       " 'features': [{'geometry': {\"coordinates\": [-83.260009765625, -65.0010986328125], \"type\": \"Point\"},\n",
       "   'properties': {'name': 'start_center'},\n",
       "   'type': 'Feature'},\n",
       "  {'geometry': {\"coordinates\": [-84.155029296875, -65.293296813964844], \"type\": \"Point\"},\n",
       "   'properties': {'name': 'end_center'},\n",
       "   'type': 'Feature'},\n",
       "  {'geometry': {\"coordinates\": [[-83.260009765625, -65.0010986328125], [-84.010009765625, -65.137603759765625], [-84.17999267578125, -65.245697021484375], [-84.155029296875, -65.293296813964844]], \"type\": \"LineString\"},\n",
       "   'properties': {'name': 'trajectory'},\n",
       "   'type': 'Feature'},\n",
       "  {'geometry': {\"coordinates\": [[[-82.31378750048529, -65.0010986328125], [-82.385814381655962, -64.848073338235167], [-82.59092958543502, -64.718344757579487], [-82.897906181421064, -64.631662891257761], [-83.260009765625, -64.601224267644412], [-83.622113349828936, -64.631662891257761], [-83.92908994581498, -64.718344757579487], [-84.134205149594038, -64.848073338235167], [-84.20623203076471, -65.0010986328125], [-84.134205149594038, -65.154123927389833], [-83.92908994581498, -65.283852508045513], [-83.622113349828936, -65.370534374367239], [-83.260009765625, -65.400972997980588], [-82.897906181421064, -65.370534374367239], [-82.59092958543502, -65.283852508045513], [-82.385814381655962, -65.154123927389833], [-82.31378750048529, -65.0010986328125]]], \"type\": \"Polygon\"},\n",
       "   'properties': {'name': 'start_polygon'},\n",
       "   'type': 'Feature'},\n",
       "  {'geometry': {\"coordinates\": [[[-83.229357536885985, -65.293296813964844], [-83.299820103997448, -65.145234246015249], [-83.500480518233871, -65.019712861845449], [-83.80079005051897, -64.935842154341131], [-84.155029296875, -64.906390678429958], [-84.50926854323103, -64.935842154341131], [-84.809578075516129, -65.019712861845449], [-85.010238489752552, -65.145234246015249], [-85.080701056864015, -65.293296813964844], [-85.010238489752552, -65.441359381914438], [-84.809578075516129, -65.566880766084239], [-84.50926854323103, -65.650751473588556], [-84.155029296875, -65.68020294949973], [-83.80079005051897, -65.650751473588556], [-83.500480518233871, -65.566880766084239], [-83.299820103997448, -65.441359381914438], [-83.229357536885985, -65.293296813964844]]], \"type\": \"Polygon\"},\n",
       "   'properties': {'name': 'end_polygon'},\n",
       "   'type': 'Feature'}],\n",
       " 'lav': 1.6514337353498681e-06,\n",
       " 'loc_end': [-84.155029296875, -65.293296813964844],\n",
       " 'loc_start': [-83.260009765625, -65.0010986328125],\n",
       " 'type': 'FeatureSet'}"
      ]
     },
     "execution_count": 125,
     "metadata": {},
     "output_type": "execute_result"
    }
   ],
   "source": [
    "dict(eddy)"
   ]
  },
  {
   "cell_type": "code",
   "execution_count": 268,
   "metadata": {
    "collapsed": false
   },
   "outputs": [],
   "source": [
    "# Old GeoJSON Codes\n",
    "\n",
    "for i in range(1, 2):\n",
    "    \n",
    "    # geometry\n",
    "    tuples_sc = tuple(sc.loc[i][['lon', 'lat']].values)\n",
    "    sc_geo = Point(tuples_sc)\n",
    "    tuples_ec = tuple(ec.loc[i][['lon', 'lat']].values)\n",
    "    ec_geo = Point(tuples_ec)\n",
    "    tuples_ls = [tuple(x) for x in ls.loc[i][['lon', 'lat']].values]\n",
    "    ls_geo = LineString(tuples_ls)\n",
    "    tuples_op = [[tuple(x) for x in op.loc[i][['lon', 'lat']].values]]\n",
    "    op_geo = Polygon(tuples_op)\n",
    "    tuples_tp = [[tuple(x) for x in tp.loc[i][['lon', 'lat']].values]]\n",
    "    tp_geo = Polygon(tuples_tp)\n",
    "   \n",
    "    # Feature\n",
    "    sc_f = Feature(geometry=sc_geo, id=i)\n",
    "    ec_f = Feature(geometry=ec_geo, id=i)\n",
    "    ls_f = Feature(geometry=ls_geo, id=i)\n",
    "    op_f = Feature(geometry=op_geo, id=i)\n",
    "    tp_f = Feature(geometry=tp_geo, id=i)\n",
    "      \n",
    "    # FeatureCollection\n",
    "    fc = FeatureCollection([sc_f, ec_f, ls_f, op_f, tp_f])\n",
    "    \n",
    "    # MongoDB\n",
    "    # result = db.ocean.insert_one(dict(fc))"
   ]
  },
  {
   "cell_type": "code",
   "execution_count": null,
   "metadata": {
    "collapsed": true
   },
   "outputs": [],
   "source": [
    "# Old GeoJSON Codes\n",
    "for _, group in tqdm(terminations.groupby(level=0)):\n",
    "    feature = {\"type\": \"Feature\", \"geometry\": {\"type\": \"Polygon\", \"coordinates\": None}}\n",
    "    feature[\"geometry\"][\"coordinates\"] = group.to_json(orient='values')\n",
    "    result = db.po.insert_one(feature)"
   ]
  },
  {
   "cell_type": "code",
   "execution_count": null,
   "metadata": {
    "collapsed": true
   },
   "outputs": [],
   "source": [
    "# Old GeoJSON Codes\n",
    "for _, group in tqdm(terminations.groupby(level=0)):\n",
    "    feature = {\"type\": \"Feature\", \"geometry\": {\"type\": \"Polygon\", \"coordinates\": None}}\n",
    "    feature[\"geometry\"][\"coordinates\"] = group.to_json(orient='values')\n",
    "    result = db.pt.insert_one(feature)"
   ]
  },
  {
   "cell_type": "code",
   "execution_count": 78,
   "metadata": {
    "collapsed": true
   },
   "outputs": [],
   "source": [
    "# Old GeoJSON Codes\n",
    "for _, group in tqdm(trajectories.groupby(level=0)):\n",
    "    feature = {\"type\": \"Feature\", \"geometry\": {\"type\": \"LineString\", \"coordinates\": None}}\n",
    "    feature[\"geometry\"][\"coordinates\"] = group.to_json(orient='values')\n",
    "    result = db.ls.insert_one(feature)"
   ]
  },
  {
   "cell_type": "code",
   "execution_count": null,
   "metadata": {
    "collapsed": true
   },
   "outputs": [],
   "source": [
    "# Print Database Names\n",
    "client.database_names()"
   ]
  },
  {
   "cell_type": "code",
   "execution_count": null,
   "metadata": {
    "collapsed": true
   },
   "outputs": [],
   "source": [
    "# Print Collection Names\n",
    "db.collection_names(client)"
   ]
  }
 ],
 "metadata": {
  "kernelspec": {
   "display_name": "Python 2",
   "language": "python",
   "name": "python2"
  },
  "language_info": {
   "codemirror_mode": {
    "name": "ipython",
    "version": 2
   },
   "file_extension": ".py",
   "mimetype": "text/x-python",
   "name": "python",
   "nbconvert_exporter": "python",
   "pygments_lexer": "ipython2",
   "version": "2.7.11"
  }
 },
 "nbformat": 4,
 "nbformat_minor": 0
}
