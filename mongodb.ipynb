{
 "cells": [
  {
   "cell_type": "markdown",
   "metadata": {},
   "source": [
    "### Data ###"
   ]
  },
  {
   "cell_type": "code",
   "execution_count": null,
   "metadata": {
    "collapsed": false
   },
   "outputs": [],
   "source": [
    "import xray"
   ]
  },
  {
   "cell_type": "code",
   "execution_count": null,
   "metadata": {
    "collapsed": false
   },
   "outputs": [],
   "source": [
    "data = xray.open_dataset('tracks.20130125.nc', decode_cf=False)"
   ]
  },
  {
   "cell_type": "code",
   "execution_count": null,
   "metadata": {
    "collapsed": false
   },
   "outputs": [],
   "source": [
    "# Dataset Information\n",
    "print data"
   ]
  },
  {
   "cell_type": "markdown",
   "metadata": {},
   "source": [
    "### Multi-Index ###"
   ]
  },
  {
   "cell_type": "code",
   "execution_count": null,
   "metadata": {
    "collapsed": false
   },
   "outputs": [],
   "source": [
    "import numpy as np\n",
    "import pandas as pd"
   ]
  },
  {
   "cell_type": "code",
   "execution_count": null,
   "metadata": {
    "collapsed": true
   },
   "outputs": [],
   "source": [
    "ds = data.to_dataframe()"
   ]
  },
  {
   "cell_type": "code",
   "execution_count": null,
   "metadata": {
    "collapsed": false,
    "scrolled": true
   },
   "outputs": [],
   "source": [
    "ds.tail(4)"
   ]
  },
  {
   "cell_type": "code",
   "execution_count": null,
   "metadata": {
    "collapsed": false
   },
   "outputs": [],
   "source": [
    "# Dimension Setting\n",
    "# All\n",
    "M = max(ds.track)\n",
    "N = len(ds.n)"
   ]
  },
  {
   "cell_type": "code",
   "execution_count": null,
   "metadata": {
    "collapsed": true
   },
   "outputs": [],
   "source": [
    "# Dimension Setting\n",
    "# Test\n",
    "# M = 3000\n",
    "# N = 41320"
   ]
  },
  {
   "cell_type": "code",
   "execution_count": null,
   "metadata": {
    "collapsed": false
   },
   "outputs": [],
   "source": [
    "ds = ds.head(N)"
   ]
  },
  {
   "cell_type": "code",
   "execution_count": null,
   "metadata": {
    "collapsed": false
   },
   "outputs": [],
   "source": [
    "ds.tail(4)"
   ]
  },
  {
   "cell_type": "code",
   "execution_count": null,
   "metadata": {
    "collapsed": true
   },
   "outputs": [],
   "source": [
    "track = np.asarray(ds.track)\n",
    "n = np.asarray(ds.n)"
   ]
  },
  {
   "cell_type": "code",
   "execution_count": null,
   "metadata": {
    "collapsed": true
   },
   "outputs": [],
   "source": [
    "# Multi-Index Construction\n",
    "arrays = [track, n]\n",
    "tuples = list(zip(*arrays))\n",
    "multi_index = pd.MultiIndex.from_tuples(tuples, names=['Eddy ID', 'Point ID'])"
   ]
  },
  {
   "cell_type": "code",
   "execution_count": null,
   "metadata": {
    "collapsed": true
   },
   "outputs": [],
   "source": [
    "j1 = np.asarray(ds.j1)\n",
    "cyc = np.asarray(ds.cyc)\n",
    "lon = np.asarray(ds.lon)\n",
    "lat = np.asarray(ds.lat)\n",
    "A = np.asarray(ds.A)\n",
    "L = np.asarray(ds.L)\n",
    "U = np.asarray(ds.U)"
   ]
  },
  {
   "cell_type": "code",
   "execution_count": null,
   "metadata": {
    "collapsed": true
   },
   "outputs": [],
   "source": [
    "var = np.zeros((N, 7))"
   ]
  },
  {
   "cell_type": "code",
   "execution_count": null,
   "metadata": {
    "collapsed": true
   },
   "outputs": [],
   "source": [
    "for i in range(N):\n",
    "    var[i][0] = j1[i]\n",
    "    var[i][1] = cyc[i]\n",
    "    var[i][2] = lon[i]\n",
    "    var[i][3] = lat[i]\n",
    "    var[i][4] = A[i]\n",
    "    var[i][5] = L[i]\n",
    "    var[i][6] = U[i]"
   ]
  },
  {
   "cell_type": "code",
   "execution_count": null,
   "metadata": {
    "collapsed": true
   },
   "outputs": [],
   "source": [
    "df = pd.DataFrame(var, index=multi_index)\n",
    "df.columns = ['j1', 'cyc', 'lon', 'lat', 'A', 'L', 'U']"
   ]
  },
  {
   "cell_type": "code",
   "execution_count": null,
   "metadata": {
    "collapsed": false
   },
   "outputs": [],
   "source": [
    "df.tail(4)"
   ]
  },
  {
   "cell_type": "markdown",
   "metadata": {},
   "source": [
    "### Time ###"
   ]
  },
  {
   "cell_type": "code",
   "execution_count": null,
   "metadata": {
    "collapsed": true
   },
   "outputs": [],
   "source": [
    "import datetime, jdcal"
   ]
  },
  {
   "cell_type": "code",
   "execution_count": null,
   "metadata": {
    "collapsed": true
   },
   "outputs": [],
   "source": [
    "def jday_to_datetime(jday, refday=0):\n",
    "    y, m, d, f = jdcal.jd2gcal(jday, refday)\n",
    "    h = int(f*24)\n",
    "    return pd.to_datetime(datetime.datetime(y, m, d, h))"
   ]
  },
  {
   "cell_type": "code",
   "execution_count": null,
   "metadata": {
    "collapsed": false
   },
   "outputs": [],
   "source": [
    "pd_date = df.j1.apply(jday_to_datetime)"
   ]
  },
  {
   "cell_type": "code",
   "execution_count": null,
   "metadata": {
    "collapsed": true
   },
   "outputs": [],
   "source": [
    "df.j1 = pd_date\n",
    "df = df.rename(columns = {'j1': 'date'})"
   ]
  },
  {
   "cell_type": "code",
   "execution_count": null,
   "metadata": {
    "collapsed": false
   },
   "outputs": [],
   "source": [
    "df.tail(4)"
   ]
  },
  {
   "cell_type": "markdown",
   "metadata": {},
   "source": [
    "### Longitude ###"
   ]
  },
  {
   "cell_type": "code",
   "execution_count": null,
   "metadata": {
    "collapsed": false
   },
   "outputs": [],
   "source": [
    "# Longitude Range Setting\n",
    "# From -180 to 180\n",
    "lon_fix_01 = df.where(df.lon <= 540).lon - 360\n",
    "lon_fix_02 = df.where(df.lon > 540).lon - 720\n",
    "lon_fix_A = lon_fix_01\n",
    "lon_fix_A = lon_fix_A.fillna(lon_fix_02)\n",
    "df.lon = lon_fix_A"
   ]
  },
  {
   "cell_type": "code",
   "execution_count": null,
   "metadata": {
    "collapsed": true
   },
   "outputs": [],
   "source": [
    "# Longitude Range Setting\n",
    "# From 0 to 360\n",
    "lon_fix_03 = df.where(df.lon < 0).lon + 360\n",
    "lon_fix_04 = df.where(df.lon >= 0).lon\n",
    "lon_fix_B = lon_fix_03\n",
    "lon_fix_B = lon_fix_B.fillna(lon_fix_04)\n",
    "df.lon = lon_fix_B"
   ]
  },
  {
   "cell_type": "code",
   "execution_count": null,
   "metadata": {
    "collapsed": false
   },
   "outputs": [],
   "source": [
    "df.tail(4)"
   ]
  },
  {
   "cell_type": "markdown",
   "metadata": {},
   "source": [
    "### Point ###"
   ]
  },
  {
   "cell_type": "code",
   "execution_count": null,
   "metadata": {
    "collapsed": false
   },
   "outputs": [],
   "source": [
    "count = ds.track\n",
    "count = count.value_counts(normalize=False, sort=True, ascending=True, bins=None, dropna=False).reindex(range(1, M+1))\n",
    "count = pd.DataFrame(count)\n",
    "count.columns = ['point']"
   ]
  },
  {
   "cell_type": "code",
   "execution_count": null,
   "metadata": {
    "collapsed": false
   },
   "outputs": [],
   "source": [
    "count.tail(4)"
   ]
  },
  {
   "cell_type": "code",
   "execution_count": null,
   "metadata": {
    "collapsed": true
   },
   "outputs": [],
   "source": [
    "lon = np.asarray(df.lon)\n",
    "lat = np.asarray(df.lat)\n",
    "point = np.asarray(count.point)"
   ]
  },
  {
   "cell_type": "code",
   "execution_count": null,
   "metadata": {
    "collapsed": true
   },
   "outputs": [],
   "source": [
    "# Origin Coordinates\n",
    "lon_o = np.zeros(M)\n",
    "lat_o = np.zeros(M)"
   ]
  },
  {
   "cell_type": "code",
   "execution_count": null,
   "metadata": {
    "collapsed": true
   },
   "outputs": [],
   "source": [
    "# Termination Coordinates\n",
    "lon_t = np.zeros(M)\n",
    "lat_t = np.zeros(M)"
   ]
  },
  {
   "cell_type": "code",
   "execution_count": null,
   "metadata": {
    "collapsed": false
   },
   "outputs": [],
   "source": [
    "c = 0\n",
    "i = 0\n",
    "\n",
    "while i < N:\n",
    "    c = int(c) + 1\n",
    "    lon_o[c-1] = lon[i]\n",
    "    lat_o[c-1] = lat[i]\n",
    "    i = i + int(point[c-1])\n",
    "    lon_t[c-1] = lon[i-1]\n",
    "    lat_t[c-1] = lat[i-1]"
   ]
  },
  {
   "cell_type": "code",
   "execution_count": null,
   "metadata": {
    "collapsed": true
   },
   "outputs": [],
   "source": [
    "lon_o = pd.DataFrame(lon_o)\n",
    "lat_o = pd.DataFrame(lat_o)\n",
    "lon_t = pd.DataFrame(lon_t)\n",
    "lat_t = pd.DataFrame(lat_t)"
   ]
  },
  {
   "cell_type": "code",
   "execution_count": null,
   "metadata": {
    "collapsed": false
   },
   "outputs": [],
   "source": [
    "# Index Construction\n",
    "index = np.zeros(M)"
   ]
  },
  {
   "cell_type": "code",
   "execution_count": null,
   "metadata": {
    "collapsed": true
   },
   "outputs": [],
   "source": [
    "for i in range(M):\n",
    "    index[i] = i+1"
   ]
  },
  {
   "cell_type": "code",
   "execution_count": null,
   "metadata": {
    "collapsed": false
   },
   "outputs": [],
   "source": [
    "index = pd.DataFrame(index)\n",
    "index = index.astype(int)"
   ]
  },
  {
   "cell_type": "code",
   "execution_count": null,
   "metadata": {
    "collapsed": true
   },
   "outputs": [],
   "source": [
    "# Start Centers\n",
    "sc = pd.concat([index, lon_o, lat_o], axis=1)\n",
    "sc.columns = ['Eddy ID', 'lon', 'lat']\n",
    "sc = sc.set_index('Eddy ID')"
   ]
  },
  {
   "cell_type": "code",
   "execution_count": null,
   "metadata": {
    "collapsed": false
   },
   "outputs": [],
   "source": [
    "sc.tail(4)"
   ]
  },
  {
   "cell_type": "code",
   "execution_count": null,
   "metadata": {
    "collapsed": false
   },
   "outputs": [],
   "source": [
    "# End Centers\n",
    "ec = pd.concat([index, lon_t, lat_t], axis=1)\n",
    "ec.columns = ['Eddy ID', 'lon', 'lat']\n",
    "ec = ec.set_index('Eddy ID')"
   ]
  },
  {
   "cell_type": "code",
   "execution_count": null,
   "metadata": {
    "collapsed": false
   },
   "outputs": [],
   "source": [
    "ec.tail(4)"
   ]
  },
  {
   "cell_type": "markdown",
   "metadata": {},
   "source": [
    "### LineString ###"
   ]
  },
  {
   "cell_type": "code",
   "execution_count": null,
   "metadata": {
    "collapsed": true
   },
   "outputs": [],
   "source": [
    "ls = np.zeros((N, 2))"
   ]
  },
  {
   "cell_type": "code",
   "execution_count": null,
   "metadata": {
    "collapsed": false
   },
   "outputs": [],
   "source": [
    "for i in range(N):\n",
    "    ls[i][0] = lon[i]\n",
    "    ls[i][1] = lat[i]"
   ]
  },
  {
   "cell_type": "code",
   "execution_count": null,
   "metadata": {
    "collapsed": false
   },
   "outputs": [],
   "source": [
    "ls = pd.DataFrame(ls, index=multi_index, columns=['lon', 'lat'])"
   ]
  },
  {
   "cell_type": "code",
   "execution_count": null,
   "metadata": {
    "collapsed": false,
    "scrolled": true
   },
   "outputs": [],
   "source": [
    "ls.tail(4)"
   ]
  },
  {
   "cell_type": "markdown",
   "metadata": {},
   "source": [
    "### Polygon ###"
   ]
  },
  {
   "cell_type": "code",
   "execution_count": null,
   "metadata": {
    "collapsed": true
   },
   "outputs": [],
   "source": [
    "from numpy import cos, pi, sin"
   ]
  },
  {
   "cell_type": "code",
   "execution_count": null,
   "metadata": {
    "collapsed": false
   },
   "outputs": [],
   "source": [
    "L = np.asarray(df.L)"
   ]
  },
  {
   "cell_type": "code",
   "execution_count": null,
   "metadata": {
    "collapsed": true
   },
   "outputs": [],
   "source": [
    "L_o = np.zeros(M)\n",
    "L_t = np.zeros(M)"
   ]
  },
  {
   "cell_type": "code",
   "execution_count": null,
   "metadata": {
    "collapsed": false
   },
   "outputs": [],
   "source": [
    "c = 0\n",
    "i = 0\n",
    "\n",
    "while i < N:\n",
    "    c = int(c) + 1\n",
    "    L_o[c-1] = L[i]\n",
    "    i = i + int(point[c-1])\n",
    "    L_t[c-1] = L[i-1]"
   ]
  },
  {
   "cell_type": "code",
   "execution_count": null,
   "metadata": {
    "collapsed": true
   },
   "outputs": [],
   "source": [
    "L_o = pd.DataFrame(L_o)\n",
    "L_t = pd.DataFrame(L_t)"
   ]
  },
  {
   "cell_type": "code",
   "execution_count": null,
   "metadata": {
    "collapsed": true
   },
   "outputs": [],
   "source": [
    "# Origin Circles\n",
    "oc = pd.concat([lon_o, lat_o, L_o], axis=1)\n",
    "oc.columns = ['lon', 'lat', 'L']"
   ]
  },
  {
   "cell_type": "code",
   "execution_count": null,
   "metadata": {
    "collapsed": false
   },
   "outputs": [],
   "source": [
    "oc.tail(4)"
   ]
  },
  {
   "cell_type": "code",
   "execution_count": null,
   "metadata": {
    "collapsed": false
   },
   "outputs": [],
   "source": [
    "# Termination Circles\n",
    "tc = pd.concat([lon_t, lat_t, L_t], axis=1)\n",
    "tc.columns = ['lon', 'lat', 'L']"
   ]
  },
  {
   "cell_type": "code",
   "execution_count": null,
   "metadata": {
    "collapsed": false
   },
   "outputs": [],
   "source": [
    "tc.tail(4)"
   ]
  },
  {
   "cell_type": "code",
   "execution_count": null,
   "metadata": {
    "collapsed": true
   },
   "outputs": [],
   "source": [
    "# Circle Center Number\n",
    "C = M"
   ]
  },
  {
   "cell_type": "code",
   "execution_count": null,
   "metadata": {
    "collapsed": false
   },
   "outputs": [],
   "source": [
    "# Circle Arc Number\n",
    "A = C*17"
   ]
  },
  {
   "cell_type": "code",
   "execution_count": null,
   "metadata": {
    "collapsed": true
   },
   "outputs": [],
   "source": [
    "center = np.zeros(A)\n",
    "arc = np.zeros(A)"
   ]
  },
  {
   "cell_type": "code",
   "execution_count": null,
   "metadata": {
    "collapsed": false
   },
   "outputs": [],
   "source": [
    "c = 1\n",
    "i = 0\n",
    "j = 1\n",
    "\n",
    "while i < A:\n",
    "    while c <= 17:\n",
    "        center[i] = j\n",
    "        i = i+1\n",
    "        c = c+1\n",
    "    j = j+1\n",
    "    c = 1"
   ]
  },
  {
   "cell_type": "code",
   "execution_count": null,
   "metadata": {
    "collapsed": false
   },
   "outputs": [],
   "source": [
    "center = center.astype(int)"
   ]
  },
  {
   "cell_type": "code",
   "execution_count": null,
   "metadata": {
    "collapsed": true
   },
   "outputs": [],
   "source": [
    "c = 1\n",
    "i = 0\n",
    "j = 1\n",
    "\n",
    "while i < A:\n",
    "    while c <= 17:\n",
    "        arc[i] = j\n",
    "        i = i+1\n",
    "        j = j+1\n",
    "        c = c+1\n",
    "    j = 1\n",
    "    c = 1"
   ]
  },
  {
   "cell_type": "code",
   "execution_count": null,
   "metadata": {
    "collapsed": true
   },
   "outputs": [],
   "source": [
    "arc = arc.astype(int)"
   ]
  },
  {
   "cell_type": "code",
   "execution_count": null,
   "metadata": {
    "collapsed": false
   },
   "outputs": [],
   "source": [
    "# Multi-Index Construction\n",
    "arrays = [center, arc]\n",
    "tuples = list(zip(*arrays))\n",
    "multi_index = pd.MultiIndex.from_tuples(tuples, names=['center', 'arc'])"
   ]
  },
  {
   "cell_type": "code",
   "execution_count": null,
   "metadata": {
    "collapsed": true
   },
   "outputs": [],
   "source": [
    "# Earth Radius in Kilometers\n",
    "R = 6371"
   ]
  },
  {
   "cell_type": "markdown",
   "metadata": {},
   "source": [
    "__Origins__"
   ]
  },
  {
   "cell_type": "code",
   "execution_count": null,
   "metadata": {
    "collapsed": false
   },
   "outputs": [],
   "source": [
    "lon = np.asarray(oc.lon)\n",
    "lat = np.asarray(oc.lat)\n",
    "L = np.asarray(oc.L)"
   ]
  },
  {
   "cell_type": "code",
   "execution_count": null,
   "metadata": {
    "collapsed": true
   },
   "outputs": [],
   "source": [
    "theta = np.zeros(C)\n",
    "x = np.zeros(C)\n",
    "y = np.zeros(C)\n",
    "r = np.zeros(C)"
   ]
  },
  {
   "cell_type": "code",
   "execution_count": null,
   "metadata": {
    "collapsed": false
   },
   "outputs": [],
   "source": [
    "for i in range(C):\n",
    "    theta[i] = lat[i]*(pi/180)\n",
    "    r[i] = R*cos(theta[i])\n",
    "    x[i] = (L[i]/r[i])*(180/pi)\n",
    "    y[i] = (L[i]/R)*(180/pi)"
   ]
  },
  {
   "cell_type": "code",
   "execution_count": null,
   "metadata": {
    "collapsed": false
   },
   "outputs": [],
   "source": [
    "op_lon = np.zeros(A)\n",
    "op_lat = np.zeros(A)\n",
    "op_x = np.zeros(A)\n",
    "op_y = np.zeros(A)"
   ]
  },
  {
   "cell_type": "code",
   "execution_count": null,
   "metadata": {
    "collapsed": false
   },
   "outputs": [],
   "source": [
    "c = 0\n",
    "i = 0\n",
    "j = 1\n",
    "\n",
    "while i < A:\n",
    "    while j <= 17:\n",
    "        op_lon[i] = lon[c]\n",
    "        i = i+1\n",
    "        j = j+1\n",
    "    j = 1\n",
    "    c = c+1"
   ]
  },
  {
   "cell_type": "code",
   "execution_count": null,
   "metadata": {
    "collapsed": false
   },
   "outputs": [],
   "source": [
    "c = 0\n",
    "i = 0\n",
    "j = 1\n",
    "\n",
    "while i < A:\n",
    "    while j <= 17:\n",
    "        op_lat[i] = lat[c]\n",
    "        i = i+1\n",
    "        j = j+1\n",
    "    j = 1\n",
    "    c = c+1"
   ]
  },
  {
   "cell_type": "code",
   "execution_count": null,
   "metadata": {
    "collapsed": true
   },
   "outputs": [],
   "source": [
    "c = 0\n",
    "i = 0\n",
    "j = 1\n",
    "\n",
    "while i < A:\n",
    "    while j <= 17:\n",
    "        op_x[i] = x[c]*cos((j-1)*(pi/8))\n",
    "        i = i+1\n",
    "        j = j+1\n",
    "    j = 1\n",
    "    c = c+1"
   ]
  },
  {
   "cell_type": "code",
   "execution_count": null,
   "metadata": {
    "collapsed": false
   },
   "outputs": [],
   "source": [
    "c = 0\n",
    "i = 0\n",
    "j = 1\n",
    "\n",
    "while i < A:\n",
    "    while j <= 17:\n",
    "        op_y[i] = y[c]*sin((j-1)*(pi/8))\n",
    "        i = i+1\n",
    "        j = j+1\n",
    "    j = 1\n",
    "    c = c+1"
   ]
  },
  {
   "cell_type": "code",
   "execution_count": null,
   "metadata": {
    "collapsed": true
   },
   "outputs": [],
   "source": [
    "op = np.zeros((A, 2))"
   ]
  },
  {
   "cell_type": "code",
   "execution_count": null,
   "metadata": {
    "collapsed": false
   },
   "outputs": [],
   "source": [
    "for i in range(A):\n",
    "    op[i][0] = op_lon[i]+op_x[i]\n",
    "    op[i][1] = op_lat[i]+op_y[i]"
   ]
  },
  {
   "cell_type": "code",
   "execution_count": null,
   "metadata": {
    "collapsed": false
   },
   "outputs": [],
   "source": [
    "# Origin Polygons\n",
    "op = pd.DataFrame(op, index=multi_index)\n",
    "op.columns = ['lon', 'lat']"
   ]
  },
  {
   "cell_type": "code",
   "execution_count": null,
   "metadata": {
    "collapsed": false
   },
   "outputs": [],
   "source": [
    "op.tail(4)"
   ]
  },
  {
   "cell_type": "markdown",
   "metadata": {},
   "source": [
    "__Terminations__"
   ]
  },
  {
   "cell_type": "code",
   "execution_count": null,
   "metadata": {
    "collapsed": true
   },
   "outputs": [],
   "source": [
    "lon = np.asarray(tc.lon)\n",
    "lat = np.asarray(tc.lat)\n",
    "L = np.asarray(tc.L)"
   ]
  },
  {
   "cell_type": "code",
   "execution_count": null,
   "metadata": {
    "collapsed": true
   },
   "outputs": [],
   "source": [
    "theta = np.zeros(C)\n",
    "r = np.zeros(C)\n",
    "x = np.zeros(C)\n",
    "y = np.zeros(C)"
   ]
  },
  {
   "cell_type": "code",
   "execution_count": null,
   "metadata": {
    "collapsed": true
   },
   "outputs": [],
   "source": [
    "for i in range(C):\n",
    "    theta[i] = lat[i]*(pi/180)\n",
    "    r[i] = R*cos(theta[i])\n",
    "    x[i] = (L[i]/r[i])*(180/pi)\n",
    "    y[i] = (L[i]/R)*(180/pi)"
   ]
  },
  {
   "cell_type": "code",
   "execution_count": null,
   "metadata": {
    "collapsed": true
   },
   "outputs": [],
   "source": [
    "tp_lon = np.zeros(A)\n",
    "tp_lat = np.zeros(A)\n",
    "tp_x = np.zeros(A)\n",
    "tp_y = np.zeros(A)"
   ]
  },
  {
   "cell_type": "code",
   "execution_count": null,
   "metadata": {
    "collapsed": false
   },
   "outputs": [],
   "source": [
    "c = 0\n",
    "i = 0\n",
    "j = 1\n",
    "\n",
    "while i < A:\n",
    "    while j <= 17:\n",
    "        tp_lon[i] = lon[c]\n",
    "        i = i+1\n",
    "        j = j+1\n",
    "    j = 1\n",
    "    c = c+1"
   ]
  },
  {
   "cell_type": "code",
   "execution_count": null,
   "metadata": {
    "collapsed": true
   },
   "outputs": [],
   "source": [
    "c = 0\n",
    "i = 0\n",
    "j = 1\n",
    "\n",
    "while i < A:\n",
    "    while j <= 17:\n",
    "        tp_lat[i] = lat[c]\n",
    "        i = i+1\n",
    "        j = j+1\n",
    "    j = 1\n",
    "    c = c+1"
   ]
  },
  {
   "cell_type": "code",
   "execution_count": null,
   "metadata": {
    "collapsed": false
   },
   "outputs": [],
   "source": [
    "c = 0\n",
    "i = 0\n",
    "j = 1\n",
    "\n",
    "while i < A:\n",
    "    while j <= 17:\n",
    "        tp_x[i] = x[c]*cos((j-1)*(pi/8))\n",
    "        i = i+1\n",
    "        j = j+1\n",
    "    j = 1\n",
    "    c = c+1"
   ]
  },
  {
   "cell_type": "code",
   "execution_count": null,
   "metadata": {
    "collapsed": true
   },
   "outputs": [],
   "source": [
    "c = 0\n",
    "i = 0\n",
    "j = 1\n",
    "\n",
    "while i < A:\n",
    "    while j <= 17:\n",
    "        tp_y[i] = y[c]*sin((j-1)*(pi/8))\n",
    "        i = i+1\n",
    "        j = j+1\n",
    "    j = 1\n",
    "    c = c+1"
   ]
  },
  {
   "cell_type": "code",
   "execution_count": null,
   "metadata": {
    "collapsed": false
   },
   "outputs": [],
   "source": [
    "tp = np.zeros((A, 2))"
   ]
  },
  {
   "cell_type": "code",
   "execution_count": null,
   "metadata": {
    "collapsed": false
   },
   "outputs": [],
   "source": [
    "for i in range(A):\n",
    "    tp[i][0] = tp_lon[i]+tp_x[i]\n",
    "    tp[i][1] = tp_lat[i]+tp_y[i]"
   ]
  },
  {
   "cell_type": "code",
   "execution_count": null,
   "metadata": {
    "collapsed": false
   },
   "outputs": [],
   "source": [
    "# Termination Polygons\n",
    "tp = pd.DataFrame(tp, index=multi_index)\n",
    "tp.columns = ['lon', 'lat']"
   ]
  },
  {
   "cell_type": "code",
   "execution_count": null,
   "metadata": {
    "collapsed": false
   },
   "outputs": [],
   "source": [
    "tp.tail(4)"
   ]
  },
  {
   "cell_type": "markdown",
   "metadata": {},
   "source": [
    "### ID ###"
   ]
  },
  {
   "cell_type": "code",
   "execution_count": null,
   "metadata": {
    "collapsed": false
   },
   "outputs": [],
   "source": [
    "eddy_id = pd.DataFrame(index)\n",
    "eddy_id = pd.concat([index, index], axis=1)\n",
    "eddy_id.columns = ['Eddy ID', 'eddy id']\n",
    "eddy_id = eddy_id.set_index('Eddy ID')"
   ]
  },
  {
   "cell_type": "code",
   "execution_count": null,
   "metadata": {
    "collapsed": false
   },
   "outputs": [],
   "source": [
    "eddy_id.tail(4)"
   ]
  },
  {
   "cell_type": "markdown",
   "metadata": {},
   "source": [
    "### Date ###"
   ]
  },
  {
   "cell_type": "code",
   "execution_count": null,
   "metadata": {
    "collapsed": false
   },
   "outputs": [],
   "source": [
    "ds.tail(4)"
   ]
  },
  {
   "cell_type": "code",
   "execution_count": null,
   "metadata": {
    "collapsed": false
   },
   "outputs": [],
   "source": [
    "j1 = np.asarray(ds.j1)"
   ]
  },
  {
   "cell_type": "code",
   "execution_count": null,
   "metadata": {
    "collapsed": true
   },
   "outputs": [],
   "source": [
    "j1_o = np.zeros(M)\n",
    "j1_t = np.zeros(M)"
   ]
  },
  {
   "cell_type": "code",
   "execution_count": null,
   "metadata": {
    "collapsed": false
   },
   "outputs": [],
   "source": [
    "c = 0\n",
    "i = 0\n",
    "\n",
    "while i < N:\n",
    "    c = int(c) + 1\n",
    "    j1_o[c-1] = j1[i]\n",
    "    i = i + int(point[c-1])\n",
    "    j1_t[c-1] = j1[i-1]"
   ]
  },
  {
   "cell_type": "code",
   "execution_count": null,
   "metadata": {
    "collapsed": true
   },
   "outputs": [],
   "source": [
    "j1_o = pd.DataFrame(j1_o)\n",
    "j1_t = pd.DataFrame(j1_t)"
   ]
  },
  {
   "cell_type": "code",
   "execution_count": null,
   "metadata": {
    "collapsed": true
   },
   "outputs": [],
   "source": [
    "# Start Julian Dates\n",
    "sj = pd.concat([index, j1_o], axis=1)\n",
    "sj.columns = ['Eddy ID', 'j1']\n",
    "sj = sj.set_index('Eddy ID')"
   ]
  },
  {
   "cell_type": "code",
   "execution_count": null,
   "metadata": {
    "collapsed": false
   },
   "outputs": [],
   "source": [
    "sj.tail(4)"
   ]
  },
  {
   "cell_type": "code",
   "execution_count": null,
   "metadata": {
    "collapsed": false
   },
   "outputs": [],
   "source": [
    "# End Julian Dates\n",
    "ej = pd.concat([index, j1_t], axis=1)\n",
    "ej.columns = ['Eddy ID', 'j1']\n",
    "ej = ej.set_index('Eddy ID')"
   ]
  },
  {
   "cell_type": "code",
   "execution_count": null,
   "metadata": {
    "collapsed": false
   },
   "outputs": [],
   "source": [
    "ej.tail(4)"
   ]
  },
  {
   "cell_type": "code",
   "execution_count": null,
   "metadata": {
    "collapsed": true
   },
   "outputs": [],
   "source": [
    "# Start Dates\n",
    "sd = sj.j1.apply(jday_to_datetime)\n",
    "sd = pd.DataFrame(sd)\n",
    "sd = sd.rename(columns = {'j1': 'date'})"
   ]
  },
  {
   "cell_type": "code",
   "execution_count": null,
   "metadata": {
    "collapsed": false
   },
   "outputs": [],
   "source": [
    "sd.tail(4)"
   ]
  },
  {
   "cell_type": "code",
   "execution_count": null,
   "metadata": {
    "collapsed": true
   },
   "outputs": [],
   "source": [
    "# End Dates\n",
    "ed = ej.j1.apply(jday_to_datetime)\n",
    "ed = pd.DataFrame(ed)\n",
    "ed = ed.rename(columns = {'j1': 'date'})"
   ]
  },
  {
   "cell_type": "code",
   "execution_count": null,
   "metadata": {
    "collapsed": false
   },
   "outputs": [],
   "source": [
    "ed.tail(4)"
   ]
  },
  {
   "cell_type": "code",
   "execution_count": null,
   "metadata": {
    "collapsed": false
   },
   "outputs": [],
   "source": [
    "# Durations in Days\n",
    "dd = ed-sd"
   ]
  },
  {
   "cell_type": "code",
   "execution_count": null,
   "metadata": {
    "collapsed": false
   },
   "outputs": [],
   "source": [
    "dd.date.max()"
   ]
  },
  {
   "cell_type": "code",
   "execution_count": null,
   "metadata": {
    "collapsed": false
   },
   "outputs": [],
   "source": [
    "dd.tail(4)"
   ]
  },
  {
   "cell_type": "code",
   "execution_count": null,
   "metadata": {
    "collapsed": true
   },
   "outputs": [],
   "source": [
    "# Durations in Integers\n",
    "di = np.zeros(M)"
   ]
  },
  {
   "cell_type": "code",
   "execution_count": null,
   "metadata": {
    "collapsed": false
   },
   "outputs": [],
   "source": [
    "for i in range(M):\n",
    "    di[i] = np.timedelta64(dd.date[i+1], 'D')/np.timedelta64(1, 'D')"
   ]
  },
  {
   "cell_type": "code",
   "execution_count": null,
   "metadata": {
    "collapsed": true
   },
   "outputs": [],
   "source": [
    "di = pd.DataFrame(di)"
   ]
  },
  {
   "cell_type": "code",
   "execution_count": null,
   "metadata": {
    "collapsed": false
   },
   "outputs": [],
   "source": [
    "di = pd.concat([index, di], axis=1)\n",
    "di.columns = ['Eddy ID', 'day']\n",
    "di = di.set_index('Eddy ID')\n",
    "di.day = di.day.astype(int)"
   ]
  },
  {
   "cell_type": "code",
   "execution_count": null,
   "metadata": {
    "collapsed": false
   },
   "outputs": [],
   "source": [
    "di.tail(4)"
   ]
  },
  {
   "cell_type": "markdown",
   "metadata": {},
   "source": [
    "### Area ###"
   ]
  },
  {
   "cell_type": "code",
   "execution_count": null,
   "metadata": {
    "collapsed": true
   },
   "outputs": [],
   "source": [
    "radius = np.asarray(ds.L)"
   ]
  },
  {
   "cell_type": "code",
   "execution_count": null,
   "metadata": {
    "collapsed": false
   },
   "outputs": [],
   "source": [
    "area = 2*pi*(radius**2)"
   ]
  },
  {
   "cell_type": "code",
   "execution_count": null,
   "metadata": {
    "collapsed": true
   },
   "outputs": [],
   "source": [
    "aa = np.zeros(M)"
   ]
  },
  {
   "cell_type": "code",
   "execution_count": null,
   "metadata": {
    "collapsed": false
   },
   "outputs": [],
   "source": [
    "i = 0\n",
    "c = 0\n",
    "\n",
    "while i < N:\n",
    "    c = int(c) + 1\n",
    "    aa[c-1] = area[i]\n",
    "    i = i + int(point[c-1])"
   ]
  },
  {
   "cell_type": "code",
   "execution_count": null,
   "metadata": {
    "collapsed": false
   },
   "outputs": [],
   "source": [
    "aa = pd.DataFrame(aa)"
   ]
  },
  {
   "cell_type": "code",
   "execution_count": null,
   "metadata": {
    "collapsed": false
   },
   "outputs": [],
   "source": [
    "# Area in Square Kilometers\n",
    "aa = pd.concat([index, aa], axis=1)\n",
    "aa.columns = ['Eddy ID', 'area']\n",
    "aa = aa.set_index('Eddy ID')\n",
    "\n",
    "# Area in Square Meters\n",
    "aa = aa*10**6"
   ]
  },
  {
   "cell_type": "code",
   "execution_count": null,
   "metadata": {
    "collapsed": false
   },
   "outputs": [],
   "source": [
    "aa.tail(4)"
   ]
  },
  {
   "cell_type": "markdown",
   "metadata": {},
   "source": [
    "### Vorticity ###"
   ]
  },
  {
   "cell_type": "code",
   "execution_count": null,
   "metadata": {
    "collapsed": false
   },
   "outputs": [],
   "source": [
    "from tqdm import tqdm"
   ]
  },
  {
   "cell_type": "code",
   "execution_count": null,
   "metadata": {
    "collapsed": false
   },
   "outputs": [],
   "source": [
    "# Relative Vorticity\n",
    "zeta = np.asarray((ds.U*0.01)/(ds.L*1000))"
   ]
  },
  {
   "cell_type": "code",
   "execution_count": null,
   "metadata": {
    "collapsed": false
   },
   "outputs": [],
   "source": [
    "# Multi-Index Construction\n",
    "arrays = [track, n]\n",
    "tuples = list(zip(*arrays))\n",
    "multi_index = pd.MultiIndex.from_tuples(tuples, names=['Eddy ID', 'Point ID'])"
   ]
  },
  {
   "cell_type": "code",
   "execution_count": null,
   "metadata": {
    "collapsed": true
   },
   "outputs": [],
   "source": [
    "zeta = pd.DataFrame(zeta, index=multi_index)\n",
    "zeta.columns = ['relative vorticity']"
   ]
  },
  {
   "cell_type": "code",
   "execution_count": null,
   "metadata": {
    "collapsed": false
   },
   "outputs": [],
   "source": [
    "zeta.tail(4)"
   ]
  },
  {
   "cell_type": "code",
   "execution_count": null,
   "metadata": {
    "collapsed": true
   },
   "outputs": [],
   "source": [
    "lav = np.zeros(M)"
   ]
  },
  {
   "cell_type": "code",
   "execution_count": null,
   "metadata": {
    "collapsed": false
   },
   "outputs": [],
   "source": [
    "for i in tqdm(range(0, M)):\n",
    "    lav[i] = zeta.loc[i+1].mean()"
   ]
  },
  {
   "cell_type": "code",
   "execution_count": null,
   "metadata": {
    "collapsed": false
   },
   "outputs": [],
   "source": [
    "lav = pd.DataFrame(lav)"
   ]
  },
  {
   "cell_type": "code",
   "execution_count": null,
   "metadata": {
    "collapsed": false
   },
   "outputs": [],
   "source": [
    "lav = pd.concat([index, lav], axis=1)\n",
    "lav.columns = ['Eddy ID', 'zeta']\n",
    "lav = lav.set_index('Eddy ID')"
   ]
  },
  {
   "cell_type": "code",
   "execution_count": null,
   "metadata": {
    "collapsed": false
   },
   "outputs": [],
   "source": [
    "lav.tail(4)"
   ]
  },
  {
   "cell_type": "markdown",
   "metadata": {},
   "source": [
    "### GeoJSON ###"
   ]
  },
  {
   "cell_type": "code",
   "execution_count": null,
   "metadata": {
    "collapsed": false
   },
   "outputs": [],
   "source": [
    "from geojson import LineString, Point, Polygon\n",
    "from pymongo import MongoClient"
   ]
  },
  {
   "cell_type": "code",
   "execution_count": null,
   "metadata": {
    "collapsed": false
   },
   "outputs": [],
   "source": [
    "client = MongoClient()\n",
    "db = client.eddies"
   ]
  },
  {
   "cell_type": "code",
   "execution_count": null,
   "metadata": {
    "collapsed": false
   },
   "outputs": [],
   "source": [
    "# Print Database Names\n",
    "client.database_names()"
   ]
  },
  {
   "cell_type": "code",
   "execution_count": null,
   "metadata": {
    "collapsed": false
   },
   "outputs": [],
   "source": [
    "# Print Collection Names\n",
    "db.collection_names()"
   ]
  },
  {
   "cell_type": "code",
   "execution_count": null,
   "metadata": {
    "collapsed": false
   },
   "outputs": [],
   "source": [
    "# Removes Documents from the Collection\n",
    "result = db.ssh_eddies.remove()"
   ]
  },
  {
   "cell_type": "code",
   "execution_count": null,
   "metadata": {
    "collapsed": false
   },
   "outputs": [],
   "source": [
    "# Inserts Documents into the Collection\n",
    "for i in tqdm(range(1, M+1)):\n",
    "\n",
    "    # GeoJSON\n",
    "    eddy = {\n",
    "        '_id': int(eddy_id.loc[i]),\n",
    "        'type': 'FeatureSet',\n",
    "        'loc_start': [sc.loc[i]['lon'], sc.loc[i]['lat']],\n",
    "        'loc_end': [ec.loc[i]['lon'], ec.loc[i]['lat']],\n",
    "        'date_start': sd.loc[i]['date'],\n",
    "        'date_end': ed.loc[i]['date'],\n",
    "        'duration': di.loc[i]['day'],\n",
    "        'area': aa.loc[i]['area'],\n",
    "        'lav': lav.loc[i]['zeta'],\n",
    "        'features': [\n",
    "            {\n",
    "                'type': 'Feature',\n",
    "                'properties': {'name': 'start_center'},\n",
    "                'geometry': Point(tuple(sc.loc[i][['lon', 'lat']].values))\n",
    "            },\n",
    "            {\n",
    "                'type': 'Feature',\n",
    "                'properties': {'name': 'end_center'},\n",
    "                'geometry': Point(tuple(ec.loc[i][['lon', 'lat']].values))\n",
    "            },\n",
    "            {\n",
    "                'type': 'Feature',\n",
    "                'properties': {'name': 'trajectory'},\n",
    "                'geometry': LineString([tuple(x) for x in ls.loc[i][['lon', 'lat']].values])\n",
    "            },\n",
    "            {\n",
    "                'type': 'Feature',\n",
    "                'properties': {'name': 'start_polygon'},\n",
    "                'geometry': Polygon([[tuple(x) for x in op.loc[i][['lon', 'lat']].values]])\n",
    "            },\n",
    "            {\n",
    "                'type': 'Feature',\n",
    "                'properties': {'name': 'end_polygon'},\n",
    "                'geometry': Polygon([[tuple(x) for x in tp.loc[i][['lon', 'lat']].values]])\n",
    "            }\n",
    "        ]    \n",
    "    }\n",
    "    \n",
    "    # MongoDB\n",
    "    result = db.ssh_eddies.insert_one(dict(eddy))"
   ]
  },
  {
   "cell_type": "code",
   "execution_count": null,
   "metadata": {
    "collapsed": true
   },
   "outputs": [],
   "source": []
  }
 ],
 "metadata": {
  "anaconda-cloud": {},
  "kernelspec": {
   "display_name": "Python 2.7",
   "language": "python",
   "name": "python2"
  },
  "language_info": {
   "codemirror_mode": {
    "name": "ipython",
    "version": 2
   },
   "file_extension": ".py",
   "mimetype": "text/x-python",
   "name": "python",
   "nbconvert_exporter": "python",
   "pygments_lexer": "ipython2",
   "version": "2.7.11"
  }
 },
 "nbformat": 4,
 "nbformat_minor": 0
}
